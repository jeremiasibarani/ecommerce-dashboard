{
  "cells": [
    {
      "cell_type": "markdown",
      "metadata": {
        "id": "H9wADwK78DCz"
      },
      "source": [
        "# Proyek Analisis Data: [E-Commerce Public Dataset]\n",
        "- **Nama:** Jeremia Sibarani\n",
        "- **Email:** sibaranigreamjeremia@gmail.com\n",
        "- **ID Dicoding:** jeremia_sibarani_12"
      ]
    },
    {
      "cell_type": "markdown",
      "metadata": {
        "id": "eE0raob58DC0"
      },
      "source": [
        "## Menentukan Pertanyaan Bisnis"
      ]
    },
    {
      "cell_type": "markdown",
      "metadata": {
        "id": "GmQeQ5YF8DC0"
      },
      "source": [
        "- Bagaimana revenue penjualan selama setahun?\n",
        "- Bagaimana demografi customer dan seller yang dimiliki?\n",
        "- Product apa yang memiliki skor review terbaik dan terburuk\n",
        "- Berapa persentase pesanan diantar tepat waktu dan terlambat\n",
        "- Berapa banyak karyawan yang melunasi pembayaran order\n",
        "- Kapan terakhir kali pelanggan melakukan transaksi\n",
        "- Berapa jumlah transaksi pelanggan dalam periode tertentu?\n",
        "- Berapa total pengeluaran pelanggan pada periode tertentu?"
      ]
    },
    {
      "cell_type": "markdown",
      "metadata": {
        "id": "H-z4QGlO8DC1"
      },
      "source": [
        "## Import Semua Packages/Library yang Digunakan"
      ]
    },
    {
      "cell_type": "code",
      "execution_count": 214,
      "metadata": {
        "id": "FVYwaObI8DC1"
      },
      "outputs": [],
      "source": [
        "import pandas as pd\n",
        "from tabulate import tabulate\n",
        "import plotly.express as px\n",
        "import plotly.express as px\n",
        "import plotly.graph_objects as go\n",
        "from plotly.subplots import make_subplots"
      ]
    },
    {
      "cell_type": "markdown",
      "metadata": {
        "id": "h_Sh51Xy8DC1"
      },
      "source": [
        "## Data Wrangling"
      ]
    },
    {
      "cell_type": "markdown",
      "metadata": {
        "id": "sXU2GBYu8DC1"
      },
      "source": [
        "### Gathering Data"
      ]
    },
    {
      "cell_type": "markdown",
      "metadata": {
        "id": "ODaugG77ODbt"
      },
      "source": [
        "##### Memuat data dengan format csv"
      ]
    },
    {
      "cell_type": "code",
      "execution_count": 215,
      "metadata": {
        "id": "zjCBk1BI8DC1"
      },
      "outputs": [],
      "source": [
        "customers_df = pd.read_csv('data/customers_dataset.csv')\n",
        "geolocation_df = pd.read_csv('data/geolocation_dataset.csv')\n",
        "order_items_df = pd.read_csv('data/order_items_dataset.csv')\n",
        "order_payments_df = pd.read_csv('data/order_payments_dataset.csv')\n",
        "order_reviews_df = pd.read_csv('data/order_reviews_dataset.csv')\n",
        "orders_df = pd.read_csv('data/orders_dataset.csv')\n",
        "product_category_name_translation_df = pd.read_csv('data/product_category_name_translation.csv')\n",
        "products_df = pd.read_csv('data/products_dataset.csv')\n",
        "sellers_df = pd.read_csv('data/sellers_dataset.csv')"
      ]
    },
    {
      "cell_type": "code",
      "execution_count": 216,
      "metadata": {
        "colab": {
          "base_uri": "https://localhost:8080/",
          "height": 206
        },
        "id": "WAmGuFs2ODbt",
        "outputId": "9fbab822-6b56-4e71-b365-59a5ee264ee7"
      },
      "outputs": [
        {
          "data": {
            "text/html": [
              "<div>\n",
              "<style scoped>\n",
              "    .dataframe tbody tr th:only-of-type {\n",
              "        vertical-align: middle;\n",
              "    }\n",
              "\n",
              "    .dataframe tbody tr th {\n",
              "        vertical-align: top;\n",
              "    }\n",
              "\n",
              "    .dataframe thead th {\n",
              "        text-align: right;\n",
              "    }\n",
              "</style>\n",
              "<table border=\"1\" class=\"dataframe\">\n",
              "  <thead>\n",
              "    <tr style=\"text-align: right;\">\n",
              "      <th></th>\n",
              "      <th>customer_id</th>\n",
              "      <th>customer_unique_id</th>\n",
              "      <th>customer_zip_code_prefix</th>\n",
              "      <th>customer_city</th>\n",
              "      <th>customer_state</th>\n",
              "    </tr>\n",
              "  </thead>\n",
              "  <tbody>\n",
              "    <tr>\n",
              "      <th>0</th>\n",
              "      <td>06b8999e2fba1a1fbc88172c00ba8bc7</td>\n",
              "      <td>861eff4711a542e4b93843c6dd7febb0</td>\n",
              "      <td>14409</td>\n",
              "      <td>franca</td>\n",
              "      <td>SP</td>\n",
              "    </tr>\n",
              "    <tr>\n",
              "      <th>1</th>\n",
              "      <td>18955e83d337fd6b2def6b18a428ac77</td>\n",
              "      <td>290c77bc529b7ac935b93aa66c333dc3</td>\n",
              "      <td>9790</td>\n",
              "      <td>sao bernardo do campo</td>\n",
              "      <td>SP</td>\n",
              "    </tr>\n",
              "    <tr>\n",
              "      <th>2</th>\n",
              "      <td>4e7b3e00288586ebd08712fdd0374a03</td>\n",
              "      <td>060e732b5b29e8181a18229c7b0b2b5e</td>\n",
              "      <td>1151</td>\n",
              "      <td>sao paulo</td>\n",
              "      <td>SP</td>\n",
              "    </tr>\n",
              "    <tr>\n",
              "      <th>3</th>\n",
              "      <td>b2b6027bc5c5109e529d4dc6358b12c3</td>\n",
              "      <td>259dac757896d24d7702b9acbbff3f3c</td>\n",
              "      <td>8775</td>\n",
              "      <td>mogi das cruzes</td>\n",
              "      <td>SP</td>\n",
              "    </tr>\n",
              "    <tr>\n",
              "      <th>4</th>\n",
              "      <td>4f2d8ab171c80ec8364f7c12e35b23ad</td>\n",
              "      <td>345ecd01c38d18a9036ed96c73b8d066</td>\n",
              "      <td>13056</td>\n",
              "      <td>campinas</td>\n",
              "      <td>SP</td>\n",
              "    </tr>\n",
              "  </tbody>\n",
              "</table>\n",
              "</div>"
            ],
            "text/plain": [
              "                        customer_id                customer_unique_id  \\\n",
              "0  06b8999e2fba1a1fbc88172c00ba8bc7  861eff4711a542e4b93843c6dd7febb0   \n",
              "1  18955e83d337fd6b2def6b18a428ac77  290c77bc529b7ac935b93aa66c333dc3   \n",
              "2  4e7b3e00288586ebd08712fdd0374a03  060e732b5b29e8181a18229c7b0b2b5e   \n",
              "3  b2b6027bc5c5109e529d4dc6358b12c3  259dac757896d24d7702b9acbbff3f3c   \n",
              "4  4f2d8ab171c80ec8364f7c12e35b23ad  345ecd01c38d18a9036ed96c73b8d066   \n",
              "\n",
              "   customer_zip_code_prefix          customer_city customer_state  \n",
              "0                     14409                 franca             SP  \n",
              "1                      9790  sao bernardo do campo             SP  \n",
              "2                      1151              sao paulo             SP  \n",
              "3                      8775        mogi das cruzes             SP  \n",
              "4                     13056               campinas             SP  "
            ]
          },
          "execution_count": 216,
          "metadata": {},
          "output_type": "execute_result"
        }
      ],
      "source": [
        "customers_df.head()"
      ]
    },
    {
      "cell_type": "code",
      "execution_count": 217,
      "metadata": {
        "colab": {
          "base_uri": "https://localhost:8080/",
          "height": 206
        },
        "id": "IWqOrqweODbu",
        "outputId": "12ed013e-d1e6-4a6c-f53d-6b021c708fd5"
      },
      "outputs": [
        {
          "data": {
            "text/html": [
              "<div>\n",
              "<style scoped>\n",
              "    .dataframe tbody tr th:only-of-type {\n",
              "        vertical-align: middle;\n",
              "    }\n",
              "\n",
              "    .dataframe tbody tr th {\n",
              "        vertical-align: top;\n",
              "    }\n",
              "\n",
              "    .dataframe thead th {\n",
              "        text-align: right;\n",
              "    }\n",
              "</style>\n",
              "<table border=\"1\" class=\"dataframe\">\n",
              "  <thead>\n",
              "    <tr style=\"text-align: right;\">\n",
              "      <th></th>\n",
              "      <th>geolocation_zip_code_prefix</th>\n",
              "      <th>geolocation_lat</th>\n",
              "      <th>geolocation_lng</th>\n",
              "      <th>geolocation_city</th>\n",
              "      <th>geolocation_state</th>\n",
              "    </tr>\n",
              "  </thead>\n",
              "  <tbody>\n",
              "    <tr>\n",
              "      <th>0</th>\n",
              "      <td>1037</td>\n",
              "      <td>-23.545621</td>\n",
              "      <td>-46.639292</td>\n",
              "      <td>sao paulo</td>\n",
              "      <td>SP</td>\n",
              "    </tr>\n",
              "    <tr>\n",
              "      <th>1</th>\n",
              "      <td>1046</td>\n",
              "      <td>-23.546081</td>\n",
              "      <td>-46.644820</td>\n",
              "      <td>sao paulo</td>\n",
              "      <td>SP</td>\n",
              "    </tr>\n",
              "    <tr>\n",
              "      <th>2</th>\n",
              "      <td>1046</td>\n",
              "      <td>-23.546129</td>\n",
              "      <td>-46.642951</td>\n",
              "      <td>sao paulo</td>\n",
              "      <td>SP</td>\n",
              "    </tr>\n",
              "    <tr>\n",
              "      <th>3</th>\n",
              "      <td>1041</td>\n",
              "      <td>-23.544392</td>\n",
              "      <td>-46.639499</td>\n",
              "      <td>sao paulo</td>\n",
              "      <td>SP</td>\n",
              "    </tr>\n",
              "    <tr>\n",
              "      <th>4</th>\n",
              "      <td>1035</td>\n",
              "      <td>-23.541578</td>\n",
              "      <td>-46.641607</td>\n",
              "      <td>sao paulo</td>\n",
              "      <td>SP</td>\n",
              "    </tr>\n",
              "  </tbody>\n",
              "</table>\n",
              "</div>"
            ],
            "text/plain": [
              "   geolocation_zip_code_prefix  geolocation_lat  geolocation_lng  \\\n",
              "0                         1037       -23.545621       -46.639292   \n",
              "1                         1046       -23.546081       -46.644820   \n",
              "2                         1046       -23.546129       -46.642951   \n",
              "3                         1041       -23.544392       -46.639499   \n",
              "4                         1035       -23.541578       -46.641607   \n",
              "\n",
              "  geolocation_city geolocation_state  \n",
              "0        sao paulo                SP  \n",
              "1        sao paulo                SP  \n",
              "2        sao paulo                SP  \n",
              "3        sao paulo                SP  \n",
              "4        sao paulo                SP  "
            ]
          },
          "execution_count": 217,
          "metadata": {},
          "output_type": "execute_result"
        }
      ],
      "source": [
        "geolocation_df.head()"
      ]
    },
    {
      "cell_type": "code",
      "execution_count": 218,
      "metadata": {
        "colab": {
          "base_uri": "https://localhost:8080/",
          "height": 226
        },
        "id": "ud3o4nIpODbu",
        "outputId": "5bc0eeda-0b2d-4fd7-87b4-5e1fce192505"
      },
      "outputs": [
        {
          "data": {
            "text/html": [
              "<div>\n",
              "<style scoped>\n",
              "    .dataframe tbody tr th:only-of-type {\n",
              "        vertical-align: middle;\n",
              "    }\n",
              "\n",
              "    .dataframe tbody tr th {\n",
              "        vertical-align: top;\n",
              "    }\n",
              "\n",
              "    .dataframe thead th {\n",
              "        text-align: right;\n",
              "    }\n",
              "</style>\n",
              "<table border=\"1\" class=\"dataframe\">\n",
              "  <thead>\n",
              "    <tr style=\"text-align: right;\">\n",
              "      <th></th>\n",
              "      <th>order_id</th>\n",
              "      <th>order_item_id</th>\n",
              "      <th>product_id</th>\n",
              "      <th>seller_id</th>\n",
              "      <th>shipping_limit_date</th>\n",
              "      <th>price</th>\n",
              "      <th>freight_value</th>\n",
              "    </tr>\n",
              "  </thead>\n",
              "  <tbody>\n",
              "    <tr>\n",
              "      <th>0</th>\n",
              "      <td>00010242fe8c5a6d1ba2dd792cb16214</td>\n",
              "      <td>1</td>\n",
              "      <td>4244733e06e7ecb4970a6e2683c13e61</td>\n",
              "      <td>48436dade18ac8b2bce089ec2a041202</td>\n",
              "      <td>2017-09-19 09:45:35</td>\n",
              "      <td>58.90</td>\n",
              "      <td>13.29</td>\n",
              "    </tr>\n",
              "    <tr>\n",
              "      <th>1</th>\n",
              "      <td>00018f77f2f0320c557190d7a144bdd3</td>\n",
              "      <td>1</td>\n",
              "      <td>e5f2d52b802189ee658865ca93d83a8f</td>\n",
              "      <td>dd7ddc04e1b6c2c614352b383efe2d36</td>\n",
              "      <td>2017-05-03 11:05:13</td>\n",
              "      <td>239.90</td>\n",
              "      <td>19.93</td>\n",
              "    </tr>\n",
              "    <tr>\n",
              "      <th>2</th>\n",
              "      <td>000229ec398224ef6ca0657da4fc703e</td>\n",
              "      <td>1</td>\n",
              "      <td>c777355d18b72b67abbeef9df44fd0fd</td>\n",
              "      <td>5b51032eddd242adc84c38acab88f23d</td>\n",
              "      <td>2018-01-18 14:48:30</td>\n",
              "      <td>199.00</td>\n",
              "      <td>17.87</td>\n",
              "    </tr>\n",
              "    <tr>\n",
              "      <th>3</th>\n",
              "      <td>00024acbcdf0a6daa1e931b038114c75</td>\n",
              "      <td>1</td>\n",
              "      <td>7634da152a4610f1595efa32f14722fc</td>\n",
              "      <td>9d7a1d34a5052409006425275ba1c2b4</td>\n",
              "      <td>2018-08-15 10:10:18</td>\n",
              "      <td>12.99</td>\n",
              "      <td>12.79</td>\n",
              "    </tr>\n",
              "    <tr>\n",
              "      <th>4</th>\n",
              "      <td>00042b26cf59d7ce69dfabb4e55b4fd9</td>\n",
              "      <td>1</td>\n",
              "      <td>ac6c3623068f30de03045865e4e10089</td>\n",
              "      <td>df560393f3a51e74553ab94004ba5c87</td>\n",
              "      <td>2017-02-13 13:57:51</td>\n",
              "      <td>199.90</td>\n",
              "      <td>18.14</td>\n",
              "    </tr>\n",
              "  </tbody>\n",
              "</table>\n",
              "</div>"
            ],
            "text/plain": [
              "                           order_id  order_item_id  \\\n",
              "0  00010242fe8c5a6d1ba2dd792cb16214              1   \n",
              "1  00018f77f2f0320c557190d7a144bdd3              1   \n",
              "2  000229ec398224ef6ca0657da4fc703e              1   \n",
              "3  00024acbcdf0a6daa1e931b038114c75              1   \n",
              "4  00042b26cf59d7ce69dfabb4e55b4fd9              1   \n",
              "\n",
              "                         product_id                         seller_id  \\\n",
              "0  4244733e06e7ecb4970a6e2683c13e61  48436dade18ac8b2bce089ec2a041202   \n",
              "1  e5f2d52b802189ee658865ca93d83a8f  dd7ddc04e1b6c2c614352b383efe2d36   \n",
              "2  c777355d18b72b67abbeef9df44fd0fd  5b51032eddd242adc84c38acab88f23d   \n",
              "3  7634da152a4610f1595efa32f14722fc  9d7a1d34a5052409006425275ba1c2b4   \n",
              "4  ac6c3623068f30de03045865e4e10089  df560393f3a51e74553ab94004ba5c87   \n",
              "\n",
              "   shipping_limit_date   price  freight_value  \n",
              "0  2017-09-19 09:45:35   58.90          13.29  \n",
              "1  2017-05-03 11:05:13  239.90          19.93  \n",
              "2  2018-01-18 14:48:30  199.00          17.87  \n",
              "3  2018-08-15 10:10:18   12.99          12.79  \n",
              "4  2017-02-13 13:57:51  199.90          18.14  "
            ]
          },
          "execution_count": 218,
          "metadata": {},
          "output_type": "execute_result"
        }
      ],
      "source": [
        "order_items_df.head()"
      ]
    },
    {
      "cell_type": "code",
      "execution_count": 219,
      "metadata": {
        "colab": {
          "base_uri": "https://localhost:8080/",
          "height": 206
        },
        "id": "lKcp3LcdODbu",
        "outputId": "0ff14fba-f2d0-49d1-f565-85986782a25b"
      },
      "outputs": [
        {
          "data": {
            "text/html": [
              "<div>\n",
              "<style scoped>\n",
              "    .dataframe tbody tr th:only-of-type {\n",
              "        vertical-align: middle;\n",
              "    }\n",
              "\n",
              "    .dataframe tbody tr th {\n",
              "        vertical-align: top;\n",
              "    }\n",
              "\n",
              "    .dataframe thead th {\n",
              "        text-align: right;\n",
              "    }\n",
              "</style>\n",
              "<table border=\"1\" class=\"dataframe\">\n",
              "  <thead>\n",
              "    <tr style=\"text-align: right;\">\n",
              "      <th></th>\n",
              "      <th>order_id</th>\n",
              "      <th>payment_sequential</th>\n",
              "      <th>payment_type</th>\n",
              "      <th>payment_installments</th>\n",
              "      <th>payment_value</th>\n",
              "    </tr>\n",
              "  </thead>\n",
              "  <tbody>\n",
              "    <tr>\n",
              "      <th>0</th>\n",
              "      <td>b81ef226f3fe1789b1e8b2acac839d17</td>\n",
              "      <td>1</td>\n",
              "      <td>credit_card</td>\n",
              "      <td>8</td>\n",
              "      <td>99.33</td>\n",
              "    </tr>\n",
              "    <tr>\n",
              "      <th>1</th>\n",
              "      <td>a9810da82917af2d9aefd1278f1dcfa0</td>\n",
              "      <td>1</td>\n",
              "      <td>credit_card</td>\n",
              "      <td>1</td>\n",
              "      <td>24.39</td>\n",
              "    </tr>\n",
              "    <tr>\n",
              "      <th>2</th>\n",
              "      <td>25e8ea4e93396b6fa0d3dd708e76c1bd</td>\n",
              "      <td>1</td>\n",
              "      <td>credit_card</td>\n",
              "      <td>1</td>\n",
              "      <td>65.71</td>\n",
              "    </tr>\n",
              "    <tr>\n",
              "      <th>3</th>\n",
              "      <td>ba78997921bbcdc1373bb41e913ab953</td>\n",
              "      <td>1</td>\n",
              "      <td>credit_card</td>\n",
              "      <td>8</td>\n",
              "      <td>107.78</td>\n",
              "    </tr>\n",
              "    <tr>\n",
              "      <th>4</th>\n",
              "      <td>42fdf880ba16b47b59251dd489d4441a</td>\n",
              "      <td>1</td>\n",
              "      <td>credit_card</td>\n",
              "      <td>2</td>\n",
              "      <td>128.45</td>\n",
              "    </tr>\n",
              "  </tbody>\n",
              "</table>\n",
              "</div>"
            ],
            "text/plain": [
              "                           order_id  payment_sequential payment_type  \\\n",
              "0  b81ef226f3fe1789b1e8b2acac839d17                   1  credit_card   \n",
              "1  a9810da82917af2d9aefd1278f1dcfa0                   1  credit_card   \n",
              "2  25e8ea4e93396b6fa0d3dd708e76c1bd                   1  credit_card   \n",
              "3  ba78997921bbcdc1373bb41e913ab953                   1  credit_card   \n",
              "4  42fdf880ba16b47b59251dd489d4441a                   1  credit_card   \n",
              "\n",
              "   payment_installments  payment_value  \n",
              "0                     8          99.33  \n",
              "1                     1          24.39  \n",
              "2                     1          65.71  \n",
              "3                     8         107.78  \n",
              "4                     2         128.45  "
            ]
          },
          "execution_count": 219,
          "metadata": {},
          "output_type": "execute_result"
        }
      ],
      "source": [
        "order_payments_df.head()"
      ]
    },
    {
      "cell_type": "code",
      "execution_count": 220,
      "metadata": {
        "colab": {
          "base_uri": "https://localhost:8080/",
          "height": 261
        },
        "id": "TMKvcHm1ODbu",
        "outputId": "e9a28595-145d-488a-a744-30017e8552d7"
      },
      "outputs": [
        {
          "data": {
            "text/html": [
              "<div>\n",
              "<style scoped>\n",
              "    .dataframe tbody tr th:only-of-type {\n",
              "        vertical-align: middle;\n",
              "    }\n",
              "\n",
              "    .dataframe tbody tr th {\n",
              "        vertical-align: top;\n",
              "    }\n",
              "\n",
              "    .dataframe thead th {\n",
              "        text-align: right;\n",
              "    }\n",
              "</style>\n",
              "<table border=\"1\" class=\"dataframe\">\n",
              "  <thead>\n",
              "    <tr style=\"text-align: right;\">\n",
              "      <th></th>\n",
              "      <th>review_id</th>\n",
              "      <th>order_id</th>\n",
              "      <th>review_score</th>\n",
              "      <th>review_comment_title</th>\n",
              "      <th>review_comment_message</th>\n",
              "      <th>review_creation_date</th>\n",
              "      <th>review_answer_timestamp</th>\n",
              "    </tr>\n",
              "  </thead>\n",
              "  <tbody>\n",
              "    <tr>\n",
              "      <th>0</th>\n",
              "      <td>7bc2406110b926393aa56f80a40eba40</td>\n",
              "      <td>73fc7af87114b39712e6da79b0a377eb</td>\n",
              "      <td>4</td>\n",
              "      <td>NaN</td>\n",
              "      <td>NaN</td>\n",
              "      <td>2018-01-18 00:00:00</td>\n",
              "      <td>2018-01-18 21:46:59</td>\n",
              "    </tr>\n",
              "    <tr>\n",
              "      <th>1</th>\n",
              "      <td>80e641a11e56f04c1ad469d5645fdfde</td>\n",
              "      <td>a548910a1c6147796b98fdf73dbeba33</td>\n",
              "      <td>5</td>\n",
              "      <td>NaN</td>\n",
              "      <td>NaN</td>\n",
              "      <td>2018-03-10 00:00:00</td>\n",
              "      <td>2018-03-11 03:05:13</td>\n",
              "    </tr>\n",
              "    <tr>\n",
              "      <th>2</th>\n",
              "      <td>228ce5500dc1d8e020d8d1322874b6f0</td>\n",
              "      <td>f9e4b658b201a9f2ecdecbb34bed034b</td>\n",
              "      <td>5</td>\n",
              "      <td>NaN</td>\n",
              "      <td>NaN</td>\n",
              "      <td>2018-02-17 00:00:00</td>\n",
              "      <td>2018-02-18 14:36:24</td>\n",
              "    </tr>\n",
              "    <tr>\n",
              "      <th>3</th>\n",
              "      <td>e64fb393e7b32834bb789ff8bb30750e</td>\n",
              "      <td>658677c97b385a9be170737859d3511b</td>\n",
              "      <td>5</td>\n",
              "      <td>NaN</td>\n",
              "      <td>Recebi bem antes do prazo estipulado.</td>\n",
              "      <td>2017-04-21 00:00:00</td>\n",
              "      <td>2017-04-21 22:02:06</td>\n",
              "    </tr>\n",
              "    <tr>\n",
              "      <th>4</th>\n",
              "      <td>f7c4243c7fe1938f181bec41a392bdeb</td>\n",
              "      <td>8e6bfb81e283fa7e4f11123a3fb894f1</td>\n",
              "      <td>5</td>\n",
              "      <td>NaN</td>\n",
              "      <td>Parabéns lojas lannister adorei comprar pela I...</td>\n",
              "      <td>2018-03-01 00:00:00</td>\n",
              "      <td>2018-03-02 10:26:53</td>\n",
              "    </tr>\n",
              "  </tbody>\n",
              "</table>\n",
              "</div>"
            ],
            "text/plain": [
              "                          review_id                          order_id  \\\n",
              "0  7bc2406110b926393aa56f80a40eba40  73fc7af87114b39712e6da79b0a377eb   \n",
              "1  80e641a11e56f04c1ad469d5645fdfde  a548910a1c6147796b98fdf73dbeba33   \n",
              "2  228ce5500dc1d8e020d8d1322874b6f0  f9e4b658b201a9f2ecdecbb34bed034b   \n",
              "3  e64fb393e7b32834bb789ff8bb30750e  658677c97b385a9be170737859d3511b   \n",
              "4  f7c4243c7fe1938f181bec41a392bdeb  8e6bfb81e283fa7e4f11123a3fb894f1   \n",
              "\n",
              "   review_score review_comment_title  \\\n",
              "0             4                  NaN   \n",
              "1             5                  NaN   \n",
              "2             5                  NaN   \n",
              "3             5                  NaN   \n",
              "4             5                  NaN   \n",
              "\n",
              "                              review_comment_message review_creation_date  \\\n",
              "0                                                NaN  2018-01-18 00:00:00   \n",
              "1                                                NaN  2018-03-10 00:00:00   \n",
              "2                                                NaN  2018-02-17 00:00:00   \n",
              "3              Recebi bem antes do prazo estipulado.  2017-04-21 00:00:00   \n",
              "4  Parabéns lojas lannister adorei comprar pela I...  2018-03-01 00:00:00   \n",
              "\n",
              "  review_answer_timestamp  \n",
              "0     2018-01-18 21:46:59  \n",
              "1     2018-03-11 03:05:13  \n",
              "2     2018-02-18 14:36:24  \n",
              "3     2017-04-21 22:02:06  \n",
              "4     2018-03-02 10:26:53  "
            ]
          },
          "execution_count": 220,
          "metadata": {},
          "output_type": "execute_result"
        }
      ],
      "source": [
        "order_reviews_df.head()"
      ]
    },
    {
      "cell_type": "code",
      "execution_count": 221,
      "metadata": {
        "colab": {
          "base_uri": "https://localhost:8080/",
          "height": 226
        },
        "id": "Fi6iTN0EODbu",
        "outputId": "33506bb0-3a75-4ef3-d488-21f523eba1f5"
      },
      "outputs": [
        {
          "data": {
            "text/html": [
              "<div>\n",
              "<style scoped>\n",
              "    .dataframe tbody tr th:only-of-type {\n",
              "        vertical-align: middle;\n",
              "    }\n",
              "\n",
              "    .dataframe tbody tr th {\n",
              "        vertical-align: top;\n",
              "    }\n",
              "\n",
              "    .dataframe thead th {\n",
              "        text-align: right;\n",
              "    }\n",
              "</style>\n",
              "<table border=\"1\" class=\"dataframe\">\n",
              "  <thead>\n",
              "    <tr style=\"text-align: right;\">\n",
              "      <th></th>\n",
              "      <th>order_id</th>\n",
              "      <th>customer_id</th>\n",
              "      <th>order_status</th>\n",
              "      <th>order_purchase_timestamp</th>\n",
              "      <th>order_approved_at</th>\n",
              "      <th>order_delivered_carrier_date</th>\n",
              "      <th>order_delivered_customer_date</th>\n",
              "      <th>order_estimated_delivery_date</th>\n",
              "    </tr>\n",
              "  </thead>\n",
              "  <tbody>\n",
              "    <tr>\n",
              "      <th>0</th>\n",
              "      <td>e481f51cbdc54678b7cc49136f2d6af7</td>\n",
              "      <td>9ef432eb6251297304e76186b10a928d</td>\n",
              "      <td>delivered</td>\n",
              "      <td>2017-10-02 10:56:33</td>\n",
              "      <td>2017-10-02 11:07:15</td>\n",
              "      <td>2017-10-04 19:55:00</td>\n",
              "      <td>2017-10-10 21:25:13</td>\n",
              "      <td>2017-10-18 00:00:00</td>\n",
              "    </tr>\n",
              "    <tr>\n",
              "      <th>1</th>\n",
              "      <td>53cdb2fc8bc7dce0b6741e2150273451</td>\n",
              "      <td>b0830fb4747a6c6d20dea0b8c802d7ef</td>\n",
              "      <td>delivered</td>\n",
              "      <td>2018-07-24 20:41:37</td>\n",
              "      <td>2018-07-26 03:24:27</td>\n",
              "      <td>2018-07-26 14:31:00</td>\n",
              "      <td>2018-08-07 15:27:45</td>\n",
              "      <td>2018-08-13 00:00:00</td>\n",
              "    </tr>\n",
              "    <tr>\n",
              "      <th>2</th>\n",
              "      <td>47770eb9100c2d0c44946d9cf07ec65d</td>\n",
              "      <td>41ce2a54c0b03bf3443c3d931a367089</td>\n",
              "      <td>delivered</td>\n",
              "      <td>2018-08-08 08:38:49</td>\n",
              "      <td>2018-08-08 08:55:23</td>\n",
              "      <td>2018-08-08 13:50:00</td>\n",
              "      <td>2018-08-17 18:06:29</td>\n",
              "      <td>2018-09-04 00:00:00</td>\n",
              "    </tr>\n",
              "    <tr>\n",
              "      <th>3</th>\n",
              "      <td>949d5b44dbf5de918fe9c16f97b45f8a</td>\n",
              "      <td>f88197465ea7920adcdbec7375364d82</td>\n",
              "      <td>delivered</td>\n",
              "      <td>2017-11-18 19:28:06</td>\n",
              "      <td>2017-11-18 19:45:59</td>\n",
              "      <td>2017-11-22 13:39:59</td>\n",
              "      <td>2017-12-02 00:28:42</td>\n",
              "      <td>2017-12-15 00:00:00</td>\n",
              "    </tr>\n",
              "    <tr>\n",
              "      <th>4</th>\n",
              "      <td>ad21c59c0840e6cb83a9ceb5573f8159</td>\n",
              "      <td>8ab97904e6daea8866dbdbc4fb7aad2c</td>\n",
              "      <td>delivered</td>\n",
              "      <td>2018-02-13 21:18:39</td>\n",
              "      <td>2018-02-13 22:20:29</td>\n",
              "      <td>2018-02-14 19:46:34</td>\n",
              "      <td>2018-02-16 18:17:02</td>\n",
              "      <td>2018-02-26 00:00:00</td>\n",
              "    </tr>\n",
              "  </tbody>\n",
              "</table>\n",
              "</div>"
            ],
            "text/plain": [
              "                           order_id                       customer_id  \\\n",
              "0  e481f51cbdc54678b7cc49136f2d6af7  9ef432eb6251297304e76186b10a928d   \n",
              "1  53cdb2fc8bc7dce0b6741e2150273451  b0830fb4747a6c6d20dea0b8c802d7ef   \n",
              "2  47770eb9100c2d0c44946d9cf07ec65d  41ce2a54c0b03bf3443c3d931a367089   \n",
              "3  949d5b44dbf5de918fe9c16f97b45f8a  f88197465ea7920adcdbec7375364d82   \n",
              "4  ad21c59c0840e6cb83a9ceb5573f8159  8ab97904e6daea8866dbdbc4fb7aad2c   \n",
              "\n",
              "  order_status order_purchase_timestamp    order_approved_at  \\\n",
              "0    delivered      2017-10-02 10:56:33  2017-10-02 11:07:15   \n",
              "1    delivered      2018-07-24 20:41:37  2018-07-26 03:24:27   \n",
              "2    delivered      2018-08-08 08:38:49  2018-08-08 08:55:23   \n",
              "3    delivered      2017-11-18 19:28:06  2017-11-18 19:45:59   \n",
              "4    delivered      2018-02-13 21:18:39  2018-02-13 22:20:29   \n",
              "\n",
              "  order_delivered_carrier_date order_delivered_customer_date  \\\n",
              "0          2017-10-04 19:55:00           2017-10-10 21:25:13   \n",
              "1          2018-07-26 14:31:00           2018-08-07 15:27:45   \n",
              "2          2018-08-08 13:50:00           2018-08-17 18:06:29   \n",
              "3          2017-11-22 13:39:59           2017-12-02 00:28:42   \n",
              "4          2018-02-14 19:46:34           2018-02-16 18:17:02   \n",
              "\n",
              "  order_estimated_delivery_date  \n",
              "0           2017-10-18 00:00:00  \n",
              "1           2018-08-13 00:00:00  \n",
              "2           2018-09-04 00:00:00  \n",
              "3           2017-12-15 00:00:00  \n",
              "4           2018-02-26 00:00:00  "
            ]
          },
          "execution_count": 221,
          "metadata": {},
          "output_type": "execute_result"
        }
      ],
      "source": [
        "orders_df.head()"
      ]
    },
    {
      "cell_type": "code",
      "execution_count": 222,
      "metadata": {
        "colab": {
          "base_uri": "https://localhost:8080/",
          "height": 226
        },
        "id": "RNDiydtXODbu",
        "outputId": "f30ed404-cb52-4e84-e55b-2c106698d2e6"
      },
      "outputs": [
        {
          "data": {
            "text/html": [
              "<div>\n",
              "<style scoped>\n",
              "    .dataframe tbody tr th:only-of-type {\n",
              "        vertical-align: middle;\n",
              "    }\n",
              "\n",
              "    .dataframe tbody tr th {\n",
              "        vertical-align: top;\n",
              "    }\n",
              "\n",
              "    .dataframe thead th {\n",
              "        text-align: right;\n",
              "    }\n",
              "</style>\n",
              "<table border=\"1\" class=\"dataframe\">\n",
              "  <thead>\n",
              "    <tr style=\"text-align: right;\">\n",
              "      <th></th>\n",
              "      <th>product_id</th>\n",
              "      <th>product_category_name</th>\n",
              "      <th>product_name_lenght</th>\n",
              "      <th>product_description_lenght</th>\n",
              "      <th>product_photos_qty</th>\n",
              "      <th>product_weight_g</th>\n",
              "      <th>product_length_cm</th>\n",
              "      <th>product_height_cm</th>\n",
              "      <th>product_width_cm</th>\n",
              "    </tr>\n",
              "  </thead>\n",
              "  <tbody>\n",
              "    <tr>\n",
              "      <th>0</th>\n",
              "      <td>1e9e8ef04dbcff4541ed26657ea517e5</td>\n",
              "      <td>perfumaria</td>\n",
              "      <td>40.0</td>\n",
              "      <td>287.0</td>\n",
              "      <td>1.0</td>\n",
              "      <td>225.0</td>\n",
              "      <td>16.0</td>\n",
              "      <td>10.0</td>\n",
              "      <td>14.0</td>\n",
              "    </tr>\n",
              "    <tr>\n",
              "      <th>1</th>\n",
              "      <td>3aa071139cb16b67ca9e5dea641aaa2f</td>\n",
              "      <td>artes</td>\n",
              "      <td>44.0</td>\n",
              "      <td>276.0</td>\n",
              "      <td>1.0</td>\n",
              "      <td>1000.0</td>\n",
              "      <td>30.0</td>\n",
              "      <td>18.0</td>\n",
              "      <td>20.0</td>\n",
              "    </tr>\n",
              "    <tr>\n",
              "      <th>2</th>\n",
              "      <td>96bd76ec8810374ed1b65e291975717f</td>\n",
              "      <td>esporte_lazer</td>\n",
              "      <td>46.0</td>\n",
              "      <td>250.0</td>\n",
              "      <td>1.0</td>\n",
              "      <td>154.0</td>\n",
              "      <td>18.0</td>\n",
              "      <td>9.0</td>\n",
              "      <td>15.0</td>\n",
              "    </tr>\n",
              "    <tr>\n",
              "      <th>3</th>\n",
              "      <td>cef67bcfe19066a932b7673e239eb23d</td>\n",
              "      <td>bebes</td>\n",
              "      <td>27.0</td>\n",
              "      <td>261.0</td>\n",
              "      <td>1.0</td>\n",
              "      <td>371.0</td>\n",
              "      <td>26.0</td>\n",
              "      <td>4.0</td>\n",
              "      <td>26.0</td>\n",
              "    </tr>\n",
              "    <tr>\n",
              "      <th>4</th>\n",
              "      <td>9dc1a7de274444849c219cff195d0b71</td>\n",
              "      <td>utilidades_domesticas</td>\n",
              "      <td>37.0</td>\n",
              "      <td>402.0</td>\n",
              "      <td>4.0</td>\n",
              "      <td>625.0</td>\n",
              "      <td>20.0</td>\n",
              "      <td>17.0</td>\n",
              "      <td>13.0</td>\n",
              "    </tr>\n",
              "  </tbody>\n",
              "</table>\n",
              "</div>"
            ],
            "text/plain": [
              "                         product_id  product_category_name  \\\n",
              "0  1e9e8ef04dbcff4541ed26657ea517e5             perfumaria   \n",
              "1  3aa071139cb16b67ca9e5dea641aaa2f                  artes   \n",
              "2  96bd76ec8810374ed1b65e291975717f          esporte_lazer   \n",
              "3  cef67bcfe19066a932b7673e239eb23d                  bebes   \n",
              "4  9dc1a7de274444849c219cff195d0b71  utilidades_domesticas   \n",
              "\n",
              "   product_name_lenght  product_description_lenght  product_photos_qty  \\\n",
              "0                 40.0                       287.0                 1.0   \n",
              "1                 44.0                       276.0                 1.0   \n",
              "2                 46.0                       250.0                 1.0   \n",
              "3                 27.0                       261.0                 1.0   \n",
              "4                 37.0                       402.0                 4.0   \n",
              "\n",
              "   product_weight_g  product_length_cm  product_height_cm  product_width_cm  \n",
              "0             225.0               16.0               10.0              14.0  \n",
              "1            1000.0               30.0               18.0              20.0  \n",
              "2             154.0               18.0                9.0              15.0  \n",
              "3             371.0               26.0                4.0              26.0  \n",
              "4             625.0               20.0               17.0              13.0  "
            ]
          },
          "execution_count": 222,
          "metadata": {},
          "output_type": "execute_result"
        }
      ],
      "source": [
        "products_df.head()"
      ]
    },
    {
      "cell_type": "code",
      "execution_count": 223,
      "metadata": {
        "colab": {
          "base_uri": "https://localhost:8080/",
          "height": 206
        },
        "id": "-ZWNkt3lODbu",
        "outputId": "c63fb4e2-dfec-49e6-f793-564f3660612c"
      },
      "outputs": [
        {
          "data": {
            "text/html": [
              "<div>\n",
              "<style scoped>\n",
              "    .dataframe tbody tr th:only-of-type {\n",
              "        vertical-align: middle;\n",
              "    }\n",
              "\n",
              "    .dataframe tbody tr th {\n",
              "        vertical-align: top;\n",
              "    }\n",
              "\n",
              "    .dataframe thead th {\n",
              "        text-align: right;\n",
              "    }\n",
              "</style>\n",
              "<table border=\"1\" class=\"dataframe\">\n",
              "  <thead>\n",
              "    <tr style=\"text-align: right;\">\n",
              "      <th></th>\n",
              "      <th>product_category_name</th>\n",
              "      <th>product_category_name_english</th>\n",
              "    </tr>\n",
              "  </thead>\n",
              "  <tbody>\n",
              "    <tr>\n",
              "      <th>0</th>\n",
              "      <td>beleza_saude</td>\n",
              "      <td>health_beauty</td>\n",
              "    </tr>\n",
              "    <tr>\n",
              "      <th>1</th>\n",
              "      <td>informatica_acessorios</td>\n",
              "      <td>computers_accessories</td>\n",
              "    </tr>\n",
              "    <tr>\n",
              "      <th>2</th>\n",
              "      <td>automotivo</td>\n",
              "      <td>auto</td>\n",
              "    </tr>\n",
              "    <tr>\n",
              "      <th>3</th>\n",
              "      <td>cama_mesa_banho</td>\n",
              "      <td>bed_bath_table</td>\n",
              "    </tr>\n",
              "    <tr>\n",
              "      <th>4</th>\n",
              "      <td>moveis_decoracao</td>\n",
              "      <td>furniture_decor</td>\n",
              "    </tr>\n",
              "  </tbody>\n",
              "</table>\n",
              "</div>"
            ],
            "text/plain": [
              "    product_category_name product_category_name_english\n",
              "0            beleza_saude                 health_beauty\n",
              "1  informatica_acessorios         computers_accessories\n",
              "2              automotivo                          auto\n",
              "3         cama_mesa_banho                bed_bath_table\n",
              "4        moveis_decoracao               furniture_decor"
            ]
          },
          "execution_count": 223,
          "metadata": {},
          "output_type": "execute_result"
        }
      ],
      "source": [
        "product_category_name_translation_df.head()"
      ]
    },
    {
      "cell_type": "code",
      "execution_count": 224,
      "metadata": {
        "colab": {
          "base_uri": "https://localhost:8080/",
          "height": 206
        },
        "id": "dyPNYSqAODbu",
        "outputId": "1ab9049a-559c-495d-fac3-7972aec84c8e"
      },
      "outputs": [
        {
          "data": {
            "text/html": [
              "<div>\n",
              "<style scoped>\n",
              "    .dataframe tbody tr th:only-of-type {\n",
              "        vertical-align: middle;\n",
              "    }\n",
              "\n",
              "    .dataframe tbody tr th {\n",
              "        vertical-align: top;\n",
              "    }\n",
              "\n",
              "    .dataframe thead th {\n",
              "        text-align: right;\n",
              "    }\n",
              "</style>\n",
              "<table border=\"1\" class=\"dataframe\">\n",
              "  <thead>\n",
              "    <tr style=\"text-align: right;\">\n",
              "      <th></th>\n",
              "      <th>seller_id</th>\n",
              "      <th>seller_zip_code_prefix</th>\n",
              "      <th>seller_city</th>\n",
              "      <th>seller_state</th>\n",
              "    </tr>\n",
              "  </thead>\n",
              "  <tbody>\n",
              "    <tr>\n",
              "      <th>0</th>\n",
              "      <td>3442f8959a84dea7ee197c632cb2df15</td>\n",
              "      <td>13023</td>\n",
              "      <td>campinas</td>\n",
              "      <td>SP</td>\n",
              "    </tr>\n",
              "    <tr>\n",
              "      <th>1</th>\n",
              "      <td>d1b65fc7debc3361ea86b5f14c68d2e2</td>\n",
              "      <td>13844</td>\n",
              "      <td>mogi guacu</td>\n",
              "      <td>SP</td>\n",
              "    </tr>\n",
              "    <tr>\n",
              "      <th>2</th>\n",
              "      <td>ce3ad9de960102d0677a81f5d0bb7b2d</td>\n",
              "      <td>20031</td>\n",
              "      <td>rio de janeiro</td>\n",
              "      <td>RJ</td>\n",
              "    </tr>\n",
              "    <tr>\n",
              "      <th>3</th>\n",
              "      <td>c0f3eea2e14555b6faeea3dd58c1b1c3</td>\n",
              "      <td>4195</td>\n",
              "      <td>sao paulo</td>\n",
              "      <td>SP</td>\n",
              "    </tr>\n",
              "    <tr>\n",
              "      <th>4</th>\n",
              "      <td>51a04a8a6bdcb23deccc82b0b80742cf</td>\n",
              "      <td>12914</td>\n",
              "      <td>braganca paulista</td>\n",
              "      <td>SP</td>\n",
              "    </tr>\n",
              "  </tbody>\n",
              "</table>\n",
              "</div>"
            ],
            "text/plain": [
              "                          seller_id  seller_zip_code_prefix  \\\n",
              "0  3442f8959a84dea7ee197c632cb2df15                   13023   \n",
              "1  d1b65fc7debc3361ea86b5f14c68d2e2                   13844   \n",
              "2  ce3ad9de960102d0677a81f5d0bb7b2d                   20031   \n",
              "3  c0f3eea2e14555b6faeea3dd58c1b1c3                    4195   \n",
              "4  51a04a8a6bdcb23deccc82b0b80742cf                   12914   \n",
              "\n",
              "         seller_city seller_state  \n",
              "0           campinas           SP  \n",
              "1         mogi guacu           SP  \n",
              "2     rio de janeiro           RJ  \n",
              "3          sao paulo           SP  \n",
              "4  braganca paulista           SP  "
            ]
          },
          "execution_count": 224,
          "metadata": {},
          "output_type": "execute_result"
        }
      ],
      "source": [
        "sellers_df.head()"
      ]
    },
    {
      "cell_type": "markdown",
      "metadata": {
        "id": "MMi6xGaDkbCi"
      },
      "source": [
        "**Insight:**\n",
        "- Terdapat total 7 data yang digunakan, yaitu Customers, Geolocations, Orders, OrderPayments, OrderReviews, Products, Sellers\n",
        "- Dengan melihat 5 baris teratas dari setiap data, terdapat baris yang memiliki nilai NaN, yaitu pada tabel OrderReviews di kolom review_comment_title dan review_comment_message\n",
        "- Terdapat beberapa kolom yang sepertinya memiliki hubungan berdasarkan konsep relasi, seperti pada data Orders, terdapat kolom product_id dan seller_id yang mungkin masing - masing digunakan sebagai dasar relasi dengan data Products dan Sellers, hal ini mungkin dapat ditelusuri lebih lanjut di tahap Assesing data"
      ]
    },
    {
      "cell_type": "markdown",
      "metadata": {
        "id": "FHSiqaZp8DC1"
      },
      "source": [
        "### Assessing Data"
      ]
    },
    {
      "cell_type": "markdown",
      "metadata": {
        "id": "C2AUpquRODbu"
      },
      "source": [
        "##### Membuat fungsi untuk melihat laporan nilai null dan NaN dari sebuah dataframe"
      ]
    },
    {
      "cell_type": "code",
      "execution_count": 225,
      "metadata": {
        "id": "ax-3tEjc9Cj1"
      },
      "outputs": [],
      "source": [
        "def get_df_report(df):\n",
        "  res = {}\n",
        "  for (col1, nullvalue), (_, navalue), (_, totalvalue), (_, duplicatevalue) in zip(df.isnull().sum().items(), df.isna().sum().items(), df.count().items(), df.duplicated().items()):\n",
        "    report = {}\n",
        "    report['null'] = nullvalue\n",
        "    report['na'] = navalue\n",
        "    report['duplicate'] = duplicatevalue\n",
        "    report['null_percentage'] = round(nullvalue / (totalvalue + nullvalue + navalue) * 100, 2)\n",
        "    report['na_percentage'] = round(navalue / (totalvalue + nullvalue + navalue) * 100, 2)\n",
        "    report['duplicate_percentage'] = round(duplicatevalue / (totalvalue + nullvalue + navalue) * 100, 2)\n",
        "    report['total'] = (totalvalue + nullvalue + navalue)\n",
        "    res[col1] = report\n",
        "  return pd.DataFrame.from_dict(res, orient='index')"
      ]
    },
    {
      "cell_type": "markdown",
      "metadata": {
        "id": "N1S8ns7AODbv"
      },
      "source": [
        "##### Missing value dan duplicate value <br>\n",
        "Melihat laporan missing value dan duplicate value"
      ]
    },
    {
      "cell_type": "code",
      "execution_count": 226,
      "metadata": {
        "colab": {
          "base_uri": "https://localhost:8080/"
        },
        "id": "M0oAkDyGODbv",
        "outputId": "8d8ef834-22a9-430c-cd5a-1b45aef591ac"
      },
      "outputs": [
        {
          "name": "stdout",
          "output_type": "stream",
          "text": [
            "+--------------------------+--------+------+-------------+-------------------+-----------------+------------------------+---------+\n",
            "|                          |   null |   na | duplicate   |   null_percentage |   na_percentage |   duplicate_percentage |   total |\n",
            "|--------------------------+--------+------+-------------+-------------------+-----------------+------------------------+---------|\n",
            "| customer_id              |      0 |    0 | False       |                 0 |               0 |                      0 |   99441 |\n",
            "| customer_unique_id       |      0 |    0 | False       |                 0 |               0 |                      0 |   99441 |\n",
            "| customer_zip_code_prefix |      0 |    0 | False       |                 0 |               0 |                      0 |   99441 |\n",
            "| customer_city            |      0 |    0 | False       |                 0 |               0 |                      0 |   99441 |\n",
            "| customer_state           |      0 |    0 | False       |                 0 |               0 |                      0 |   99441 |\n",
            "+--------------------------+--------+------+-------------+-------------------+-----------------+------------------------+---------+\n",
            "+-----------------------------+--------+------+-------------+-------------------+-----------------+------------------------+---------+\n",
            "|                             |   null |   na | duplicate   |   null_percentage |   na_percentage |   duplicate_percentage |   total |\n",
            "|-----------------------------+--------+------+-------------+-------------------+-----------------+------------------------+---------|\n",
            "| geolocation_zip_code_prefix |      0 |    0 | False       |                 0 |               0 |                      0 | 1000163 |\n",
            "| geolocation_lat             |      0 |    0 | False       |                 0 |               0 |                      0 | 1000163 |\n",
            "| geolocation_lng             |      0 |    0 | False       |                 0 |               0 |                      0 | 1000163 |\n",
            "| geolocation_city            |      0 |    0 | False       |                 0 |               0 |                      0 | 1000163 |\n",
            "| geolocation_state           |      0 |    0 | False       |                 0 |               0 |                      0 | 1000163 |\n",
            "+-----------------------------+--------+------+-------------+-------------------+-----------------+------------------------+---------+\n",
            "+---------------------+--------+------+-------------+-------------------+-----------------+------------------------+---------+\n",
            "|                     |   null |   na | duplicate   |   null_percentage |   na_percentage |   duplicate_percentage |   total |\n",
            "|---------------------+--------+------+-------------+-------------------+-----------------+------------------------+---------|\n",
            "| order_id            |      0 |    0 | False       |                 0 |               0 |                      0 |  112650 |\n",
            "| order_item_id       |      0 |    0 | False       |                 0 |               0 |                      0 |  112650 |\n",
            "| product_id          |      0 |    0 | False       |                 0 |               0 |                      0 |  112650 |\n",
            "| seller_id           |      0 |    0 | False       |                 0 |               0 |                      0 |  112650 |\n",
            "| shipping_limit_date |      0 |    0 | False       |                 0 |               0 |                      0 |  112650 |\n",
            "| price               |      0 |    0 | False       |                 0 |               0 |                      0 |  112650 |\n",
            "| freight_value       |      0 |    0 | False       |                 0 |               0 |                      0 |  112650 |\n",
            "+---------------------+--------+------+-------------+-------------------+-----------------+------------------------+---------+\n",
            "+-------------------------------+--------+------+-------------+-------------------+-----------------+------------------------+---------+\n",
            "|                               |   null |   na | duplicate   |   null_percentage |   na_percentage |   duplicate_percentage |   total |\n",
            "|-------------------------------+--------+------+-------------+-------------------+-----------------+------------------------+---------|\n",
            "| order_id                      |      0 |    0 | False       |              0    |            0    |                      0 |   99441 |\n",
            "| customer_id                   |      0 |    0 | False       |              0    |            0    |                      0 |   99441 |\n",
            "| order_status                  |      0 |    0 | False       |              0    |            0    |                      0 |   99441 |\n",
            "| order_purchase_timestamp      |      0 |    0 | False       |              0    |            0    |                      0 |   99441 |\n",
            "| order_approved_at             |    160 |  160 | False       |              0.16 |            0.16 |                      0 |   99601 |\n",
            "| order_delivered_carrier_date  |   1783 | 1783 | False       |              1.76 |            1.76 |                      0 |  101224 |\n",
            "| order_delivered_customer_date |   2965 | 2965 | False       |              2.9  |            2.9  |                      0 |  102406 |\n",
            "| order_estimated_delivery_date |      0 |    0 | False       |              0    |            0    |                      0 |   99441 |\n",
            "+-------------------------------+--------+------+-------------+-------------------+-----------------+------------------------+---------+\n",
            "+----------------------+--------+------+-------------+-------------------+-----------------+------------------------+---------+\n",
            "|                      |   null |   na | duplicate   |   null_percentage |   na_percentage |   duplicate_percentage |   total |\n",
            "|----------------------+--------+------+-------------+-------------------+-----------------+------------------------+---------|\n",
            "| order_id             |      0 |    0 | False       |                 0 |               0 |                      0 |  103886 |\n",
            "| payment_sequential   |      0 |    0 | False       |                 0 |               0 |                      0 |  103886 |\n",
            "| payment_type         |      0 |    0 | False       |                 0 |               0 |                      0 |  103886 |\n",
            "| payment_installments |      0 |    0 | False       |                 0 |               0 |                      0 |  103886 |\n",
            "| payment_value        |      0 |    0 | False       |                 0 |               0 |                      0 |  103886 |\n",
            "+----------------------+--------+------+-------------+-------------------+-----------------+------------------------+---------+\n",
            "+-------------------------+--------+-------+-------------+-------------------+-----------------+------------------------+---------+\n",
            "|                         |   null |    na | duplicate   |   null_percentage |   na_percentage |   duplicate_percentage |   total |\n",
            "|-------------------------+--------+-------+-------------+-------------------+-----------------+------------------------+---------|\n",
            "| review_id               |      0 |     0 | False       |              0    |            0    |                      0 |   99224 |\n",
            "| order_id                |      0 |     0 | False       |              0    |            0    |                      0 |   99224 |\n",
            "| review_score            |      0 |     0 | False       |              0    |            0    |                      0 |   99224 |\n",
            "| review_comment_title    |  87656 | 87656 | False       |             46.9  |           46.9  |                      0 |  186880 |\n",
            "| review_comment_message  |  58247 | 58247 | False       |             36.99 |           36.99 |                      0 |  157471 |\n",
            "| review_creation_date    |      0 |     0 | False       |              0    |            0    |                      0 |   99224 |\n",
            "| review_answer_timestamp |      0 |     0 | False       |              0    |            0    |                      0 |   99224 |\n",
            "+-------------------------+--------+-------+-------------+-------------------+-----------------+------------------------+---------+\n",
            "+----------------------------+--------+------+-------------+-------------------+-----------------+------------------------+---------+\n",
            "|                            |   null |   na | duplicate   |   null_percentage |   na_percentage |   duplicate_percentage |   total |\n",
            "|----------------------------+--------+------+-------------+-------------------+-----------------+------------------------+---------|\n",
            "| product_id                 |      0 |    0 | False       |              0    |            0    |                      0 |   32951 |\n",
            "| product_category_name      |    610 |  610 | False       |              1.82 |            1.82 |                      0 |   33561 |\n",
            "| product_name_lenght        |    610 |  610 | False       |              1.82 |            1.82 |                      0 |   33561 |\n",
            "| product_description_lenght |    610 |  610 | False       |              1.82 |            1.82 |                      0 |   33561 |\n",
            "| product_photos_qty         |    610 |  610 | False       |              1.82 |            1.82 |                      0 |   33561 |\n",
            "| product_weight_g           |      2 |    2 | False       |              0.01 |            0.01 |                      0 |   32953 |\n",
            "| product_length_cm          |      2 |    2 | False       |              0.01 |            0.01 |                      0 |   32953 |\n",
            "| product_height_cm          |      2 |    2 | False       |              0.01 |            0.01 |                      0 |   32953 |\n",
            "| product_width_cm           |      2 |    2 | False       |              0.01 |            0.01 |                      0 |   32953 |\n",
            "+----------------------------+--------+------+-------------+-------------------+-----------------+------------------------+---------+\n",
            "+-------------------------------+--------+------+-------------+-------------------+-----------------+------------------------+---------+\n",
            "|                               |   null |   na | duplicate   |   null_percentage |   na_percentage |   duplicate_percentage |   total |\n",
            "|-------------------------------+--------+------+-------------+-------------------+-----------------+------------------------+---------|\n",
            "| product_category_name         |      0 |    0 | False       |                 0 |               0 |                      0 |      71 |\n",
            "| product_category_name_english |      0 |    0 | False       |                 0 |               0 |                      0 |      71 |\n",
            "+-------------------------------+--------+------+-------------+-------------------+-----------------+------------------------+---------+\n",
            "+------------------------+--------+------+-------------+-------------------+-----------------+------------------------+---------+\n",
            "|                        |   null |   na | duplicate   |   null_percentage |   na_percentage |   duplicate_percentage |   total |\n",
            "|------------------------+--------+------+-------------+-------------------+-----------------+------------------------+---------|\n",
            "| seller_id              |      0 |    0 | False       |                 0 |               0 |                      0 |    3095 |\n",
            "| seller_zip_code_prefix |      0 |    0 | False       |                 0 |               0 |                      0 |    3095 |\n",
            "| seller_city            |      0 |    0 | False       |                 0 |               0 |                      0 |    3095 |\n",
            "| seller_state           |      0 |    0 | False       |                 0 |               0 |                      0 |    3095 |\n",
            "+------------------------+--------+------+-------------+-------------------+-----------------+------------------------+---------+\n"
          ]
        }
      ],
      "source": [
        "print(tabulate(get_df_report(customers_df), headers='keys', tablefmt='psql'))\n",
        "print(tabulate(get_df_report(geolocation_df), headers='keys', tablefmt='psql'))\n",
        "print(tabulate(get_df_report(order_items_df), headers='keys', tablefmt='psql'))\n",
        "print(tabulate(get_df_report(orders_df), headers='keys', tablefmt='psql'))\n",
        "print(tabulate(get_df_report(order_payments_df), headers='keys', tablefmt='psql'))\n",
        "print(tabulate(get_df_report(order_reviews_df), headers='keys', tablefmt='psql'))\n",
        "print(tabulate(get_df_report(products_df), headers='keys', tablefmt='psql'))\n",
        "print(tabulate(get_df_report(product_category_name_translation_df), headers='keys', tablefmt='psql'))\n",
        "print(tabulate(get_df_report(sellers_df), headers='keys', tablefmt='psql'))"
      ]
    },
    {
      "cell_type": "code",
      "execution_count": 227,
      "metadata": {
        "colab": {
          "base_uri": "https://localhost:8080/",
          "height": 394
        },
        "id": "i67c2pBiODbv",
        "outputId": "d3ac87e2-7f1d-4f26-a5af-e6df8410bf03"
      },
      "outputs": [
        {
          "data": {
            "text/html": [
              "<div>\n",
              "<style scoped>\n",
              "    .dataframe tbody tr th:only-of-type {\n",
              "        vertical-align: middle;\n",
              "    }\n",
              "\n",
              "    .dataframe tbody tr th {\n",
              "        vertical-align: top;\n",
              "    }\n",
              "\n",
              "    .dataframe thead th {\n",
              "        text-align: right;\n",
              "    }\n",
              "</style>\n",
              "<table border=\"1\" class=\"dataframe\">\n",
              "  <thead>\n",
              "    <tr style=\"text-align: right;\">\n",
              "      <th></th>\n",
              "      <th>customer_id</th>\n",
              "      <th>customer_unique_id</th>\n",
              "      <th>customer_zip_code_prefix</th>\n",
              "      <th>customer_city</th>\n",
              "      <th>customer_state</th>\n",
              "    </tr>\n",
              "  </thead>\n",
              "  <tbody>\n",
              "    <tr>\n",
              "      <th>count</th>\n",
              "      <td>99441</td>\n",
              "      <td>99441</td>\n",
              "      <td>99441.000000</td>\n",
              "      <td>99441</td>\n",
              "      <td>99441</td>\n",
              "    </tr>\n",
              "    <tr>\n",
              "      <th>unique</th>\n",
              "      <td>99441</td>\n",
              "      <td>96096</td>\n",
              "      <td>NaN</td>\n",
              "      <td>4119</td>\n",
              "      <td>27</td>\n",
              "    </tr>\n",
              "    <tr>\n",
              "      <th>top</th>\n",
              "      <td>06b8999e2fba1a1fbc88172c00ba8bc7</td>\n",
              "      <td>8d50f5eadf50201ccdcedfb9e2ac8455</td>\n",
              "      <td>NaN</td>\n",
              "      <td>sao paulo</td>\n",
              "      <td>SP</td>\n",
              "    </tr>\n",
              "    <tr>\n",
              "      <th>freq</th>\n",
              "      <td>1</td>\n",
              "      <td>17</td>\n",
              "      <td>NaN</td>\n",
              "      <td>15540</td>\n",
              "      <td>41746</td>\n",
              "    </tr>\n",
              "    <tr>\n",
              "      <th>mean</th>\n",
              "      <td>NaN</td>\n",
              "      <td>NaN</td>\n",
              "      <td>35137.474583</td>\n",
              "      <td>NaN</td>\n",
              "      <td>NaN</td>\n",
              "    </tr>\n",
              "    <tr>\n",
              "      <th>std</th>\n",
              "      <td>NaN</td>\n",
              "      <td>NaN</td>\n",
              "      <td>29797.938996</td>\n",
              "      <td>NaN</td>\n",
              "      <td>NaN</td>\n",
              "    </tr>\n",
              "    <tr>\n",
              "      <th>min</th>\n",
              "      <td>NaN</td>\n",
              "      <td>NaN</td>\n",
              "      <td>1003.000000</td>\n",
              "      <td>NaN</td>\n",
              "      <td>NaN</td>\n",
              "    </tr>\n",
              "    <tr>\n",
              "      <th>25%</th>\n",
              "      <td>NaN</td>\n",
              "      <td>NaN</td>\n",
              "      <td>11347.000000</td>\n",
              "      <td>NaN</td>\n",
              "      <td>NaN</td>\n",
              "    </tr>\n",
              "    <tr>\n",
              "      <th>50%</th>\n",
              "      <td>NaN</td>\n",
              "      <td>NaN</td>\n",
              "      <td>24416.000000</td>\n",
              "      <td>NaN</td>\n",
              "      <td>NaN</td>\n",
              "    </tr>\n",
              "    <tr>\n",
              "      <th>75%</th>\n",
              "      <td>NaN</td>\n",
              "      <td>NaN</td>\n",
              "      <td>58900.000000</td>\n",
              "      <td>NaN</td>\n",
              "      <td>NaN</td>\n",
              "    </tr>\n",
              "    <tr>\n",
              "      <th>max</th>\n",
              "      <td>NaN</td>\n",
              "      <td>NaN</td>\n",
              "      <td>99990.000000</td>\n",
              "      <td>NaN</td>\n",
              "      <td>NaN</td>\n",
              "    </tr>\n",
              "  </tbody>\n",
              "</table>\n",
              "</div>"
            ],
            "text/plain": [
              "                             customer_id                customer_unique_id  \\\n",
              "count                              99441                             99441   \n",
              "unique                             99441                             96096   \n",
              "top     06b8999e2fba1a1fbc88172c00ba8bc7  8d50f5eadf50201ccdcedfb9e2ac8455   \n",
              "freq                                   1                                17   \n",
              "mean                                 NaN                               NaN   \n",
              "std                                  NaN                               NaN   \n",
              "min                                  NaN                               NaN   \n",
              "25%                                  NaN                               NaN   \n",
              "50%                                  NaN                               NaN   \n",
              "75%                                  NaN                               NaN   \n",
              "max                                  NaN                               NaN   \n",
              "\n",
              "        customer_zip_code_prefix customer_city customer_state  \n",
              "count               99441.000000         99441          99441  \n",
              "unique                       NaN          4119             27  \n",
              "top                          NaN     sao paulo             SP  \n",
              "freq                         NaN         15540          41746  \n",
              "mean                35137.474583           NaN            NaN  \n",
              "std                 29797.938996           NaN            NaN  \n",
              "min                  1003.000000           NaN            NaN  \n",
              "25%                 11347.000000           NaN            NaN  \n",
              "50%                 24416.000000           NaN            NaN  \n",
              "75%                 58900.000000           NaN            NaN  \n",
              "max                 99990.000000           NaN            NaN  "
            ]
          },
          "execution_count": 227,
          "metadata": {},
          "output_type": "execute_result"
        }
      ],
      "source": [
        "customers_df.describe(include='all')"
      ]
    },
    {
      "cell_type": "code",
      "execution_count": 228,
      "metadata": {
        "colab": {
          "base_uri": "https://localhost:8080/",
          "height": 394
        },
        "id": "HYaqucdZODbv",
        "outputId": "c55068cc-6cba-4a8d-a766-1e6b52e9eb9b"
      },
      "outputs": [
        {
          "data": {
            "text/html": [
              "<div>\n",
              "<style scoped>\n",
              "    .dataframe tbody tr th:only-of-type {\n",
              "        vertical-align: middle;\n",
              "    }\n",
              "\n",
              "    .dataframe tbody tr th {\n",
              "        vertical-align: top;\n",
              "    }\n",
              "\n",
              "    .dataframe thead th {\n",
              "        text-align: right;\n",
              "    }\n",
              "</style>\n",
              "<table border=\"1\" class=\"dataframe\">\n",
              "  <thead>\n",
              "    <tr style=\"text-align: right;\">\n",
              "      <th></th>\n",
              "      <th>geolocation_zip_code_prefix</th>\n",
              "      <th>geolocation_lat</th>\n",
              "      <th>geolocation_lng</th>\n",
              "      <th>geolocation_city</th>\n",
              "      <th>geolocation_state</th>\n",
              "    </tr>\n",
              "  </thead>\n",
              "  <tbody>\n",
              "    <tr>\n",
              "      <th>count</th>\n",
              "      <td>1.000163e+06</td>\n",
              "      <td>1.000163e+06</td>\n",
              "      <td>1.000163e+06</td>\n",
              "      <td>1000163</td>\n",
              "      <td>1000163</td>\n",
              "    </tr>\n",
              "    <tr>\n",
              "      <th>unique</th>\n",
              "      <td>NaN</td>\n",
              "      <td>NaN</td>\n",
              "      <td>NaN</td>\n",
              "      <td>8011</td>\n",
              "      <td>27</td>\n",
              "    </tr>\n",
              "    <tr>\n",
              "      <th>top</th>\n",
              "      <td>NaN</td>\n",
              "      <td>NaN</td>\n",
              "      <td>NaN</td>\n",
              "      <td>sao paulo</td>\n",
              "      <td>SP</td>\n",
              "    </tr>\n",
              "    <tr>\n",
              "      <th>freq</th>\n",
              "      <td>NaN</td>\n",
              "      <td>NaN</td>\n",
              "      <td>NaN</td>\n",
              "      <td>135800</td>\n",
              "      <td>404268</td>\n",
              "    </tr>\n",
              "    <tr>\n",
              "      <th>mean</th>\n",
              "      <td>3.657417e+04</td>\n",
              "      <td>-2.117615e+01</td>\n",
              "      <td>-4.639054e+01</td>\n",
              "      <td>NaN</td>\n",
              "      <td>NaN</td>\n",
              "    </tr>\n",
              "    <tr>\n",
              "      <th>std</th>\n",
              "      <td>3.054934e+04</td>\n",
              "      <td>5.715866e+00</td>\n",
              "      <td>4.269748e+00</td>\n",
              "      <td>NaN</td>\n",
              "      <td>NaN</td>\n",
              "    </tr>\n",
              "    <tr>\n",
              "      <th>min</th>\n",
              "      <td>1.001000e+03</td>\n",
              "      <td>-3.660537e+01</td>\n",
              "      <td>-1.014668e+02</td>\n",
              "      <td>NaN</td>\n",
              "      <td>NaN</td>\n",
              "    </tr>\n",
              "    <tr>\n",
              "      <th>25%</th>\n",
              "      <td>1.107500e+04</td>\n",
              "      <td>-2.360355e+01</td>\n",
              "      <td>-4.857317e+01</td>\n",
              "      <td>NaN</td>\n",
              "      <td>NaN</td>\n",
              "    </tr>\n",
              "    <tr>\n",
              "      <th>50%</th>\n",
              "      <td>2.653000e+04</td>\n",
              "      <td>-2.291938e+01</td>\n",
              "      <td>-4.663788e+01</td>\n",
              "      <td>NaN</td>\n",
              "      <td>NaN</td>\n",
              "    </tr>\n",
              "    <tr>\n",
              "      <th>75%</th>\n",
              "      <td>6.350400e+04</td>\n",
              "      <td>-1.997962e+01</td>\n",
              "      <td>-4.376771e+01</td>\n",
              "      <td>NaN</td>\n",
              "      <td>NaN</td>\n",
              "    </tr>\n",
              "    <tr>\n",
              "      <th>max</th>\n",
              "      <td>9.999000e+04</td>\n",
              "      <td>4.506593e+01</td>\n",
              "      <td>1.211054e+02</td>\n",
              "      <td>NaN</td>\n",
              "      <td>NaN</td>\n",
              "    </tr>\n",
              "  </tbody>\n",
              "</table>\n",
              "</div>"
            ],
            "text/plain": [
              "        geolocation_zip_code_prefix  geolocation_lat  geolocation_lng  \\\n",
              "count                  1.000163e+06     1.000163e+06     1.000163e+06   \n",
              "unique                          NaN              NaN              NaN   \n",
              "top                             NaN              NaN              NaN   \n",
              "freq                            NaN              NaN              NaN   \n",
              "mean                   3.657417e+04    -2.117615e+01    -4.639054e+01   \n",
              "std                    3.054934e+04     5.715866e+00     4.269748e+00   \n",
              "min                    1.001000e+03    -3.660537e+01    -1.014668e+02   \n",
              "25%                    1.107500e+04    -2.360355e+01    -4.857317e+01   \n",
              "50%                    2.653000e+04    -2.291938e+01    -4.663788e+01   \n",
              "75%                    6.350400e+04    -1.997962e+01    -4.376771e+01   \n",
              "max                    9.999000e+04     4.506593e+01     1.211054e+02   \n",
              "\n",
              "       geolocation_city geolocation_state  \n",
              "count           1000163           1000163  \n",
              "unique             8011                27  \n",
              "top           sao paulo                SP  \n",
              "freq             135800            404268  \n",
              "mean                NaN               NaN  \n",
              "std                 NaN               NaN  \n",
              "min                 NaN               NaN  \n",
              "25%                 NaN               NaN  \n",
              "50%                 NaN               NaN  \n",
              "75%                 NaN               NaN  \n",
              "max                 NaN               NaN  "
            ]
          },
          "execution_count": 228,
          "metadata": {},
          "output_type": "execute_result"
        }
      ],
      "source": [
        "geolocation_df.describe(include='all')"
      ]
    },
    {
      "cell_type": "code",
      "execution_count": 229,
      "metadata": {
        "colab": {
          "base_uri": "https://localhost:8080/",
          "height": 414
        },
        "id": "0v8BAYXTODbv",
        "outputId": "f5a78379-3d26-403d-cd7b-202c1165d60d"
      },
      "outputs": [
        {
          "data": {
            "text/html": [
              "<div>\n",
              "<style scoped>\n",
              "    .dataframe tbody tr th:only-of-type {\n",
              "        vertical-align: middle;\n",
              "    }\n",
              "\n",
              "    .dataframe tbody tr th {\n",
              "        vertical-align: top;\n",
              "    }\n",
              "\n",
              "    .dataframe thead th {\n",
              "        text-align: right;\n",
              "    }\n",
              "</style>\n",
              "<table border=\"1\" class=\"dataframe\">\n",
              "  <thead>\n",
              "    <tr style=\"text-align: right;\">\n",
              "      <th></th>\n",
              "      <th>order_id</th>\n",
              "      <th>order_item_id</th>\n",
              "      <th>product_id</th>\n",
              "      <th>seller_id</th>\n",
              "      <th>shipping_limit_date</th>\n",
              "      <th>price</th>\n",
              "      <th>freight_value</th>\n",
              "    </tr>\n",
              "  </thead>\n",
              "  <tbody>\n",
              "    <tr>\n",
              "      <th>count</th>\n",
              "      <td>112650</td>\n",
              "      <td>112650.000000</td>\n",
              "      <td>112650</td>\n",
              "      <td>112650</td>\n",
              "      <td>112650</td>\n",
              "      <td>112650.000000</td>\n",
              "      <td>112650.000000</td>\n",
              "    </tr>\n",
              "    <tr>\n",
              "      <th>unique</th>\n",
              "      <td>98666</td>\n",
              "      <td>NaN</td>\n",
              "      <td>32951</td>\n",
              "      <td>3095</td>\n",
              "      <td>93318</td>\n",
              "      <td>NaN</td>\n",
              "      <td>NaN</td>\n",
              "    </tr>\n",
              "    <tr>\n",
              "      <th>top</th>\n",
              "      <td>8272b63d03f5f79c56e9e4120aec44ef</td>\n",
              "      <td>NaN</td>\n",
              "      <td>aca2eb7d00ea1a7b8ebd4e68314663af</td>\n",
              "      <td>6560211a19b47992c3666cc44a7e94c0</td>\n",
              "      <td>2017-07-21 18:25:23</td>\n",
              "      <td>NaN</td>\n",
              "      <td>NaN</td>\n",
              "    </tr>\n",
              "    <tr>\n",
              "      <th>freq</th>\n",
              "      <td>21</td>\n",
              "      <td>NaN</td>\n",
              "      <td>527</td>\n",
              "      <td>2033</td>\n",
              "      <td>21</td>\n",
              "      <td>NaN</td>\n",
              "      <td>NaN</td>\n",
              "    </tr>\n",
              "    <tr>\n",
              "      <th>mean</th>\n",
              "      <td>NaN</td>\n",
              "      <td>1.197834</td>\n",
              "      <td>NaN</td>\n",
              "      <td>NaN</td>\n",
              "      <td>NaN</td>\n",
              "      <td>120.653739</td>\n",
              "      <td>19.990320</td>\n",
              "    </tr>\n",
              "    <tr>\n",
              "      <th>std</th>\n",
              "      <td>NaN</td>\n",
              "      <td>0.705124</td>\n",
              "      <td>NaN</td>\n",
              "      <td>NaN</td>\n",
              "      <td>NaN</td>\n",
              "      <td>183.633928</td>\n",
              "      <td>15.806405</td>\n",
              "    </tr>\n",
              "    <tr>\n",
              "      <th>min</th>\n",
              "      <td>NaN</td>\n",
              "      <td>1.000000</td>\n",
              "      <td>NaN</td>\n",
              "      <td>NaN</td>\n",
              "      <td>NaN</td>\n",
              "      <td>0.850000</td>\n",
              "      <td>0.000000</td>\n",
              "    </tr>\n",
              "    <tr>\n",
              "      <th>25%</th>\n",
              "      <td>NaN</td>\n",
              "      <td>1.000000</td>\n",
              "      <td>NaN</td>\n",
              "      <td>NaN</td>\n",
              "      <td>NaN</td>\n",
              "      <td>39.900000</td>\n",
              "      <td>13.080000</td>\n",
              "    </tr>\n",
              "    <tr>\n",
              "      <th>50%</th>\n",
              "      <td>NaN</td>\n",
              "      <td>1.000000</td>\n",
              "      <td>NaN</td>\n",
              "      <td>NaN</td>\n",
              "      <td>NaN</td>\n",
              "      <td>74.990000</td>\n",
              "      <td>16.260000</td>\n",
              "    </tr>\n",
              "    <tr>\n",
              "      <th>75%</th>\n",
              "      <td>NaN</td>\n",
              "      <td>1.000000</td>\n",
              "      <td>NaN</td>\n",
              "      <td>NaN</td>\n",
              "      <td>NaN</td>\n",
              "      <td>134.900000</td>\n",
              "      <td>21.150000</td>\n",
              "    </tr>\n",
              "    <tr>\n",
              "      <th>max</th>\n",
              "      <td>NaN</td>\n",
              "      <td>21.000000</td>\n",
              "      <td>NaN</td>\n",
              "      <td>NaN</td>\n",
              "      <td>NaN</td>\n",
              "      <td>6735.000000</td>\n",
              "      <td>409.680000</td>\n",
              "    </tr>\n",
              "  </tbody>\n",
              "</table>\n",
              "</div>"
            ],
            "text/plain": [
              "                                order_id  order_item_id  \\\n",
              "count                             112650  112650.000000   \n",
              "unique                             98666            NaN   \n",
              "top     8272b63d03f5f79c56e9e4120aec44ef            NaN   \n",
              "freq                                  21            NaN   \n",
              "mean                                 NaN       1.197834   \n",
              "std                                  NaN       0.705124   \n",
              "min                                  NaN       1.000000   \n",
              "25%                                  NaN       1.000000   \n",
              "50%                                  NaN       1.000000   \n",
              "75%                                  NaN       1.000000   \n",
              "max                                  NaN      21.000000   \n",
              "\n",
              "                              product_id                         seller_id  \\\n",
              "count                             112650                            112650   \n",
              "unique                             32951                              3095   \n",
              "top     aca2eb7d00ea1a7b8ebd4e68314663af  6560211a19b47992c3666cc44a7e94c0   \n",
              "freq                                 527                              2033   \n",
              "mean                                 NaN                               NaN   \n",
              "std                                  NaN                               NaN   \n",
              "min                                  NaN                               NaN   \n",
              "25%                                  NaN                               NaN   \n",
              "50%                                  NaN                               NaN   \n",
              "75%                                  NaN                               NaN   \n",
              "max                                  NaN                               NaN   \n",
              "\n",
              "        shipping_limit_date          price  freight_value  \n",
              "count                112650  112650.000000  112650.000000  \n",
              "unique                93318            NaN            NaN  \n",
              "top     2017-07-21 18:25:23            NaN            NaN  \n",
              "freq                     21            NaN            NaN  \n",
              "mean                    NaN     120.653739      19.990320  \n",
              "std                     NaN     183.633928      15.806405  \n",
              "min                     NaN       0.850000       0.000000  \n",
              "25%                     NaN      39.900000      13.080000  \n",
              "50%                     NaN      74.990000      16.260000  \n",
              "75%                     NaN     134.900000      21.150000  \n",
              "max                     NaN    6735.000000     409.680000  "
            ]
          },
          "execution_count": 229,
          "metadata": {},
          "output_type": "execute_result"
        }
      ],
      "source": [
        "order_items_df.describe(include='all')"
      ]
    },
    {
      "cell_type": "code",
      "execution_count": 230,
      "metadata": {
        "colab": {
          "base_uri": "https://localhost:8080/",
          "height": 195
        },
        "id": "XvKocHKfODbv",
        "outputId": "259e05cb-7f08-4b35-c7bb-c0908b17a0fc"
      },
      "outputs": [
        {
          "data": {
            "text/html": [
              "<div>\n",
              "<style scoped>\n",
              "    .dataframe tbody tr th:only-of-type {\n",
              "        vertical-align: middle;\n",
              "    }\n",
              "\n",
              "    .dataframe tbody tr th {\n",
              "        vertical-align: top;\n",
              "    }\n",
              "\n",
              "    .dataframe thead th {\n",
              "        text-align: right;\n",
              "    }\n",
              "</style>\n",
              "<table border=\"1\" class=\"dataframe\">\n",
              "  <thead>\n",
              "    <tr style=\"text-align: right;\">\n",
              "      <th></th>\n",
              "      <th>order_id</th>\n",
              "      <th>customer_id</th>\n",
              "      <th>order_status</th>\n",
              "      <th>order_purchase_timestamp</th>\n",
              "      <th>order_approved_at</th>\n",
              "      <th>order_delivered_carrier_date</th>\n",
              "      <th>order_delivered_customer_date</th>\n",
              "      <th>order_estimated_delivery_date</th>\n",
              "    </tr>\n",
              "  </thead>\n",
              "  <tbody>\n",
              "    <tr>\n",
              "      <th>count</th>\n",
              "      <td>99441</td>\n",
              "      <td>99441</td>\n",
              "      <td>99441</td>\n",
              "      <td>99441</td>\n",
              "      <td>99281</td>\n",
              "      <td>97658</td>\n",
              "      <td>96476</td>\n",
              "      <td>99441</td>\n",
              "    </tr>\n",
              "    <tr>\n",
              "      <th>unique</th>\n",
              "      <td>99441</td>\n",
              "      <td>99441</td>\n",
              "      <td>8</td>\n",
              "      <td>98875</td>\n",
              "      <td>90733</td>\n",
              "      <td>81018</td>\n",
              "      <td>95664</td>\n",
              "      <td>459</td>\n",
              "    </tr>\n",
              "    <tr>\n",
              "      <th>top</th>\n",
              "      <td>e481f51cbdc54678b7cc49136f2d6af7</td>\n",
              "      <td>9ef432eb6251297304e76186b10a928d</td>\n",
              "      <td>delivered</td>\n",
              "      <td>2018-04-11 10:48:14</td>\n",
              "      <td>2018-02-27 04:31:10</td>\n",
              "      <td>2018-05-09 15:48:00</td>\n",
              "      <td>2018-05-08 23:38:46</td>\n",
              "      <td>2017-12-20 00:00:00</td>\n",
              "    </tr>\n",
              "    <tr>\n",
              "      <th>freq</th>\n",
              "      <td>1</td>\n",
              "      <td>1</td>\n",
              "      <td>96478</td>\n",
              "      <td>3</td>\n",
              "      <td>9</td>\n",
              "      <td>47</td>\n",
              "      <td>3</td>\n",
              "      <td>522</td>\n",
              "    </tr>\n",
              "  </tbody>\n",
              "</table>\n",
              "</div>"
            ],
            "text/plain": [
              "                                order_id                       customer_id  \\\n",
              "count                              99441                             99441   \n",
              "unique                             99441                             99441   \n",
              "top     e481f51cbdc54678b7cc49136f2d6af7  9ef432eb6251297304e76186b10a928d   \n",
              "freq                                   1                                 1   \n",
              "\n",
              "       order_status order_purchase_timestamp    order_approved_at  \\\n",
              "count         99441                    99441                99281   \n",
              "unique            8                    98875                90733   \n",
              "top       delivered      2018-04-11 10:48:14  2018-02-27 04:31:10   \n",
              "freq          96478                        3                    9   \n",
              "\n",
              "       order_delivered_carrier_date order_delivered_customer_date  \\\n",
              "count                         97658                         96476   \n",
              "unique                        81018                         95664   \n",
              "top             2018-05-09 15:48:00           2018-05-08 23:38:46   \n",
              "freq                             47                             3   \n",
              "\n",
              "       order_estimated_delivery_date  \n",
              "count                          99441  \n",
              "unique                           459  \n",
              "top              2017-12-20 00:00:00  \n",
              "freq                             522  "
            ]
          },
          "execution_count": 230,
          "metadata": {},
          "output_type": "execute_result"
        }
      ],
      "source": [
        "orders_df.describe(include='all')"
      ]
    },
    {
      "cell_type": "code",
      "execution_count": 231,
      "metadata": {
        "colab": {
          "base_uri": "https://localhost:8080/",
          "height": 414
        },
        "id": "mSwbbcXBODbv",
        "outputId": "52f01b2e-8b09-41ae-e68a-6dc2b27d18ad"
      },
      "outputs": [
        {
          "data": {
            "text/html": [
              "<div>\n",
              "<style scoped>\n",
              "    .dataframe tbody tr th:only-of-type {\n",
              "        vertical-align: middle;\n",
              "    }\n",
              "\n",
              "    .dataframe tbody tr th {\n",
              "        vertical-align: top;\n",
              "    }\n",
              "\n",
              "    .dataframe thead th {\n",
              "        text-align: right;\n",
              "    }\n",
              "</style>\n",
              "<table border=\"1\" class=\"dataframe\">\n",
              "  <thead>\n",
              "    <tr style=\"text-align: right;\">\n",
              "      <th></th>\n",
              "      <th>review_id</th>\n",
              "      <th>order_id</th>\n",
              "      <th>review_score</th>\n",
              "      <th>review_comment_title</th>\n",
              "      <th>review_comment_message</th>\n",
              "      <th>review_creation_date</th>\n",
              "      <th>review_answer_timestamp</th>\n",
              "    </tr>\n",
              "  </thead>\n",
              "  <tbody>\n",
              "    <tr>\n",
              "      <th>count</th>\n",
              "      <td>99224</td>\n",
              "      <td>99224</td>\n",
              "      <td>99224.000000</td>\n",
              "      <td>11568</td>\n",
              "      <td>40977</td>\n",
              "      <td>99224</td>\n",
              "      <td>99224</td>\n",
              "    </tr>\n",
              "    <tr>\n",
              "      <th>unique</th>\n",
              "      <td>98410</td>\n",
              "      <td>98673</td>\n",
              "      <td>NaN</td>\n",
              "      <td>4527</td>\n",
              "      <td>36159</td>\n",
              "      <td>636</td>\n",
              "      <td>98248</td>\n",
              "    </tr>\n",
              "    <tr>\n",
              "      <th>top</th>\n",
              "      <td>7b606b0d57b078384f0b58eac1d41d78</td>\n",
              "      <td>c88b1d1b157a9999ce368f218a407141</td>\n",
              "      <td>NaN</td>\n",
              "      <td>Recomendo</td>\n",
              "      <td>Muito bom</td>\n",
              "      <td>2017-12-19 00:00:00</td>\n",
              "      <td>2017-06-15 23:21:05</td>\n",
              "    </tr>\n",
              "    <tr>\n",
              "      <th>freq</th>\n",
              "      <td>3</td>\n",
              "      <td>3</td>\n",
              "      <td>NaN</td>\n",
              "      <td>423</td>\n",
              "      <td>230</td>\n",
              "      <td>463</td>\n",
              "      <td>4</td>\n",
              "    </tr>\n",
              "    <tr>\n",
              "      <th>mean</th>\n",
              "      <td>NaN</td>\n",
              "      <td>NaN</td>\n",
              "      <td>4.086421</td>\n",
              "      <td>NaN</td>\n",
              "      <td>NaN</td>\n",
              "      <td>NaN</td>\n",
              "      <td>NaN</td>\n",
              "    </tr>\n",
              "    <tr>\n",
              "      <th>std</th>\n",
              "      <td>NaN</td>\n",
              "      <td>NaN</td>\n",
              "      <td>1.347579</td>\n",
              "      <td>NaN</td>\n",
              "      <td>NaN</td>\n",
              "      <td>NaN</td>\n",
              "      <td>NaN</td>\n",
              "    </tr>\n",
              "    <tr>\n",
              "      <th>min</th>\n",
              "      <td>NaN</td>\n",
              "      <td>NaN</td>\n",
              "      <td>1.000000</td>\n",
              "      <td>NaN</td>\n",
              "      <td>NaN</td>\n",
              "      <td>NaN</td>\n",
              "      <td>NaN</td>\n",
              "    </tr>\n",
              "    <tr>\n",
              "      <th>25%</th>\n",
              "      <td>NaN</td>\n",
              "      <td>NaN</td>\n",
              "      <td>4.000000</td>\n",
              "      <td>NaN</td>\n",
              "      <td>NaN</td>\n",
              "      <td>NaN</td>\n",
              "      <td>NaN</td>\n",
              "    </tr>\n",
              "    <tr>\n",
              "      <th>50%</th>\n",
              "      <td>NaN</td>\n",
              "      <td>NaN</td>\n",
              "      <td>5.000000</td>\n",
              "      <td>NaN</td>\n",
              "      <td>NaN</td>\n",
              "      <td>NaN</td>\n",
              "      <td>NaN</td>\n",
              "    </tr>\n",
              "    <tr>\n",
              "      <th>75%</th>\n",
              "      <td>NaN</td>\n",
              "      <td>NaN</td>\n",
              "      <td>5.000000</td>\n",
              "      <td>NaN</td>\n",
              "      <td>NaN</td>\n",
              "      <td>NaN</td>\n",
              "      <td>NaN</td>\n",
              "    </tr>\n",
              "    <tr>\n",
              "      <th>max</th>\n",
              "      <td>NaN</td>\n",
              "      <td>NaN</td>\n",
              "      <td>5.000000</td>\n",
              "      <td>NaN</td>\n",
              "      <td>NaN</td>\n",
              "      <td>NaN</td>\n",
              "      <td>NaN</td>\n",
              "    </tr>\n",
              "  </tbody>\n",
              "</table>\n",
              "</div>"
            ],
            "text/plain": [
              "                               review_id                          order_id  \\\n",
              "count                              99224                             99224   \n",
              "unique                             98410                             98673   \n",
              "top     7b606b0d57b078384f0b58eac1d41d78  c88b1d1b157a9999ce368f218a407141   \n",
              "freq                                   3                                 3   \n",
              "mean                                 NaN                               NaN   \n",
              "std                                  NaN                               NaN   \n",
              "min                                  NaN                               NaN   \n",
              "25%                                  NaN                               NaN   \n",
              "50%                                  NaN                               NaN   \n",
              "75%                                  NaN                               NaN   \n",
              "max                                  NaN                               NaN   \n",
              "\n",
              "        review_score review_comment_title review_comment_message  \\\n",
              "count   99224.000000                11568                  40977   \n",
              "unique           NaN                 4527                  36159   \n",
              "top              NaN            Recomendo              Muito bom   \n",
              "freq             NaN                  423                    230   \n",
              "mean        4.086421                  NaN                    NaN   \n",
              "std         1.347579                  NaN                    NaN   \n",
              "min         1.000000                  NaN                    NaN   \n",
              "25%         4.000000                  NaN                    NaN   \n",
              "50%         5.000000                  NaN                    NaN   \n",
              "75%         5.000000                  NaN                    NaN   \n",
              "max         5.000000                  NaN                    NaN   \n",
              "\n",
              "       review_creation_date review_answer_timestamp  \n",
              "count                 99224                   99224  \n",
              "unique                  636                   98248  \n",
              "top     2017-12-19 00:00:00     2017-06-15 23:21:05  \n",
              "freq                    463                       4  \n",
              "mean                    NaN                     NaN  \n",
              "std                     NaN                     NaN  \n",
              "min                     NaN                     NaN  \n",
              "25%                     NaN                     NaN  \n",
              "50%                     NaN                     NaN  \n",
              "75%                     NaN                     NaN  \n",
              "max                     NaN                     NaN  "
            ]
          },
          "execution_count": 231,
          "metadata": {},
          "output_type": "execute_result"
        }
      ],
      "source": [
        "order_reviews_df.describe(include='all')"
      ]
    },
    {
      "cell_type": "code",
      "execution_count": 232,
      "metadata": {
        "colab": {
          "base_uri": "https://localhost:8080/",
          "height": 394
        },
        "id": "3VVyNslWODbv",
        "outputId": "5dc77e6c-e5d4-4a6f-84d1-40cad2c88617"
      },
      "outputs": [
        {
          "data": {
            "text/html": [
              "<div>\n",
              "<style scoped>\n",
              "    .dataframe tbody tr th:only-of-type {\n",
              "        vertical-align: middle;\n",
              "    }\n",
              "\n",
              "    .dataframe tbody tr th {\n",
              "        vertical-align: top;\n",
              "    }\n",
              "\n",
              "    .dataframe thead th {\n",
              "        text-align: right;\n",
              "    }\n",
              "</style>\n",
              "<table border=\"1\" class=\"dataframe\">\n",
              "  <thead>\n",
              "    <tr style=\"text-align: right;\">\n",
              "      <th></th>\n",
              "      <th>order_id</th>\n",
              "      <th>payment_sequential</th>\n",
              "      <th>payment_type</th>\n",
              "      <th>payment_installments</th>\n",
              "      <th>payment_value</th>\n",
              "    </tr>\n",
              "  </thead>\n",
              "  <tbody>\n",
              "    <tr>\n",
              "      <th>count</th>\n",
              "      <td>103886</td>\n",
              "      <td>103886.000000</td>\n",
              "      <td>103886</td>\n",
              "      <td>103886.000000</td>\n",
              "      <td>103886.000000</td>\n",
              "    </tr>\n",
              "    <tr>\n",
              "      <th>unique</th>\n",
              "      <td>99440</td>\n",
              "      <td>NaN</td>\n",
              "      <td>5</td>\n",
              "      <td>NaN</td>\n",
              "      <td>NaN</td>\n",
              "    </tr>\n",
              "    <tr>\n",
              "      <th>top</th>\n",
              "      <td>fa65dad1b0e818e3ccc5cb0e39231352</td>\n",
              "      <td>NaN</td>\n",
              "      <td>credit_card</td>\n",
              "      <td>NaN</td>\n",
              "      <td>NaN</td>\n",
              "    </tr>\n",
              "    <tr>\n",
              "      <th>freq</th>\n",
              "      <td>29</td>\n",
              "      <td>NaN</td>\n",
              "      <td>76795</td>\n",
              "      <td>NaN</td>\n",
              "      <td>NaN</td>\n",
              "    </tr>\n",
              "    <tr>\n",
              "      <th>mean</th>\n",
              "      <td>NaN</td>\n",
              "      <td>1.092679</td>\n",
              "      <td>NaN</td>\n",
              "      <td>2.853349</td>\n",
              "      <td>154.100380</td>\n",
              "    </tr>\n",
              "    <tr>\n",
              "      <th>std</th>\n",
              "      <td>NaN</td>\n",
              "      <td>0.706584</td>\n",
              "      <td>NaN</td>\n",
              "      <td>2.687051</td>\n",
              "      <td>217.494064</td>\n",
              "    </tr>\n",
              "    <tr>\n",
              "      <th>min</th>\n",
              "      <td>NaN</td>\n",
              "      <td>1.000000</td>\n",
              "      <td>NaN</td>\n",
              "      <td>0.000000</td>\n",
              "      <td>0.000000</td>\n",
              "    </tr>\n",
              "    <tr>\n",
              "      <th>25%</th>\n",
              "      <td>NaN</td>\n",
              "      <td>1.000000</td>\n",
              "      <td>NaN</td>\n",
              "      <td>1.000000</td>\n",
              "      <td>56.790000</td>\n",
              "    </tr>\n",
              "    <tr>\n",
              "      <th>50%</th>\n",
              "      <td>NaN</td>\n",
              "      <td>1.000000</td>\n",
              "      <td>NaN</td>\n",
              "      <td>1.000000</td>\n",
              "      <td>100.000000</td>\n",
              "    </tr>\n",
              "    <tr>\n",
              "      <th>75%</th>\n",
              "      <td>NaN</td>\n",
              "      <td>1.000000</td>\n",
              "      <td>NaN</td>\n",
              "      <td>4.000000</td>\n",
              "      <td>171.837500</td>\n",
              "    </tr>\n",
              "    <tr>\n",
              "      <th>max</th>\n",
              "      <td>NaN</td>\n",
              "      <td>29.000000</td>\n",
              "      <td>NaN</td>\n",
              "      <td>24.000000</td>\n",
              "      <td>13664.080000</td>\n",
              "    </tr>\n",
              "  </tbody>\n",
              "</table>\n",
              "</div>"
            ],
            "text/plain": [
              "                                order_id  payment_sequential payment_type  \\\n",
              "count                             103886       103886.000000       103886   \n",
              "unique                             99440                 NaN            5   \n",
              "top     fa65dad1b0e818e3ccc5cb0e39231352                 NaN  credit_card   \n",
              "freq                                  29                 NaN        76795   \n",
              "mean                                 NaN            1.092679          NaN   \n",
              "std                                  NaN            0.706584          NaN   \n",
              "min                                  NaN            1.000000          NaN   \n",
              "25%                                  NaN            1.000000          NaN   \n",
              "50%                                  NaN            1.000000          NaN   \n",
              "75%                                  NaN            1.000000          NaN   \n",
              "max                                  NaN           29.000000          NaN   \n",
              "\n",
              "        payment_installments  payment_value  \n",
              "count          103886.000000  103886.000000  \n",
              "unique                   NaN            NaN  \n",
              "top                      NaN            NaN  \n",
              "freq                     NaN            NaN  \n",
              "mean                2.853349     154.100380  \n",
              "std                 2.687051     217.494064  \n",
              "min                 0.000000       0.000000  \n",
              "25%                 1.000000      56.790000  \n",
              "50%                 1.000000     100.000000  \n",
              "75%                 4.000000     171.837500  \n",
              "max                24.000000   13664.080000  "
            ]
          },
          "execution_count": 232,
          "metadata": {},
          "output_type": "execute_result"
        }
      ],
      "source": [
        "order_payments_df.describe(include='all')"
      ]
    },
    {
      "cell_type": "markdown",
      "metadata": {
        "id": "jnW0YZNwODbv"
      },
      "source": [
        "##### Melihat data payment\n",
        "Terdapat informasi payment installment, payment value, dan payment sequential, dengan keterangan sebagai berikut : <br>\n",
        "- payment_installments : cicilan\n",
        "- payment_value : nilai pembayaran\n",
        "- payment_sequential : urutan pembayaran, jika menyicil akan terdapat urutan 1,2,3,4, dst, dan masing - masing memiliki order_id yang sama, sementara jika tidak menyicil hanya akan urutan 1 dan tidak ada order_id yang sama di baris lain"
      ]
    },
    {
      "cell_type": "code",
      "execution_count": 233,
      "metadata": {
        "colab": {
          "base_uri": "https://localhost:8080/",
          "height": 394
        },
        "id": "N9x7CGA-ODbv",
        "outputId": "5293fca7-63f2-40a4-d519-14a1d1b123e6"
      },
      "outputs": [
        {
          "data": {
            "text/html": [
              "<div>\n",
              "<style scoped>\n",
              "    .dataframe tbody tr th:only-of-type {\n",
              "        vertical-align: middle;\n",
              "    }\n",
              "\n",
              "    .dataframe tbody tr th {\n",
              "        vertical-align: top;\n",
              "    }\n",
              "\n",
              "    .dataframe thead th {\n",
              "        text-align: right;\n",
              "    }\n",
              "</style>\n",
              "<table border=\"1\" class=\"dataframe\">\n",
              "  <thead>\n",
              "    <tr style=\"text-align: right;\">\n",
              "      <th></th>\n",
              "      <th>order_id</th>\n",
              "      <th>payment_sequential</th>\n",
              "      <th>payment_type</th>\n",
              "      <th>payment_installments</th>\n",
              "      <th>payment_value</th>\n",
              "    </tr>\n",
              "  </thead>\n",
              "  <tbody>\n",
              "    <tr>\n",
              "      <th>19922</th>\n",
              "      <td>8bcbe01d44d147f901cd3192671144db</td>\n",
              "      <td>4</td>\n",
              "      <td>voucher</td>\n",
              "      <td>1</td>\n",
              "      <td>0.00</td>\n",
              "    </tr>\n",
              "    <tr>\n",
              "      <th>36822</th>\n",
              "      <td>fa65dad1b0e818e3ccc5cb0e39231352</td>\n",
              "      <td>14</td>\n",
              "      <td>voucher</td>\n",
              "      <td>1</td>\n",
              "      <td>0.00</td>\n",
              "    </tr>\n",
              "    <tr>\n",
              "      <th>43744</th>\n",
              "      <td>6ccb433e00daae1283ccc956189c82ae</td>\n",
              "      <td>4</td>\n",
              "      <td>voucher</td>\n",
              "      <td>1</td>\n",
              "      <td>0.00</td>\n",
              "    </tr>\n",
              "    <tr>\n",
              "      <th>46982</th>\n",
              "      <td>744bade1fcf9ff3f31d860ace076d422</td>\n",
              "      <td>2</td>\n",
              "      <td>credit_card</td>\n",
              "      <td>0</td>\n",
              "      <td>58.69</td>\n",
              "    </tr>\n",
              "    <tr>\n",
              "      <th>51280</th>\n",
              "      <td>4637ca194b6387e2d538dc89b124b0ee</td>\n",
              "      <td>1</td>\n",
              "      <td>not_defined</td>\n",
              "      <td>1</td>\n",
              "      <td>0.00</td>\n",
              "    </tr>\n",
              "    <tr>\n",
              "      <th>57411</th>\n",
              "      <td>00b1cb0320190ca0daa2c88b35206009</td>\n",
              "      <td>1</td>\n",
              "      <td>not_defined</td>\n",
              "      <td>1</td>\n",
              "      <td>0.00</td>\n",
              "    </tr>\n",
              "    <tr>\n",
              "      <th>62674</th>\n",
              "      <td>45ed6e85398a87c253db47c2d9f48216</td>\n",
              "      <td>3</td>\n",
              "      <td>voucher</td>\n",
              "      <td>1</td>\n",
              "      <td>0.00</td>\n",
              "    </tr>\n",
              "    <tr>\n",
              "      <th>77885</th>\n",
              "      <td>fa65dad1b0e818e3ccc5cb0e39231352</td>\n",
              "      <td>13</td>\n",
              "      <td>voucher</td>\n",
              "      <td>1</td>\n",
              "      <td>0.00</td>\n",
              "    </tr>\n",
              "    <tr>\n",
              "      <th>79014</th>\n",
              "      <td>1a57108394169c0b47d8f876acc9ba2d</td>\n",
              "      <td>2</td>\n",
              "      <td>credit_card</td>\n",
              "      <td>0</td>\n",
              "      <td>129.94</td>\n",
              "    </tr>\n",
              "    <tr>\n",
              "      <th>94427</th>\n",
              "      <td>c8c528189310eaa44a745b8d9d26908b</td>\n",
              "      <td>1</td>\n",
              "      <td>not_defined</td>\n",
              "      <td>1</td>\n",
              "      <td>0.00</td>\n",
              "    </tr>\n",
              "    <tr>\n",
              "      <th>100766</th>\n",
              "      <td>b23878b3e8eb4d25a158f57d96331b18</td>\n",
              "      <td>4</td>\n",
              "      <td>voucher</td>\n",
              "      <td>1</td>\n",
              "      <td>0.00</td>\n",
              "    </tr>\n",
              "  </tbody>\n",
              "</table>\n",
              "</div>"
            ],
            "text/plain": [
              "                                order_id  payment_sequential payment_type  \\\n",
              "19922   8bcbe01d44d147f901cd3192671144db                   4      voucher   \n",
              "36822   fa65dad1b0e818e3ccc5cb0e39231352                  14      voucher   \n",
              "43744   6ccb433e00daae1283ccc956189c82ae                   4      voucher   \n",
              "46982   744bade1fcf9ff3f31d860ace076d422                   2  credit_card   \n",
              "51280   4637ca194b6387e2d538dc89b124b0ee                   1  not_defined   \n",
              "57411   00b1cb0320190ca0daa2c88b35206009                   1  not_defined   \n",
              "62674   45ed6e85398a87c253db47c2d9f48216                   3      voucher   \n",
              "77885   fa65dad1b0e818e3ccc5cb0e39231352                  13      voucher   \n",
              "79014   1a57108394169c0b47d8f876acc9ba2d                   2  credit_card   \n",
              "94427   c8c528189310eaa44a745b8d9d26908b                   1  not_defined   \n",
              "100766  b23878b3e8eb4d25a158f57d96331b18                   4      voucher   \n",
              "\n",
              "        payment_installments  payment_value  \n",
              "19922                      1           0.00  \n",
              "36822                      1           0.00  \n",
              "43744                      1           0.00  \n",
              "46982                      0          58.69  \n",
              "51280                      1           0.00  \n",
              "57411                      1           0.00  \n",
              "62674                      1           0.00  \n",
              "77885                      1           0.00  \n",
              "79014                      0         129.94  \n",
              "94427                      1           0.00  \n",
              "100766                     1           0.00  "
            ]
          },
          "execution_count": 233,
          "metadata": {},
          "output_type": "execute_result"
        }
      ],
      "source": [
        "order_payments_df[(order_payments_df['payment_installments']) == 0 | (order_payments_df['payment_value'] == 0)]"
      ]
    },
    {
      "cell_type": "markdown",
      "metadata": {
        "id": "_SH8YHu0ODbw"
      },
      "source": [
        "Berdasarkan tabel OrderPayments di atas, dapat dilihat beberapa ketidakakuratan data, seperti :\n",
        "- Nilai payment_installments 0, hal ini tidak mungkin terjadi karena nilai ini setidaknya harus 1, yang artinya membayar secara lunas dengan tidak menyicil, jika bernilai 0, maka pembayaran tidak pernah dilakukan namun payment_value tidak 0, 2 hal ini berkontradiksi\n",
        "- Nilai payment_value 0, padahal nilai payment_sequential dan payment_installments tidak 0, hal ini mungkin saja berarti bahwa pada saat pembayaran, transaksi gagal atau ditolak. namun data pembayaran masih terekam"
      ]
    },
    {
      "cell_type": "code",
      "execution_count": 234,
      "metadata": {
        "colab": {
          "base_uri": "https://localhost:8080/",
          "height": 414
        },
        "id": "QWl7dNY0ODbw",
        "outputId": "c39ae24d-5819-4b19-a1b8-10d45f5cac36"
      },
      "outputs": [
        {
          "data": {
            "text/html": [
              "<div>\n",
              "<style scoped>\n",
              "    .dataframe tbody tr th:only-of-type {\n",
              "        vertical-align: middle;\n",
              "    }\n",
              "\n",
              "    .dataframe tbody tr th {\n",
              "        vertical-align: top;\n",
              "    }\n",
              "\n",
              "    .dataframe thead th {\n",
              "        text-align: right;\n",
              "    }\n",
              "</style>\n",
              "<table border=\"1\" class=\"dataframe\">\n",
              "  <thead>\n",
              "    <tr style=\"text-align: right;\">\n",
              "      <th></th>\n",
              "      <th>product_id</th>\n",
              "      <th>product_category_name</th>\n",
              "      <th>product_name_lenght</th>\n",
              "      <th>product_description_lenght</th>\n",
              "      <th>product_photos_qty</th>\n",
              "      <th>product_weight_g</th>\n",
              "      <th>product_length_cm</th>\n",
              "      <th>product_height_cm</th>\n",
              "      <th>product_width_cm</th>\n",
              "    </tr>\n",
              "  </thead>\n",
              "  <tbody>\n",
              "    <tr>\n",
              "      <th>count</th>\n",
              "      <td>32951</td>\n",
              "      <td>32341</td>\n",
              "      <td>32341.000000</td>\n",
              "      <td>32341.000000</td>\n",
              "      <td>32341.000000</td>\n",
              "      <td>32949.000000</td>\n",
              "      <td>32949.000000</td>\n",
              "      <td>32949.000000</td>\n",
              "      <td>32949.000000</td>\n",
              "    </tr>\n",
              "    <tr>\n",
              "      <th>unique</th>\n",
              "      <td>32951</td>\n",
              "      <td>73</td>\n",
              "      <td>NaN</td>\n",
              "      <td>NaN</td>\n",
              "      <td>NaN</td>\n",
              "      <td>NaN</td>\n",
              "      <td>NaN</td>\n",
              "      <td>NaN</td>\n",
              "      <td>NaN</td>\n",
              "    </tr>\n",
              "    <tr>\n",
              "      <th>top</th>\n",
              "      <td>1e9e8ef04dbcff4541ed26657ea517e5</td>\n",
              "      <td>cama_mesa_banho</td>\n",
              "      <td>NaN</td>\n",
              "      <td>NaN</td>\n",
              "      <td>NaN</td>\n",
              "      <td>NaN</td>\n",
              "      <td>NaN</td>\n",
              "      <td>NaN</td>\n",
              "      <td>NaN</td>\n",
              "    </tr>\n",
              "    <tr>\n",
              "      <th>freq</th>\n",
              "      <td>1</td>\n",
              "      <td>3029</td>\n",
              "      <td>NaN</td>\n",
              "      <td>NaN</td>\n",
              "      <td>NaN</td>\n",
              "      <td>NaN</td>\n",
              "      <td>NaN</td>\n",
              "      <td>NaN</td>\n",
              "      <td>NaN</td>\n",
              "    </tr>\n",
              "    <tr>\n",
              "      <th>mean</th>\n",
              "      <td>NaN</td>\n",
              "      <td>NaN</td>\n",
              "      <td>48.476949</td>\n",
              "      <td>771.495285</td>\n",
              "      <td>2.188986</td>\n",
              "      <td>2276.472488</td>\n",
              "      <td>30.815078</td>\n",
              "      <td>16.937661</td>\n",
              "      <td>23.196728</td>\n",
              "    </tr>\n",
              "    <tr>\n",
              "      <th>std</th>\n",
              "      <td>NaN</td>\n",
              "      <td>NaN</td>\n",
              "      <td>10.245741</td>\n",
              "      <td>635.115225</td>\n",
              "      <td>1.736766</td>\n",
              "      <td>4282.038731</td>\n",
              "      <td>16.914458</td>\n",
              "      <td>13.637554</td>\n",
              "      <td>12.079047</td>\n",
              "    </tr>\n",
              "    <tr>\n",
              "      <th>min</th>\n",
              "      <td>NaN</td>\n",
              "      <td>NaN</td>\n",
              "      <td>5.000000</td>\n",
              "      <td>4.000000</td>\n",
              "      <td>1.000000</td>\n",
              "      <td>0.000000</td>\n",
              "      <td>7.000000</td>\n",
              "      <td>2.000000</td>\n",
              "      <td>6.000000</td>\n",
              "    </tr>\n",
              "    <tr>\n",
              "      <th>25%</th>\n",
              "      <td>NaN</td>\n",
              "      <td>NaN</td>\n",
              "      <td>42.000000</td>\n",
              "      <td>339.000000</td>\n",
              "      <td>1.000000</td>\n",
              "      <td>300.000000</td>\n",
              "      <td>18.000000</td>\n",
              "      <td>8.000000</td>\n",
              "      <td>15.000000</td>\n",
              "    </tr>\n",
              "    <tr>\n",
              "      <th>50%</th>\n",
              "      <td>NaN</td>\n",
              "      <td>NaN</td>\n",
              "      <td>51.000000</td>\n",
              "      <td>595.000000</td>\n",
              "      <td>1.000000</td>\n",
              "      <td>700.000000</td>\n",
              "      <td>25.000000</td>\n",
              "      <td>13.000000</td>\n",
              "      <td>20.000000</td>\n",
              "    </tr>\n",
              "    <tr>\n",
              "      <th>75%</th>\n",
              "      <td>NaN</td>\n",
              "      <td>NaN</td>\n",
              "      <td>57.000000</td>\n",
              "      <td>972.000000</td>\n",
              "      <td>3.000000</td>\n",
              "      <td>1900.000000</td>\n",
              "      <td>38.000000</td>\n",
              "      <td>21.000000</td>\n",
              "      <td>30.000000</td>\n",
              "    </tr>\n",
              "    <tr>\n",
              "      <th>max</th>\n",
              "      <td>NaN</td>\n",
              "      <td>NaN</td>\n",
              "      <td>76.000000</td>\n",
              "      <td>3992.000000</td>\n",
              "      <td>20.000000</td>\n",
              "      <td>40425.000000</td>\n",
              "      <td>105.000000</td>\n",
              "      <td>105.000000</td>\n",
              "      <td>118.000000</td>\n",
              "    </tr>\n",
              "  </tbody>\n",
              "</table>\n",
              "</div>"
            ],
            "text/plain": [
              "                              product_id product_category_name  \\\n",
              "count                              32951                 32341   \n",
              "unique                             32951                    73   \n",
              "top     1e9e8ef04dbcff4541ed26657ea517e5       cama_mesa_banho   \n",
              "freq                                   1                  3029   \n",
              "mean                                 NaN                   NaN   \n",
              "std                                  NaN                   NaN   \n",
              "min                                  NaN                   NaN   \n",
              "25%                                  NaN                   NaN   \n",
              "50%                                  NaN                   NaN   \n",
              "75%                                  NaN                   NaN   \n",
              "max                                  NaN                   NaN   \n",
              "\n",
              "        product_name_lenght  product_description_lenght  product_photos_qty  \\\n",
              "count          32341.000000                32341.000000        32341.000000   \n",
              "unique                  NaN                         NaN                 NaN   \n",
              "top                     NaN                         NaN                 NaN   \n",
              "freq                    NaN                         NaN                 NaN   \n",
              "mean              48.476949                  771.495285            2.188986   \n",
              "std               10.245741                  635.115225            1.736766   \n",
              "min                5.000000                    4.000000            1.000000   \n",
              "25%               42.000000                  339.000000            1.000000   \n",
              "50%               51.000000                  595.000000            1.000000   \n",
              "75%               57.000000                  972.000000            3.000000   \n",
              "max               76.000000                 3992.000000           20.000000   \n",
              "\n",
              "        product_weight_g  product_length_cm  product_height_cm  \\\n",
              "count       32949.000000       32949.000000       32949.000000   \n",
              "unique               NaN                NaN                NaN   \n",
              "top                  NaN                NaN                NaN   \n",
              "freq                 NaN                NaN                NaN   \n",
              "mean         2276.472488          30.815078          16.937661   \n",
              "std          4282.038731          16.914458          13.637554   \n",
              "min             0.000000           7.000000           2.000000   \n",
              "25%           300.000000          18.000000           8.000000   \n",
              "50%           700.000000          25.000000          13.000000   \n",
              "75%          1900.000000          38.000000          21.000000   \n",
              "max         40425.000000         105.000000         105.000000   \n",
              "\n",
              "        product_width_cm  \n",
              "count       32949.000000  \n",
              "unique               NaN  \n",
              "top                  NaN  \n",
              "freq                 NaN  \n",
              "mean           23.196728  \n",
              "std            12.079047  \n",
              "min             6.000000  \n",
              "25%            15.000000  \n",
              "50%            20.000000  \n",
              "75%            30.000000  \n",
              "max           118.000000  "
            ]
          },
          "execution_count": 234,
          "metadata": {},
          "output_type": "execute_result"
        }
      ],
      "source": [
        "products_df.describe(include='all')"
      ]
    },
    {
      "cell_type": "code",
      "execution_count": 235,
      "metadata": {
        "colab": {
          "base_uri": "https://localhost:8080/",
          "height": 394
        },
        "id": "nvZv3hupODbw",
        "outputId": "995a51d5-751e-464e-cd46-2daa2357ab80"
      },
      "outputs": [
        {
          "data": {
            "text/html": [
              "<div>\n",
              "<style scoped>\n",
              "    .dataframe tbody tr th:only-of-type {\n",
              "        vertical-align: middle;\n",
              "    }\n",
              "\n",
              "    .dataframe tbody tr th {\n",
              "        vertical-align: top;\n",
              "    }\n",
              "\n",
              "    .dataframe thead th {\n",
              "        text-align: right;\n",
              "    }\n",
              "</style>\n",
              "<table border=\"1\" class=\"dataframe\">\n",
              "  <thead>\n",
              "    <tr style=\"text-align: right;\">\n",
              "      <th></th>\n",
              "      <th>seller_id</th>\n",
              "      <th>seller_zip_code_prefix</th>\n",
              "      <th>seller_city</th>\n",
              "      <th>seller_state</th>\n",
              "    </tr>\n",
              "  </thead>\n",
              "  <tbody>\n",
              "    <tr>\n",
              "      <th>count</th>\n",
              "      <td>3095</td>\n",
              "      <td>3095.000000</td>\n",
              "      <td>3095</td>\n",
              "      <td>3095</td>\n",
              "    </tr>\n",
              "    <tr>\n",
              "      <th>unique</th>\n",
              "      <td>3095</td>\n",
              "      <td>NaN</td>\n",
              "      <td>611</td>\n",
              "      <td>23</td>\n",
              "    </tr>\n",
              "    <tr>\n",
              "      <th>top</th>\n",
              "      <td>3442f8959a84dea7ee197c632cb2df15</td>\n",
              "      <td>NaN</td>\n",
              "      <td>sao paulo</td>\n",
              "      <td>SP</td>\n",
              "    </tr>\n",
              "    <tr>\n",
              "      <th>freq</th>\n",
              "      <td>1</td>\n",
              "      <td>NaN</td>\n",
              "      <td>694</td>\n",
              "      <td>1849</td>\n",
              "    </tr>\n",
              "    <tr>\n",
              "      <th>mean</th>\n",
              "      <td>NaN</td>\n",
              "      <td>32291.059451</td>\n",
              "      <td>NaN</td>\n",
              "      <td>NaN</td>\n",
              "    </tr>\n",
              "    <tr>\n",
              "      <th>std</th>\n",
              "      <td>NaN</td>\n",
              "      <td>32713.453830</td>\n",
              "      <td>NaN</td>\n",
              "      <td>NaN</td>\n",
              "    </tr>\n",
              "    <tr>\n",
              "      <th>min</th>\n",
              "      <td>NaN</td>\n",
              "      <td>1001.000000</td>\n",
              "      <td>NaN</td>\n",
              "      <td>NaN</td>\n",
              "    </tr>\n",
              "    <tr>\n",
              "      <th>25%</th>\n",
              "      <td>NaN</td>\n",
              "      <td>7093.500000</td>\n",
              "      <td>NaN</td>\n",
              "      <td>NaN</td>\n",
              "    </tr>\n",
              "    <tr>\n",
              "      <th>50%</th>\n",
              "      <td>NaN</td>\n",
              "      <td>14940.000000</td>\n",
              "      <td>NaN</td>\n",
              "      <td>NaN</td>\n",
              "    </tr>\n",
              "    <tr>\n",
              "      <th>75%</th>\n",
              "      <td>NaN</td>\n",
              "      <td>64552.500000</td>\n",
              "      <td>NaN</td>\n",
              "      <td>NaN</td>\n",
              "    </tr>\n",
              "    <tr>\n",
              "      <th>max</th>\n",
              "      <td>NaN</td>\n",
              "      <td>99730.000000</td>\n",
              "      <td>NaN</td>\n",
              "      <td>NaN</td>\n",
              "    </tr>\n",
              "  </tbody>\n",
              "</table>\n",
              "</div>"
            ],
            "text/plain": [
              "                               seller_id  seller_zip_code_prefix seller_city  \\\n",
              "count                               3095             3095.000000        3095   \n",
              "unique                              3095                     NaN         611   \n",
              "top     3442f8959a84dea7ee197c632cb2df15                     NaN   sao paulo   \n",
              "freq                                   1                     NaN         694   \n",
              "mean                                 NaN            32291.059451         NaN   \n",
              "std                                  NaN            32713.453830         NaN   \n",
              "min                                  NaN             1001.000000         NaN   \n",
              "25%                                  NaN             7093.500000         NaN   \n",
              "50%                                  NaN            14940.000000         NaN   \n",
              "75%                                  NaN            64552.500000         NaN   \n",
              "max                                  NaN            99730.000000         NaN   \n",
              "\n",
              "       seller_state  \n",
              "count          3095  \n",
              "unique           23  \n",
              "top              SP  \n",
              "freq           1849  \n",
              "mean            NaN  \n",
              "std             NaN  \n",
              "min             NaN  \n",
              "25%             NaN  \n",
              "50%             NaN  \n",
              "75%             NaN  \n",
              "max             NaN  "
            ]
          },
          "execution_count": 235,
          "metadata": {},
          "output_type": "execute_result"
        }
      ],
      "source": [
        "sellers_df.describe(include='all')"
      ]
    },
    {
      "cell_type": "markdown",
      "metadata": {
        "id": "7dtxhAPrkhPL"
      },
      "source": [
        "**Insight:**\n",
        "- Kota dengan customer terbanyak adalah Sao Paulo, state SP, yaitu sebanyak 15540 atau sebesar 15.6%\n",
        "- Terdapat transaksi bernilai 0 pada data OrderPayments, dan terdapat nilai payment installments (cicilan) bernilai 0, hal ini bisa mengindikasikan pembayaran cicilan yang sudah lunas atau memang transaksi tersebut tidak pernah ada\n",
        "- Terdapat product dengan berat 0 gram, hal ini mungkin menjadi salah satu indikasi inaccurate data, karena tidak mungkin ada suatu benda yang tidak memiliki berat\n",
        "- Terdapat 3 tabel yang memiliki missing value, yaitu OrderReviews, Products, dan Orders berdasarkan prinsip data cleaning terdapat beberapa metode untuk mengatasi missing value, yaitu : Dropping, Imputation, Interpolation\n",
        "- Data OrderReviews tidak cocok diterapkan dropping karena persentase missing values cukup besar, yaitu pada rentang 36.99% sampai 46.90%, kemungkinan diterapkan teknik imputation, karena metode interpolation hanya cocok digunakan untuk data numerik\n",
        "- Data Products dan Orders cocok diterapkan teknik dropping karena persentase missing values relative kecil, yaitu pada rentang 0.01% sampai 1.82% dan pada rentang 0.16% sampai 2.9% masing - masing untuk data Products dan Orders\n",
        "- Tidak terdapat duplicate value pada data secara keseluruhan"
      ]
    },
    {
      "cell_type": "markdown",
      "metadata": {
        "id": "EhN5R4hr8DC1"
      },
      "source": [
        "### Cleaning Data"
      ]
    },
    {
      "cell_type": "markdown",
      "metadata": {
        "id": "KYopYpxuODbw"
      },
      "source": [
        "#### Dropping <br>\n",
        "Berdasarkan uraian pada tahap assesing, untuk mengatasi missing value pada data Products digunakan teknik dropping"
      ]
    },
    {
      "cell_type": "code",
      "execution_count": 236,
      "metadata": {
        "colab": {
          "base_uri": "https://localhost:8080/",
          "height": 366
        },
        "id": "jVnYpprE9Evz",
        "outputId": "47c9dd63-33eb-42ab-a6ec-61cde237d402"
      },
      "outputs": [
        {
          "data": {
            "text/plain": [
              "product_id                    0\n",
              "product_category_name         0\n",
              "product_name_lenght           0\n",
              "product_description_lenght    0\n",
              "product_photos_qty            0\n",
              "product_weight_g              0\n",
              "product_length_cm             0\n",
              "product_height_cm             0\n",
              "product_width_cm              0\n",
              "dtype: int64"
            ]
          },
          "execution_count": 236,
          "metadata": {},
          "output_type": "execute_result"
        }
      ],
      "source": [
        "products_df.dropna(axis=0,inplace=True)\n",
        "products_df.isnull().sum()"
      ]
    },
    {
      "cell_type": "code",
      "execution_count": 237,
      "metadata": {
        "colab": {
          "base_uri": "https://localhost:8080/",
          "height": 335
        },
        "id": "0nas44kNODbw",
        "outputId": "20f9a35f-015a-49e3-ced1-59f1c13ebc8c"
      },
      "outputs": [
        {
          "data": {
            "text/plain": [
              "order_id                         0\n",
              "customer_id                      0\n",
              "order_status                     0\n",
              "order_purchase_timestamp         0\n",
              "order_approved_at                0\n",
              "order_delivered_carrier_date     0\n",
              "order_delivered_customer_date    0\n",
              "order_estimated_delivery_date    0\n",
              "dtype: int64"
            ]
          },
          "execution_count": 237,
          "metadata": {},
          "output_type": "execute_result"
        }
      ],
      "source": [
        "orders_df.dropna(axis=0, inplace=True)\n",
        "orders_df.isnull().sum()"
      ]
    },
    {
      "cell_type": "markdown",
      "metadata": {
        "id": "vweM9qliODbw"
      },
      "source": [
        "#### Imputation <br>\n",
        "Pada data OrderReviews, teknik imputation digunakan untuk mengganti missing values dengan nilai tertentu. Metode ini lebih dipilih dibandingkan interpolasi karena missing values berupa data kategorikal. Namun, kolom review_comment_title dan review_comment_message berisi informasi acak yang tidak dapat dikelompokkan. Jika kasusnya adalah gender, missing values dapat digantikan dengan label gender yang paling sering muncul. Namun, karena hal ini tidak berlaku untuk komentar review, missing values diganti dengan \"Tidak ada review\" dengan asumsi bahwa nilai null berarti pengguna tidak memberikan review."
      ]
    },
    {
      "cell_type": "code",
      "execution_count": 238,
      "metadata": {
        "colab": {
          "base_uri": "https://localhost:8080/",
          "height": 303
        },
        "id": "2XkS1dTZODbw",
        "outputId": "3557100e-9276-425a-cc01-f0136712aa87"
      },
      "outputs": [
        {
          "data": {
            "text/plain": [
              "review_id                  0\n",
              "order_id                   0\n",
              "review_score               0\n",
              "review_comment_title       0\n",
              "review_comment_message     0\n",
              "review_creation_date       0\n",
              "review_answer_timestamp    0\n",
              "dtype: int64"
            ]
          },
          "execution_count": 238,
          "metadata": {},
          "output_type": "execute_result"
        }
      ],
      "source": [
        "order_reviews_df.fillna('Tidak ada review', inplace=True)\n",
        "order_reviews_df.isnull().sum()"
      ]
    },
    {
      "cell_type": "markdown",
      "metadata": {
        "id": "bVeW_7XYODbw"
      },
      "source": [
        "#### Inaccurate data <br>\n",
        "- OrderPayments <br>\n",
        "Seperti yang telah dijelaskan bahwa beberapa data pada tabel OrderPayments mengalami ketidakakuratan pada kolom payment_installments dan payment_value. Untuk mengatasi hal ini kita dapat melakukan dropping pada baris yang memiliki kondisi ini"
      ]
    },
    {
      "cell_type": "code",
      "execution_count": 239,
      "metadata": {
        "colab": {
          "base_uri": "https://localhost:8080/",
          "height": 206
        },
        "id": "kVTe7OXFODbw",
        "outputId": "3abc5d23-317c-4a6e-80aa-a752e2564349"
      },
      "outputs": [
        {
          "data": {
            "text/html": [
              "<div>\n",
              "<style scoped>\n",
              "    .dataframe tbody tr th:only-of-type {\n",
              "        vertical-align: middle;\n",
              "    }\n",
              "\n",
              "    .dataframe tbody tr th {\n",
              "        vertical-align: top;\n",
              "    }\n",
              "\n",
              "    .dataframe thead th {\n",
              "        text-align: right;\n",
              "    }\n",
              "</style>\n",
              "<table border=\"1\" class=\"dataframe\">\n",
              "  <thead>\n",
              "    <tr style=\"text-align: right;\">\n",
              "      <th></th>\n",
              "      <th>order_id</th>\n",
              "      <th>payment_sequential</th>\n",
              "      <th>payment_type</th>\n",
              "      <th>payment_installments</th>\n",
              "      <th>payment_value</th>\n",
              "    </tr>\n",
              "  </thead>\n",
              "  <tbody>\n",
              "    <tr>\n",
              "      <th>0</th>\n",
              "      <td>b81ef226f3fe1789b1e8b2acac839d17</td>\n",
              "      <td>1</td>\n",
              "      <td>credit_card</td>\n",
              "      <td>8</td>\n",
              "      <td>99.33</td>\n",
              "    </tr>\n",
              "    <tr>\n",
              "      <th>1</th>\n",
              "      <td>a9810da82917af2d9aefd1278f1dcfa0</td>\n",
              "      <td>1</td>\n",
              "      <td>credit_card</td>\n",
              "      <td>1</td>\n",
              "      <td>24.39</td>\n",
              "    </tr>\n",
              "    <tr>\n",
              "      <th>2</th>\n",
              "      <td>25e8ea4e93396b6fa0d3dd708e76c1bd</td>\n",
              "      <td>1</td>\n",
              "      <td>credit_card</td>\n",
              "      <td>1</td>\n",
              "      <td>65.71</td>\n",
              "    </tr>\n",
              "    <tr>\n",
              "      <th>3</th>\n",
              "      <td>ba78997921bbcdc1373bb41e913ab953</td>\n",
              "      <td>1</td>\n",
              "      <td>credit_card</td>\n",
              "      <td>8</td>\n",
              "      <td>107.78</td>\n",
              "    </tr>\n",
              "    <tr>\n",
              "      <th>4</th>\n",
              "      <td>42fdf880ba16b47b59251dd489d4441a</td>\n",
              "      <td>1</td>\n",
              "      <td>credit_card</td>\n",
              "      <td>2</td>\n",
              "      <td>128.45</td>\n",
              "    </tr>\n",
              "  </tbody>\n",
              "</table>\n",
              "</div>"
            ],
            "text/plain": [
              "                           order_id  payment_sequential payment_type  \\\n",
              "0  b81ef226f3fe1789b1e8b2acac839d17                   1  credit_card   \n",
              "1  a9810da82917af2d9aefd1278f1dcfa0                   1  credit_card   \n",
              "2  25e8ea4e93396b6fa0d3dd708e76c1bd                   1  credit_card   \n",
              "3  ba78997921bbcdc1373bb41e913ab953                   1  credit_card   \n",
              "4  42fdf880ba16b47b59251dd489d4441a                   1  credit_card   \n",
              "\n",
              "   payment_installments  payment_value  \n",
              "0                     8          99.33  \n",
              "1                     1          24.39  \n",
              "2                     1          65.71  \n",
              "3                     8         107.78  \n",
              "4                     2         128.45  "
            ]
          },
          "execution_count": 239,
          "metadata": {},
          "output_type": "execute_result"
        }
      ],
      "source": [
        "order_payments_df.drop(\n",
        "  order_payments_df[(order_payments_df['payment_installments']) == 0 | (order_payments_df['payment_value'] == 0)].index,\n",
        "  inplace=True\n",
        ")\n",
        "order_payments_df.head()"
      ]
    },
    {
      "cell_type": "markdown",
      "metadata": {
        "id": "GJxPtgKwODbx"
      },
      "source": [
        "- Products <br>\n",
        "Terdapat ketidakakuratan data pada kolom product_weight pada data products, pada masalah ini juga diterapkan teknik droping"
      ]
    },
    {
      "cell_type": "code",
      "execution_count": 240,
      "metadata": {
        "colab": {
          "base_uri": "https://localhost:8080/",
          "height": 226
        },
        "id": "cuz7rKatODbx",
        "outputId": "01900a05-dfec-470e-ca8d-3b6a7fb9e729"
      },
      "outputs": [
        {
          "data": {
            "text/html": [
              "<div>\n",
              "<style scoped>\n",
              "    .dataframe tbody tr th:only-of-type {\n",
              "        vertical-align: middle;\n",
              "    }\n",
              "\n",
              "    .dataframe tbody tr th {\n",
              "        vertical-align: top;\n",
              "    }\n",
              "\n",
              "    .dataframe thead th {\n",
              "        text-align: right;\n",
              "    }\n",
              "</style>\n",
              "<table border=\"1\" class=\"dataframe\">\n",
              "  <thead>\n",
              "    <tr style=\"text-align: right;\">\n",
              "      <th></th>\n",
              "      <th>product_id</th>\n",
              "      <th>product_category_name</th>\n",
              "      <th>product_name_lenght</th>\n",
              "      <th>product_description_lenght</th>\n",
              "      <th>product_photos_qty</th>\n",
              "      <th>product_weight_g</th>\n",
              "      <th>product_length_cm</th>\n",
              "      <th>product_height_cm</th>\n",
              "      <th>product_width_cm</th>\n",
              "    </tr>\n",
              "  </thead>\n",
              "  <tbody>\n",
              "    <tr>\n",
              "      <th>0</th>\n",
              "      <td>1e9e8ef04dbcff4541ed26657ea517e5</td>\n",
              "      <td>perfumaria</td>\n",
              "      <td>40.0</td>\n",
              "      <td>287.0</td>\n",
              "      <td>1.0</td>\n",
              "      <td>225.0</td>\n",
              "      <td>16.0</td>\n",
              "      <td>10.0</td>\n",
              "      <td>14.0</td>\n",
              "    </tr>\n",
              "    <tr>\n",
              "      <th>1</th>\n",
              "      <td>3aa071139cb16b67ca9e5dea641aaa2f</td>\n",
              "      <td>artes</td>\n",
              "      <td>44.0</td>\n",
              "      <td>276.0</td>\n",
              "      <td>1.0</td>\n",
              "      <td>1000.0</td>\n",
              "      <td>30.0</td>\n",
              "      <td>18.0</td>\n",
              "      <td>20.0</td>\n",
              "    </tr>\n",
              "    <tr>\n",
              "      <th>2</th>\n",
              "      <td>96bd76ec8810374ed1b65e291975717f</td>\n",
              "      <td>esporte_lazer</td>\n",
              "      <td>46.0</td>\n",
              "      <td>250.0</td>\n",
              "      <td>1.0</td>\n",
              "      <td>154.0</td>\n",
              "      <td>18.0</td>\n",
              "      <td>9.0</td>\n",
              "      <td>15.0</td>\n",
              "    </tr>\n",
              "    <tr>\n",
              "      <th>3</th>\n",
              "      <td>cef67bcfe19066a932b7673e239eb23d</td>\n",
              "      <td>bebes</td>\n",
              "      <td>27.0</td>\n",
              "      <td>261.0</td>\n",
              "      <td>1.0</td>\n",
              "      <td>371.0</td>\n",
              "      <td>26.0</td>\n",
              "      <td>4.0</td>\n",
              "      <td>26.0</td>\n",
              "    </tr>\n",
              "    <tr>\n",
              "      <th>4</th>\n",
              "      <td>9dc1a7de274444849c219cff195d0b71</td>\n",
              "      <td>utilidades_domesticas</td>\n",
              "      <td>37.0</td>\n",
              "      <td>402.0</td>\n",
              "      <td>4.0</td>\n",
              "      <td>625.0</td>\n",
              "      <td>20.0</td>\n",
              "      <td>17.0</td>\n",
              "      <td>13.0</td>\n",
              "    </tr>\n",
              "  </tbody>\n",
              "</table>\n",
              "</div>"
            ],
            "text/plain": [
              "                         product_id  product_category_name  \\\n",
              "0  1e9e8ef04dbcff4541ed26657ea517e5             perfumaria   \n",
              "1  3aa071139cb16b67ca9e5dea641aaa2f                  artes   \n",
              "2  96bd76ec8810374ed1b65e291975717f          esporte_lazer   \n",
              "3  cef67bcfe19066a932b7673e239eb23d                  bebes   \n",
              "4  9dc1a7de274444849c219cff195d0b71  utilidades_domesticas   \n",
              "\n",
              "   product_name_lenght  product_description_lenght  product_photos_qty  \\\n",
              "0                 40.0                       287.0                 1.0   \n",
              "1                 44.0                       276.0                 1.0   \n",
              "2                 46.0                       250.0                 1.0   \n",
              "3                 27.0                       261.0                 1.0   \n",
              "4                 37.0                       402.0                 4.0   \n",
              "\n",
              "   product_weight_g  product_length_cm  product_height_cm  product_width_cm  \n",
              "0             225.0               16.0               10.0              14.0  \n",
              "1            1000.0               30.0               18.0              20.0  \n",
              "2             154.0               18.0                9.0              15.0  \n",
              "3             371.0               26.0                4.0              26.0  \n",
              "4             625.0               20.0               17.0              13.0  "
            ]
          },
          "execution_count": 240,
          "metadata": {},
          "output_type": "execute_result"
        }
      ],
      "source": [
        "products_df.drop(\n",
        "  products_df[products_df['product_weight_g'] == 0].index,\n",
        "  inplace=True\n",
        ")\n",
        "products_df.head()"
      ]
    },
    {
      "cell_type": "markdown",
      "metadata": {
        "id": "Q_5ejIqckiSP"
      },
      "source": [
        "**Insight:**\n",
        "- Penerapan teknik droping memangkas sebesar 0.01% sampai 1.82% baris pada data OrderReviews\n",
        "- Penerapan teknik imputation mengganti nilai null menjadi \"Tidak ada review\" dengan asumsi bahwa nilai null berarti tidak memberikan review\n",
        "- Penerapan teknik droping pada data OrderPayments dan Products mengeliminasi data yang tidak akurat\n",
        "- Data yang diperoleh sudah relative bersih"
      ]
    },
    {
      "cell_type": "markdown",
      "metadata": {
        "id": "gp-Y6wU38DC1"
      },
      "source": [
        "## Exploratory Data Analysis (EDA)"
      ]
    },
    {
      "cell_type": "markdown",
      "metadata": {
        "id": "MW7WF2kr8DC1"
      },
      "source": [
        "### Explore ..."
      ]
    },
    {
      "cell_type": "markdown",
      "metadata": {
        "id": "YaoXCEy9ODbx"
      },
      "source": [
        "Kondisi revenue data berdasarkan gabungan tabel order dan order items"
      ]
    },
    {
      "cell_type": "code",
      "execution_count": 241,
      "metadata": {
        "colab": {
          "base_uri": "https://localhost:8080/",
          "height": 226
        },
        "id": "G0H6nbF2ODbx",
        "outputId": "98b9981c-1b1f-49d5-81b2-79627277d20d"
      },
      "outputs": [
        {
          "data": {
            "text/html": [
              "<div>\n",
              "<style scoped>\n",
              "    .dataframe tbody tr th:only-of-type {\n",
              "        vertical-align: middle;\n",
              "    }\n",
              "\n",
              "    .dataframe tbody tr th {\n",
              "        vertical-align: top;\n",
              "    }\n",
              "\n",
              "    .dataframe thead th {\n",
              "        text-align: right;\n",
              "    }\n",
              "</style>\n",
              "<table border=\"1\" class=\"dataframe\">\n",
              "  <thead>\n",
              "    <tr style=\"text-align: right;\">\n",
              "      <th></th>\n",
              "      <th>order_id</th>\n",
              "      <th>customer_id</th>\n",
              "      <th>order_status</th>\n",
              "      <th>order_purchase_timestamp</th>\n",
              "      <th>order_approved_at</th>\n",
              "      <th>order_delivered_carrier_date</th>\n",
              "      <th>order_delivered_customer_date</th>\n",
              "      <th>order_estimated_delivery_date</th>\n",
              "      <th>order_item_id</th>\n",
              "      <th>product_id</th>\n",
              "      <th>seller_id</th>\n",
              "      <th>shipping_limit_date</th>\n",
              "      <th>price</th>\n",
              "      <th>freight_value</th>\n",
              "      <th>purchase_year</th>\n",
              "      <th>purchase_month</th>\n",
              "      <th>purchase_day</th>\n",
              "    </tr>\n",
              "  </thead>\n",
              "  <tbody>\n",
              "    <tr>\n",
              "      <th>0</th>\n",
              "      <td>e481f51cbdc54678b7cc49136f2d6af7</td>\n",
              "      <td>9ef432eb6251297304e76186b10a928d</td>\n",
              "      <td>delivered</td>\n",
              "      <td>2017-10-02 10:56:33</td>\n",
              "      <td>2017-10-02 11:07:15</td>\n",
              "      <td>2017-10-04 19:55:00</td>\n",
              "      <td>2017-10-10 21:25:13</td>\n",
              "      <td>2017-10-18 00:00:00</td>\n",
              "      <td>1</td>\n",
              "      <td>87285b34884572647811a353c7ac498a</td>\n",
              "      <td>3504c0cb71d7fa48d967e0e4c94d59d9</td>\n",
              "      <td>2017-10-06 11:07:15</td>\n",
              "      <td>29.99</td>\n",
              "      <td>8.72</td>\n",
              "      <td>2017</td>\n",
              "      <td>10</td>\n",
              "      <td>2</td>\n",
              "    </tr>\n",
              "    <tr>\n",
              "      <th>1</th>\n",
              "      <td>53cdb2fc8bc7dce0b6741e2150273451</td>\n",
              "      <td>b0830fb4747a6c6d20dea0b8c802d7ef</td>\n",
              "      <td>delivered</td>\n",
              "      <td>2018-07-24 20:41:37</td>\n",
              "      <td>2018-07-26 03:24:27</td>\n",
              "      <td>2018-07-26 14:31:00</td>\n",
              "      <td>2018-08-07 15:27:45</td>\n",
              "      <td>2018-08-13 00:00:00</td>\n",
              "      <td>1</td>\n",
              "      <td>595fac2a385ac33a80bd5114aec74eb8</td>\n",
              "      <td>289cdb325fb7e7f891c38608bf9e0962</td>\n",
              "      <td>2018-07-30 03:24:27</td>\n",
              "      <td>118.70</td>\n",
              "      <td>22.76</td>\n",
              "      <td>2018</td>\n",
              "      <td>7</td>\n",
              "      <td>24</td>\n",
              "    </tr>\n",
              "    <tr>\n",
              "      <th>2</th>\n",
              "      <td>47770eb9100c2d0c44946d9cf07ec65d</td>\n",
              "      <td>41ce2a54c0b03bf3443c3d931a367089</td>\n",
              "      <td>delivered</td>\n",
              "      <td>2018-08-08 08:38:49</td>\n",
              "      <td>2018-08-08 08:55:23</td>\n",
              "      <td>2018-08-08 13:50:00</td>\n",
              "      <td>2018-08-17 18:06:29</td>\n",
              "      <td>2018-09-04 00:00:00</td>\n",
              "      <td>1</td>\n",
              "      <td>aa4383b373c6aca5d8797843e5594415</td>\n",
              "      <td>4869f7a5dfa277a7dca6462dcf3b52b2</td>\n",
              "      <td>2018-08-13 08:55:23</td>\n",
              "      <td>159.90</td>\n",
              "      <td>19.22</td>\n",
              "      <td>2018</td>\n",
              "      <td>8</td>\n",
              "      <td>8</td>\n",
              "    </tr>\n",
              "    <tr>\n",
              "      <th>3</th>\n",
              "      <td>949d5b44dbf5de918fe9c16f97b45f8a</td>\n",
              "      <td>f88197465ea7920adcdbec7375364d82</td>\n",
              "      <td>delivered</td>\n",
              "      <td>2017-11-18 19:28:06</td>\n",
              "      <td>2017-11-18 19:45:59</td>\n",
              "      <td>2017-11-22 13:39:59</td>\n",
              "      <td>2017-12-02 00:28:42</td>\n",
              "      <td>2017-12-15 00:00:00</td>\n",
              "      <td>1</td>\n",
              "      <td>d0b61bfb1de832b15ba9d266ca96e5b0</td>\n",
              "      <td>66922902710d126a0e7d26b0e3805106</td>\n",
              "      <td>2017-11-23 19:45:59</td>\n",
              "      <td>45.00</td>\n",
              "      <td>27.20</td>\n",
              "      <td>2017</td>\n",
              "      <td>11</td>\n",
              "      <td>18</td>\n",
              "    </tr>\n",
              "    <tr>\n",
              "      <th>4</th>\n",
              "      <td>ad21c59c0840e6cb83a9ceb5573f8159</td>\n",
              "      <td>8ab97904e6daea8866dbdbc4fb7aad2c</td>\n",
              "      <td>delivered</td>\n",
              "      <td>2018-02-13 21:18:39</td>\n",
              "      <td>2018-02-13 22:20:29</td>\n",
              "      <td>2018-02-14 19:46:34</td>\n",
              "      <td>2018-02-16 18:17:02</td>\n",
              "      <td>2018-02-26 00:00:00</td>\n",
              "      <td>1</td>\n",
              "      <td>65266b2da20d04dbe00c5c2d3bb7859e</td>\n",
              "      <td>2c9e548be18521d1c43cde1c582c6de8</td>\n",
              "      <td>2018-02-19 20:31:37</td>\n",
              "      <td>19.90</td>\n",
              "      <td>8.72</td>\n",
              "      <td>2018</td>\n",
              "      <td>2</td>\n",
              "      <td>13</td>\n",
              "    </tr>\n",
              "  </tbody>\n",
              "</table>\n",
              "</div>"
            ],
            "text/plain": [
              "                           order_id                       customer_id  \\\n",
              "0  e481f51cbdc54678b7cc49136f2d6af7  9ef432eb6251297304e76186b10a928d   \n",
              "1  53cdb2fc8bc7dce0b6741e2150273451  b0830fb4747a6c6d20dea0b8c802d7ef   \n",
              "2  47770eb9100c2d0c44946d9cf07ec65d  41ce2a54c0b03bf3443c3d931a367089   \n",
              "3  949d5b44dbf5de918fe9c16f97b45f8a  f88197465ea7920adcdbec7375364d82   \n",
              "4  ad21c59c0840e6cb83a9ceb5573f8159  8ab97904e6daea8866dbdbc4fb7aad2c   \n",
              "\n",
              "  order_status order_purchase_timestamp    order_approved_at  \\\n",
              "0    delivered      2017-10-02 10:56:33  2017-10-02 11:07:15   \n",
              "1    delivered      2018-07-24 20:41:37  2018-07-26 03:24:27   \n",
              "2    delivered      2018-08-08 08:38:49  2018-08-08 08:55:23   \n",
              "3    delivered      2017-11-18 19:28:06  2017-11-18 19:45:59   \n",
              "4    delivered      2018-02-13 21:18:39  2018-02-13 22:20:29   \n",
              "\n",
              "  order_delivered_carrier_date order_delivered_customer_date  \\\n",
              "0          2017-10-04 19:55:00           2017-10-10 21:25:13   \n",
              "1          2018-07-26 14:31:00           2018-08-07 15:27:45   \n",
              "2          2018-08-08 13:50:00           2018-08-17 18:06:29   \n",
              "3          2017-11-22 13:39:59           2017-12-02 00:28:42   \n",
              "4          2018-02-14 19:46:34           2018-02-16 18:17:02   \n",
              "\n",
              "  order_estimated_delivery_date  order_item_id  \\\n",
              "0           2017-10-18 00:00:00              1   \n",
              "1           2018-08-13 00:00:00              1   \n",
              "2           2018-09-04 00:00:00              1   \n",
              "3           2017-12-15 00:00:00              1   \n",
              "4           2018-02-26 00:00:00              1   \n",
              "\n",
              "                         product_id                         seller_id  \\\n",
              "0  87285b34884572647811a353c7ac498a  3504c0cb71d7fa48d967e0e4c94d59d9   \n",
              "1  595fac2a385ac33a80bd5114aec74eb8  289cdb325fb7e7f891c38608bf9e0962   \n",
              "2  aa4383b373c6aca5d8797843e5594415  4869f7a5dfa277a7dca6462dcf3b52b2   \n",
              "3  d0b61bfb1de832b15ba9d266ca96e5b0  66922902710d126a0e7d26b0e3805106   \n",
              "4  65266b2da20d04dbe00c5c2d3bb7859e  2c9e548be18521d1c43cde1c582c6de8   \n",
              "\n",
              "   shipping_limit_date   price  freight_value  purchase_year  purchase_month  \\\n",
              "0  2017-10-06 11:07:15   29.99           8.72           2017              10   \n",
              "1  2018-07-30 03:24:27  118.70          22.76           2018               7   \n",
              "2  2018-08-13 08:55:23  159.90          19.22           2018               8   \n",
              "3  2017-11-23 19:45:59   45.00          27.20           2017              11   \n",
              "4  2018-02-19 20:31:37   19.90           8.72           2018               2   \n",
              "\n",
              "   purchase_day  \n",
              "0             2  \n",
              "1            24  \n",
              "2             8  \n",
              "3            18  \n",
              "4            13  "
            ]
          },
          "execution_count": 241,
          "metadata": {},
          "output_type": "execute_result"
        }
      ],
      "source": [
        "order_order_id =  pd.merge(\n",
        "  left=orders_df,\n",
        "  right=order_items_df,\n",
        "  left_on=\"order_id\",\n",
        "  right_on=\"order_id\"\n",
        ")\n",
        "\n",
        "order_order_id['purchase_year'] = pd.to_datetime(order_order_id['order_purchase_timestamp']).dt.year\n",
        "order_order_id['purchase_month'] = pd.to_datetime(order_order_id['order_purchase_timestamp']).dt.month\n",
        "order_order_id['purchase_day'] = pd.to_datetime(order_order_id['order_purchase_timestamp']).dt.day\n",
        "order_order_id.head()"
      ]
    },
    {
      "cell_type": "markdown",
      "metadata": {
        "id": "PRNqWuMhODbx"
      },
      "source": [
        "#### Total harga order selama beberapa bulan dalam beberapa tahun"
      ]
    },
    {
      "cell_type": "code",
      "execution_count": 242,
      "metadata": {
        "colab": {
          "base_uri": "https://localhost:8080/",
          "height": 802
        },
        "id": "MIJhnMOEODbx",
        "outputId": "f9caffef-fde9-4d39-eca6-4fcfea67160b"
      },
      "outputs": [
        {
          "data": {
            "text/html": [
              "<div>\n",
              "<style scoped>\n",
              "    .dataframe tbody tr th:only-of-type {\n",
              "        vertical-align: middle;\n",
              "    }\n",
              "\n",
              "    .dataframe tbody tr th {\n",
              "        vertical-align: top;\n",
              "    }\n",
              "\n",
              "    .dataframe thead th {\n",
              "        text-align: right;\n",
              "    }\n",
              "</style>\n",
              "<table border=\"1\" class=\"dataframe\">\n",
              "  <thead>\n",
              "    <tr style=\"text-align: right;\">\n",
              "      <th></th>\n",
              "      <th></th>\n",
              "      <th></th>\n",
              "      <th>price</th>\n",
              "    </tr>\n",
              "    <tr>\n",
              "      <th>purchase_month</th>\n",
              "      <th>purchase_year</th>\n",
              "      <th>purchase_day</th>\n",
              "      <th></th>\n",
              "    </tr>\n",
              "  </thead>\n",
              "  <tbody>\n",
              "    <tr>\n",
              "      <th rowspan=\"5\" valign=\"top\">1</th>\n",
              "      <th rowspan=\"5\" valign=\"top\">2017</th>\n",
              "      <th>5</th>\n",
              "      <td>396.90</td>\n",
              "    </tr>\n",
              "    <tr>\n",
              "      <th>6</th>\n",
              "      <td>916.38</td>\n",
              "    </tr>\n",
              "    <tr>\n",
              "      <th>7</th>\n",
              "      <td>1351.90</td>\n",
              "    </tr>\n",
              "    <tr>\n",
              "      <th>8</th>\n",
              "      <td>449.78</td>\n",
              "    </tr>\n",
              "    <tr>\n",
              "      <th>9</th>\n",
              "      <td>673.79</td>\n",
              "    </tr>\n",
              "    <tr>\n",
              "      <th>...</th>\n",
              "      <th>...</th>\n",
              "      <th>...</th>\n",
              "      <td>...</td>\n",
              "    </tr>\n",
              "    <tr>\n",
              "      <th rowspan=\"5\" valign=\"top\">12</th>\n",
              "      <th rowspan=\"5\" valign=\"top\">2017</th>\n",
              "      <th>27</th>\n",
              "      <td>17341.40</td>\n",
              "    </tr>\n",
              "    <tr>\n",
              "      <th>28</th>\n",
              "      <td>14647.79</td>\n",
              "    </tr>\n",
              "    <tr>\n",
              "      <th>29</th>\n",
              "      <td>15912.82</td>\n",
              "    </tr>\n",
              "    <tr>\n",
              "      <th>30</th>\n",
              "      <td>13042.65</td>\n",
              "    </tr>\n",
              "    <tr>\n",
              "      <th>31</th>\n",
              "      <td>8462.88</td>\n",
              "    </tr>\n",
              "  </tbody>\n",
              "</table>\n",
              "<p>612 rows × 1 columns</p>\n",
              "</div>"
            ],
            "text/plain": [
              "                                              price\n",
              "purchase_month purchase_year purchase_day          \n",
              "1              2017          5               396.90\n",
              "                             6               916.38\n",
              "                             7              1351.90\n",
              "                             8               449.78\n",
              "                             9               673.79\n",
              "...                                             ...\n",
              "12             2017          27            17341.40\n",
              "                             28            14647.79\n",
              "                             29            15912.82\n",
              "                             30            13042.65\n",
              "                             31             8462.88\n",
              "\n",
              "[612 rows x 1 columns]"
            ]
          },
          "execution_count": 242,
          "metadata": {},
          "output_type": "execute_result"
        }
      ],
      "source": [
        "order_order_id.groupby(by=['purchase_month', 'purchase_year', 'purchase_day']).agg({\n",
        "  \"price\": \"sum\"\n",
        "})"
      ]
    },
    {
      "cell_type": "markdown",
      "metadata": {
        "id": "ouOkP0pWODbx"
      },
      "source": [
        "#### Sebaran customer berdasarkan negara dan kota"
      ]
    },
    {
      "cell_type": "code",
      "execution_count": 243,
      "metadata": {
        "id": "xXrIGEZZODbx"
      },
      "outputs": [],
      "source": [
        "customer_by_state_city = customers_df.groupby(by=[\"customer_state\", \"customer_city\"]).agg({\n",
        "  \"customer_id\" : \"nunique\"\n",
        "}).sort_values(ascending=False, by='customer_id')"
      ]
    },
    {
      "cell_type": "markdown",
      "metadata": {
        "id": "iQF907Z9tXhi"
      },
      "source": [
        "#### 10 kota dengan customer paling banyak"
      ]
    },
    {
      "cell_type": "code",
      "execution_count": 244,
      "metadata": {
        "colab": {
          "base_uri": "https://localhost:8080/",
          "height": 394
        },
        "id": "LH3RGzpNtdk4",
        "outputId": "eb27520f-263a-49c8-bf6b-d29c75c78689"
      },
      "outputs": [
        {
          "data": {
            "text/html": [
              "<div>\n",
              "<style scoped>\n",
              "    .dataframe tbody tr th:only-of-type {\n",
              "        vertical-align: middle;\n",
              "    }\n",
              "\n",
              "    .dataframe tbody tr th {\n",
              "        vertical-align: top;\n",
              "    }\n",
              "\n",
              "    .dataframe thead th {\n",
              "        text-align: right;\n",
              "    }\n",
              "</style>\n",
              "<table border=\"1\" class=\"dataframe\">\n",
              "  <thead>\n",
              "    <tr style=\"text-align: right;\">\n",
              "      <th></th>\n",
              "      <th></th>\n",
              "      <th>customer_id</th>\n",
              "    </tr>\n",
              "    <tr>\n",
              "      <th>customer_state</th>\n",
              "      <th>customer_city</th>\n",
              "      <th></th>\n",
              "    </tr>\n",
              "  </thead>\n",
              "  <tbody>\n",
              "    <tr>\n",
              "      <th>SP</th>\n",
              "      <th>sao paulo</th>\n",
              "      <td>15540</td>\n",
              "    </tr>\n",
              "    <tr>\n",
              "      <th>RJ</th>\n",
              "      <th>rio de janeiro</th>\n",
              "      <td>6882</td>\n",
              "    </tr>\n",
              "    <tr>\n",
              "      <th>MG</th>\n",
              "      <th>belo horizonte</th>\n",
              "      <td>2773</td>\n",
              "    </tr>\n",
              "    <tr>\n",
              "      <th>DF</th>\n",
              "      <th>brasilia</th>\n",
              "      <td>2131</td>\n",
              "    </tr>\n",
              "    <tr>\n",
              "      <th>PR</th>\n",
              "      <th>curitiba</th>\n",
              "      <td>1521</td>\n",
              "    </tr>\n",
              "    <tr>\n",
              "      <th>SP</th>\n",
              "      <th>campinas</th>\n",
              "      <td>1444</td>\n",
              "    </tr>\n",
              "    <tr>\n",
              "      <th>RS</th>\n",
              "      <th>porto alegre</th>\n",
              "      <td>1379</td>\n",
              "    </tr>\n",
              "    <tr>\n",
              "      <th>BA</th>\n",
              "      <th>salvador</th>\n",
              "      <td>1245</td>\n",
              "    </tr>\n",
              "    <tr>\n",
              "      <th rowspan=\"2\" valign=\"top\">SP</th>\n",
              "      <th>guarulhos</th>\n",
              "      <td>1189</td>\n",
              "    </tr>\n",
              "    <tr>\n",
              "      <th>sao bernardo do campo</th>\n",
              "      <td>938</td>\n",
              "    </tr>\n",
              "  </tbody>\n",
              "</table>\n",
              "</div>"
            ],
            "text/plain": [
              "                                      customer_id\n",
              "customer_state customer_city                     \n",
              "SP             sao paulo                    15540\n",
              "RJ             rio de janeiro                6882\n",
              "MG             belo horizonte                2773\n",
              "DF             brasilia                      2131\n",
              "PR             curitiba                      1521\n",
              "SP             campinas                      1444\n",
              "RS             porto alegre                  1379\n",
              "BA             salvador                      1245\n",
              "SP             guarulhos                     1189\n",
              "               sao bernardo do campo          938"
            ]
          },
          "execution_count": 244,
          "metadata": {},
          "output_type": "execute_result"
        }
      ],
      "source": [
        "customer_by_state_city.head(10)"
      ]
    },
    {
      "cell_type": "markdown",
      "metadata": {
        "id": "OXXfAFKetg-y"
      },
      "source": [
        "#### 10 Kota dengan customer paling sedikit"
      ]
    },
    {
      "cell_type": "code",
      "execution_count": 245,
      "metadata": {
        "colab": {
          "base_uri": "https://localhost:8080/",
          "height": 394
        },
        "id": "zeqYncPqtnsh",
        "outputId": "1e645885-540b-461b-f57a-fc0dae0bba72"
      },
      "outputs": [
        {
          "data": {
            "text/html": [
              "<div>\n",
              "<style scoped>\n",
              "    .dataframe tbody tr th:only-of-type {\n",
              "        vertical-align: middle;\n",
              "    }\n",
              "\n",
              "    .dataframe tbody tr th {\n",
              "        vertical-align: top;\n",
              "    }\n",
              "\n",
              "    .dataframe thead th {\n",
              "        text-align: right;\n",
              "    }\n",
              "</style>\n",
              "<table border=\"1\" class=\"dataframe\">\n",
              "  <thead>\n",
              "    <tr style=\"text-align: right;\">\n",
              "      <th></th>\n",
              "      <th></th>\n",
              "      <th>customer_id</th>\n",
              "    </tr>\n",
              "    <tr>\n",
              "      <th>customer_state</th>\n",
              "      <th>customer_city</th>\n",
              "      <th></th>\n",
              "    </tr>\n",
              "  </thead>\n",
              "  <tbody>\n",
              "    <tr>\n",
              "      <th rowspan=\"2\" valign=\"top\">RS</th>\n",
              "      <th>colinas</th>\n",
              "      <td>1</td>\n",
              "    </tr>\n",
              "    <tr>\n",
              "      <th>ciriaco</th>\n",
              "      <td>1</td>\n",
              "    </tr>\n",
              "    <tr>\n",
              "      <th>MG</th>\n",
              "      <th>ilicinea</th>\n",
              "      <td>1</td>\n",
              "    </tr>\n",
              "    <tr>\n",
              "      <th>RS</th>\n",
              "      <th>chiapetta</th>\n",
              "      <td>1</td>\n",
              "    </tr>\n",
              "    <tr>\n",
              "      <th>MG</th>\n",
              "      <th>ingai</th>\n",
              "      <td>1</td>\n",
              "    </tr>\n",
              "    <tr>\n",
              "      <th rowspan=\"3\" valign=\"top\">RS</th>\n",
              "      <th>cerro grande</th>\n",
              "      <td>1</td>\n",
              "    </tr>\n",
              "    <tr>\n",
              "      <th>cerrito</th>\n",
              "      <td>1</td>\n",
              "    </tr>\n",
              "    <tr>\n",
              "      <th>caseiros</th>\n",
              "      <td>1</td>\n",
              "    </tr>\n",
              "    <tr>\n",
              "      <th>MG</th>\n",
              "      <th>ipuiuna</th>\n",
              "      <td>1</td>\n",
              "    </tr>\n",
              "    <tr>\n",
              "      <th>AC</th>\n",
              "      <th>brasileia</th>\n",
              "      <td>1</td>\n",
              "    </tr>\n",
              "  </tbody>\n",
              "</table>\n",
              "</div>"
            ],
            "text/plain": [
              "                              customer_id\n",
              "customer_state customer_city             \n",
              "RS             colinas                  1\n",
              "               ciriaco                  1\n",
              "MG             ilicinea                 1\n",
              "RS             chiapetta                1\n",
              "MG             ingai                    1\n",
              "RS             cerro grande             1\n",
              "               cerrito                  1\n",
              "               caseiros                 1\n",
              "MG             ipuiuna                  1\n",
              "AC             brasileia                1"
            ]
          },
          "execution_count": 245,
          "metadata": {},
          "output_type": "execute_result"
        }
      ],
      "source": [
        "customer_by_state_city.tail(10)"
      ]
    },
    {
      "cell_type": "markdown",
      "metadata": {
        "id": "w7q-WdHAODbx"
      },
      "source": [
        "#### Melihat tanggapan pelanggan terhadap barang yang dibeli"
      ]
    },
    {
      "cell_type": "markdown",
      "metadata": {
        "id": "oJsvmJWfODbx"
      },
      "source": [
        "Tipe rating"
      ]
    },
    {
      "cell_type": "code",
      "execution_count": 246,
      "metadata": {
        "colab": {
          "base_uri": "https://localhost:8080/",
          "height": 237
        },
        "id": "iBVzDaQeODbx",
        "outputId": "34706283-51f2-4b2b-ba6c-a416728309cf"
      },
      "outputs": [
        {
          "data": {
            "text/html": [
              "<div>\n",
              "<style scoped>\n",
              "    .dataframe tbody tr th:only-of-type {\n",
              "        vertical-align: middle;\n",
              "    }\n",
              "\n",
              "    .dataframe tbody tr th {\n",
              "        vertical-align: top;\n",
              "    }\n",
              "\n",
              "    .dataframe thead th {\n",
              "        text-align: right;\n",
              "    }\n",
              "</style>\n",
              "<table border=\"1\" class=\"dataframe\">\n",
              "  <thead>\n",
              "    <tr style=\"text-align: right;\">\n",
              "      <th></th>\n",
              "      <th>order_id</th>\n",
              "    </tr>\n",
              "    <tr>\n",
              "      <th>review_score</th>\n",
              "      <th></th>\n",
              "    </tr>\n",
              "  </thead>\n",
              "  <tbody>\n",
              "    <tr>\n",
              "      <th>1</th>\n",
              "      <td>11393</td>\n",
              "    </tr>\n",
              "    <tr>\n",
              "      <th>2</th>\n",
              "      <td>3148</td>\n",
              "    </tr>\n",
              "    <tr>\n",
              "      <th>3</th>\n",
              "      <td>8160</td>\n",
              "    </tr>\n",
              "    <tr>\n",
              "      <th>4</th>\n",
              "      <td>19098</td>\n",
              "    </tr>\n",
              "    <tr>\n",
              "      <th>5</th>\n",
              "      <td>57076</td>\n",
              "    </tr>\n",
              "  </tbody>\n",
              "</table>\n",
              "</div>"
            ],
            "text/plain": [
              "              order_id\n",
              "review_score          \n",
              "1                11393\n",
              "2                 3148\n",
              "3                 8160\n",
              "4                19098\n",
              "5                57076"
            ]
          },
          "execution_count": 246,
          "metadata": {},
          "output_type": "execute_result"
        }
      ],
      "source": [
        "order_reviews_df.groupby(by=\"review_score\").agg({\n",
        "  \"order_id\": \"nunique\"\n",
        "})"
      ]
    },
    {
      "cell_type": "markdown",
      "metadata": {
        "id": "BafZTFGSODbx"
      },
      "source": [
        "#### Data order dengan review. <br> \n",
        "Sesuai Entity Relational Diagram, beberapa table seperti : order item, product, order review, dan order harus digabungkan melalui fungsi merge untuk memperoleh data order dan review"
      ]
    },
    {
      "cell_type": "code",
      "execution_count": 247,
      "metadata": {
        "colab": {
          "base_uri": "https://localhost:8080/",
          "height": 290
        },
        "id": "o-Z4hVT6ODbx",
        "outputId": "5d0a57d7-0d40-4589-e035-f29204bc3375"
      },
      "outputs": [
        {
          "data": {
            "text/html": [
              "<div>\n",
              "<style scoped>\n",
              "    .dataframe tbody tr th:only-of-type {\n",
              "        vertical-align: middle;\n",
              "    }\n",
              "\n",
              "    .dataframe tbody tr th {\n",
              "        vertical-align: top;\n",
              "    }\n",
              "\n",
              "    .dataframe thead th {\n",
              "        text-align: right;\n",
              "    }\n",
              "</style>\n",
              "<table border=\"1\" class=\"dataframe\">\n",
              "  <thead>\n",
              "    <tr style=\"text-align: right;\">\n",
              "      <th></th>\n",
              "      <th>order_id</th>\n",
              "      <th>customer_id</th>\n",
              "      <th>order_status</th>\n",
              "      <th>order_purchase_timestamp</th>\n",
              "      <th>order_approved_at</th>\n",
              "      <th>order_delivered_carrier_date</th>\n",
              "      <th>order_delivered_customer_date</th>\n",
              "      <th>order_estimated_delivery_date</th>\n",
              "      <th>order_item_id</th>\n",
              "      <th>product_id</th>\n",
              "      <th>...</th>\n",
              "      <th>product_weight_g</th>\n",
              "      <th>product_length_cm</th>\n",
              "      <th>product_height_cm</th>\n",
              "      <th>product_width_cm</th>\n",
              "      <th>review_id</th>\n",
              "      <th>review_score</th>\n",
              "      <th>review_comment_title</th>\n",
              "      <th>review_comment_message</th>\n",
              "      <th>review_creation_date</th>\n",
              "      <th>review_answer_timestamp</th>\n",
              "    </tr>\n",
              "  </thead>\n",
              "  <tbody>\n",
              "    <tr>\n",
              "      <th>0</th>\n",
              "      <td>e481f51cbdc54678b7cc49136f2d6af7</td>\n",
              "      <td>9ef432eb6251297304e76186b10a928d</td>\n",
              "      <td>delivered</td>\n",
              "      <td>2017-10-02 10:56:33</td>\n",
              "      <td>2017-10-02 11:07:15</td>\n",
              "      <td>2017-10-04 19:55:00</td>\n",
              "      <td>2017-10-10 21:25:13</td>\n",
              "      <td>2017-10-18 00:00:00</td>\n",
              "      <td>1.0</td>\n",
              "      <td>87285b34884572647811a353c7ac498a</td>\n",
              "      <td>...</td>\n",
              "      <td>500.0</td>\n",
              "      <td>19.0</td>\n",
              "      <td>8.0</td>\n",
              "      <td>13.0</td>\n",
              "      <td>a54f0611adc9ed256b57ede6b6eb5114</td>\n",
              "      <td>4.0</td>\n",
              "      <td>Tidak ada review</td>\n",
              "      <td>Não testei o produto ainda, mas ele veio corre...</td>\n",
              "      <td>2017-10-11 00:00:00</td>\n",
              "      <td>2017-10-12 03:43:48</td>\n",
              "    </tr>\n",
              "    <tr>\n",
              "      <th>1</th>\n",
              "      <td>53cdb2fc8bc7dce0b6741e2150273451</td>\n",
              "      <td>b0830fb4747a6c6d20dea0b8c802d7ef</td>\n",
              "      <td>delivered</td>\n",
              "      <td>2018-07-24 20:41:37</td>\n",
              "      <td>2018-07-26 03:24:27</td>\n",
              "      <td>2018-07-26 14:31:00</td>\n",
              "      <td>2018-08-07 15:27:45</td>\n",
              "      <td>2018-08-13 00:00:00</td>\n",
              "      <td>1.0</td>\n",
              "      <td>595fac2a385ac33a80bd5114aec74eb8</td>\n",
              "      <td>...</td>\n",
              "      <td>400.0</td>\n",
              "      <td>19.0</td>\n",
              "      <td>13.0</td>\n",
              "      <td>19.0</td>\n",
              "      <td>8d5266042046a06655c8db133d120ba5</td>\n",
              "      <td>4.0</td>\n",
              "      <td>Muito boa a loja</td>\n",
              "      <td>Muito bom o produto.</td>\n",
              "      <td>2018-08-08 00:00:00</td>\n",
              "      <td>2018-08-08 18:37:50</td>\n",
              "    </tr>\n",
              "    <tr>\n",
              "      <th>2</th>\n",
              "      <td>47770eb9100c2d0c44946d9cf07ec65d</td>\n",
              "      <td>41ce2a54c0b03bf3443c3d931a367089</td>\n",
              "      <td>delivered</td>\n",
              "      <td>2018-08-08 08:38:49</td>\n",
              "      <td>2018-08-08 08:55:23</td>\n",
              "      <td>2018-08-08 13:50:00</td>\n",
              "      <td>2018-08-17 18:06:29</td>\n",
              "      <td>2018-09-04 00:00:00</td>\n",
              "      <td>1.0</td>\n",
              "      <td>aa4383b373c6aca5d8797843e5594415</td>\n",
              "      <td>...</td>\n",
              "      <td>420.0</td>\n",
              "      <td>24.0</td>\n",
              "      <td>19.0</td>\n",
              "      <td>21.0</td>\n",
              "      <td>e73b67b67587f7644d5bd1a52deb1b01</td>\n",
              "      <td>5.0</td>\n",
              "      <td>Tidak ada review</td>\n",
              "      <td>Tidak ada review</td>\n",
              "      <td>2018-08-18 00:00:00</td>\n",
              "      <td>2018-08-22 19:07:58</td>\n",
              "    </tr>\n",
              "    <tr>\n",
              "      <th>3</th>\n",
              "      <td>949d5b44dbf5de918fe9c16f97b45f8a</td>\n",
              "      <td>f88197465ea7920adcdbec7375364d82</td>\n",
              "      <td>delivered</td>\n",
              "      <td>2017-11-18 19:28:06</td>\n",
              "      <td>2017-11-18 19:45:59</td>\n",
              "      <td>2017-11-22 13:39:59</td>\n",
              "      <td>2017-12-02 00:28:42</td>\n",
              "      <td>2017-12-15 00:00:00</td>\n",
              "      <td>1.0</td>\n",
              "      <td>d0b61bfb1de832b15ba9d266ca96e5b0</td>\n",
              "      <td>...</td>\n",
              "      <td>450.0</td>\n",
              "      <td>30.0</td>\n",
              "      <td>10.0</td>\n",
              "      <td>20.0</td>\n",
              "      <td>359d03e676b3c069f62cadba8dd3f6e8</td>\n",
              "      <td>5.0</td>\n",
              "      <td>Tidak ada review</td>\n",
              "      <td>O produto foi exatamente o que eu esperava e e...</td>\n",
              "      <td>2017-12-03 00:00:00</td>\n",
              "      <td>2017-12-05 19:21:58</td>\n",
              "    </tr>\n",
              "    <tr>\n",
              "      <th>4</th>\n",
              "      <td>ad21c59c0840e6cb83a9ceb5573f8159</td>\n",
              "      <td>8ab97904e6daea8866dbdbc4fb7aad2c</td>\n",
              "      <td>delivered</td>\n",
              "      <td>2018-02-13 21:18:39</td>\n",
              "      <td>2018-02-13 22:20:29</td>\n",
              "      <td>2018-02-14 19:46:34</td>\n",
              "      <td>2018-02-16 18:17:02</td>\n",
              "      <td>2018-02-26 00:00:00</td>\n",
              "      <td>1.0</td>\n",
              "      <td>65266b2da20d04dbe00c5c2d3bb7859e</td>\n",
              "      <td>...</td>\n",
              "      <td>250.0</td>\n",
              "      <td>51.0</td>\n",
              "      <td>15.0</td>\n",
              "      <td>15.0</td>\n",
              "      <td>e50934924e227544ba8246aeb3770dd4</td>\n",
              "      <td>5.0</td>\n",
              "      <td>Tidak ada review</td>\n",
              "      <td>Tidak ada review</td>\n",
              "      <td>2018-02-17 00:00:00</td>\n",
              "      <td>2018-02-18 13:02:51</td>\n",
              "    </tr>\n",
              "  </tbody>\n",
              "</table>\n",
              "<p>5 rows × 28 columns</p>\n",
              "</div>"
            ],
            "text/plain": [
              "                           order_id                       customer_id  \\\n",
              "0  e481f51cbdc54678b7cc49136f2d6af7  9ef432eb6251297304e76186b10a928d   \n",
              "1  53cdb2fc8bc7dce0b6741e2150273451  b0830fb4747a6c6d20dea0b8c802d7ef   \n",
              "2  47770eb9100c2d0c44946d9cf07ec65d  41ce2a54c0b03bf3443c3d931a367089   \n",
              "3  949d5b44dbf5de918fe9c16f97b45f8a  f88197465ea7920adcdbec7375364d82   \n",
              "4  ad21c59c0840e6cb83a9ceb5573f8159  8ab97904e6daea8866dbdbc4fb7aad2c   \n",
              "\n",
              "  order_status order_purchase_timestamp    order_approved_at  \\\n",
              "0    delivered      2017-10-02 10:56:33  2017-10-02 11:07:15   \n",
              "1    delivered      2018-07-24 20:41:37  2018-07-26 03:24:27   \n",
              "2    delivered      2018-08-08 08:38:49  2018-08-08 08:55:23   \n",
              "3    delivered      2017-11-18 19:28:06  2017-11-18 19:45:59   \n",
              "4    delivered      2018-02-13 21:18:39  2018-02-13 22:20:29   \n",
              "\n",
              "  order_delivered_carrier_date order_delivered_customer_date  \\\n",
              "0          2017-10-04 19:55:00           2017-10-10 21:25:13   \n",
              "1          2018-07-26 14:31:00           2018-08-07 15:27:45   \n",
              "2          2018-08-08 13:50:00           2018-08-17 18:06:29   \n",
              "3          2017-11-22 13:39:59           2017-12-02 00:28:42   \n",
              "4          2018-02-14 19:46:34           2018-02-16 18:17:02   \n",
              "\n",
              "  order_estimated_delivery_date  order_item_id  \\\n",
              "0           2017-10-18 00:00:00            1.0   \n",
              "1           2018-08-13 00:00:00            1.0   \n",
              "2           2018-09-04 00:00:00            1.0   \n",
              "3           2017-12-15 00:00:00            1.0   \n",
              "4           2018-02-26 00:00:00            1.0   \n",
              "\n",
              "                         product_id  ... product_weight_g product_length_cm  \\\n",
              "0  87285b34884572647811a353c7ac498a  ...            500.0              19.0   \n",
              "1  595fac2a385ac33a80bd5114aec74eb8  ...            400.0              19.0   \n",
              "2  aa4383b373c6aca5d8797843e5594415  ...            420.0              24.0   \n",
              "3  d0b61bfb1de832b15ba9d266ca96e5b0  ...            450.0              30.0   \n",
              "4  65266b2da20d04dbe00c5c2d3bb7859e  ...            250.0              51.0   \n",
              "\n",
              "   product_height_cm  product_width_cm                         review_id  \\\n",
              "0                8.0              13.0  a54f0611adc9ed256b57ede6b6eb5114   \n",
              "1               13.0              19.0  8d5266042046a06655c8db133d120ba5   \n",
              "2               19.0              21.0  e73b67b67587f7644d5bd1a52deb1b01   \n",
              "3               10.0              20.0  359d03e676b3c069f62cadba8dd3f6e8   \n",
              "4               15.0              15.0  e50934924e227544ba8246aeb3770dd4   \n",
              "\n",
              "   review_score  review_comment_title  \\\n",
              "0           4.0      Tidak ada review   \n",
              "1           4.0      Muito boa a loja   \n",
              "2           5.0      Tidak ada review   \n",
              "3           5.0      Tidak ada review   \n",
              "4           5.0      Tidak ada review   \n",
              "\n",
              "                              review_comment_message  review_creation_date  \\\n",
              "0  Não testei o produto ainda, mas ele veio corre...   2017-10-11 00:00:00   \n",
              "1                               Muito bom o produto.   2018-08-08 00:00:00   \n",
              "2                                   Tidak ada review   2018-08-18 00:00:00   \n",
              "3  O produto foi exatamente o que eu esperava e e...   2017-12-03 00:00:00   \n",
              "4                                   Tidak ada review   2018-02-17 00:00:00   \n",
              "\n",
              "   review_answer_timestamp  \n",
              "0      2017-10-12 03:43:48  \n",
              "1      2018-08-08 18:37:50  \n",
              "2      2018-08-22 19:07:58  \n",
              "3      2017-12-05 19:21:58  \n",
              "4      2018-02-18 13:02:51  \n",
              "\n",
              "[5 rows x 28 columns]"
            ]
          },
          "execution_count": 247,
          "metadata": {},
          "output_type": "execute_result"
        }
      ],
      "source": [
        "order_items_products = pd.merge(\n",
        "  left=order_items_df,\n",
        "  right=products_df,\n",
        "  left_on=\"product_id\",\n",
        "  right_on=\"product_id\"\n",
        ")\n",
        "\n",
        "orders_order_items_products = pd.merge(\n",
        "  left=orders_df,\n",
        "  right=order_items_products,\n",
        "  left_on=\"order_id\",\n",
        "  right_on=\"order_id\",\n",
        "  how=\"left\"\n",
        ")\n",
        "\n",
        "orders_products_review = pd.merge(\n",
        "  left=orders_order_items_products,\n",
        "  right=order_reviews_df,\n",
        "  left_on=\"order_id\",\n",
        "  right_on=\"order_id\",\n",
        "  how=\"left\"\n",
        ")\n",
        "orders_products_review.head()"
      ]
    },
    {
      "cell_type": "markdown",
      "metadata": {
        "id": "y01229XEODbx"
      },
      "source": [
        "#### Total skor orderan berdasarkan nama product"
      ]
    },
    {
      "cell_type": "code",
      "execution_count": 248,
      "metadata": {
        "id": "A7o9LGQ-ODbx"
      },
      "outputs": [],
      "source": [
        "product_by_review = orders_products_review.groupby(by=\"product_category_name\").agg({\n",
        "  \"review_score\": \"sum\"\n",
        "}).sort_values(ascending=False, by=\"review_score\")"
      ]
    },
    {
      "cell_type": "markdown",
      "metadata": {
        "id": "HWWTGLn-uBzx"
      },
      "source": [
        "#### 10 Product dengan skor review paling tinggi"
      ]
    },
    {
      "cell_type": "code",
      "execution_count": 249,
      "metadata": {
        "colab": {
          "base_uri": "https://localhost:8080/",
          "height": 394
        },
        "id": "4ZAcB23BuEeJ",
        "outputId": "d0a02969-7d7a-492d-fac0-f4ea34e4a20a"
      },
      "outputs": [
        {
          "data": {
            "text/html": [
              "<div>\n",
              "<style scoped>\n",
              "    .dataframe tbody tr th:only-of-type {\n",
              "        vertical-align: middle;\n",
              "    }\n",
              "\n",
              "    .dataframe tbody tr th {\n",
              "        vertical-align: top;\n",
              "    }\n",
              "\n",
              "    .dataframe thead th {\n",
              "        text-align: right;\n",
              "    }\n",
              "</style>\n",
              "<table border=\"1\" class=\"dataframe\">\n",
              "  <thead>\n",
              "    <tr style=\"text-align: right;\">\n",
              "      <th></th>\n",
              "      <th>review_score</th>\n",
              "    </tr>\n",
              "    <tr>\n",
              "      <th>product_category_name</th>\n",
              "      <th></th>\n",
              "    </tr>\n",
              "  </thead>\n",
              "  <tbody>\n",
              "    <tr>\n",
              "      <th>cama_mesa_banho</th>\n",
              "      <td>43037.0</td>\n",
              "    </tr>\n",
              "    <tr>\n",
              "      <th>beleza_saude</th>\n",
              "      <td>39636.0</td>\n",
              "    </tr>\n",
              "    <tr>\n",
              "      <th>esporte_lazer</th>\n",
              "      <td>35135.0</td>\n",
              "    </tr>\n",
              "    <tr>\n",
              "      <th>moveis_decoracao</th>\n",
              "      <td>32212.0</td>\n",
              "    </tr>\n",
              "    <tr>\n",
              "      <th>informatica_acessorios</th>\n",
              "      <td>30570.0</td>\n",
              "    </tr>\n",
              "    <tr>\n",
              "      <th>utilidades_domesticas</th>\n",
              "      <td>27855.0</td>\n",
              "    </tr>\n",
              "    <tr>\n",
              "      <th>relogios_presentes</th>\n",
              "      <td>23709.0</td>\n",
              "    </tr>\n",
              "    <tr>\n",
              "      <th>telefonia</th>\n",
              "      <td>17602.0</td>\n",
              "    </tr>\n",
              "    <tr>\n",
              "      <th>ferramentas_jardim</th>\n",
              "      <td>17357.0</td>\n",
              "    </tr>\n",
              "    <tr>\n",
              "      <th>automotivo</th>\n",
              "      <td>16942.0</td>\n",
              "    </tr>\n",
              "  </tbody>\n",
              "</table>\n",
              "</div>"
            ],
            "text/plain": [
              "                        review_score\n",
              "product_category_name               \n",
              "cama_mesa_banho              43037.0\n",
              "beleza_saude                 39636.0\n",
              "esporte_lazer                35135.0\n",
              "moveis_decoracao             32212.0\n",
              "informatica_acessorios       30570.0\n",
              "utilidades_domesticas        27855.0\n",
              "relogios_presentes           23709.0\n",
              "telefonia                    17602.0\n",
              "ferramentas_jardim           17357.0\n",
              "automotivo                   16942.0"
            ]
          },
          "execution_count": 249,
          "metadata": {},
          "output_type": "execute_result"
        }
      ],
      "source": [
        "product_by_review.head(10)"
      ]
    },
    {
      "cell_type": "markdown",
      "metadata": {
        "id": "-a_QcpJNuGmA"
      },
      "source": [
        "#### 10 Product dengan skor review paling rendah"
      ]
    },
    {
      "cell_type": "code",
      "execution_count": 250,
      "metadata": {
        "colab": {
          "base_uri": "https://localhost:8080/",
          "height": 394
        },
        "id": "luBBB41xuLi9",
        "outputId": "a88cbc47-3618-493d-e933-60942cb6aade"
      },
      "outputs": [
        {
          "data": {
            "text/html": [
              "<div>\n",
              "<style scoped>\n",
              "    .dataframe tbody tr th:only-of-type {\n",
              "        vertical-align: middle;\n",
              "    }\n",
              "\n",
              "    .dataframe tbody tr th {\n",
              "        vertical-align: top;\n",
              "    }\n",
              "\n",
              "    .dataframe thead th {\n",
              "        text-align: right;\n",
              "    }\n",
              "</style>\n",
              "<table border=\"1\" class=\"dataframe\">\n",
              "  <thead>\n",
              "    <tr style=\"text-align: right;\">\n",
              "      <th></th>\n",
              "      <th>review_score</th>\n",
              "    </tr>\n",
              "    <tr>\n",
              "      <th>product_category_name</th>\n",
              "      <th></th>\n",
              "    </tr>\n",
              "  </thead>\n",
              "  <tbody>\n",
              "    <tr>\n",
              "      <th>fashion_esporte</th>\n",
              "      <td>131.0</td>\n",
              "    </tr>\n",
              "    <tr>\n",
              "      <th>fraldas_higiene</th>\n",
              "      <td>125.0</td>\n",
              "    </tr>\n",
              "    <tr>\n",
              "      <th>artes_e_artesanato</th>\n",
              "      <td>99.0</td>\n",
              "    </tr>\n",
              "    <tr>\n",
              "      <th>casa_conforto_2</th>\n",
              "      <td>98.0</td>\n",
              "    </tr>\n",
              "    <tr>\n",
              "      <th>cds_dvds_musicais</th>\n",
              "      <td>65.0</td>\n",
              "    </tr>\n",
              "    <tr>\n",
              "      <th>la_cuisine</th>\n",
              "      <td>52.0</td>\n",
              "    </tr>\n",
              "    <tr>\n",
              "      <th>portateis_cozinha_e_preparadores_de_alimentos</th>\n",
              "      <td>48.0</td>\n",
              "    </tr>\n",
              "    <tr>\n",
              "      <th>fashion_roupa_infanto_juvenil</th>\n",
              "      <td>35.0</td>\n",
              "    </tr>\n",
              "    <tr>\n",
              "      <th>pc_gamer</th>\n",
              "      <td>29.0</td>\n",
              "    </tr>\n",
              "    <tr>\n",
              "      <th>seguros_e_servicos</th>\n",
              "      <td>5.0</td>\n",
              "    </tr>\n",
              "  </tbody>\n",
              "</table>\n",
              "</div>"
            ],
            "text/plain": [
              "                                               review_score\n",
              "product_category_name                                      \n",
              "fashion_esporte                                       131.0\n",
              "fraldas_higiene                                       125.0\n",
              "artes_e_artesanato                                     99.0\n",
              "casa_conforto_2                                        98.0\n",
              "cds_dvds_musicais                                      65.0\n",
              "la_cuisine                                             52.0\n",
              "portateis_cozinha_e_preparadores_de_alimentos          48.0\n",
              "fashion_roupa_infanto_juvenil                          35.0\n",
              "pc_gamer                                               29.0\n",
              "seguros_e_servicos                                      5.0"
            ]
          },
          "execution_count": 250,
          "metadata": {},
          "output_type": "execute_result"
        }
      ],
      "source": [
        "product_by_review.tail(10)"
      ]
    },
    {
      "cell_type": "markdown",
      "metadata": {
        "id": "btb5fQkhODby"
      },
      "source": [
        "#### Tipe orderan <br>\n",
        "Banyaknya orderan dengan status delivered yang tiba tepat waktu, akan dibagi menjadi 3 kategori : <br>\n",
        "- on time : order_status delivered dan tepat waktu\n",
        "- late : order_status delivered dan tidak tepat waktu\n",
        "- other : order_status bukan delivered"
      ]
    },
    {
      "cell_type": "code",
      "execution_count": 251,
      "metadata": {
        "id": "rLRsLOnQODby"
      },
      "outputs": [],
      "source": [
        "def filter_delivery_order(delivered_customer_date, estimated_delivery_date, delivery_status):\n",
        "  if delivery_status == 'delivered':\n",
        "    if delivered_customer_date <= estimated_delivery_date:\n",
        "      return \"on time\"\n",
        "    else:\n",
        "      return \"late\"\n",
        "  else:\n",
        "    return \"other\"\n",
        "\n",
        "orders_df['delivery_status'] = orders_df.apply(lambda x: filter_delivery_order(x.order_delivered_customer_date, x.order_estimated_delivery_date, x.order_status), axis=1)"
      ]
    },
    {
      "cell_type": "code",
      "execution_count": 252,
      "metadata": {
        "colab": {
          "base_uri": "https://localhost:8080/",
          "height": 209
        },
        "id": "zZRbAJ9NODby",
        "outputId": "c0b0d10e-14dd-4cdd-9a14-757910c5b376"
      },
      "outputs": [
        {
          "data": {
            "text/plain": [
              "delivery_status\n",
              "on time    88630\n",
              "late        7825\n",
              "other          6\n",
              "Name: order_id, dtype: int64"
            ]
          },
          "execution_count": 252,
          "metadata": {},
          "output_type": "execute_result"
        }
      ],
      "source": [
        "orders_df.groupby(by='delivery_status').order_id.nunique().sort_values(ascending=False)"
      ]
    },
    {
      "cell_type": "markdown",
      "metadata": {
        "id": "0SMw89wNODby"
      },
      "source": [
        "#### Kondisi pembayaran pelanggan terhadap orderan. <br>\n",
        "Total tagihan pelanggan terhadap suatu product meliputi harga barang dan biaya pengiriman. Pelanggan diperbolehkan untuk melakukan penyicilan pada saat melakukan pembayaran. Pelunasan tagihan oleh pelanggan dapat dirumuskan seperti berikut : <br>\n",
        "\n",
        "$$ p = b + f $$ <br>\n",
        "$$ c = p - (a_1 + a_2 + a_3 + ... + a_n) $$\n",
        "\n",
        "$$ if~c < 1~lunas, else~tidak~lunas $$ <br>\n",
        "Ket :\n",
        "- n : banyak cicilan\n",
        "- p : tagihan pelanggan\n",
        "- b : harga barang\n",
        "- f : biaya pengiriman\n",
        "- a : cicilan\n",
        "- c : selisih pembayaran dengan tagihan"
      ]
    },
    {
      "cell_type": "markdown",
      "metadata": {
        "id": "e3TvTYEWxz3g"
      },
      "source": [
        "Total pembayaran pelanggan berdasarkan customer id"
      ]
    },
    {
      "cell_type": "code",
      "execution_count": 253,
      "metadata": {
        "colab": {
          "base_uri": "https://localhost:8080/",
          "height": 237
        },
        "id": "bkYxHD6fxzHK",
        "outputId": "3ea2bbf5-5323-45bd-9e2e-fb65116b48c9"
      },
      "outputs": [
        {
          "data": {
            "text/html": [
              "<div>\n",
              "<style scoped>\n",
              "    .dataframe tbody tr th:only-of-type {\n",
              "        vertical-align: middle;\n",
              "    }\n",
              "\n",
              "    .dataframe tbody tr th {\n",
              "        vertical-align: top;\n",
              "    }\n",
              "\n",
              "    .dataframe thead th {\n",
              "        text-align: right;\n",
              "    }\n",
              "</style>\n",
              "<table border=\"1\" class=\"dataframe\">\n",
              "  <thead>\n",
              "    <tr style=\"text-align: right;\">\n",
              "      <th></th>\n",
              "      <th>payment_value</th>\n",
              "    </tr>\n",
              "    <tr>\n",
              "      <th>order_id</th>\n",
              "      <th></th>\n",
              "    </tr>\n",
              "  </thead>\n",
              "  <tbody>\n",
              "    <tr>\n",
              "      <th>00010242fe8c5a6d1ba2dd792cb16214</th>\n",
              "      <td>72.19</td>\n",
              "    </tr>\n",
              "    <tr>\n",
              "      <th>00018f77f2f0320c557190d7a144bdd3</th>\n",
              "      <td>259.83</td>\n",
              "    </tr>\n",
              "    <tr>\n",
              "      <th>000229ec398224ef6ca0657da4fc703e</th>\n",
              "      <td>216.87</td>\n",
              "    </tr>\n",
              "    <tr>\n",
              "      <th>00024acbcdf0a6daa1e931b038114c75</th>\n",
              "      <td>25.78</td>\n",
              "    </tr>\n",
              "    <tr>\n",
              "      <th>00042b26cf59d7ce69dfabb4e55b4fd9</th>\n",
              "      <td>218.04</td>\n",
              "    </tr>\n",
              "  </tbody>\n",
              "</table>\n",
              "</div>"
            ],
            "text/plain": [
              "                                  payment_value\n",
              "order_id                                       \n",
              "00010242fe8c5a6d1ba2dd792cb16214          72.19\n",
              "00018f77f2f0320c557190d7a144bdd3         259.83\n",
              "000229ec398224ef6ca0657da4fc703e         216.87\n",
              "00024acbcdf0a6daa1e931b038114c75          25.78\n",
              "00042b26cf59d7ce69dfabb4e55b4fd9         218.04"
            ]
          },
          "execution_count": 253,
          "metadata": {},
          "output_type": "execute_result"
        }
      ],
      "source": [
        "payment_by_order_id = order_payments_df.groupby(by=\"order_id\").agg({\n",
        "    \"payment_value\" : \"sum\"\n",
        "})\n",
        "payment_by_order_id.head()"
      ]
    },
    {
      "cell_type": "markdown",
      "metadata": {
        "id": "jWYGBiIbyzoJ"
      },
      "source": [
        "Untuk memperoleh informasi pembayaran dan customer, maka tabel order, order payment, dan customer harus dibabungkan seperti berikut :"
      ]
    },
    {
      "cell_type": "code",
      "execution_count": 254,
      "metadata": {
        "colab": {
          "base_uri": "https://localhost:8080/",
          "height": 255
        },
        "id": "ainAoODBODby",
        "outputId": "9fc0aae6-959d-4370-b092-8c3484196901"
      },
      "outputs": [
        {
          "data": {
            "text/html": [
              "<div>\n",
              "<style scoped>\n",
              "    .dataframe tbody tr th:only-of-type {\n",
              "        vertical-align: middle;\n",
              "    }\n",
              "\n",
              "    .dataframe tbody tr th {\n",
              "        vertical-align: top;\n",
              "    }\n",
              "\n",
              "    .dataframe thead th {\n",
              "        text-align: right;\n",
              "    }\n",
              "</style>\n",
              "<table border=\"1\" class=\"dataframe\">\n",
              "  <thead>\n",
              "    <tr style=\"text-align: right;\">\n",
              "      <th></th>\n",
              "      <th>order_id</th>\n",
              "      <th>customer_id</th>\n",
              "      <th>order_status</th>\n",
              "      <th>order_purchase_timestamp</th>\n",
              "      <th>order_approved_at</th>\n",
              "      <th>order_delivered_carrier_date</th>\n",
              "      <th>order_delivered_customer_date</th>\n",
              "      <th>order_estimated_delivery_date</th>\n",
              "      <th>delivery_status</th>\n",
              "      <th>order_item_id</th>\n",
              "      <th>...</th>\n",
              "      <th>price</th>\n",
              "      <th>freight_value</th>\n",
              "      <th>payment_sequential</th>\n",
              "      <th>payment_type</th>\n",
              "      <th>payment_installments</th>\n",
              "      <th>payment_value</th>\n",
              "      <th>customer_unique_id</th>\n",
              "      <th>customer_zip_code_prefix</th>\n",
              "      <th>customer_city</th>\n",
              "      <th>customer_state</th>\n",
              "    </tr>\n",
              "  </thead>\n",
              "  <tbody>\n",
              "    <tr>\n",
              "      <th>0</th>\n",
              "      <td>e481f51cbdc54678b7cc49136f2d6af7</td>\n",
              "      <td>9ef432eb6251297304e76186b10a928d</td>\n",
              "      <td>delivered</td>\n",
              "      <td>2017-10-02 10:56:33</td>\n",
              "      <td>2017-10-02 11:07:15</td>\n",
              "      <td>2017-10-04 19:55:00</td>\n",
              "      <td>2017-10-10 21:25:13</td>\n",
              "      <td>2017-10-18 00:00:00</td>\n",
              "      <td>on time</td>\n",
              "      <td>1</td>\n",
              "      <td>...</td>\n",
              "      <td>29.99</td>\n",
              "      <td>8.72</td>\n",
              "      <td>1</td>\n",
              "      <td>credit_card</td>\n",
              "      <td>1</td>\n",
              "      <td>18.12</td>\n",
              "      <td>7c396fd4830fd04220f754e42b4e5bff</td>\n",
              "      <td>3149</td>\n",
              "      <td>sao paulo</td>\n",
              "      <td>SP</td>\n",
              "    </tr>\n",
              "    <tr>\n",
              "      <th>1</th>\n",
              "      <td>e481f51cbdc54678b7cc49136f2d6af7</td>\n",
              "      <td>9ef432eb6251297304e76186b10a928d</td>\n",
              "      <td>delivered</td>\n",
              "      <td>2017-10-02 10:56:33</td>\n",
              "      <td>2017-10-02 11:07:15</td>\n",
              "      <td>2017-10-04 19:55:00</td>\n",
              "      <td>2017-10-10 21:25:13</td>\n",
              "      <td>2017-10-18 00:00:00</td>\n",
              "      <td>on time</td>\n",
              "      <td>1</td>\n",
              "      <td>...</td>\n",
              "      <td>29.99</td>\n",
              "      <td>8.72</td>\n",
              "      <td>3</td>\n",
              "      <td>voucher</td>\n",
              "      <td>1</td>\n",
              "      <td>2.00</td>\n",
              "      <td>7c396fd4830fd04220f754e42b4e5bff</td>\n",
              "      <td>3149</td>\n",
              "      <td>sao paulo</td>\n",
              "      <td>SP</td>\n",
              "    </tr>\n",
              "    <tr>\n",
              "      <th>2</th>\n",
              "      <td>e481f51cbdc54678b7cc49136f2d6af7</td>\n",
              "      <td>9ef432eb6251297304e76186b10a928d</td>\n",
              "      <td>delivered</td>\n",
              "      <td>2017-10-02 10:56:33</td>\n",
              "      <td>2017-10-02 11:07:15</td>\n",
              "      <td>2017-10-04 19:55:00</td>\n",
              "      <td>2017-10-10 21:25:13</td>\n",
              "      <td>2017-10-18 00:00:00</td>\n",
              "      <td>on time</td>\n",
              "      <td>1</td>\n",
              "      <td>...</td>\n",
              "      <td>29.99</td>\n",
              "      <td>8.72</td>\n",
              "      <td>2</td>\n",
              "      <td>voucher</td>\n",
              "      <td>1</td>\n",
              "      <td>18.59</td>\n",
              "      <td>7c396fd4830fd04220f754e42b4e5bff</td>\n",
              "      <td>3149</td>\n",
              "      <td>sao paulo</td>\n",
              "      <td>SP</td>\n",
              "    </tr>\n",
              "    <tr>\n",
              "      <th>3</th>\n",
              "      <td>53cdb2fc8bc7dce0b6741e2150273451</td>\n",
              "      <td>b0830fb4747a6c6d20dea0b8c802d7ef</td>\n",
              "      <td>delivered</td>\n",
              "      <td>2018-07-24 20:41:37</td>\n",
              "      <td>2018-07-26 03:24:27</td>\n",
              "      <td>2018-07-26 14:31:00</td>\n",
              "      <td>2018-08-07 15:27:45</td>\n",
              "      <td>2018-08-13 00:00:00</td>\n",
              "      <td>on time</td>\n",
              "      <td>1</td>\n",
              "      <td>...</td>\n",
              "      <td>118.70</td>\n",
              "      <td>22.76</td>\n",
              "      <td>1</td>\n",
              "      <td>boleto</td>\n",
              "      <td>1</td>\n",
              "      <td>141.46</td>\n",
              "      <td>af07308b275d755c9edb36a90c618231</td>\n",
              "      <td>47813</td>\n",
              "      <td>barreiras</td>\n",
              "      <td>BA</td>\n",
              "    </tr>\n",
              "    <tr>\n",
              "      <th>4</th>\n",
              "      <td>47770eb9100c2d0c44946d9cf07ec65d</td>\n",
              "      <td>41ce2a54c0b03bf3443c3d931a367089</td>\n",
              "      <td>delivered</td>\n",
              "      <td>2018-08-08 08:38:49</td>\n",
              "      <td>2018-08-08 08:55:23</td>\n",
              "      <td>2018-08-08 13:50:00</td>\n",
              "      <td>2018-08-17 18:06:29</td>\n",
              "      <td>2018-09-04 00:00:00</td>\n",
              "      <td>on time</td>\n",
              "      <td>1</td>\n",
              "      <td>...</td>\n",
              "      <td>159.90</td>\n",
              "      <td>19.22</td>\n",
              "      <td>1</td>\n",
              "      <td>credit_card</td>\n",
              "      <td>3</td>\n",
              "      <td>179.12</td>\n",
              "      <td>3a653a41f6f9fc3d2a113cf8398680e8</td>\n",
              "      <td>75265</td>\n",
              "      <td>vianopolis</td>\n",
              "      <td>GO</td>\n",
              "    </tr>\n",
              "  </tbody>\n",
              "</table>\n",
              "<p>5 rows × 23 columns</p>\n",
              "</div>"
            ],
            "text/plain": [
              "                           order_id                       customer_id  \\\n",
              "0  e481f51cbdc54678b7cc49136f2d6af7  9ef432eb6251297304e76186b10a928d   \n",
              "1  e481f51cbdc54678b7cc49136f2d6af7  9ef432eb6251297304e76186b10a928d   \n",
              "2  e481f51cbdc54678b7cc49136f2d6af7  9ef432eb6251297304e76186b10a928d   \n",
              "3  53cdb2fc8bc7dce0b6741e2150273451  b0830fb4747a6c6d20dea0b8c802d7ef   \n",
              "4  47770eb9100c2d0c44946d9cf07ec65d  41ce2a54c0b03bf3443c3d931a367089   \n",
              "\n",
              "  order_status order_purchase_timestamp    order_approved_at  \\\n",
              "0    delivered      2017-10-02 10:56:33  2017-10-02 11:07:15   \n",
              "1    delivered      2017-10-02 10:56:33  2017-10-02 11:07:15   \n",
              "2    delivered      2017-10-02 10:56:33  2017-10-02 11:07:15   \n",
              "3    delivered      2018-07-24 20:41:37  2018-07-26 03:24:27   \n",
              "4    delivered      2018-08-08 08:38:49  2018-08-08 08:55:23   \n",
              "\n",
              "  order_delivered_carrier_date order_delivered_customer_date  \\\n",
              "0          2017-10-04 19:55:00           2017-10-10 21:25:13   \n",
              "1          2017-10-04 19:55:00           2017-10-10 21:25:13   \n",
              "2          2017-10-04 19:55:00           2017-10-10 21:25:13   \n",
              "3          2018-07-26 14:31:00           2018-08-07 15:27:45   \n",
              "4          2018-08-08 13:50:00           2018-08-17 18:06:29   \n",
              "\n",
              "  order_estimated_delivery_date delivery_status  order_item_id  ...   price  \\\n",
              "0           2017-10-18 00:00:00         on time              1  ...   29.99   \n",
              "1           2017-10-18 00:00:00         on time              1  ...   29.99   \n",
              "2           2017-10-18 00:00:00         on time              1  ...   29.99   \n",
              "3           2018-08-13 00:00:00         on time              1  ...  118.70   \n",
              "4           2018-09-04 00:00:00         on time              1  ...  159.90   \n",
              "\n",
              "  freight_value payment_sequential  payment_type  payment_installments  \\\n",
              "0          8.72                  1   credit_card                     1   \n",
              "1          8.72                  3       voucher                     1   \n",
              "2          8.72                  2       voucher                     1   \n",
              "3         22.76                  1        boleto                     1   \n",
              "4         19.22                  1   credit_card                     3   \n",
              "\n",
              "   payment_value                customer_unique_id  customer_zip_code_prefix  \\\n",
              "0          18.12  7c396fd4830fd04220f754e42b4e5bff                      3149   \n",
              "1           2.00  7c396fd4830fd04220f754e42b4e5bff                      3149   \n",
              "2          18.59  7c396fd4830fd04220f754e42b4e5bff                      3149   \n",
              "3         141.46  af07308b275d755c9edb36a90c618231                     47813   \n",
              "4         179.12  3a653a41f6f9fc3d2a113cf8398680e8                     75265   \n",
              "\n",
              "   customer_city customer_state  \n",
              "0      sao paulo             SP  \n",
              "1      sao paulo             SP  \n",
              "2      sao paulo             SP  \n",
              "3      barreiras             BA  \n",
              "4     vianopolis             GO  \n",
              "\n",
              "[5 rows x 23 columns]"
            ]
          },
          "execution_count": 254,
          "metadata": {},
          "output_type": "execute_result"
        }
      ],
      "source": [
        "orders_items = pd.merge(\n",
        "    left=orders_df,\n",
        "    right=order_items_df,\n",
        "    left_on=\"order_id\",\n",
        "    right_on=\"order_id\"\n",
        ")\n",
        "\n",
        "\n",
        "orders_order_payments = pd.merge(\n",
        "    left=orders_items,\n",
        "    right=order_payments_df,\n",
        "    left_on=\"order_id\",\n",
        "    right_on=\"order_id\"\n",
        ")\n",
        "\n",
        "customer_payment = pd.merge(\n",
        "    left=orders_order_payments,\n",
        "    right=customers_df,\n",
        "    left_on=\"customer_id\",\n",
        "    right_on=\"customer_id\"\n",
        ")\n",
        "\n",
        "customer_payment.head()"
      ]
    },
    {
      "cell_type": "code",
      "execution_count": 255,
      "metadata": {
        "colab": {
          "base_uri": "https://localhost:8080/",
          "height": 206
        },
        "id": "IfIVQivh1yNR",
        "outputId": "48b9d466-4db7-4af0-e7ee-cfab5afa8419"
      },
      "outputs": [
        {
          "data": {
            "text/html": [
              "<div>\n",
              "<style scoped>\n",
              "    .dataframe tbody tr th:only-of-type {\n",
              "        vertical-align: middle;\n",
              "    }\n",
              "\n",
              "    .dataframe tbody tr th {\n",
              "        vertical-align: top;\n",
              "    }\n",
              "\n",
              "    .dataframe thead th {\n",
              "        text-align: right;\n",
              "    }\n",
              "</style>\n",
              "<table border=\"1\" class=\"dataframe\">\n",
              "  <thead>\n",
              "    <tr style=\"text-align: right;\">\n",
              "      <th></th>\n",
              "      <th>order_id</th>\n",
              "      <th>customer_id</th>\n",
              "      <th>payment_value</th>\n",
              "      <th>price</th>\n",
              "      <th>freight_value</th>\n",
              "      <th>order_purchase_timestamp</th>\n",
              "      <th>outstanding_payment</th>\n",
              "    </tr>\n",
              "  </thead>\n",
              "  <tbody>\n",
              "    <tr>\n",
              "      <th>0</th>\n",
              "      <td>00010242fe8c5a6d1ba2dd792cb16214</td>\n",
              "      <td>1</td>\n",
              "      <td>72.19</td>\n",
              "      <td>58.90</td>\n",
              "      <td>13.29</td>\n",
              "      <td>2017-09-13 08:59:02</td>\n",
              "      <td>0.000000e+00</td>\n",
              "    </tr>\n",
              "    <tr>\n",
              "      <th>1</th>\n",
              "      <td>00018f77f2f0320c557190d7a144bdd3</td>\n",
              "      <td>1</td>\n",
              "      <td>259.83</td>\n",
              "      <td>239.90</td>\n",
              "      <td>19.93</td>\n",
              "      <td>2017-04-26 10:53:06</td>\n",
              "      <td>0.000000e+00</td>\n",
              "    </tr>\n",
              "    <tr>\n",
              "      <th>2</th>\n",
              "      <td>000229ec398224ef6ca0657da4fc703e</td>\n",
              "      <td>1</td>\n",
              "      <td>216.87</td>\n",
              "      <td>199.00</td>\n",
              "      <td>17.87</td>\n",
              "      <td>2018-01-14 14:33:31</td>\n",
              "      <td>0.000000e+00</td>\n",
              "    </tr>\n",
              "    <tr>\n",
              "      <th>3</th>\n",
              "      <td>00024acbcdf0a6daa1e931b038114c75</td>\n",
              "      <td>1</td>\n",
              "      <td>25.78</td>\n",
              "      <td>12.99</td>\n",
              "      <td>12.79</td>\n",
              "      <td>2018-08-08 10:00:35</td>\n",
              "      <td>0.000000e+00</td>\n",
              "    </tr>\n",
              "    <tr>\n",
              "      <th>4</th>\n",
              "      <td>00042b26cf59d7ce69dfabb4e55b4fd9</td>\n",
              "      <td>1</td>\n",
              "      <td>218.04</td>\n",
              "      <td>199.90</td>\n",
              "      <td>18.14</td>\n",
              "      <td>2017-02-04 13:57:51</td>\n",
              "      <td>2.842171e-14</td>\n",
              "    </tr>\n",
              "  </tbody>\n",
              "</table>\n",
              "</div>"
            ],
            "text/plain": [
              "                           order_id  customer_id  payment_value   price  \\\n",
              "0  00010242fe8c5a6d1ba2dd792cb16214            1          72.19   58.90   \n",
              "1  00018f77f2f0320c557190d7a144bdd3            1         259.83  239.90   \n",
              "2  000229ec398224ef6ca0657da4fc703e            1         216.87  199.00   \n",
              "3  00024acbcdf0a6daa1e931b038114c75            1          25.78   12.99   \n",
              "4  00042b26cf59d7ce69dfabb4e55b4fd9            1         218.04  199.90   \n",
              "\n",
              "   freight_value order_purchase_timestamp  outstanding_payment  \n",
              "0          13.29      2017-09-13 08:59:02         0.000000e+00  \n",
              "1          19.93      2017-04-26 10:53:06         0.000000e+00  \n",
              "2          17.87      2018-01-14 14:33:31         0.000000e+00  \n",
              "3          12.79      2018-08-08 10:00:35         0.000000e+00  \n",
              "4          18.14      2017-02-04 13:57:51         2.842171e-14  "
            ]
          },
          "execution_count": 255,
          "metadata": {},
          "output_type": "execute_result"
        }
      ],
      "source": [
        "payment_report = customer_payment.groupby(by=\"order_id\").agg({\n",
        "    \"customer_id\": \"nunique\",\n",
        "    \"payment_value\": \"sum\",\n",
        "    \"price\": \"sum\",\n",
        "    \"freight_value\": \"sum\",\n",
        "    \"order_purchase_timestamp\": \"max\"\n",
        "}).reset_index()\n",
        "\n",
        "payment_report['outstanding_payment'] = payment_report['price'] + payment_report['freight_value'] - payment_report['payment_value']\n",
        "\n",
        "payment_report.head()"
      ]
    },
    {
      "cell_type": "markdown",
      "metadata": {
        "id": "dBtg9QQZ4n-x"
      },
      "source": [
        "#### Customer yang belum melunasi pembayaran"
      ]
    },
    {
      "cell_type": "code",
      "execution_count": 256,
      "metadata": {
        "colab": {
          "base_uri": "https://localhost:8080/",
          "height": 423
        },
        "id": "HNPDWzZ14WFZ",
        "outputId": "46b3cdca-af7f-4091-c4bc-7ee9c0685285"
      },
      "outputs": [
        {
          "data": {
            "text/html": [
              "<div>\n",
              "<style scoped>\n",
              "    .dataframe tbody tr th:only-of-type {\n",
              "        vertical-align: middle;\n",
              "    }\n",
              "\n",
              "    .dataframe tbody tr th {\n",
              "        vertical-align: top;\n",
              "    }\n",
              "\n",
              "    .dataframe thead th {\n",
              "        text-align: right;\n",
              "    }\n",
              "</style>\n",
              "<table border=\"1\" class=\"dataframe\">\n",
              "  <thead>\n",
              "    <tr style=\"text-align: right;\">\n",
              "      <th></th>\n",
              "      <th>order_id</th>\n",
              "      <th>customer_id</th>\n",
              "      <th>payment_value</th>\n",
              "      <th>price</th>\n",
              "      <th>freight_value</th>\n",
              "      <th>order_purchase_timestamp</th>\n",
              "      <th>outstanding_payment</th>\n",
              "    </tr>\n",
              "  </thead>\n",
              "  <tbody>\n",
              "    <tr>\n",
              "      <th>35</th>\n",
              "      <td>0016dfedd97fc2950e388d2971d718c7</td>\n",
              "      <td>1</td>\n",
              "      <td>70.55</td>\n",
              "      <td>99.50</td>\n",
              "      <td>41.60</td>\n",
              "      <td>2017-04-28 19:54:40</td>\n",
              "      <td>70.55</td>\n",
              "    </tr>\n",
              "    <tr>\n",
              "      <th>158</th>\n",
              "      <td>0071ee2429bc1efdc43aa3e073a5290e</td>\n",
              "      <td>1</td>\n",
              "      <td>192.44</td>\n",
              "      <td>359.96</td>\n",
              "      <td>24.92</td>\n",
              "      <td>2018-01-22 11:08:15</td>\n",
              "      <td>192.44</td>\n",
              "    </tr>\n",
              "    <tr>\n",
              "      <th>212</th>\n",
              "      <td>009ac365164f8e06f59d18a08045f6c4</td>\n",
              "      <td>1</td>\n",
              "      <td>32.00</td>\n",
              "      <td>101.40</td>\n",
              "      <td>90.60</td>\n",
              "      <td>2017-11-23 00:03:52</td>\n",
              "      <td>160.00</td>\n",
              "    </tr>\n",
              "    <tr>\n",
              "      <th>251</th>\n",
              "      <td>00b4a910f64f24dbcac04fe54088a443</td>\n",
              "      <td>1</td>\n",
              "      <td>50.59</td>\n",
              "      <td>67.98</td>\n",
              "      <td>33.20</td>\n",
              "      <td>2017-01-18 17:55:34</td>\n",
              "      <td>50.59</td>\n",
              "    </tr>\n",
              "    <tr>\n",
              "      <th>266</th>\n",
              "      <td>00bd50cdd31bd22e9081e6e2d5b3577b</td>\n",
              "      <td>1</td>\n",
              "      <td>85.80</td>\n",
              "      <td>234.00</td>\n",
              "      <td>23.40</td>\n",
              "      <td>2018-01-14 22:31:54</td>\n",
              "      <td>171.60</td>\n",
              "    </tr>\n",
              "    <tr>\n",
              "      <th>...</th>\n",
              "      <td>...</td>\n",
              "      <td>...</td>\n",
              "      <td>...</td>\n",
              "      <td>...</td>\n",
              "      <td>...</td>\n",
              "      <td>...</td>\n",
              "      <td>...</td>\n",
              "    </tr>\n",
              "    <tr>\n",
              "      <th>96259</th>\n",
              "      <td>ff7400d904161b62b6e830b3988f5cbd</td>\n",
              "      <td>1</td>\n",
              "      <td>154.96</td>\n",
              "      <td>233.98</td>\n",
              "      <td>75.94</td>\n",
              "      <td>2018-03-27 15:37:03</td>\n",
              "      <td>154.96</td>\n",
              "    </tr>\n",
              "    <tr>\n",
              "      <th>96311</th>\n",
              "      <td>ff978de32e717acd3b5abe1fb069d2b6</td>\n",
              "      <td>1</td>\n",
              "      <td>49.14</td>\n",
              "      <td>111.96</td>\n",
              "      <td>84.60</td>\n",
              "      <td>2017-12-12 09:50:42</td>\n",
              "      <td>147.42</td>\n",
              "    </tr>\n",
              "    <tr>\n",
              "      <th>96322</th>\n",
              "      <td>ffa1dd97810de91a03abd7bd76d2fed1</td>\n",
              "      <td>1</td>\n",
              "      <td>455.31</td>\n",
              "      <td>869.98</td>\n",
              "      <td>40.64</td>\n",
              "      <td>2017-05-22 22:35:09</td>\n",
              "      <td>455.31</td>\n",
              "    </tr>\n",
              "    <tr>\n",
              "      <th>96326</th>\n",
              "      <td>ffa39020fe7c8a3e907320e1bec4b985</td>\n",
              "      <td>1</td>\n",
              "      <td>71.14</td>\n",
              "      <td>113.98</td>\n",
              "      <td>28.30</td>\n",
              "      <td>2017-10-31 18:34:34</td>\n",
              "      <td>71.14</td>\n",
              "    </tr>\n",
              "    <tr>\n",
              "      <th>96378</th>\n",
              "      <td>ffc730a0615d28ec19f9cad02cb41442</td>\n",
              "      <td>1</td>\n",
              "      <td>27.39</td>\n",
              "      <td>39.98</td>\n",
              "      <td>14.80</td>\n",
              "      <td>2018-07-25 14:03:13</td>\n",
              "      <td>27.39</td>\n",
              "    </tr>\n",
              "  </tbody>\n",
              "</table>\n",
              "<p>2662 rows × 7 columns</p>\n",
              "</div>"
            ],
            "text/plain": [
              "                               order_id  customer_id  payment_value   price  \\\n",
              "35     0016dfedd97fc2950e388d2971d718c7            1          70.55   99.50   \n",
              "158    0071ee2429bc1efdc43aa3e073a5290e            1         192.44  359.96   \n",
              "212    009ac365164f8e06f59d18a08045f6c4            1          32.00  101.40   \n",
              "251    00b4a910f64f24dbcac04fe54088a443            1          50.59   67.98   \n",
              "266    00bd50cdd31bd22e9081e6e2d5b3577b            1          85.80  234.00   \n",
              "...                                 ...          ...            ...     ...   \n",
              "96259  ff7400d904161b62b6e830b3988f5cbd            1         154.96  233.98   \n",
              "96311  ff978de32e717acd3b5abe1fb069d2b6            1          49.14  111.96   \n",
              "96322  ffa1dd97810de91a03abd7bd76d2fed1            1         455.31  869.98   \n",
              "96326  ffa39020fe7c8a3e907320e1bec4b985            1          71.14  113.98   \n",
              "96378  ffc730a0615d28ec19f9cad02cb41442            1          27.39   39.98   \n",
              "\n",
              "       freight_value order_purchase_timestamp  outstanding_payment  \n",
              "35             41.60      2017-04-28 19:54:40                70.55  \n",
              "158            24.92      2018-01-22 11:08:15               192.44  \n",
              "212            90.60      2017-11-23 00:03:52               160.00  \n",
              "251            33.20      2017-01-18 17:55:34                50.59  \n",
              "266            23.40      2018-01-14 22:31:54               171.60  \n",
              "...              ...                      ...                  ...  \n",
              "96259          75.94      2018-03-27 15:37:03               154.96  \n",
              "96311          84.60      2017-12-12 09:50:42               147.42  \n",
              "96322          40.64      2017-05-22 22:35:09               455.31  \n",
              "96326          28.30      2017-10-31 18:34:34                71.14  \n",
              "96378          14.80      2018-07-25 14:03:13                27.39  \n",
              "\n",
              "[2662 rows x 7 columns]"
            ]
          },
          "execution_count": 256,
          "metadata": {},
          "output_type": "execute_result"
        }
      ],
      "source": [
        "payment_report[payment_report['outstanding_payment'] >= 1]"
      ]
    },
    {
      "cell_type": "markdown",
      "metadata": {
        "id": "v0SFlgF34r_a"
      },
      "source": [
        "#### Customer yang telah melunasi pembayaran"
      ]
    },
    {
      "cell_type": "code",
      "execution_count": 257,
      "metadata": {
        "colab": {
          "base_uri": "https://localhost:8080/",
          "height": 423
        },
        "id": "DIJnpVTH4uTR",
        "outputId": "75348b9e-d76f-4ba2-ba64-db569d3d86aa"
      },
      "outputs": [
        {
          "data": {
            "text/html": [
              "<div>\n",
              "<style scoped>\n",
              "    .dataframe tbody tr th:only-of-type {\n",
              "        vertical-align: middle;\n",
              "    }\n",
              "\n",
              "    .dataframe tbody tr th {\n",
              "        vertical-align: top;\n",
              "    }\n",
              "\n",
              "    .dataframe thead th {\n",
              "        text-align: right;\n",
              "    }\n",
              "</style>\n",
              "<table border=\"1\" class=\"dataframe\">\n",
              "  <thead>\n",
              "    <tr style=\"text-align: right;\">\n",
              "      <th></th>\n",
              "      <th>order_id</th>\n",
              "      <th>customer_id</th>\n",
              "      <th>payment_value</th>\n",
              "      <th>price</th>\n",
              "      <th>freight_value</th>\n",
              "      <th>order_purchase_timestamp</th>\n",
              "      <th>outstanding_payment</th>\n",
              "    </tr>\n",
              "  </thead>\n",
              "  <tbody>\n",
              "    <tr>\n",
              "      <th>0</th>\n",
              "      <td>00010242fe8c5a6d1ba2dd792cb16214</td>\n",
              "      <td>1</td>\n",
              "      <td>72.19</td>\n",
              "      <td>58.90</td>\n",
              "      <td>13.29</td>\n",
              "      <td>2017-09-13 08:59:02</td>\n",
              "      <td>0.000000e+00</td>\n",
              "    </tr>\n",
              "    <tr>\n",
              "      <th>1</th>\n",
              "      <td>00018f77f2f0320c557190d7a144bdd3</td>\n",
              "      <td>1</td>\n",
              "      <td>259.83</td>\n",
              "      <td>239.90</td>\n",
              "      <td>19.93</td>\n",
              "      <td>2017-04-26 10:53:06</td>\n",
              "      <td>0.000000e+00</td>\n",
              "    </tr>\n",
              "    <tr>\n",
              "      <th>2</th>\n",
              "      <td>000229ec398224ef6ca0657da4fc703e</td>\n",
              "      <td>1</td>\n",
              "      <td>216.87</td>\n",
              "      <td>199.00</td>\n",
              "      <td>17.87</td>\n",
              "      <td>2018-01-14 14:33:31</td>\n",
              "      <td>0.000000e+00</td>\n",
              "    </tr>\n",
              "    <tr>\n",
              "      <th>3</th>\n",
              "      <td>00024acbcdf0a6daa1e931b038114c75</td>\n",
              "      <td>1</td>\n",
              "      <td>25.78</td>\n",
              "      <td>12.99</td>\n",
              "      <td>12.79</td>\n",
              "      <td>2018-08-08 10:00:35</td>\n",
              "      <td>0.000000e+00</td>\n",
              "    </tr>\n",
              "    <tr>\n",
              "      <th>4</th>\n",
              "      <td>00042b26cf59d7ce69dfabb4e55b4fd9</td>\n",
              "      <td>1</td>\n",
              "      <td>218.04</td>\n",
              "      <td>199.90</td>\n",
              "      <td>18.14</td>\n",
              "      <td>2017-02-04 13:57:51</td>\n",
              "      <td>2.842171e-14</td>\n",
              "    </tr>\n",
              "    <tr>\n",
              "      <th>...</th>\n",
              "      <td>...</td>\n",
              "      <td>...</td>\n",
              "      <td>...</td>\n",
              "      <td>...</td>\n",
              "      <td>...</td>\n",
              "      <td>...</td>\n",
              "      <td>...</td>\n",
              "    </tr>\n",
              "    <tr>\n",
              "      <th>96453</th>\n",
              "      <td>fffc94f6ce00a00581880bf54a75a037</td>\n",
              "      <td>1</td>\n",
              "      <td>343.40</td>\n",
              "      <td>299.99</td>\n",
              "      <td>43.41</td>\n",
              "      <td>2018-04-23 13:57:06</td>\n",
              "      <td>0.000000e+00</td>\n",
              "    </tr>\n",
              "    <tr>\n",
              "      <th>96454</th>\n",
              "      <td>fffcd46ef2263f404302a634eb57f7eb</td>\n",
              "      <td>1</td>\n",
              "      <td>386.53</td>\n",
              "      <td>350.00</td>\n",
              "      <td>36.53</td>\n",
              "      <td>2018-07-14 10:26:46</td>\n",
              "      <td>0.000000e+00</td>\n",
              "    </tr>\n",
              "    <tr>\n",
              "      <th>96455</th>\n",
              "      <td>fffce4705a9662cd70adb13d4a31832d</td>\n",
              "      <td>1</td>\n",
              "      <td>116.85</td>\n",
              "      <td>99.90</td>\n",
              "      <td>16.95</td>\n",
              "      <td>2017-10-23 17:07:56</td>\n",
              "      <td>1.421085e-14</td>\n",
              "    </tr>\n",
              "    <tr>\n",
              "      <th>96456</th>\n",
              "      <td>fffe18544ffabc95dfada21779c9644f</td>\n",
              "      <td>1</td>\n",
              "      <td>64.71</td>\n",
              "      <td>55.99</td>\n",
              "      <td>8.72</td>\n",
              "      <td>2017-08-14 23:02:59</td>\n",
              "      <td>1.421085e-14</td>\n",
              "    </tr>\n",
              "    <tr>\n",
              "      <th>96457</th>\n",
              "      <td>fffe41c64501cc87c801fd61db3f6244</td>\n",
              "      <td>1</td>\n",
              "      <td>55.79</td>\n",
              "      <td>43.00</td>\n",
              "      <td>12.79</td>\n",
              "      <td>2018-06-09 17:00:18</td>\n",
              "      <td>0.000000e+00</td>\n",
              "    </tr>\n",
              "  </tbody>\n",
              "</table>\n",
              "<p>93796 rows × 7 columns</p>\n",
              "</div>"
            ],
            "text/plain": [
              "                               order_id  customer_id  payment_value   price  \\\n",
              "0      00010242fe8c5a6d1ba2dd792cb16214            1          72.19   58.90   \n",
              "1      00018f77f2f0320c557190d7a144bdd3            1         259.83  239.90   \n",
              "2      000229ec398224ef6ca0657da4fc703e            1         216.87  199.00   \n",
              "3      00024acbcdf0a6daa1e931b038114c75            1          25.78   12.99   \n",
              "4      00042b26cf59d7ce69dfabb4e55b4fd9            1         218.04  199.90   \n",
              "...                                 ...          ...            ...     ...   \n",
              "96453  fffc94f6ce00a00581880bf54a75a037            1         343.40  299.99   \n",
              "96454  fffcd46ef2263f404302a634eb57f7eb            1         386.53  350.00   \n",
              "96455  fffce4705a9662cd70adb13d4a31832d            1         116.85   99.90   \n",
              "96456  fffe18544ffabc95dfada21779c9644f            1          64.71   55.99   \n",
              "96457  fffe41c64501cc87c801fd61db3f6244            1          55.79   43.00   \n",
              "\n",
              "       freight_value order_purchase_timestamp  outstanding_payment  \n",
              "0              13.29      2017-09-13 08:59:02         0.000000e+00  \n",
              "1              19.93      2017-04-26 10:53:06         0.000000e+00  \n",
              "2              17.87      2018-01-14 14:33:31         0.000000e+00  \n",
              "3              12.79      2018-08-08 10:00:35         0.000000e+00  \n",
              "4              18.14      2017-02-04 13:57:51         2.842171e-14  \n",
              "...              ...                      ...                  ...  \n",
              "96453          43.41      2018-04-23 13:57:06         0.000000e+00  \n",
              "96454          36.53      2018-07-14 10:26:46         0.000000e+00  \n",
              "96455          16.95      2017-10-23 17:07:56         1.421085e-14  \n",
              "96456           8.72      2017-08-14 23:02:59         1.421085e-14  \n",
              "96457          12.79      2018-06-09 17:00:18         0.000000e+00  \n",
              "\n",
              "[93796 rows x 7 columns]"
            ]
          },
          "execution_count": 257,
          "metadata": {},
          "output_type": "execute_result"
        }
      ],
      "source": [
        "payment_report[payment_report['outstanding_payment'] < 1]"
      ]
    },
    {
      "cell_type": "markdown",
      "metadata": {
        "id": "dajvl92qODby"
      },
      "source": [
        "#### Sebaran customer berdasarkan state dan kota"
      ]
    },
    {
      "cell_type": "code",
      "execution_count": 258,
      "metadata": {
        "colab": {
          "base_uri": "https://localhost:8080/",
          "height": 455
        },
        "id": "zdltX8rFODby",
        "outputId": "2b3514fe-df48-4ee4-fe21-f72ed2a5e761"
      },
      "outputs": [
        {
          "data": {
            "text/html": [
              "<div>\n",
              "<style scoped>\n",
              "    .dataframe tbody tr th:only-of-type {\n",
              "        vertical-align: middle;\n",
              "    }\n",
              "\n",
              "    .dataframe tbody tr th {\n",
              "        vertical-align: top;\n",
              "    }\n",
              "\n",
              "    .dataframe thead th {\n",
              "        text-align: right;\n",
              "    }\n",
              "</style>\n",
              "<table border=\"1\" class=\"dataframe\">\n",
              "  <thead>\n",
              "    <tr style=\"text-align: right;\">\n",
              "      <th></th>\n",
              "      <th></th>\n",
              "      <th>seller_id</th>\n",
              "    </tr>\n",
              "    <tr>\n",
              "      <th>seller_state</th>\n",
              "      <th>seller_city</th>\n",
              "      <th></th>\n",
              "    </tr>\n",
              "  </thead>\n",
              "  <tbody>\n",
              "    <tr>\n",
              "      <th>SP</th>\n",
              "      <th>sao paulo</th>\n",
              "      <td>694</td>\n",
              "    </tr>\n",
              "    <tr>\n",
              "      <th>PR</th>\n",
              "      <th>curitiba</th>\n",
              "      <td>124</td>\n",
              "    </tr>\n",
              "    <tr>\n",
              "      <th>RJ</th>\n",
              "      <th>rio de janeiro</th>\n",
              "      <td>93</td>\n",
              "    </tr>\n",
              "    <tr>\n",
              "      <th>MG</th>\n",
              "      <th>belo horizonte</th>\n",
              "      <td>66</td>\n",
              "    </tr>\n",
              "    <tr>\n",
              "      <th>SP</th>\n",
              "      <th>ribeirao preto</th>\n",
              "      <td>52</td>\n",
              "    </tr>\n",
              "    <tr>\n",
              "      <th>...</th>\n",
              "      <th>...</th>\n",
              "      <td>...</td>\n",
              "    </tr>\n",
              "    <tr>\n",
              "      <th rowspan=\"4\" valign=\"top\">RJ</th>\n",
              "      <th>tres rios</th>\n",
              "      <td>1</td>\n",
              "    </tr>\n",
              "    <tr>\n",
              "      <th>saquarema</th>\n",
              "      <td>1</td>\n",
              "    </tr>\n",
              "    <tr>\n",
              "      <th>sao pedro da aldeia</th>\n",
              "      <td>1</td>\n",
              "    </tr>\n",
              "    <tr>\n",
              "      <th>santo antonio de padua</th>\n",
              "      <td>1</td>\n",
              "    </tr>\n",
              "    <tr>\n",
              "      <th>SC</th>\n",
              "      <th>camboriu</th>\n",
              "      <td>1</td>\n",
              "    </tr>\n",
              "  </tbody>\n",
              "</table>\n",
              "<p>636 rows × 1 columns</p>\n",
              "</div>"
            ],
            "text/plain": [
              "                                     seller_id\n",
              "seller_state seller_city                      \n",
              "SP           sao paulo                     694\n",
              "PR           curitiba                      124\n",
              "RJ           rio de janeiro                 93\n",
              "MG           belo horizonte                 66\n",
              "SP           ribeirao preto                 52\n",
              "...                                        ...\n",
              "RJ           tres rios                       1\n",
              "             saquarema                       1\n",
              "             sao pedro da aldeia             1\n",
              "             santo antonio de padua          1\n",
              "SC           camboriu                        1\n",
              "\n",
              "[636 rows x 1 columns]"
            ]
          },
          "execution_count": 258,
          "metadata": {},
          "output_type": "execute_result"
        }
      ],
      "source": [
        "sellers_df.groupby(by=[\"seller_state\", \"seller_city\"]).agg({\n",
        "  \"seller_id\": \"nunique\"\n",
        "}).sort_values(ascending=False, by=\"seller_id\")"
      ]
    },
    {
      "cell_type": "markdown",
      "metadata": {
        "id": "th_Lzl2Fkj9O"
      },
      "source": [
        "**Insight:**\n",
        "- Data revenue pelanggan berada pada periode tahun 2016 - 2018 selama 12 bulan, namun tidak setip tahun memiliki periode bulan yang sama, seperti pada tahun 2016, hanya terdapat data penjualan bulan 9, 10, dan 12. Hal ini berarti data yang diperoleh dimulai dari bulan 9 tahun 2016 sampai dengan bulan 12 tahun 2018.\n",
        "- Customer dan seller tersebar di beberapa state dan beberapa kota di dalam setiap state. Kota Sao Paulo dengan state SP menjadi kota penyumbang jumlah customer dan seller terbanyak\n",
        "- Setiap orderan memiliki rating pada rentang 1 - 5\n",
        "- Delivery order dibagi menjadi 3 kategori, on time (tepat waktu), late (terlambat atau tidak tepat waktu), other (kategori tidak delivered)\n",
        "- Beberapa pelanggan melunasi pembayaran dan beberapa tidak"
      ]
    },
    {
      "cell_type": "markdown",
      "metadata": {
        "id": "zsyZjqak8DC2"
      },
      "source": [
        "## Visualization & Explanatory Analysis"
      ]
    },
    {
      "cell_type": "markdown",
      "metadata": {
        "id": "HZxOiQ6n8DC2"
      },
      "source": [
        "### Pertanyaan 1: Bagaimana revenue penjualan selama setahun?"
      ]
    },
    {
      "cell_type": "code",
      "execution_count": 259,
      "metadata": {
        "colab": {
          "base_uri": "https://localhost:8080/",
          "height": 206
        },
        "id": "1swJUdAD8DC2",
        "outputId": "1b719313-d96e-45f9-869a-9d9f43ff9f01"
      },
      "outputs": [
        {
          "data": {
            "text/html": [
              "<div>\n",
              "<style scoped>\n",
              "    .dataframe tbody tr th:only-of-type {\n",
              "        vertical-align: middle;\n",
              "    }\n",
              "\n",
              "    .dataframe tbody tr th {\n",
              "        vertical-align: top;\n",
              "    }\n",
              "\n",
              "    .dataframe thead th {\n",
              "        text-align: right;\n",
              "    }\n",
              "</style>\n",
              "<table border=\"1\" class=\"dataframe\">\n",
              "  <thead>\n",
              "    <tr style=\"text-align: right;\">\n",
              "      <th></th>\n",
              "      <th>purchase_year</th>\n",
              "      <th>purchase_month</th>\n",
              "      <th>purchase_day</th>\n",
              "      <th>price</th>\n",
              "    </tr>\n",
              "  </thead>\n",
              "  <tbody>\n",
              "    <tr>\n",
              "      <th>0</th>\n",
              "      <td>2016</td>\n",
              "      <td>9</td>\n",
              "      <td>15</td>\n",
              "      <td>134.97</td>\n",
              "    </tr>\n",
              "    <tr>\n",
              "      <th>1</th>\n",
              "      <td>2016</td>\n",
              "      <td>10</td>\n",
              "      <td>3</td>\n",
              "      <td>463.48</td>\n",
              "    </tr>\n",
              "    <tr>\n",
              "      <th>2</th>\n",
              "      <td>2016</td>\n",
              "      <td>10</td>\n",
              "      <td>4</td>\n",
              "      <td>8595.89</td>\n",
              "    </tr>\n",
              "    <tr>\n",
              "      <th>3</th>\n",
              "      <td>2016</td>\n",
              "      <td>10</td>\n",
              "      <td>5</td>\n",
              "      <td>6169.77</td>\n",
              "    </tr>\n",
              "    <tr>\n",
              "      <th>4</th>\n",
              "      <td>2016</td>\n",
              "      <td>10</td>\n",
              "      <td>6</td>\n",
              "      <td>5889.96</td>\n",
              "    </tr>\n",
              "  </tbody>\n",
              "</table>\n",
              "</div>"
            ],
            "text/plain": [
              "  purchase_year purchase_month purchase_day    price\n",
              "0          2016              9           15   134.97\n",
              "1          2016             10            3   463.48\n",
              "2          2016             10            4  8595.89\n",
              "3          2016             10            5  6169.77\n",
              "4          2016             10            6  5889.96"
            ]
          },
          "execution_count": 259,
          "metadata": {},
          "output_type": "execute_result"
        }
      ],
      "source": [
        "revenue = order_order_id.groupby(by=['purchase_year', 'purchase_month', 'purchase_day']).agg({\n",
        "  \"price\": \"sum\"\n",
        "}).reset_index()\n",
        "\n",
        "revenue['purchase_year'] = revenue['purchase_year'].astype('str')\n",
        "revenue['purchase_month'] = revenue['purchase_month'].astype('str')\n",
        "revenue['purchase_day'] = revenue['purchase_day'].astype('str')\n",
        "revenue.head()"
      ]
    },
    {
      "cell_type": "markdown",
      "metadata": {
        "id": "oJmfowLP5Kjb"
      },
      "source": [
        "Karena data penjualan 2016 kurang lengkap, perlu dilakukan perbaikan data agar dapat digabungkan menjadi 1 plot"
      ]
    },
    {
      "cell_type": "code",
      "execution_count": 260,
      "metadata": {
        "colab": {
          "base_uri": "https://localhost:8080/",
          "height": 1000
        },
        "id": "l5F4KDd45Qv3",
        "outputId": "2940d47e-f422-4123-9da1-3bb5ecd8d9dc"
      },
      "outputs": [
        {
          "name": "stdout",
          "output_type": "stream",
          "text": [
            "[{'purchase_year': '2016', 'purchase_month': '9', 'purchase_day': '15', 'price': 134.97}, {'purchase_year': '2016', 'purchase_month': '10', 'purchase_day': '3', 'price': 463.48}, {'purchase_year': '2016', 'purchase_month': '10', 'purchase_day': '4', 'price': 8595.89}, {'purchase_year': '2016', 'purchase_month': '10', 'purchase_day': '5', 'price': 6169.77}, {'purchase_year': '2016', 'purchase_month': '10', 'purchase_day': '6', 'price': 5889.96}, {'purchase_year': '2016', 'purchase_month': '10', 'purchase_day': '7', 'price': 6325.25}, {'purchase_year': '2016', 'purchase_month': '10', 'purchase_day': '8', 'price': 7692.88}, {'purchase_year': '2016', 'purchase_month': '10', 'purchase_day': '9', 'price': 2644.5}, {'purchase_year': '2016', 'purchase_month': '10', 'purchase_day': '10', 'price': 3159.57}, {'purchase_year': '2016', 'purchase_month': '12', 'purchase_day': '23', 'price': 10.9}, {'purchase_year': '2017', 'purchase_month': '1', 'purchase_day': '5', 'price': 396.9}, {'purchase_year': '2017', 'purchase_month': '1', 'purchase_day': '6', 'price': 916.38}, {'purchase_year': '2017', 'purchase_month': '1', 'purchase_day': '7', 'price': 1351.9}, {'purchase_year': '2017', 'purchase_month': '1', 'purchase_day': '8', 'price': 449.78}, {'purchase_year': '2017', 'purchase_month': '1', 'purchase_day': '9', 'price': 673.79}, {'purchase_year': '2017', 'purchase_month': '1', 'purchase_day': '10', 'price': 1434.87}, {'purchase_year': '2017', 'purchase_month': '1', 'purchase_day': '11', 'price': 1855.27}, {'purchase_year': '2017', 'purchase_month': '1', 'purchase_day': '12', 'price': 1478.59}, {'purchase_year': '2017', 'purchase_month': '1', 'purchase_day': '13', 'price': 2450.68}, {'purchase_year': '2017', 'purchase_month': '1', 'purchase_day': '14', 'price': 876.89}, {'purchase_year': '2017', 'purchase_month': '1', 'purchase_day': '15', 'price': 2199.57}, {'purchase_year': '2017', 'purchase_month': '1', 'purchase_day': '16', 'price': 3275.02}, {'purchase_year': '2017', 'purchase_month': '1', 'purchase_day': '17', 'price': 3302.5299999999997}, {'purchase_year': '2017', 'purchase_month': '1', 'purchase_day': '18', 'price': 3216.4900000000002}, {'purchase_year': '2017', 'purchase_month': '1', 'purchase_day': '19', 'price': 3468.06}, {'purchase_year': '2017', 'purchase_month': '1', 'purchase_day': '20', 'price': 4035.83}, {'purchase_year': '2017', 'purchase_month': '1', 'purchase_day': '21', 'price': 2313.71}, {'purchase_year': '2017', 'purchase_month': '1', 'purchase_day': '22', 'price': 3619.27}, {'purchase_year': '2017', 'purchase_month': '1', 'purchase_day': '23', 'price': 6299.22}, {'purchase_year': '2017', 'purchase_month': '1', 'purchase_day': '24', 'price': 5155.3}, {'purchase_year': '2017', 'purchase_month': '1', 'purchase_day': '25', 'price': 7114.95}, {'purchase_year': '2017', 'purchase_month': '1', 'purchase_day': '26', 'price': 12907.97}, {'purchase_year': '2017', 'purchase_month': '1', 'purchase_day': '27', 'price': 11178.95}, {'purchase_year': '2017', 'purchase_month': '1', 'purchase_day': '28', 'price': 5056.01}, {'purchase_year': '2017', 'purchase_month': '1', 'purchase_day': '29', 'price': 5966.76}, {'purchase_year': '2017', 'purchase_month': '1', 'purchase_day': '30', 'price': 10241.15}, {'purchase_year': '2017', 'purchase_month': '1', 'purchase_day': '31', 'price': 10476.63}, {'purchase_year': '2017', 'purchase_month': '2', 'purchase_day': '1', 'price': 7538.77}, {'purchase_year': '2017', 'purchase_month': '2', 'purchase_day': '2', 'price': 8813.65}, {'purchase_year': '2017', 'purchase_month': '2', 'purchase_day': '3', 'price': 9641.82}, {'purchase_year': '2017', 'purchase_month': '2', 'purchase_day': '4', 'price': 13599.27}, {'purchase_year': '2017', 'purchase_month': '2', 'purchase_day': '5', 'price': 8406.89}, {'purchase_year': '2017', 'purchase_month': '2', 'purchase_day': '6', 'price': 9399.76}, {'purchase_year': '2017', 'purchase_month': '2', 'purchase_day': '7', 'price': 13704.69}, {'purchase_year': '2017', 'purchase_month': '2', 'purchase_day': '8', 'price': 11550.69}, {'purchase_year': '2017', 'purchase_month': '2', 'purchase_day': '9', 'price': 8971.6}, {'purchase_year': '2017', 'purchase_month': '2', 'purchase_day': '10', 'price': 13142.34}, {'purchase_year': '2017', 'purchase_month': '2', 'purchase_day': '11', 'price': 4307.56}, {'purchase_year': '2017', 'purchase_month': '2', 'purchase_day': '12', 'price': 14922.35}, {'purchase_year': '2017', 'purchase_month': '2', 'purchase_day': '13', 'price': 10136.15}, {'purchase_year': '2017', 'purchase_month': '2', 'purchase_day': '14', 'price': 10885.41}, {'purchase_year': '2017', 'purchase_month': '2', 'purchase_day': '15', 'price': 6526.87}, {'purchase_year': '2017', 'purchase_month': '2', 'purchase_day': '16', 'price': 5823.14}, {'purchase_year': '2017', 'purchase_month': '2', 'purchase_day': '17', 'price': 6452.28}, {'purchase_year': '2017', 'purchase_month': '2', 'purchase_day': '18', 'price': 6211.57}, {'purchase_year': '2017', 'purchase_month': '2', 'purchase_day': '19', 'price': 3415.03}, {'purchase_year': '2017', 'purchase_month': '2', 'purchase_day': '20', 'price': 7156.41}, {'purchase_year': '2017', 'purchase_month': '2', 'purchase_day': '21', 'price': 8023.17}, {'purchase_year': '2017', 'purchase_month': '2', 'purchase_day': '22', 'price': 5935.72}, {'purchase_year': '2017', 'purchase_month': '2', 'purchase_day': '23', 'price': 6271.34}, {'purchase_year': '2017', 'purchase_month': '2', 'purchase_day': '24', 'price': 6630.12}, {'purchase_year': '2017', 'purchase_month': '2', 'purchase_day': '25', 'price': 3573.69}, {'purchase_year': '2017', 'purchase_month': '2', 'purchase_day': '26', 'price': 5132.49}, {'purchase_year': '2017', 'purchase_month': '2', 'purchase_day': '27', 'price': 5764.32}, {'purchase_year': '2017', 'purchase_month': '2', 'purchase_day': '28', 'price': 10701.76}, {'purchase_year': '2017', 'purchase_month': '3', 'purchase_day': '1', 'price': 12203.41}, {'purchase_year': '2017', 'purchase_month': '3', 'purchase_day': '2', 'price': 11164.5}, {'purchase_year': '2017', 'purchase_month': '3', 'purchase_day': '3', 'price': 12364.44}, {'purchase_year': '2017', 'purchase_month': '3', 'purchase_day': '4', 'price': 8594.74}, {'purchase_year': '2017', 'purchase_month': '3', 'purchase_day': '5', 'price': 6662.93}, {'purchase_year': '2017', 'purchase_month': '3', 'purchase_day': '6', 'price': 8618.04}, {'purchase_year': '2017', 'purchase_month': '3', 'purchase_day': '7', 'price': 11388.62}, {'purchase_year': '2017', 'purchase_month': '3', 'purchase_day': '8', 'price': 13178.97}, {'purchase_year': '2017', 'purchase_month': '3', 'purchase_day': '9', 'price': 10976.84}, {'purchase_year': '2017', 'purchase_month': '3', 'purchase_day': '10', 'price': 11916.08}, {'purchase_year': '2017', 'purchase_month': '3', 'purchase_day': '11', 'price': 10513.41}, {'purchase_year': '2017', 'purchase_month': '3', 'purchase_day': '12', 'price': 6496.17}, {'purchase_year': '2017', 'purchase_month': '3', 'purchase_day': '13', 'price': 16351.460000000001}, {'purchase_year': '2017', 'purchase_month': '3', 'purchase_day': '14', 'price': 13935.57}, {'purchase_year': '2017', 'purchase_month': '3', 'purchase_day': '15', 'price': 14362.04}, {'purchase_year': '2017', 'purchase_month': '3', 'purchase_day': '16', 'price': 14134.44}, {'purchase_year': '2017', 'purchase_month': '3', 'purchase_day': '17', 'price': 11910.5}, {'purchase_year': '2017', 'purchase_month': '3', 'purchase_day': '18', 'price': 16145.92}, {'purchase_year': '2017', 'purchase_month': '3', 'purchase_day': '19', 'price': 6649.34}, {'purchase_year': '2017', 'purchase_month': '3', 'purchase_day': '20', 'price': 16861.09}, {'purchase_year': '2017', 'purchase_month': '3', 'purchase_day': '21', 'price': 11311.15}, {'purchase_year': '2017', 'purchase_month': '3', 'purchase_day': '22', 'price': 14150.98}, {'purchase_year': '2017', 'purchase_month': '3', 'purchase_day': '23', 'price': 16073.78}, {'purchase_year': '2017', 'purchase_month': '3', 'purchase_day': '24', 'price': 10094.57}, {'purchase_year': '2017', 'purchase_month': '3', 'purchase_day': '25', 'price': 9301.89}, {'purchase_year': '2017', 'purchase_month': '3', 'purchase_day': '26', 'price': 6101.05}, {'purchase_year': '2017', 'purchase_month': '3', 'purchase_day': '27', 'price': 16186.17}, {'purchase_year': '2017', 'purchase_month': '3', 'purchase_day': '28', 'price': 11420.22}, {'purchase_year': '2017', 'purchase_month': '3', 'purchase_day': '29', 'price': 8164.14}, {'purchase_year': '2017', 'purchase_month': '3', 'purchase_day': '30', 'price': 9795.61}, {'purchase_year': '2017', 'purchase_month': '3', 'purchase_day': '31', 'price': 12170.78}, {'purchase_year': '2017', 'purchase_month': '4', 'purchase_day': '1', 'price': 17518.47}, {'purchase_year': '2017', 'purchase_month': '4', 'purchase_day': '2', 'price': 8999.89}, {'purchase_year': '2017', 'purchase_month': '4', 'purchase_day': '3', 'price': 8843.07}, {'purchase_year': '2017', 'purchase_month': '4', 'purchase_day': '4', 'price': 12301.65}, {'purchase_year': '2017', 'purchase_month': '4', 'purchase_day': '5', 'price': 18328.24}, {'purchase_year': '2017', 'purchase_month': '4', 'purchase_day': '6', 'price': 19130.49}, {'purchase_year': '2017', 'purchase_month': '4', 'purchase_day': '7', 'price': 12932.49}, {'purchase_year': '2017', 'purchase_month': '4', 'purchase_day': '8', 'price': 8457.09}, {'purchase_year': '2017', 'purchase_month': '4', 'purchase_day': '9', 'price': 7715.85}, {'purchase_year': '2017', 'purchase_month': '4', 'purchase_day': '10', 'price': 11378.51}, {'purchase_year': '2017', 'purchase_month': '4', 'purchase_day': '11', 'price': 6972.61}, {'purchase_year': '2017', 'purchase_month': '4', 'purchase_day': '12', 'price': 7790.21}, {'purchase_year': '2017', 'purchase_month': '4', 'purchase_day': '13', 'price': 9691.43}, {'purchase_year': '2017', 'purchase_month': '4', 'purchase_day': '14', 'price': 6704.19}, {'purchase_year': '2017', 'purchase_month': '4', 'purchase_day': '15', 'price': 8210.19}, {'purchase_year': '2017', 'purchase_month': '4', 'purchase_day': '16', 'price': 5025.96}, {'purchase_year': '2017', 'purchase_month': '4', 'purchase_day': '17', 'price': 7432.09}, {'purchase_year': '2017', 'purchase_month': '4', 'purchase_day': '18', 'price': 21286.72}, {'purchase_year': '2017', 'purchase_month': '4', 'purchase_day': '19', 'price': 11755.68}, {'purchase_year': '2017', 'purchase_month': '4', 'purchase_day': '20', 'price': 12300.64}, {'purchase_year': '2017', 'purchase_month': '4', 'purchase_day': '21', 'price': 8426.27}, {'purchase_year': '2017', 'purchase_month': '4', 'purchase_day': '22', 'price': 12761.18}, {'purchase_year': '2017', 'purchase_month': '4', 'purchase_day': '23', 'price': 9904.050000000001}, {'purchase_year': '2017', 'purchase_month': '4', 'purchase_day': '24', 'price': 13026.85}, {'purchase_year': '2017', 'purchase_month': '4', 'purchase_day': '25', 'price': 13747.460000000001}, {'purchase_year': '2017', 'purchase_month': '4', 'purchase_day': '26', 'price': 15365.59}, {'purchase_year': '2017', 'purchase_month': '4', 'purchase_day': '27', 'price': 9521.93}, {'purchase_year': '2017', 'purchase_month': '4', 'purchase_day': '28', 'price': 15585.789999999999}, {'purchase_year': '2017', 'purchase_month': '4', 'purchase_day': '29', 'price': 11573.73}, {'purchase_year': '2017', 'purchase_month': '4', 'purchase_day': '30', 'price': 7981.360000000001}, {'purchase_year': '2017', 'purchase_month': '5', 'purchase_day': '1', 'price': 11786.89}, {'purchase_year': '2017', 'purchase_month': '5', 'purchase_day': '2', 'price': 17304.91}, {'purchase_year': '2017', 'purchase_month': '5', 'purchase_day': '3', 'price': 10037.06}, {'purchase_year': '2017', 'purchase_month': '5', 'purchase_day': '4', 'price': 13493.56}, {'purchase_year': '2017', 'purchase_month': '5', 'purchase_day': '5', 'price': 13622.07}, {'purchase_year': '2017', 'purchase_month': '5', 'purchase_day': '6', 'price': 14328.28}, {'purchase_year': '2017', 'purchase_month': '5', 'purchase_day': '7', 'price': 16303.380000000001}, {'purchase_year': '2017', 'purchase_month': '5', 'purchase_day': '8', 'price': 15873.06}, {'purchase_year': '2017', 'purchase_month': '5', 'purchase_day': '9', 'price': 20525.66}, {'purchase_year': '2017', 'purchase_month': '5', 'purchase_day': '10', 'price': 20445.83}, {'purchase_year': '2017', 'purchase_month': '5', 'purchase_day': '11', 'price': 18058.66}, {'purchase_year': '2017', 'purchase_month': '5', 'purchase_day': '12', 'price': 11656.75}, {'purchase_year': '2017', 'purchase_month': '5', 'purchase_day': '13', 'price': 8353.97}, {'purchase_year': '2017', 'purchase_month': '5', 'purchase_day': '14', 'price': 14252.0}, {'purchase_year': '2017', 'purchase_month': '5', 'purchase_day': '15', 'price': 17679.45}, {'purchase_year': '2017', 'purchase_month': '5', 'purchase_day': '16', 'price': 21050.99}, {'purchase_year': '2017', 'purchase_month': '5', 'purchase_day': '17', 'price': 18130.96}, {'purchase_year': '2017', 'purchase_month': '5', 'purchase_day': '18', 'price': 18205.14}, {'purchase_year': '2017', 'purchase_month': '5', 'purchase_day': '19', 'price': 17490.170000000002}, {'purchase_year': '2017', 'purchase_month': '5', 'purchase_day': '20', 'price': 10538.41}, {'purchase_year': '2017', 'purchase_month': '5', 'purchase_day': '21', 'price': 17175.21}, {'purchase_year': '2017', 'purchase_month': '5', 'purchase_day': '22', 'price': 23970.52}, {'purchase_year': '2017', 'purchase_month': '5', 'purchase_day': '23', 'price': 17246.9}, {'purchase_year': '2017', 'purchase_month': '5', 'purchase_day': '24', 'price': 23310.97}, {'purchase_year': '2017', 'purchase_month': '5', 'purchase_day': '25', 'price': 14905.9}, {'purchase_year': '2017', 'purchase_month': '5', 'purchase_day': '26', 'price': 10411.18}, {'purchase_year': '2017', 'purchase_month': '5', 'purchase_day': '27', 'price': 13340.72}, {'purchase_year': '2017', 'purchase_month': '5', 'purchase_day': '28', 'price': 9262.62}, {'purchase_year': '2017', 'purchase_month': '5', 'purchase_day': '29', 'price': 17669.67}, {'purchase_year': '2017', 'purchase_month': '5', 'purchase_day': '30', 'price': 13497.69}, {'purchase_year': '2017', 'purchase_month': '5', 'purchase_day': '31', 'price': 19230.67}, {'purchase_year': '2017', 'purchase_month': '6', 'purchase_day': '1', 'price': 19287.35}, {'purchase_year': '2017', 'purchase_month': '6', 'purchase_day': '2', 'price': 18597.55}, {'purchase_year': '2017', 'purchase_month': '6', 'purchase_day': '3', 'price': 10432.85}, {'purchase_year': '2017', 'purchase_month': '6', 'purchase_day': '4', 'price': 13693.74}, {'purchase_year': '2017', 'purchase_month': '6', 'purchase_day': '5', 'price': 23204.89}, {'purchase_year': '2017', 'purchase_month': '6', 'purchase_day': '6', 'price': 13559.85}, {'purchase_year': '2017', 'purchase_month': '6', 'purchase_day': '7', 'price': 12498.67}, {'purchase_year': '2017', 'purchase_month': '6', 'purchase_day': '8', 'price': 18379.38}, {'purchase_year': '2017', 'purchase_month': '6', 'purchase_day': '9', 'price': 15921.35}, {'purchase_year': '2017', 'purchase_month': '6', 'purchase_day': '10', 'price': 7941.56}, {'purchase_year': '2017', 'purchase_month': '6', 'purchase_day': '11', 'price': 14114.66}, {'purchase_year': '2017', 'purchase_month': '6', 'purchase_day': '12', 'price': 14279.98}, {'purchase_year': '2017', 'purchase_month': '6', 'purchase_day': '13', 'price': 13803.4}, {'purchase_year': '2017', 'purchase_month': '6', 'purchase_day': '14', 'price': 20309.95}, {'purchase_year': '2017', 'purchase_month': '6', 'purchase_day': '15', 'price': 12079.87}, {'purchase_year': '2017', 'purchase_month': '6', 'purchase_day': '16', 'price': 12722.34}, {'purchase_year': '2017', 'purchase_month': '6', 'purchase_day': '17', 'price': 11024.62}, {'purchase_year': '2017', 'purchase_month': '6', 'purchase_day': '18', 'price': 15706.28}, {'purchase_year': '2017', 'purchase_month': '6', 'purchase_day': '19', 'price': 22231.41}, {'purchase_year': '2017', 'purchase_month': '6', 'purchase_day': '20', 'price': 10658.53}, {'purchase_year': '2017', 'purchase_month': '6', 'purchase_day': '21', 'price': 6135.75}, {'purchase_year': '2017', 'purchase_month': '6', 'purchase_day': '22', 'price': 8458.62}, {'purchase_year': '2017', 'purchase_month': '6', 'purchase_day': '23', 'price': 12690.09}, {'purchase_year': '2017', 'purchase_month': '6', 'purchase_day': '24', 'price': 8146.75}, {'purchase_year': '2017', 'purchase_month': '6', 'purchase_day': '25', 'price': 17000.09}, {'purchase_year': '2017', 'purchase_month': '6', 'purchase_day': '26', 'price': 12977.97}, {'purchase_year': '2017', 'purchase_month': '6', 'purchase_day': '27', 'price': 16681.61}, {'purchase_year': '2017', 'purchase_month': '6', 'purchase_day': '28', 'price': 14477.84}, {'purchase_year': '2017', 'purchase_month': '6', 'purchase_day': '29', 'price': 12169.53}, {'purchase_year': '2017', 'purchase_month': '6', 'purchase_day': '30', 'price': 12736.89}, {'purchase_year': '2017', 'purchase_month': '7', 'purchase_day': '1', 'price': 11434.35}, {'purchase_year': '2017', 'purchase_month': '7', 'purchase_day': '2', 'price': 11220.56}, {'purchase_year': '2017', 'purchase_month': '7', 'purchase_day': '3', 'price': 15201.36}, {'purchase_year': '2017', 'purchase_month': '7', 'purchase_day': '4', 'price': 15219.25}, {'purchase_year': '2017', 'purchase_month': '7', 'purchase_day': '5', 'price': 20533.02}, {'purchase_year': '2017', 'purchase_month': '7', 'purchase_day': '6', 'price': 20870.58}, {'purchase_year': '2017', 'purchase_month': '7', 'purchase_day': '7', 'price': 13158.89}, {'purchase_year': '2017', 'purchase_month': '7', 'purchase_day': '8', 'price': 10206.86}, {'purchase_year': '2017', 'purchase_month': '7', 'purchase_day': '9', 'price': 8070.58}, {'purchase_year': '2017', 'purchase_month': '7', 'purchase_day': '10', 'price': 17326.93}, {'purchase_year': '2017', 'purchase_month': '7', 'purchase_day': '11', 'price': 19135.99}, {'purchase_year': '2017', 'purchase_month': '7', 'purchase_day': '12', 'price': 18564.4}, {'purchase_year': '2017', 'purchase_month': '7', 'purchase_day': '13', 'price': 14325.51}, {'purchase_year': '2017', 'purchase_month': '7', 'purchase_day': '14', 'price': 18595.16}, {'purchase_year': '2017', 'purchase_month': '7', 'purchase_day': '15', 'price': 10880.66}, {'purchase_year': '2017', 'purchase_month': '7', 'purchase_day': '16', 'price': 12627.74}, {'purchase_year': '2017', 'purchase_month': '7', 'purchase_day': '17', 'price': 21349.98}, {'purchase_year': '2017', 'purchase_month': '7', 'purchase_day': '18', 'price': 27935.2}, {'purchase_year': '2017', 'purchase_month': '7', 'purchase_day': '19', 'price': 16171.41}, {'purchase_year': '2017', 'purchase_month': '7', 'purchase_day': '20', 'price': 17839.28}, {'purchase_year': '2017', 'purchase_month': '7', 'purchase_day': '21', 'price': 12629.05}, {'purchase_year': '2017', 'purchase_month': '7', 'purchase_day': '22', 'price': 11426.81}, {'purchase_year': '2017', 'purchase_month': '7', 'purchase_day': '23', 'price': 11850.11}, {'purchase_year': '2017', 'purchase_month': '7', 'purchase_day': '24', 'price': 18183.72}, {'purchase_year': '2017', 'purchase_month': '7', 'purchase_day': '25', 'price': 16789.24}, {'purchase_year': '2017', 'purchase_month': '7', 'purchase_day': '26', 'price': 10807.07}, {'purchase_year': '2017', 'purchase_month': '7', 'purchase_day': '27', 'price': 15518.03}, {'purchase_year': '2017', 'purchase_month': '7', 'purchase_day': '28', 'price': 19479.260000000002}, {'purchase_year': '2017', 'purchase_month': '7', 'purchase_day': '29', 'price': 15127.6}, {'purchase_year': '2017', 'purchase_month': '7', 'purchase_day': '30', 'price': 12149.73}, {'purchase_year': '2017', 'purchase_month': '7', 'purchase_day': '31', 'price': 16976.19}, {'purchase_year': '2017', 'purchase_month': '8', 'purchase_day': '1', 'price': 21321.15}, {'purchase_year': '2017', 'purchase_month': '8', 'purchase_day': '2', 'price': 17797.09}, {'purchase_year': '2017', 'purchase_month': '8', 'purchase_day': '3', 'price': 18285.62}, {'purchase_year': '2017', 'purchase_month': '8', 'purchase_day': '4', 'price': 17912.82}, {'purchase_year': '2017', 'purchase_month': '8', 'purchase_day': '5', 'price': 11793.34}, {'purchase_year': '2017', 'purchase_month': '8', 'purchase_day': '6', 'price': 12902.48}, {'purchase_year': '2017', 'purchase_month': '8', 'purchase_day': '7', 'price': 23257.84}, {'purchase_year': '2017', 'purchase_month': '8', 'purchase_day': '8', 'price': 18661.63}, {'purchase_year': '2017', 'purchase_month': '8', 'purchase_day': '9', 'price': 20128.37}, {'purchase_year': '2017', 'purchase_month': '8', 'purchase_day': '10', 'price': 19865.55}, {'purchase_year': '2017', 'purchase_month': '8', 'purchase_day': '11', 'price': 18916.38}, {'purchase_year': '2017', 'purchase_month': '8', 'purchase_day': '12', 'price': 12384.17}, {'purchase_year': '2017', 'purchase_month': '8', 'purchase_day': '13', 'price': 12244.3}, {'purchase_year': '2017', 'purchase_month': '8', 'purchase_day': '14', 'price': 17905.47}, {'purchase_year': '2017', 'purchase_month': '8', 'purchase_day': '15', 'price': 22813.74}, {'purchase_year': '2017', 'purchase_month': '8', 'purchase_day': '16', 'price': 20461.27}, {'purchase_year': '2017', 'purchase_month': '8', 'purchase_day': '17', 'price': 17819.11}, {'purchase_year': '2017', 'purchase_month': '8', 'purchase_day': '18', 'price': 16734.31}, {'purchase_year': '2017', 'purchase_month': '8', 'purchase_day': '19', 'price': 12842.58}, {'purchase_year': '2017', 'purchase_month': '8', 'purchase_day': '20', 'price': 12873.78}, {'purchase_year': '2017', 'purchase_month': '8', 'purchase_day': '21', 'price': 21480.85}, {'purchase_year': '2017', 'purchase_month': '8', 'purchase_day': '22', 'price': 16570.13}, {'purchase_year': '2017', 'purchase_month': '8', 'purchase_day': '23', 'price': 15873.61}, {'purchase_year': '2017', 'purchase_month': '8', 'purchase_day': '24', 'price': 13121.01}, {'purchase_year': '2017', 'purchase_month': '8', 'purchase_day': '25', 'price': 14462.15}, {'purchase_year': '2017', 'purchase_month': '8', 'purchase_day': '26', 'price': 9797.9}, {'purchase_year': '2017', 'purchase_month': '8', 'purchase_day': '27', 'price': 12893.21}, {'purchase_year': '2017', 'purchase_month': '8', 'purchase_day': '28', 'price': 21318.73}, {'purchase_year': '2017', 'purchase_month': '8', 'purchase_day': '29', 'price': 33236.48}, {'purchase_year': '2017', 'purchase_month': '8', 'purchase_day': '30', 'price': 29116.37}, {'purchase_year': '2017', 'purchase_month': '8', 'purchase_day': '31', 'price': 19908.26}, {'purchase_year': '2017', 'purchase_month': '9', 'purchase_day': '1', 'price': 27983.45}, {'purchase_year': '2017', 'purchase_month': '9', 'purchase_day': '2', 'price': 17911.76}, {'purchase_year': '2017', 'purchase_month': '9', 'purchase_day': '3', 'price': 27615.52}, {'purchase_year': '2017', 'purchase_month': '9', 'purchase_day': '4', 'price': 24757.98}, {'purchase_year': '2017', 'purchase_month': '9', 'purchase_day': '5', 'price': 20674.760000000002}, {'purchase_year': '2017', 'purchase_month': '9', 'purchase_day': '6', 'price': 25101.81}, {'purchase_year': '2017', 'purchase_month': '9', 'purchase_day': '7', 'price': 16893.5}, {'purchase_year': '2017', 'purchase_month': '9', 'purchase_day': '8', 'price': 11484.6}, {'purchase_year': '2017', 'purchase_month': '9', 'purchase_day': '9', 'price': 14554.65}, {'purchase_year': '2017', 'purchase_month': '9', 'purchase_day': '10', 'price': 17144.5}, {'purchase_year': '2017', 'purchase_month': '9', 'purchase_day': '11', 'price': 23246.89}, {'purchase_year': '2017', 'purchase_month': '9', 'purchase_day': '12', 'price': 26431.54}, {'purchase_year': '2017', 'purchase_month': '9', 'purchase_day': '13', 'price': 27263.48}, {'purchase_year': '2017', 'purchase_month': '9', 'purchase_day': '14', 'price': 22188.87}, {'purchase_year': '2017', 'purchase_month': '9', 'purchase_day': '15', 'price': 17959.58}, {'purchase_year': '2017', 'purchase_month': '9', 'purchase_day': '16', 'price': 18965.74}, {'purchase_year': '2017', 'purchase_month': '9', 'purchase_day': '17', 'price': 19979.420000000002}, {'purchase_year': '2017', 'purchase_month': '9', 'purchase_day': '18', 'price': 27232.01}, {'purchase_year': '2017', 'purchase_month': '9', 'purchase_day': '19', 'price': 19616.670000000002}, {'purchase_year': '2017', 'purchase_month': '9', 'purchase_day': '20', 'price': 21812.75}, {'purchase_year': '2017', 'purchase_month': '9', 'purchase_day': '21', 'price': 18251.99}, {'purchase_year': '2017', 'purchase_month': '9', 'purchase_day': '22', 'price': 15388.12}, {'purchase_year': '2017', 'purchase_month': '9', 'purchase_day': '23', 'price': 9720.71}, {'purchase_year': '2017', 'purchase_month': '9', 'purchase_day': '24', 'price': 12920.75}, {'purchase_year': '2017', 'purchase_month': '9', 'purchase_day': '25', 'price': 17502.57}, {'purchase_year': '2017', 'purchase_month': '9', 'purchase_day': '26', 'price': 21101.61}, {'purchase_year': '2017', 'purchase_month': '9', 'purchase_day': '27', 'price': 20646.920000000002}, {'purchase_year': '2017', 'purchase_month': '9', 'purchase_day': '28', 'price': 22993.12}, {'purchase_year': '2017', 'purchase_month': '9', 'purchase_day': '29', 'price': 28220.8}, {'purchase_year': '2017', 'purchase_month': '9', 'purchase_day': '30', 'price': 11654.6}, {'purchase_year': '2017', 'purchase_month': '10', 'purchase_day': '1', 'price': 18058.48}, {'purchase_year': '2017', 'purchase_month': '10', 'purchase_day': '2', 'price': 21550.66}, {'purchase_year': '2017', 'purchase_month': '10', 'purchase_day': '3', 'price': 25462.079999999998}, {'purchase_year': '2017', 'purchase_month': '10', 'purchase_day': '4', 'price': 20972.7}, {'purchase_year': '2017', 'purchase_month': '10', 'purchase_day': '5', 'price': 24851.52}, {'purchase_year': '2017', 'purchase_month': '10', 'purchase_day': '6', 'price': 16993.27}, {'purchase_year': '2017', 'purchase_month': '10', 'purchase_day': '7', 'price': 14941.03}, {'purchase_year': '2017', 'purchase_month': '10', 'purchase_day': '8', 'price': 16539.010000000002}, {'purchase_year': '2017', 'purchase_month': '10', 'purchase_day': '9', 'price': 28850.29}, {'purchase_year': '2017', 'purchase_month': '10', 'purchase_day': '10', 'price': 27879.52}, {'purchase_year': '2017', 'purchase_month': '10', 'purchase_day': '11', 'price': 18735.58}, {'purchase_year': '2017', 'purchase_month': '10', 'purchase_day': '12', 'price': 18352.08}, {'purchase_year': '2017', 'purchase_month': '10', 'purchase_day': '13', 'price': 22241.19}, {'purchase_year': '2017', 'purchase_month': '10', 'purchase_day': '14', 'price': 13160.97}, {'purchase_year': '2017', 'purchase_month': '10', 'purchase_day': '15', 'price': 18598.06}, {'purchase_year': '2017', 'purchase_month': '10', 'purchase_day': '16', 'price': 30039.98}, {'purchase_year': '2017', 'purchase_month': '10', 'purchase_day': '17', 'price': 29361.78}, {'purchase_year': '2017', 'purchase_month': '10', 'purchase_day': '18', 'price': 27257.79}, {'purchase_year': '2017', 'purchase_month': '10', 'purchase_day': '19', 'price': 23128.37}, {'purchase_year': '2017', 'purchase_month': '10', 'purchase_day': '20', 'price': 18523.4}, {'purchase_year': '2017', 'purchase_month': '10', 'purchase_day': '21', 'price': 14332.86}, {'purchase_year': '2017', 'purchase_month': '10', 'purchase_day': '22', 'price': 19195.28}, {'purchase_year': '2017', 'purchase_month': '10', 'purchase_day': '23', 'price': 21682.21}, {'purchase_year': '2017', 'purchase_month': '10', 'purchase_day': '24', 'price': 22034.47}, {'purchase_year': '2017', 'purchase_month': '10', 'purchase_day': '25', 'price': 17397.16}, {'purchase_year': '2017', 'purchase_month': '10', 'purchase_day': '26', 'price': 21253.81}, {'purchase_year': '2017', 'purchase_month': '10', 'purchase_day': '27', 'price': 20318.58}, {'purchase_year': '2017', 'purchase_month': '10', 'purchase_day': '28', 'price': 16333.61}, {'purchase_year': '2017', 'purchase_month': '10', 'purchase_day': '29', 'price': 17048.75}, {'purchase_year': '2017', 'purchase_month': '10', 'purchase_day': '30', 'price': 19400.06}, {'purchase_year': '2017', 'purchase_month': '10', 'purchase_day': '31', 'price': 23753.1}, {'purchase_year': '2017', 'purchase_month': '11', 'purchase_day': '1', 'price': 19363.71}, {'purchase_year': '2017', 'purchase_month': '11', 'purchase_day': '2', 'price': 21074.93}, {'purchase_year': '2017', 'purchase_month': '11', 'purchase_day': '3', 'price': 22844.05}, {'purchase_year': '2017', 'purchase_month': '11', 'purchase_day': '4', 'price': 19033.27}, {'purchase_year': '2017', 'purchase_month': '11', 'purchase_day': '5', 'price': 16323.76}, {'purchase_year': '2017', 'purchase_month': '11', 'purchase_day': '6', 'price': 27673.15}, {'purchase_year': '2017', 'purchase_month': '11', 'purchase_day': '7', 'price': 19711.71}, {'purchase_year': '2017', 'purchase_month': '11', 'purchase_day': '8', 'price': 18594.64}, {'purchase_year': '2017', 'purchase_month': '11', 'purchase_day': '9', 'price': 24307.55}, {'purchase_year': '2017', 'purchase_month': '11', 'purchase_day': '10', 'price': 18789.56}, {'purchase_year': '2017', 'purchase_month': '11', 'purchase_day': '11', 'price': 22768.63}, {'purchase_year': '2017', 'purchase_month': '11', 'purchase_day': '12', 'price': 22553.77}, {'purchase_year': '2017', 'purchase_month': '11', 'purchase_day': '13', 'price': 23792.68}, {'purchase_year': '2017', 'purchase_month': '11', 'purchase_day': '14', 'price': 26542.95}, {'purchase_year': '2017', 'purchase_month': '11', 'purchase_day': '15', 'price': 22591.4}, {'purchase_year': '2017', 'purchase_month': '11', 'purchase_day': '16', 'price': 27674.54}, {'purchase_year': '2017', 'purchase_month': '11', 'purchase_day': '17', 'price': 28711.29}, {'purchase_year': '2017', 'purchase_month': '11', 'purchase_day': '18', 'price': 22713.91}, {'purchase_year': '2017', 'purchase_month': '11', 'purchase_day': '19', 'price': 19932.66}, {'purchase_year': '2017', 'purchase_month': '11', 'purchase_day': '20', 'price': 43405.98}, {'purchase_year': '2017', 'purchase_month': '11', 'purchase_day': '21', 'price': 33600.85}, {'purchase_year': '2017', 'purchase_month': '11', 'purchase_day': '22', 'price': 23951.510000000002}, {'purchase_year': '2017', 'purchase_month': '11', 'purchase_day': '23', 'price': 43102.33}, {'purchase_year': '2017', 'purchase_month': '11', 'purchase_day': '24', 'price': 149916.58}, {'purchase_year': '2017', 'purchase_month': '11', 'purchase_day': '25', 'price': 59928.51}, {'purchase_year': '2017', 'purchase_month': '11', 'purchase_day': '26', 'price': 44000.48}, {'purchase_year': '2017', 'purchase_month': '11', 'purchase_day': '27', 'price': 47237.270000000004}, {'purchase_year': '2017', 'purchase_month': '11', 'purchase_day': '28', 'price': 47577.46}, {'purchase_year': '2017', 'purchase_month': '11', 'purchase_day': '29', 'price': 39093.09}, {'purchase_year': '2017', 'purchase_month': '11', 'purchase_day': '30', 'price': 30835.850000000002}, {'purchase_year': '2017', 'purchase_month': '12', 'purchase_day': '1', 'price': 38966.51}, {'purchase_year': '2017', 'purchase_month': '12', 'purchase_day': '2', 'price': 30769.14}, {'purchase_year': '2017', 'purchase_month': '12', 'purchase_day': '3', 'price': 28825.3}, {'purchase_year': '2017', 'purchase_month': '12', 'purchase_day': '4', 'price': 45101.28}, {'purchase_year': '2017', 'purchase_month': '12', 'purchase_day': '5', 'price': 33224.77}, {'purchase_year': '2017', 'purchase_month': '12', 'purchase_day': '6', 'price': 38694.05}, {'purchase_year': '2017', 'purchase_month': '12', 'purchase_day': '7', 'price': 27649.88}, {'purchase_year': '2017', 'purchase_month': '12', 'purchase_day': '8', 'price': 28848.49}, {'purchase_year': '2017', 'purchase_month': '12', 'purchase_day': '9', 'price': 19728.04}, {'purchase_year': '2017', 'purchase_month': '12', 'purchase_day': '10', 'price': 23843.78}, {'purchase_year': '2017', 'purchase_month': '12', 'purchase_day': '11', 'price': 33134.94}, {'purchase_year': '2017', 'purchase_month': '12', 'purchase_day': '12', 'price': 32802.19}, {'purchase_year': '2017', 'purchase_month': '12', 'purchase_day': '13', 'price': 28972.579999999998}, {'purchase_year': '2017', 'purchase_month': '12', 'purchase_day': '14', 'price': 24980.45}, {'purchase_year': '2017', 'purchase_month': '12', 'purchase_day': '15', 'price': 26582.62}, {'purchase_year': '2017', 'purchase_month': '12', 'purchase_day': '16', 'price': 20125.39}, {'purchase_year': '2017', 'purchase_month': '12', 'purchase_day': '17', 'price': 19025.62}, {'purchase_year': '2017', 'purchase_month': '12', 'purchase_day': '18', 'price': 28791.47}, {'purchase_year': '2017', 'purchase_month': '12', 'purchase_day': '19', 'price': 20356.99}, {'purchase_year': '2017', 'purchase_month': '12', 'purchase_day': '20', 'price': 26642.54}, {'purchase_year': '2017', 'purchase_month': '12', 'purchase_day': '21', 'price': 18208.63}, {'purchase_year': '2017', 'purchase_month': '12', 'purchase_day': '22', 'price': 14196.95}, {'purchase_year': '2017', 'purchase_month': '12', 'purchase_day': '23', 'price': 11623.65}, {'purchase_year': '2017', 'purchase_month': '12', 'purchase_day': '24', 'price': 5600.02}, {'purchase_year': '2017', 'purchase_month': '12', 'purchase_day': '25', 'price': 9858.64}, {'purchase_year': '2017', 'purchase_month': '12', 'purchase_day': '26', 'price': 20071.73}, {'purchase_year': '2017', 'purchase_month': '12', 'purchase_day': '27', 'price': 17341.4}, {'purchase_year': '2017', 'purchase_month': '12', 'purchase_day': '28', 'price': 14647.79}, {'purchase_year': '2017', 'purchase_month': '12', 'purchase_day': '29', 'price': 15912.82}, {'purchase_year': '2017', 'purchase_month': '12', 'purchase_day': '30', 'price': 13042.65}, {'purchase_year': '2017', 'purchase_month': '12', 'purchase_day': '31', 'price': 8462.88}, {'purchase_year': '2018', 'purchase_month': '1', 'purchase_day': '1', 'price': 6818.31}, {'purchase_year': '2018', 'purchase_month': '1', 'purchase_day': '2', 'price': 24912.05}, {'purchase_year': '2018', 'purchase_month': '1', 'purchase_day': '3', 'price': 31061.83}, {'purchase_year': '2018', 'purchase_month': '1', 'purchase_day': '4', 'price': 34137.05}, {'purchase_year': '2018', 'purchase_month': '1', 'purchase_day': '5', 'price': 25901.49}, {'purchase_year': '2018', 'purchase_month': '1', 'purchase_day': '6', 'price': 27513.73}, {'purchase_year': '2018', 'purchase_month': '1', 'purchase_day': '7', 'price': 28320.06}, {'purchase_year': '2018', 'purchase_month': '1', 'purchase_day': '8', 'price': 37611.71}, {'purchase_year': '2018', 'purchase_month': '1', 'purchase_day': '9', 'price': 29865.170000000002}, {'purchase_year': '2018', 'purchase_month': '1', 'purchase_day': '10', 'price': 37384.96}, {'purchase_year': '2018', 'purchase_month': '1', 'purchase_day': '11', 'price': 39648.12}, {'purchase_year': '2018', 'purchase_month': '1', 'purchase_day': '12', 'price': 30174.74}, {'purchase_year': '2018', 'purchase_month': '1', 'purchase_day': '13', 'price': 27402.24}, {'purchase_year': '2018', 'purchase_month': '1', 'purchase_day': '14', 'price': 30606.37}, {'purchase_year': '2018', 'purchase_month': '1', 'purchase_day': '15', 'price': 37765.71}, {'purchase_year': '2018', 'purchase_month': '1', 'purchase_day': '16', 'price': 42306.97}, {'purchase_year': '2018', 'purchase_month': '1', 'purchase_day': '17', 'price': 35283.53}, {'purchase_year': '2018', 'purchase_month': '1', 'purchase_day': '18', 'price': 27684.88}, {'purchase_year': '2018', 'purchase_month': '1', 'purchase_day': '19', 'price': 27146.19}, {'purchase_year': '2018', 'purchase_month': '1', 'purchase_day': '20', 'price': 22152.69}, {'purchase_year': '2018', 'purchase_month': '1', 'purchase_day': '21', 'price': 21728.24}, {'purchase_year': '2018', 'purchase_month': '1', 'purchase_day': '22', 'price': 36787.96}, {'purchase_year': '2018', 'purchase_month': '1', 'purchase_day': '23', 'price': 34046.69}, {'purchase_year': '2018', 'purchase_month': '1', 'purchase_day': '24', 'price': 30949.0}, {'purchase_year': '2018', 'purchase_month': '1', 'purchase_day': '25', 'price': 28822.420000000002}, {'purchase_year': '2018', 'purchase_month': '1', 'purchase_day': '26', 'price': 33598.11}, {'purchase_year': '2018', 'purchase_month': '1', 'purchase_day': '27', 'price': 21544.61}, {'purchase_year': '2018', 'purchase_month': '1', 'purchase_day': '28', 'price': 22614.96}, {'purchase_year': '2018', 'purchase_month': '1', 'purchase_day': '29', 'price': 29987.56}, {'purchase_year': '2018', 'purchase_month': '1', 'purchase_day': '30', 'price': 28640.96}, {'purchase_year': '2018', 'purchase_month': '1', 'purchase_day': '31', 'price': 32226.69}, {'purchase_year': '2018', 'purchase_month': '2', 'purchase_day': '1', 'price': 29865.85}, {'purchase_year': '2018', 'purchase_month': '2', 'purchase_day': '2', 'price': 26885.53}, {'purchase_year': '2018', 'purchase_month': '2', 'purchase_day': '3', 'price': 22822.170000000002}, {'purchase_year': '2018', 'purchase_month': '2', 'purchase_day': '4', 'price': 23507.49}, {'purchase_year': '2018', 'purchase_month': '2', 'purchase_day': '5', 'price': 35467.24}, {'purchase_year': '2018', 'purchase_month': '2', 'purchase_day': '6', 'price': 33539.340000000004}, {'purchase_year': '2018', 'purchase_month': '2', 'purchase_day': '7', 'price': 30891.45}, {'purchase_year': '2018', 'purchase_month': '2', 'purchase_day': '8', 'price': 27074.86}, {'purchase_year': '2018', 'purchase_month': '2', 'purchase_day': '9', 'price': 30571.07}, {'purchase_year': '2018', 'purchase_month': '2', 'purchase_day': '10', 'price': 20579.17}, {'purchase_year': '2018', 'purchase_month': '2', 'purchase_day': '11', 'price': 22014.31}, {'purchase_year': '2018', 'purchase_month': '2', 'purchase_day': '12', 'price': 23255.73}, {'purchase_year': '2018', 'purchase_month': '2', 'purchase_day': '13', 'price': 23059.65}, {'purchase_year': '2018', 'purchase_month': '2', 'purchase_day': '14', 'price': 36580.37}, {'purchase_year': '2018', 'purchase_month': '2', 'purchase_day': '15', 'price': 31290.7}, {'purchase_year': '2018', 'purchase_month': '2', 'purchase_day': '16', 'price': 26668.1}, {'purchase_year': '2018', 'purchase_month': '2', 'purchase_day': '17', 'price': 24662.48}, {'purchase_year': '2018', 'purchase_month': '2', 'purchase_day': '18', 'price': 24141.73}, {'purchase_year': '2018', 'purchase_month': '2', 'purchase_day': '19', 'price': 27581.74}, {'purchase_year': '2018', 'purchase_month': '2', 'purchase_day': '20', 'price': 36289.7}, {'purchase_year': '2018', 'purchase_month': '2', 'purchase_day': '21', 'price': 31508.57}, {'purchase_year': '2018', 'purchase_month': '2', 'purchase_day': '22', 'price': 29828.19}, {'purchase_year': '2018', 'purchase_month': '2', 'purchase_day': '23', 'price': 28327.89}, {'purchase_year': '2018', 'purchase_month': '2', 'purchase_day': '24', 'price': 23995.28}, {'purchase_year': '2018', 'purchase_month': '2', 'purchase_day': '25', 'price': 28397.22}, {'purchase_year': '2018', 'purchase_month': '2', 'purchase_day': '26', 'price': 43372.46}, {'purchase_year': '2018', 'purchase_month': '2', 'purchase_day': '27', 'price': 39901.51}, {'purchase_year': '2018', 'purchase_month': '2', 'purchase_day': '28', 'price': 44387.32}, {'purchase_year': '2018', 'purchase_month': '3', 'purchase_day': '1', 'price': 38918.9}, {'purchase_year': '2018', 'purchase_month': '3', 'purchase_day': '2', 'price': 31378.56}, {'purchase_year': '2018', 'purchase_month': '3', 'purchase_day': '3', 'price': 25925.77}, {'purchase_year': '2018', 'purchase_month': '3', 'purchase_day': '4', 'price': 30922.02}, {'purchase_year': '2018', 'purchase_month': '3', 'purchase_day': '5', 'price': 36822.59}, {'purchase_year': '2018', 'purchase_month': '3', 'purchase_day': '6', 'price': 38217.79}, {'purchase_year': '2018', 'purchase_month': '3', 'purchase_day': '7', 'price': 35398.91}, {'purchase_year': '2018', 'purchase_month': '3', 'purchase_day': '8', 'price': 27521.6}, {'purchase_year': '2018', 'purchase_month': '3', 'purchase_day': '9', 'price': 27192.760000000002}, {'purchase_year': '2018', 'purchase_month': '3', 'purchase_day': '10', 'price': 25262.49}, {'purchase_year': '2018', 'purchase_month': '3', 'purchase_day': '11', 'price': 31078.58}, {'purchase_year': '2018', 'purchase_month': '3', 'purchase_day': '12', 'price': 30082.26}, {'purchase_year': '2018', 'purchase_month': '3', 'purchase_day': '13', 'price': 34400.25}, {'purchase_year': '2018', 'purchase_month': '3', 'purchase_day': '14', 'price': 22466.81}, {'purchase_year': '2018', 'purchase_month': '3', 'purchase_day': '15', 'price': 41686.36}, {'purchase_year': '2018', 'purchase_month': '3', 'purchase_day': '16', 'price': 31928.74}, {'purchase_year': '2018', 'purchase_month': '3', 'purchase_day': '17', 'price': 19725.21}, {'purchase_year': '2018', 'purchase_month': '3', 'purchase_day': '18', 'price': 30582.35}, {'purchase_year': '2018', 'purchase_month': '3', 'purchase_day': '19', 'price': 43419.19}, {'purchase_year': '2018', 'purchase_month': '3', 'purchase_day': '20', 'price': 35076.97}, {'purchase_year': '2018', 'purchase_month': '3', 'purchase_day': '21', 'price': 39133.58}, {'purchase_year': '2018', 'purchase_month': '3', 'purchase_day': '22', 'price': 30400.87}, {'purchase_year': '2018', 'purchase_month': '3', 'purchase_day': '23', 'price': 26706.66}, {'purchase_year': '2018', 'purchase_month': '3', 'purchase_day': '24', 'price': 23584.87}, {'purchase_year': '2018', 'purchase_month': '3', 'purchase_day': '25', 'price': 25336.31}, {'purchase_year': '2018', 'purchase_month': '3', 'purchase_day': '26', 'price': 35008.82}, {'purchase_year': '2018', 'purchase_month': '3', 'purchase_day': '27', 'price': 33609.86}, {'purchase_year': '2018', 'purchase_month': '3', 'purchase_day': '28', 'price': 26972.14}, {'purchase_year': '2018', 'purchase_month': '3', 'purchase_day': '29', 'price': 28336.37}, {'purchase_year': '2018', 'purchase_month': '3', 'purchase_day': '30', 'price': 21871.83}, {'purchase_year': '2018', 'purchase_month': '3', 'purchase_day': '31', 'price': 24386.83}, {'purchase_year': '2018', 'purchase_month': '4', 'purchase_day': '1', 'price': 28553.63}, {'purchase_year': '2018', 'purchase_month': '4', 'purchase_day': '2', 'price': 39041.32}, {'purchase_year': '2018', 'purchase_month': '4', 'purchase_day': '3', 'price': 36107.92}, {'purchase_year': '2018', 'purchase_month': '4', 'purchase_day': '4', 'price': 36706.21}, {'purchase_year': '2018', 'purchase_month': '4', 'purchase_day': '5', 'price': 35763.14}, {'purchase_year': '2018', 'purchase_month': '4', 'purchase_day': '6', 'price': 26528.26}, {'purchase_year': '2018', 'purchase_month': '4', 'purchase_day': '7', 'price': 24874.1}, {'purchase_year': '2018', 'purchase_month': '4', 'purchase_day': '8', 'price': 23212.85}, {'purchase_year': '2018', 'purchase_month': '4', 'purchase_day': '9', 'price': 48922.94}, {'purchase_year': '2018', 'purchase_month': '4', 'purchase_day': '10', 'price': 27416.11}, {'purchase_year': '2018', 'purchase_month': '4', 'purchase_day': '11', 'price': 38318.13}, {'purchase_year': '2018', 'purchase_month': '4', 'purchase_day': '12', 'price': 33952.78}, {'purchase_year': '2018', 'purchase_month': '4', 'purchase_day': '13', 'price': 29605.91}, {'purchase_year': '2018', 'purchase_month': '4', 'purchase_day': '14', 'price': 18776.7}, {'purchase_year': '2018', 'purchase_month': '4', 'purchase_day': '15', 'price': 30171.31}, {'purchase_year': '2018', 'purchase_month': '4', 'purchase_day': '16', 'price': 39973.23}, {'purchase_year': '2018', 'purchase_month': '4', 'purchase_day': '17', 'price': 33777.37}, {'purchase_year': '2018', 'purchase_month': '4', 'purchase_day': '18', 'price': 38231.89}, {'purchase_year': '2018', 'purchase_month': '4', 'purchase_day': '19', 'price': 42749.34}, {'purchase_year': '2018', 'purchase_month': '4', 'purchase_day': '20', 'price': 27176.04}, {'purchase_year': '2018', 'purchase_month': '4', 'purchase_day': '21', 'price': 18839.36}, {'purchase_year': '2018', 'purchase_month': '4', 'purchase_day': '22', 'price': 27171.0}, {'purchase_year': '2018', 'purchase_month': '4', 'purchase_day': '23', 'price': 37135.47}, {'purchase_year': '2018', 'purchase_month': '4', 'purchase_day': '24', 'price': 42219.08}, {'purchase_year': '2018', 'purchase_month': '4', 'purchase_day': '25', 'price': 40621.4}, {'purchase_year': '2018', 'purchase_month': '4', 'purchase_day': '26', 'price': 31263.86}, {'purchase_year': '2018', 'purchase_month': '4', 'purchase_day': '27', 'price': 39552.35}, {'purchase_year': '2018', 'purchase_month': '4', 'purchase_day': '28', 'price': 22511.91}, {'purchase_year': '2018', 'purchase_month': '4', 'purchase_day': '29', 'price': 19156.84}, {'purchase_year': '2018', 'purchase_month': '4', 'purchase_day': '30', 'price': 35203.64}, {'purchase_year': '2018', 'purchase_month': '5', 'purchase_day': '1', 'price': 32695.0}, {'purchase_year': '2018', 'purchase_month': '5', 'purchase_day': '2', 'price': 36451.83}, {'purchase_year': '2018', 'purchase_month': '5', 'purchase_day': '3', 'price': 40915.77}, {'purchase_year': '2018', 'purchase_month': '5', 'purchase_day': '4', 'price': 38990.96}, {'purchase_year': '2018', 'purchase_month': '5', 'purchase_day': '5', 'price': 27825.16}, {'purchase_year': '2018', 'purchase_month': '5', 'purchase_day': '6', 'price': 27800.55}, {'purchase_year': '2018', 'purchase_month': '5', 'purchase_day': '7', 'price': 52726.03}, {'purchase_year': '2018', 'purchase_month': '5', 'purchase_day': '8', 'price': 47145.8}, {'purchase_year': '2018', 'purchase_month': '5', 'purchase_day': '9', 'price': 42308.13}, {'purchase_year': '2018', 'purchase_month': '5', 'purchase_day': '10', 'price': 49689.88}, {'purchase_year': '2018', 'purchase_month': '5', 'purchase_day': '11', 'price': 37785.29}, {'purchase_year': '2018', 'purchase_month': '5', 'purchase_day': '12', 'price': 28736.13}, {'purchase_year': '2018', 'purchase_month': '5', 'purchase_day': '13', 'price': 31203.52}, {'purchase_year': '2018', 'purchase_month': '5', 'purchase_day': '14', 'price': 52633.1}, {'purchase_year': '2018', 'purchase_month': '5', 'purchase_day': '15', 'price': 40879.52}, {'purchase_year': '2018', 'purchase_month': '5', 'purchase_day': '16', 'price': 55562.13}, {'purchase_year': '2018', 'purchase_month': '5', 'purchase_day': '17', 'price': 30876.73}, {'purchase_year': '2018', 'purchase_month': '5', 'purchase_day': '18', 'price': 30941.63}, {'purchase_year': '2018', 'purchase_month': '5', 'purchase_day': '19', 'price': 25052.39}, {'purchase_year': '2018', 'purchase_month': '5', 'purchase_day': '20', 'price': 19163.58}, {'purchase_year': '2018', 'purchase_month': '5', 'purchase_day': '21', 'price': 24546.19}, {'purchase_year': '2018', 'purchase_month': '5', 'purchase_day': '22', 'price': 27229.09}, {'purchase_year': '2018', 'purchase_month': '5', 'purchase_day': '23', 'price': 17501.05}, {'purchase_year': '2018', 'purchase_month': '5', 'purchase_day': '24', 'price': 20023.26}, {'purchase_year': '2018', 'purchase_month': '5', 'purchase_day': '25', 'price': 15888.92}, {'purchase_year': '2018', 'purchase_month': '5', 'purchase_day': '26', 'price': 14799.17}, {'purchase_year': '2018', 'purchase_month': '5', 'purchase_day': '27', 'price': 12523.25}, {'purchase_year': '2018', 'purchase_month': '5', 'purchase_day': '28', 'price': 26702.47}, {'purchase_year': '2018', 'purchase_month': '5', 'purchase_day': '29', 'price': 25572.08}, {'purchase_year': '2018', 'purchase_month': '5', 'purchase_day': '30', 'price': 18994.8}, {'purchase_year': '2018', 'purchase_month': '5', 'purchase_day': '31', 'price': 24381.28}, {'purchase_year': '2018', 'purchase_month': '6', 'purchase_day': '1', 'price': 32298.92}, {'purchase_year': '2018', 'purchase_month': '6', 'purchase_day': '2', 'price': 25216.62}, {'purchase_year': '2018', 'purchase_month': '6', 'purchase_day': '3', 'price': 28096.96}, {'purchase_year': '2018', 'purchase_month': '6', 'purchase_day': '4', 'price': 28209.010000000002}, {'purchase_year': '2018', 'purchase_month': '6', 'purchase_day': '5', 'price': 30524.36}, {'purchase_year': '2018', 'purchase_month': '6', 'purchase_day': '6', 'price': 26134.4}, {'purchase_year': '2018', 'purchase_month': '6', 'purchase_day': '7', 'price': 37020.4}, {'purchase_year': '2018', 'purchase_month': '6', 'purchase_day': '8', 'price': 26050.03}, {'purchase_year': '2018', 'purchase_month': '6', 'purchase_day': '9', 'price': 29172.11}, {'purchase_year': '2018', 'purchase_month': '6', 'purchase_day': '10', 'price': 25360.34}, {'purchase_year': '2018', 'purchase_month': '6', 'purchase_day': '11', 'price': 49669.7}, {'purchase_year': '2018', 'purchase_month': '6', 'purchase_day': '12', 'price': 40267.2}, {'purchase_year': '2018', 'purchase_month': '6', 'purchase_day': '13', 'price': 33791.840000000004}, {'purchase_year': '2018', 'purchase_month': '6', 'purchase_day': '14', 'price': 27369.6}, {'purchase_year': '2018', 'purchase_month': '6', 'purchase_day': '15', 'price': 26313.76}, {'purchase_year': '2018', 'purchase_month': '6', 'purchase_day': '16', 'price': 24287.170000000002}, {'purchase_year': '2018', 'purchase_month': '6', 'purchase_day': '17', 'price': 17238.33}, {'purchase_year': '2018', 'purchase_month': '6', 'purchase_day': '18', 'price': 33724.5}, {'purchase_year': '2018', 'purchase_month': '6', 'purchase_day': '19', 'price': 34103.02}, {'purchase_year': '2018', 'purchase_month': '6', 'purchase_day': '20', 'price': 28393.99}, {'purchase_year': '2018', 'purchase_month': '6', 'purchase_day': '21', 'price': 27595.68}, {'purchase_year': '2018', 'purchase_month': '6', 'purchase_day': '22', 'price': 24567.23}, {'purchase_year': '2018', 'purchase_month': '6', 'purchase_day': '23', 'price': 17397.05}, {'purchase_year': '2018', 'purchase_month': '6', 'purchase_day': '24', 'price': 24303.6}, {'purchase_year': '2018', 'purchase_month': '6', 'purchase_day': '25', 'price': 35346.52}, {'purchase_year': '2018', 'purchase_month': '6', 'purchase_day': '26', 'price': 30420.59}, {'purchase_year': '2018', 'purchase_month': '6', 'purchase_day': '27', 'price': 26450.58}, {'purchase_year': '2018', 'purchase_month': '6', 'purchase_day': '28', 'price': 30681.0}, {'purchase_year': '2018', 'purchase_month': '6', 'purchase_day': '29', 'price': 20277.58}, {'purchase_year': '2018', 'purchase_month': '6', 'purchase_day': '30', 'price': 15309.880000000001}, {'purchase_year': '2018', 'purchase_month': '7', 'purchase_day': '1', 'price': 23418.48}, {'purchase_year': '2018', 'purchase_month': '7', 'purchase_day': '2', 'price': 22872.2}, {'purchase_year': '2018', 'purchase_month': '7', 'purchase_day': '3', 'price': 26102.52}, {'purchase_year': '2018', 'purchase_month': '7', 'purchase_day': '4', 'price': 35149.77}, {'purchase_year': '2018', 'purchase_month': '7', 'purchase_day': '5', 'price': 28490.43}, {'purchase_year': '2018', 'purchase_month': '7', 'purchase_day': '6', 'price': 18739.64}, {'purchase_year': '2018', 'purchase_month': '7', 'purchase_day': '7', 'price': 8816.76}, {'purchase_year': '2018', 'purchase_month': '7', 'purchase_day': '8', 'price': 14064.7}, {'purchase_year': '2018', 'purchase_month': '7', 'purchase_day': '9', 'price': 19360.95}, {'purchase_year': '2018', 'purchase_month': '7', 'purchase_day': '10', 'price': 18127.59}, {'purchase_year': '2018', 'purchase_month': '7', 'purchase_day': '11', 'price': 17719.1}, {'purchase_year': '2018', 'purchase_month': '7', 'purchase_day': '12', 'price': 19551.98}, {'purchase_year': '2018', 'purchase_month': '7', 'purchase_day': '13', 'price': 27644.23}, {'purchase_year': '2018', 'purchase_month': '7', 'purchase_day': '14', 'price': 21542.920000000002}, {'purchase_year': '2018', 'purchase_month': '7', 'purchase_day': '15', 'price': 29518.6}, {'purchase_year': '2018', 'purchase_month': '7', 'purchase_day': '16', 'price': 29990.09}, {'purchase_year': '2018', 'purchase_month': '7', 'purchase_day': '17', 'price': 29532.13}, {'purchase_year': '2018', 'purchase_month': '7', 'purchase_day': '18', 'price': 40860.9}, {'purchase_year': '2018', 'purchase_month': '7', 'purchase_day': '19', 'price': 38426.79}, {'purchase_year': '2018', 'purchase_month': '7', 'purchase_day': '20', 'price': 31898.19}, {'purchase_year': '2018', 'purchase_month': '7', 'purchase_day': '21', 'price': 20845.68}, {'purchase_year': '2018', 'purchase_month': '7', 'purchase_day': '22', 'price': 25903.420000000002}, {'purchase_year': '2018', 'purchase_month': '7', 'purchase_day': '23', 'price': 39296.34}, {'purchase_year': '2018', 'purchase_month': '7', 'purchase_day': '24', 'price': 39903.0}, {'purchase_year': '2018', 'purchase_month': '7', 'purchase_day': '25', 'price': 40183.26}, {'purchase_year': '2018', 'purchase_month': '7', 'purchase_day': '26', 'price': 34744.03}, {'purchase_year': '2018', 'purchase_month': '7', 'purchase_day': '27', 'price': 28104.86}, {'purchase_year': '2018', 'purchase_month': '7', 'purchase_day': '28', 'price': 24813.32}, {'purchase_year': '2018', 'purchase_month': '7', 'purchase_day': '29', 'price': 29453.61}, {'purchase_year': '2018', 'purchase_month': '7', 'purchase_day': '30', 'price': 37606.96}, {'purchase_year': '2018', 'purchase_month': '7', 'purchase_day': '31', 'price': 44804.02}, {'purchase_year': '2018', 'purchase_month': '8', 'purchase_day': '1', 'price': 40244.22}, {'purchase_year': '2018', 'purchase_month': '8', 'purchase_day': '2', 'price': 37834.35}, {'purchase_year': '2018', 'purchase_month': '8', 'purchase_day': '3', 'price': 41477.14}, {'purchase_year': '2018', 'purchase_month': '8', 'purchase_day': '4', 'price': 34646.27}, {'purchase_year': '2018', 'purchase_month': '8', 'purchase_day': '5', 'price': 34701.48}, {'purchase_year': '2018', 'purchase_month': '8', 'purchase_day': '6', 'price': 53475.41}, {'purchase_year': '2018', 'purchase_month': '8', 'purchase_day': '7', 'price': 46744.2}, {'purchase_year': '2018', 'purchase_month': '8', 'purchase_day': '8', 'price': 42449.38}, {'purchase_year': '2018', 'purchase_month': '8', 'purchase_day': '9', 'price': 39659.48}, {'purchase_year': '2018', 'purchase_month': '8', 'purchase_day': '10', 'price': 32841.77}, {'purchase_year': '2018', 'purchase_month': '8', 'purchase_day': '11', 'price': 25916.03}, {'purchase_year': '2018', 'purchase_month': '8', 'purchase_day': '12', 'price': 29150.53}, {'purchase_year': '2018', 'purchase_month': '8', 'purchase_day': '13', 'price': 38245.22}, {'purchase_year': '2018', 'purchase_month': '8', 'purchase_day': '14', 'price': 43900.96}, {'purchase_year': '2018', 'purchase_month': '8', 'purchase_day': '15', 'price': 45376.15}, {'purchase_year': '2018', 'purchase_month': '8', 'purchase_day': '16', 'price': 35166.77}, {'purchase_year': '2018', 'purchase_month': '8', 'purchase_day': '17', 'price': 31124.03}, {'purchase_year': '2018', 'purchase_month': '8', 'purchase_day': '18', 'price': 24157.5}, {'purchase_year': '2018', 'purchase_month': '8', 'purchase_day': '19', 'price': 25487.39}, {'purchase_year': '2018', 'purchase_month': '8', 'purchase_day': '20', 'price': 33749.5}, {'purchase_year': '2018', 'purchase_month': '8', 'purchase_day': '21', 'price': 26274.06}, {'purchase_year': '2018', 'purchase_month': '8', 'purchase_day': '22', 'price': 20247.24}, {'purchase_year': '2018', 'purchase_month': '8', 'purchase_day': '23', 'price': 17030.87}, {'purchase_year': '2018', 'purchase_month': '8', 'purchase_day': '24', 'price': 9440.71}, {'purchase_year': '2018', 'purchase_month': '8', 'purchase_day': '25', 'price': 10599.41}, {'purchase_year': '2018', 'purchase_month': '8', 'purchase_day': '26', 'price': 8070.71}, {'purchase_year': '2018', 'purchase_month': '8', 'purchase_day': '27', 'price': 5345.91}, {'purchase_year': '2018', 'purchase_month': '8', 'purchase_day': '28', 'price': 3673.91}, {'purchase_year': '2018', 'purchase_month': '8', 'purchase_day': '29', 'price': 1546.04}, {'purchase_year': '2016', 'purchase_month': 1, 'purchase_day': 1, 'price': 0}, {'purchase_year': '2016', 'purchase_month': 1, 'purchase_day': 2, 'price': 0}, {'purchase_year': '2016', 'purchase_month': 1, 'purchase_day': 3, 'price': 0}, {'purchase_year': '2016', 'purchase_month': 1, 'purchase_day': 4, 'price': 0}, {'purchase_year': '2016', 'purchase_month': 1, 'purchase_day': 5, 'price': 0}, {'purchase_year': '2016', 'purchase_month': 1, 'purchase_day': 6, 'price': 0}, {'purchase_year': '2016', 'purchase_month': 1, 'purchase_day': 7, 'price': 0}, {'purchase_year': '2016', 'purchase_month': 1, 'purchase_day': 8, 'price': 0}, {'purchase_year': '2016', 'purchase_month': 1, 'purchase_day': 9, 'price': 0}, {'purchase_year': '2016', 'purchase_month': 1, 'purchase_day': 10, 'price': 0}, {'purchase_year': '2016', 'purchase_month': 1, 'purchase_day': 11, 'price': 0}, {'purchase_year': '2016', 'purchase_month': 1, 'purchase_day': 12, 'price': 0}, {'purchase_year': '2016', 'purchase_month': 1, 'purchase_day': 13, 'price': 0}, {'purchase_year': '2016', 'purchase_month': 1, 'purchase_day': 14, 'price': 0}, {'purchase_year': '2016', 'purchase_month': 1, 'purchase_day': 15, 'price': 0}, {'purchase_year': '2016', 'purchase_month': 1, 'purchase_day': 16, 'price': 0}, {'purchase_year': '2016', 'purchase_month': 1, 'purchase_day': 17, 'price': 0}, {'purchase_year': '2016', 'purchase_month': 1, 'purchase_day': 18, 'price': 0}, {'purchase_year': '2016', 'purchase_month': 1, 'purchase_day': 19, 'price': 0}, {'purchase_year': '2016', 'purchase_month': 1, 'purchase_day': 20, 'price': 0}, {'purchase_year': '2016', 'purchase_month': 1, 'purchase_day': 21, 'price': 0}, {'purchase_year': '2016', 'purchase_month': 1, 'purchase_day': 22, 'price': 0}, {'purchase_year': '2016', 'purchase_month': 1, 'purchase_day': 23, 'price': 0}, {'purchase_year': '2016', 'purchase_month': 1, 'purchase_day': 24, 'price': 0}, {'purchase_year': '2016', 'purchase_month': 1, 'purchase_day': 25, 'price': 0}, {'purchase_year': '2016', 'purchase_month': 1, 'purchase_day': 26, 'price': 0}, {'purchase_year': '2016', 'purchase_month': 1, 'purchase_day': 27, 'price': 0}, {'purchase_year': '2016', 'purchase_month': 1, 'purchase_day': 28, 'price': 0}, {'purchase_year': '2016', 'purchase_month': 1, 'purchase_day': 29, 'price': 0}, {'purchase_year': '2016', 'purchase_month': 1, 'purchase_day': 30, 'price': 0}, {'purchase_year': '2016', 'purchase_month': 1, 'purchase_day': 31, 'price': 0}, {'purchase_year': '2016', 'purchase_month': 2, 'purchase_day': 1, 'price': 0}, {'purchase_year': '2016', 'purchase_month': 2, 'purchase_day': 2, 'price': 0}, {'purchase_year': '2016', 'purchase_month': 2, 'purchase_day': 3, 'price': 0}, {'purchase_year': '2016', 'purchase_month': 2, 'purchase_day': 4, 'price': 0}, {'purchase_year': '2016', 'purchase_month': 2, 'purchase_day': 5, 'price': 0}, {'purchase_year': '2016', 'purchase_month': 2, 'purchase_day': 6, 'price': 0}, {'purchase_year': '2016', 'purchase_month': 2, 'purchase_day': 7, 'price': 0}, {'purchase_year': '2016', 'purchase_month': 2, 'purchase_day': 8, 'price': 0}, {'purchase_year': '2016', 'purchase_month': 2, 'purchase_day': 9, 'price': 0}, {'purchase_year': '2016', 'purchase_month': 2, 'purchase_day': 10, 'price': 0}, {'purchase_year': '2016', 'purchase_month': 2, 'purchase_day': 11, 'price': 0}, {'purchase_year': '2016', 'purchase_month': 2, 'purchase_day': 12, 'price': 0}, {'purchase_year': '2016', 'purchase_month': 2, 'purchase_day': 13, 'price': 0}, {'purchase_year': '2016', 'purchase_month': 2, 'purchase_day': 14, 'price': 0}, {'purchase_year': '2016', 'purchase_month': 2, 'purchase_day': 15, 'price': 0}, {'purchase_year': '2016', 'purchase_month': 2, 'purchase_day': 16, 'price': 0}, {'purchase_year': '2016', 'purchase_month': 2, 'purchase_day': 17, 'price': 0}, {'purchase_year': '2016', 'purchase_month': 2, 'purchase_day': 18, 'price': 0}, {'purchase_year': '2016', 'purchase_month': 2, 'purchase_day': 19, 'price': 0}, {'purchase_year': '2016', 'purchase_month': 2, 'purchase_day': 20, 'price': 0}, {'purchase_year': '2016', 'purchase_month': 2, 'purchase_day': 21, 'price': 0}, {'purchase_year': '2016', 'purchase_month': 2, 'purchase_day': 22, 'price': 0}, {'purchase_year': '2016', 'purchase_month': 2, 'purchase_day': 23, 'price': 0}, {'purchase_year': '2016', 'purchase_month': 2, 'purchase_day': 24, 'price': 0}, {'purchase_year': '2016', 'purchase_month': 2, 'purchase_day': 25, 'price': 0}, {'purchase_year': '2016', 'purchase_month': 2, 'purchase_day': 26, 'price': 0}, {'purchase_year': '2016', 'purchase_month': 2, 'purchase_day': 27, 'price': 0}, {'purchase_year': '2016', 'purchase_month': 2, 'purchase_day': 28, 'price': 0}, {'purchase_year': '2016', 'purchase_month': 2, 'purchase_day': 29, 'price': 0}, {'purchase_year': '2016', 'purchase_month': 2, 'purchase_day': 30, 'price': 0}, {'purchase_year': '2016', 'purchase_month': 2, 'purchase_day': 31, 'price': 0}, {'purchase_year': '2016', 'purchase_month': 3, 'purchase_day': 1, 'price': 0}, {'purchase_year': '2016', 'purchase_month': 3, 'purchase_day': 2, 'price': 0}, {'purchase_year': '2016', 'purchase_month': 3, 'purchase_day': 3, 'price': 0}, {'purchase_year': '2016', 'purchase_month': 3, 'purchase_day': 4, 'price': 0}, {'purchase_year': '2016', 'purchase_month': 3, 'purchase_day': 5, 'price': 0}, {'purchase_year': '2016', 'purchase_month': 3, 'purchase_day': 6, 'price': 0}, {'purchase_year': '2016', 'purchase_month': 3, 'purchase_day': 7, 'price': 0}, {'purchase_year': '2016', 'purchase_month': 3, 'purchase_day': 8, 'price': 0}, {'purchase_year': '2016', 'purchase_month': 3, 'purchase_day': 9, 'price': 0}, {'purchase_year': '2016', 'purchase_month': 3, 'purchase_day': 10, 'price': 0}, {'purchase_year': '2016', 'purchase_month': 3, 'purchase_day': 11, 'price': 0}, {'purchase_year': '2016', 'purchase_month': 3, 'purchase_day': 12, 'price': 0}, {'purchase_year': '2016', 'purchase_month': 3, 'purchase_day': 13, 'price': 0}, {'purchase_year': '2016', 'purchase_month': 3, 'purchase_day': 14, 'price': 0}, {'purchase_year': '2016', 'purchase_month': 3, 'purchase_day': 15, 'price': 0}, {'purchase_year': '2016', 'purchase_month': 3, 'purchase_day': 16, 'price': 0}, {'purchase_year': '2016', 'purchase_month': 3, 'purchase_day': 17, 'price': 0}, {'purchase_year': '2016', 'purchase_month': 3, 'purchase_day': 18, 'price': 0}, {'purchase_year': '2016', 'purchase_month': 3, 'purchase_day': 19, 'price': 0}, {'purchase_year': '2016', 'purchase_month': 3, 'purchase_day': 20, 'price': 0}, {'purchase_year': '2016', 'purchase_month': 3, 'purchase_day': 21, 'price': 0}, {'purchase_year': '2016', 'purchase_month': 3, 'purchase_day': 22, 'price': 0}, {'purchase_year': '2016', 'purchase_month': 3, 'purchase_day': 23, 'price': 0}, {'purchase_year': '2016', 'purchase_month': 3, 'purchase_day': 24, 'price': 0}, {'purchase_year': '2016', 'purchase_month': 3, 'purchase_day': 25, 'price': 0}, {'purchase_year': '2016', 'purchase_month': 3, 'purchase_day': 26, 'price': 0}, {'purchase_year': '2016', 'purchase_month': 3, 'purchase_day': 27, 'price': 0}, {'purchase_year': '2016', 'purchase_month': 3, 'purchase_day': 28, 'price': 0}, {'purchase_year': '2016', 'purchase_month': 3, 'purchase_day': 29, 'price': 0}, {'purchase_year': '2016', 'purchase_month': 3, 'purchase_day': 30, 'price': 0}, {'purchase_year': '2016', 'purchase_month': 3, 'purchase_day': 31, 'price': 0}, {'purchase_year': '2016', 'purchase_month': 4, 'purchase_day': 1, 'price': 0}, {'purchase_year': '2016', 'purchase_month': 4, 'purchase_day': 2, 'price': 0}, {'purchase_year': '2016', 'purchase_month': 4, 'purchase_day': 3, 'price': 0}, {'purchase_year': '2016', 'purchase_month': 4, 'purchase_day': 4, 'price': 0}, {'purchase_year': '2016', 'purchase_month': 4, 'purchase_day': 5, 'price': 0}, {'purchase_year': '2016', 'purchase_month': 4, 'purchase_day': 6, 'price': 0}, {'purchase_year': '2016', 'purchase_month': 4, 'purchase_day': 7, 'price': 0}, {'purchase_year': '2016', 'purchase_month': 4, 'purchase_day': 8, 'price': 0}, {'purchase_year': '2016', 'purchase_month': 4, 'purchase_day': 9, 'price': 0}, {'purchase_year': '2016', 'purchase_month': 4, 'purchase_day': 10, 'price': 0}, {'purchase_year': '2016', 'purchase_month': 4, 'purchase_day': 11, 'price': 0}, {'purchase_year': '2016', 'purchase_month': 4, 'purchase_day': 12, 'price': 0}, {'purchase_year': '2016', 'purchase_month': 4, 'purchase_day': 13, 'price': 0}, {'purchase_year': '2016', 'purchase_month': 4, 'purchase_day': 14, 'price': 0}, {'purchase_year': '2016', 'purchase_month': 4, 'purchase_day': 15, 'price': 0}, {'purchase_year': '2016', 'purchase_month': 4, 'purchase_day': 16, 'price': 0}, {'purchase_year': '2016', 'purchase_month': 4, 'purchase_day': 17, 'price': 0}, {'purchase_year': '2016', 'purchase_month': 4, 'purchase_day': 18, 'price': 0}, {'purchase_year': '2016', 'purchase_month': 4, 'purchase_day': 19, 'price': 0}, {'purchase_year': '2016', 'purchase_month': 4, 'purchase_day': 20, 'price': 0}, {'purchase_year': '2016', 'purchase_month': 4, 'purchase_day': 21, 'price': 0}, {'purchase_year': '2016', 'purchase_month': 4, 'purchase_day': 22, 'price': 0}, {'purchase_year': '2016', 'purchase_month': 4, 'purchase_day': 23, 'price': 0}, {'purchase_year': '2016', 'purchase_month': 4, 'purchase_day': 24, 'price': 0}, {'purchase_year': '2016', 'purchase_month': 4, 'purchase_day': 25, 'price': 0}, {'purchase_year': '2016', 'purchase_month': 4, 'purchase_day': 26, 'price': 0}, {'purchase_year': '2016', 'purchase_month': 4, 'purchase_day': 27, 'price': 0}, {'purchase_year': '2016', 'purchase_month': 4, 'purchase_day': 28, 'price': 0}, {'purchase_year': '2016', 'purchase_month': 4, 'purchase_day': 29, 'price': 0}, {'purchase_year': '2016', 'purchase_month': 4, 'purchase_day': 30, 'price': 0}, {'purchase_year': '2016', 'purchase_month': 4, 'purchase_day': 31, 'price': 0}, {'purchase_year': '2016', 'purchase_month': 5, 'purchase_day': 1, 'price': 0}, {'purchase_year': '2016', 'purchase_month': 5, 'purchase_day': 2, 'price': 0}, {'purchase_year': '2016', 'purchase_month': 5, 'purchase_day': 3, 'price': 0}, {'purchase_year': '2016', 'purchase_month': 5, 'purchase_day': 4, 'price': 0}, {'purchase_year': '2016', 'purchase_month': 5, 'purchase_day': 5, 'price': 0}, {'purchase_year': '2016', 'purchase_month': 5, 'purchase_day': 6, 'price': 0}, {'purchase_year': '2016', 'purchase_month': 5, 'purchase_day': 7, 'price': 0}, {'purchase_year': '2016', 'purchase_month': 5, 'purchase_day': 8, 'price': 0}, {'purchase_year': '2016', 'purchase_month': 5, 'purchase_day': 9, 'price': 0}, {'purchase_year': '2016', 'purchase_month': 5, 'purchase_day': 10, 'price': 0}, {'purchase_year': '2016', 'purchase_month': 5, 'purchase_day': 11, 'price': 0}, {'purchase_year': '2016', 'purchase_month': 5, 'purchase_day': 12, 'price': 0}, {'purchase_year': '2016', 'purchase_month': 5, 'purchase_day': 13, 'price': 0}, {'purchase_year': '2016', 'purchase_month': 5, 'purchase_day': 14, 'price': 0}, {'purchase_year': '2016', 'purchase_month': 5, 'purchase_day': 15, 'price': 0}, {'purchase_year': '2016', 'purchase_month': 5, 'purchase_day': 16, 'price': 0}, {'purchase_year': '2016', 'purchase_month': 5, 'purchase_day': 17, 'price': 0}, {'purchase_year': '2016', 'purchase_month': 5, 'purchase_day': 18, 'price': 0}, {'purchase_year': '2016', 'purchase_month': 5, 'purchase_day': 19, 'price': 0}, {'purchase_year': '2016', 'purchase_month': 5, 'purchase_day': 20, 'price': 0}, {'purchase_year': '2016', 'purchase_month': 5, 'purchase_day': 21, 'price': 0}, {'purchase_year': '2016', 'purchase_month': 5, 'purchase_day': 22, 'price': 0}, {'purchase_year': '2016', 'purchase_month': 5, 'purchase_day': 23, 'price': 0}, {'purchase_year': '2016', 'purchase_month': 5, 'purchase_day': 24, 'price': 0}, {'purchase_year': '2016', 'purchase_month': 5, 'purchase_day': 25, 'price': 0}, {'purchase_year': '2016', 'purchase_month': 5, 'purchase_day': 26, 'price': 0}, {'purchase_year': '2016', 'purchase_month': 5, 'purchase_day': 27, 'price': 0}, {'purchase_year': '2016', 'purchase_month': 5, 'purchase_day': 28, 'price': 0}, {'purchase_year': '2016', 'purchase_month': 5, 'purchase_day': 29, 'price': 0}, {'purchase_year': '2016', 'purchase_month': 5, 'purchase_day': 30, 'price': 0}, {'purchase_year': '2016', 'purchase_month': 5, 'purchase_day': 31, 'price': 0}, {'purchase_year': '2016', 'purchase_month': 6, 'purchase_day': 1, 'price': 0}, {'purchase_year': '2016', 'purchase_month': 6, 'purchase_day': 2, 'price': 0}, {'purchase_year': '2016', 'purchase_month': 6, 'purchase_day': 3, 'price': 0}, {'purchase_year': '2016', 'purchase_month': 6, 'purchase_day': 4, 'price': 0}, {'purchase_year': '2016', 'purchase_month': 6, 'purchase_day': 5, 'price': 0}, {'purchase_year': '2016', 'purchase_month': 6, 'purchase_day': 6, 'price': 0}, {'purchase_year': '2016', 'purchase_month': 6, 'purchase_day': 7, 'price': 0}, {'purchase_year': '2016', 'purchase_month': 6, 'purchase_day': 8, 'price': 0}, {'purchase_year': '2016', 'purchase_month': 6, 'purchase_day': 9, 'price': 0}, {'purchase_year': '2016', 'purchase_month': 6, 'purchase_day': 10, 'price': 0}, {'purchase_year': '2016', 'purchase_month': 6, 'purchase_day': 11, 'price': 0}, {'purchase_year': '2016', 'purchase_month': 6, 'purchase_day': 12, 'price': 0}, {'purchase_year': '2016', 'purchase_month': 6, 'purchase_day': 13, 'price': 0}, {'purchase_year': '2016', 'purchase_month': 6, 'purchase_day': 14, 'price': 0}, {'purchase_year': '2016', 'purchase_month': 6, 'purchase_day': 15, 'price': 0}, {'purchase_year': '2016', 'purchase_month': 6, 'purchase_day': 16, 'price': 0}, {'purchase_year': '2016', 'purchase_month': 6, 'purchase_day': 17, 'price': 0}, {'purchase_year': '2016', 'purchase_month': 6, 'purchase_day': 18, 'price': 0}, {'purchase_year': '2016', 'purchase_month': 6, 'purchase_day': 19, 'price': 0}, {'purchase_year': '2016', 'purchase_month': 6, 'purchase_day': 20, 'price': 0}, {'purchase_year': '2016', 'purchase_month': 6, 'purchase_day': 21, 'price': 0}, {'purchase_year': '2016', 'purchase_month': 6, 'purchase_day': 22, 'price': 0}, {'purchase_year': '2016', 'purchase_month': 6, 'purchase_day': 23, 'price': 0}, {'purchase_year': '2016', 'purchase_month': 6, 'purchase_day': 24, 'price': 0}, {'purchase_year': '2016', 'purchase_month': 6, 'purchase_day': 25, 'price': 0}, {'purchase_year': '2016', 'purchase_month': 6, 'purchase_day': 26, 'price': 0}, {'purchase_year': '2016', 'purchase_month': 6, 'purchase_day': 27, 'price': 0}, {'purchase_year': '2016', 'purchase_month': 6, 'purchase_day': 28, 'price': 0}, {'purchase_year': '2016', 'purchase_month': 6, 'purchase_day': 29, 'price': 0}, {'purchase_year': '2016', 'purchase_month': 6, 'purchase_day': 30, 'price': 0}, {'purchase_year': '2016', 'purchase_month': 6, 'purchase_day': 31, 'price': 0}, {'purchase_year': '2016', 'purchase_month': 7, 'purchase_day': 1, 'price': 0}, {'purchase_year': '2016', 'purchase_month': 7, 'purchase_day': 2, 'price': 0}, {'purchase_year': '2016', 'purchase_month': 7, 'purchase_day': 3, 'price': 0}, {'purchase_year': '2016', 'purchase_month': 7, 'purchase_day': 4, 'price': 0}, {'purchase_year': '2016', 'purchase_month': 7, 'purchase_day': 5, 'price': 0}, {'purchase_year': '2016', 'purchase_month': 7, 'purchase_day': 6, 'price': 0}, {'purchase_year': '2016', 'purchase_month': 7, 'purchase_day': 7, 'price': 0}, {'purchase_year': '2016', 'purchase_month': 7, 'purchase_day': 8, 'price': 0}, {'purchase_year': '2016', 'purchase_month': 7, 'purchase_day': 9, 'price': 0}, {'purchase_year': '2016', 'purchase_month': 7, 'purchase_day': 10, 'price': 0}, {'purchase_year': '2016', 'purchase_month': 7, 'purchase_day': 11, 'price': 0}, {'purchase_year': '2016', 'purchase_month': 7, 'purchase_day': 12, 'price': 0}, {'purchase_year': '2016', 'purchase_month': 7, 'purchase_day': 13, 'price': 0}, {'purchase_year': '2016', 'purchase_month': 7, 'purchase_day': 14, 'price': 0}, {'purchase_year': '2016', 'purchase_month': 7, 'purchase_day': 15, 'price': 0}, {'purchase_year': '2016', 'purchase_month': 7, 'purchase_day': 16, 'price': 0}, {'purchase_year': '2016', 'purchase_month': 7, 'purchase_day': 17, 'price': 0}, {'purchase_year': '2016', 'purchase_month': 7, 'purchase_day': 18, 'price': 0}, {'purchase_year': '2016', 'purchase_month': 7, 'purchase_day': 19, 'price': 0}, {'purchase_year': '2016', 'purchase_month': 7, 'purchase_day': 20, 'price': 0}, {'purchase_year': '2016', 'purchase_month': 7, 'purchase_day': 21, 'price': 0}, {'purchase_year': '2016', 'purchase_month': 7, 'purchase_day': 22, 'price': 0}, {'purchase_year': '2016', 'purchase_month': 7, 'purchase_day': 23, 'price': 0}, {'purchase_year': '2016', 'purchase_month': 7, 'purchase_day': 24, 'price': 0}, {'purchase_year': '2016', 'purchase_month': 7, 'purchase_day': 25, 'price': 0}, {'purchase_year': '2016', 'purchase_month': 7, 'purchase_day': 26, 'price': 0}, {'purchase_year': '2016', 'purchase_month': 7, 'purchase_day': 27, 'price': 0}, {'purchase_year': '2016', 'purchase_month': 7, 'purchase_day': 28, 'price': 0}, {'purchase_year': '2016', 'purchase_month': 7, 'purchase_day': 29, 'price': 0}, {'purchase_year': '2016', 'purchase_month': 7, 'purchase_day': 30, 'price': 0}, {'purchase_year': '2016', 'purchase_month': 7, 'purchase_day': 31, 'price': 0}, {'purchase_year': '2016', 'purchase_month': 8, 'purchase_day': 1, 'price': 0}, {'purchase_year': '2016', 'purchase_month': 8, 'purchase_day': 2, 'price': 0}, {'purchase_year': '2016', 'purchase_month': 8, 'purchase_day': 3, 'price': 0}, {'purchase_year': '2016', 'purchase_month': 8, 'purchase_day': 4, 'price': 0}, {'purchase_year': '2016', 'purchase_month': 8, 'purchase_day': 5, 'price': 0}, {'purchase_year': '2016', 'purchase_month': 8, 'purchase_day': 6, 'price': 0}, {'purchase_year': '2016', 'purchase_month': 8, 'purchase_day': 7, 'price': 0}, {'purchase_year': '2016', 'purchase_month': 8, 'purchase_day': 8, 'price': 0}, {'purchase_year': '2016', 'purchase_month': 8, 'purchase_day': 9, 'price': 0}, {'purchase_year': '2016', 'purchase_month': 8, 'purchase_day': 10, 'price': 0}, {'purchase_year': '2016', 'purchase_month': 8, 'purchase_day': 11, 'price': 0}, {'purchase_year': '2016', 'purchase_month': 8, 'purchase_day': 12, 'price': 0}, {'purchase_year': '2016', 'purchase_month': 8, 'purchase_day': 13, 'price': 0}, {'purchase_year': '2016', 'purchase_month': 8, 'purchase_day': 14, 'price': 0}, {'purchase_year': '2016', 'purchase_month': 8, 'purchase_day': 15, 'price': 0}, {'purchase_year': '2016', 'purchase_month': 8, 'purchase_day': 16, 'price': 0}, {'purchase_year': '2016', 'purchase_month': 8, 'purchase_day': 17, 'price': 0}, {'purchase_year': '2016', 'purchase_month': 8, 'purchase_day': 18, 'price': 0}, {'purchase_year': '2016', 'purchase_month': 8, 'purchase_day': 19, 'price': 0}, {'purchase_year': '2016', 'purchase_month': 8, 'purchase_day': 20, 'price': 0}, {'purchase_year': '2016', 'purchase_month': 8, 'purchase_day': 21, 'price': 0}, {'purchase_year': '2016', 'purchase_month': 8, 'purchase_day': 22, 'price': 0}, {'purchase_year': '2016', 'purchase_month': 8, 'purchase_day': 23, 'price': 0}, {'purchase_year': '2016', 'purchase_month': 8, 'purchase_day': 24, 'price': 0}, {'purchase_year': '2016', 'purchase_month': 8, 'purchase_day': 25, 'price': 0}, {'purchase_year': '2016', 'purchase_month': 8, 'purchase_day': 26, 'price': 0}, {'purchase_year': '2016', 'purchase_month': 8, 'purchase_day': 27, 'price': 0}, {'purchase_year': '2016', 'purchase_month': 8, 'purchase_day': 28, 'price': 0}, {'purchase_year': '2016', 'purchase_month': 8, 'purchase_day': 29, 'price': 0}, {'purchase_year': '2016', 'purchase_month': 8, 'purchase_day': 30, 'price': 0}, {'purchase_year': '2016', 'purchase_month': 8, 'purchase_day': 31, 'price': 0}, {'purchase_year': '2016', 'purchase_month': 9, 'purchase_day': 1, 'price': 0}, {'purchase_year': '2016', 'purchase_month': 9, 'purchase_day': 2, 'price': 0}, {'purchase_year': '2016', 'purchase_month': 9, 'purchase_day': 3, 'price': 0}, {'purchase_year': '2016', 'purchase_month': 9, 'purchase_day': 4, 'price': 0}, {'purchase_year': '2016', 'purchase_month': 9, 'purchase_day': 5, 'price': 0}, {'purchase_year': '2016', 'purchase_month': 9, 'purchase_day': 6, 'price': 0}, {'purchase_year': '2016', 'purchase_month': 9, 'purchase_day': 7, 'price': 0}, {'purchase_year': '2016', 'purchase_month': 9, 'purchase_day': 8, 'price': 0}, {'purchase_year': '2016', 'purchase_month': 9, 'purchase_day': 9, 'price': 0}, {'purchase_year': '2016', 'purchase_month': 9, 'purchase_day': 10, 'price': 0}, {'purchase_year': '2016', 'purchase_month': 9, 'purchase_day': 11, 'price': 0}, {'purchase_year': '2016', 'purchase_month': 9, 'purchase_day': 12, 'price': 0}, {'purchase_year': '2016', 'purchase_month': 9, 'purchase_day': 13, 'price': 0}, {'purchase_year': '2016', 'purchase_month': 9, 'purchase_day': 14, 'price': 0}, {'purchase_year': '2016', 'purchase_month': 9, 'purchase_day': 16, 'price': 0}, {'purchase_year': '2016', 'purchase_month': 9, 'purchase_day': 17, 'price': 0}, {'purchase_year': '2016', 'purchase_month': 9, 'purchase_day': 18, 'price': 0}, {'purchase_year': '2016', 'purchase_month': 9, 'purchase_day': 19, 'price': 0}, {'purchase_year': '2016', 'purchase_month': 9, 'purchase_day': 20, 'price': 0}, {'purchase_year': '2016', 'purchase_month': 9, 'purchase_day': 21, 'price': 0}, {'purchase_year': '2016', 'purchase_month': 9, 'purchase_day': 22, 'price': 0}, {'purchase_year': '2016', 'purchase_month': 9, 'purchase_day': 23, 'price': 0}, {'purchase_year': '2016', 'purchase_month': 9, 'purchase_day': 24, 'price': 0}, {'purchase_year': '2016', 'purchase_month': 9, 'purchase_day': 25, 'price': 0}, {'purchase_year': '2016', 'purchase_month': 9, 'purchase_day': 26, 'price': 0}, {'purchase_year': '2016', 'purchase_month': 9, 'purchase_day': 27, 'price': 0}, {'purchase_year': '2016', 'purchase_month': 9, 'purchase_day': 28, 'price': 0}, {'purchase_year': '2016', 'purchase_month': 9, 'purchase_day': 29, 'price': 0}, {'purchase_year': '2016', 'purchase_month': 9, 'purchase_day': 30, 'price': 0}, {'purchase_year': '2016', 'purchase_month': 9, 'purchase_day': 31, 'price': 0}, {'purchase_year': '2016', 'purchase_month': 10, 'purchase_day': 1, 'price': 0}, {'purchase_year': '2016', 'purchase_month': 10, 'purchase_day': 2, 'price': 0}, {'purchase_year': '2016', 'purchase_month': 10, 'purchase_day': 11, 'price': 0}, {'purchase_year': '2016', 'purchase_month': 10, 'purchase_day': 12, 'price': 0}, {'purchase_year': '2016', 'purchase_month': 10, 'purchase_day': 13, 'price': 0}, {'purchase_year': '2016', 'purchase_month': 10, 'purchase_day': 14, 'price': 0}, {'purchase_year': '2016', 'purchase_month': 10, 'purchase_day': 15, 'price': 0}, {'purchase_year': '2016', 'purchase_month': 10, 'purchase_day': 16, 'price': 0}, {'purchase_year': '2016', 'purchase_month': 10, 'purchase_day': 17, 'price': 0}, {'purchase_year': '2016', 'purchase_month': 10, 'purchase_day': 18, 'price': 0}, {'purchase_year': '2016', 'purchase_month': 10, 'purchase_day': 19, 'price': 0}, {'purchase_year': '2016', 'purchase_month': 10, 'purchase_day': 20, 'price': 0}, {'purchase_year': '2016', 'purchase_month': 10, 'purchase_day': 21, 'price': 0}, {'purchase_year': '2016', 'purchase_month': 10, 'purchase_day': 22, 'price': 0}, {'purchase_year': '2016', 'purchase_month': 10, 'purchase_day': 23, 'price': 0}, {'purchase_year': '2016', 'purchase_month': 10, 'purchase_day': 24, 'price': 0}, {'purchase_year': '2016', 'purchase_month': 10, 'purchase_day': 25, 'price': 0}, {'purchase_year': '2016', 'purchase_month': 10, 'purchase_day': 26, 'price': 0}, {'purchase_year': '2016', 'purchase_month': 10, 'purchase_day': 27, 'price': 0}, {'purchase_year': '2016', 'purchase_month': 10, 'purchase_day': 28, 'price': 0}, {'purchase_year': '2016', 'purchase_month': 10, 'purchase_day': 29, 'price': 0}, {'purchase_year': '2016', 'purchase_month': 10, 'purchase_day': 30, 'price': 0}, {'purchase_year': '2016', 'purchase_month': 10, 'purchase_day': 31, 'price': 0}, {'purchase_year': '2016', 'purchase_month': 11, 'purchase_day': 1, 'price': 0}, {'purchase_year': '2016', 'purchase_month': 11, 'purchase_day': 2, 'price': 0}, {'purchase_year': '2016', 'purchase_month': 11, 'purchase_day': 3, 'price': 0}, {'purchase_year': '2016', 'purchase_month': 11, 'purchase_day': 4, 'price': 0}, {'purchase_year': '2016', 'purchase_month': 11, 'purchase_day': 5, 'price': 0}, {'purchase_year': '2016', 'purchase_month': 11, 'purchase_day': 6, 'price': 0}, {'purchase_year': '2016', 'purchase_month': 11, 'purchase_day': 7, 'price': 0}, {'purchase_year': '2016', 'purchase_month': 11, 'purchase_day': 8, 'price': 0}, {'purchase_year': '2016', 'purchase_month': 11, 'purchase_day': 9, 'price': 0}, {'purchase_year': '2016', 'purchase_month': 11, 'purchase_day': 10, 'price': 0}, {'purchase_year': '2016', 'purchase_month': 11, 'purchase_day': 11, 'price': 0}, {'purchase_year': '2016', 'purchase_month': 11, 'purchase_day': 12, 'price': 0}, {'purchase_year': '2016', 'purchase_month': 11, 'purchase_day': 13, 'price': 0}, {'purchase_year': '2016', 'purchase_month': 11, 'purchase_day': 14, 'price': 0}, {'purchase_year': '2016', 'purchase_month': 11, 'purchase_day': 15, 'price': 0}, {'purchase_year': '2016', 'purchase_month': 11, 'purchase_day': 16, 'price': 0}, {'purchase_year': '2016', 'purchase_month': 11, 'purchase_day': 17, 'price': 0}, {'purchase_year': '2016', 'purchase_month': 11, 'purchase_day': 18, 'price': 0}, {'purchase_year': '2016', 'purchase_month': 11, 'purchase_day': 19, 'price': 0}, {'purchase_year': '2016', 'purchase_month': 11, 'purchase_day': 20, 'price': 0}, {'purchase_year': '2016', 'purchase_month': 11, 'purchase_day': 21, 'price': 0}, {'purchase_year': '2016', 'purchase_month': 11, 'purchase_day': 22, 'price': 0}, {'purchase_year': '2016', 'purchase_month': 11, 'purchase_day': 23, 'price': 0}, {'purchase_year': '2016', 'purchase_month': 11, 'purchase_day': 24, 'price': 0}, {'purchase_year': '2016', 'purchase_month': 11, 'purchase_day': 25, 'price': 0}, {'purchase_year': '2016', 'purchase_month': 11, 'purchase_day': 26, 'price': 0}, {'purchase_year': '2016', 'purchase_month': 11, 'purchase_day': 27, 'price': 0}, {'purchase_year': '2016', 'purchase_month': 11, 'purchase_day': 28, 'price': 0}, {'purchase_year': '2016', 'purchase_month': 11, 'purchase_day': 29, 'price': 0}, {'purchase_year': '2016', 'purchase_month': 11, 'purchase_day': 30, 'price': 0}, {'purchase_year': '2016', 'purchase_month': 11, 'purchase_day': 31, 'price': 0}, {'purchase_year': '2016', 'purchase_month': 12, 'purchase_day': 1, 'price': 0}, {'purchase_year': '2016', 'purchase_month': 12, 'purchase_day': 2, 'price': 0}, {'purchase_year': '2016', 'purchase_month': 12, 'purchase_day': 3, 'price': 0}, {'purchase_year': '2016', 'purchase_month': 12, 'purchase_day': 4, 'price': 0}, {'purchase_year': '2016', 'purchase_month': 12, 'purchase_day': 5, 'price': 0}, {'purchase_year': '2016', 'purchase_month': 12, 'purchase_day': 6, 'price': 0}, {'purchase_year': '2016', 'purchase_month': 12, 'purchase_day': 7, 'price': 0}, {'purchase_year': '2016', 'purchase_month': 12, 'purchase_day': 8, 'price': 0}, {'purchase_year': '2016', 'purchase_month': 12, 'purchase_day': 9, 'price': 0}, {'purchase_year': '2016', 'purchase_month': 12, 'purchase_day': 10, 'price': 0}, {'purchase_year': '2016', 'purchase_month': 12, 'purchase_day': 11, 'price': 0}, {'purchase_year': '2016', 'purchase_month': 12, 'purchase_day': 12, 'price': 0}, {'purchase_year': '2016', 'purchase_month': 12, 'purchase_day': 13, 'price': 0}, {'purchase_year': '2016', 'purchase_month': 12, 'purchase_day': 14, 'price': 0}, {'purchase_year': '2016', 'purchase_month': 12, 'purchase_day': 15, 'price': 0}, {'purchase_year': '2016', 'purchase_month': 12, 'purchase_day': 16, 'price': 0}, {'purchase_year': '2016', 'purchase_month': 12, 'purchase_day': 17, 'price': 0}, {'purchase_year': '2016', 'purchase_month': 12, 'purchase_day': 18, 'price': 0}, {'purchase_year': '2016', 'purchase_month': 12, 'purchase_day': 19, 'price': 0}, {'purchase_year': '2016', 'purchase_month': 12, 'purchase_day': 20, 'price': 0}, {'purchase_year': '2016', 'purchase_month': 12, 'purchase_day': 21, 'price': 0}, {'purchase_year': '2016', 'purchase_month': 12, 'purchase_day': 22, 'price': 0}, {'purchase_year': '2016', 'purchase_month': 12, 'purchase_day': 24, 'price': 0}, {'purchase_year': '2016', 'purchase_month': 12, 'purchase_day': 25, 'price': 0}, {'purchase_year': '2016', 'purchase_month': 12, 'purchase_day': 26, 'price': 0}, {'purchase_year': '2016', 'purchase_month': 12, 'purchase_day': 27, 'price': 0}, {'purchase_year': '2016', 'purchase_month': 12, 'purchase_day': 28, 'price': 0}, {'purchase_year': '2016', 'purchase_month': 12, 'purchase_day': 29, 'price': 0}, {'purchase_year': '2016', 'purchase_month': 12, 'purchase_day': 30, 'price': 0}, {'purchase_year': '2016', 'purchase_month': 12, 'purchase_day': 31, 'price': 0}, {'purchase_year': '2017', 'purchase_month': 1, 'purchase_day': 1, 'price': 0}, {'purchase_year': '2017', 'purchase_month': 1, 'purchase_day': 2, 'price': 0}, {'purchase_year': '2017', 'purchase_month': 1, 'purchase_day': 3, 'price': 0}, {'purchase_year': '2017', 'purchase_month': 1, 'purchase_day': 4, 'price': 0}, {'purchase_year': '2017', 'purchase_month': 2, 'purchase_day': 29, 'price': 0}, {'purchase_year': '2017', 'purchase_month': 2, 'purchase_day': 30, 'price': 0}, {'purchase_year': '2017', 'purchase_month': 2, 'purchase_day': 31, 'price': 0}, {'purchase_year': '2017', 'purchase_month': 4, 'purchase_day': 31, 'price': 0}, {'purchase_year': '2017', 'purchase_month': 6, 'purchase_day': 31, 'price': 0}, {'purchase_year': '2017', 'purchase_month': 9, 'purchase_day': 31, 'price': 0}, {'purchase_year': '2017', 'purchase_month': 11, 'purchase_day': 31, 'price': 0}, {'purchase_year': '2018', 'purchase_month': 2, 'purchase_day': 29, 'price': 0}, {'purchase_year': '2018', 'purchase_month': 2, 'purchase_day': 30, 'price': 0}, {'purchase_year': '2018', 'purchase_month': 2, 'purchase_day': 31, 'price': 0}, {'purchase_year': '2018', 'purchase_month': 4, 'purchase_day': 31, 'price': 0}, {'purchase_year': '2018', 'purchase_month': 6, 'purchase_day': 31, 'price': 0}, {'purchase_year': '2018', 'purchase_month': 8, 'purchase_day': 30, 'price': 0}, {'purchase_year': '2018', 'purchase_month': 8, 'purchase_day': 31, 'price': 0}, {'purchase_year': '2018', 'purchase_month': 9, 'purchase_day': 1, 'price': 0}, {'purchase_year': '2018', 'purchase_month': 9, 'purchase_day': 2, 'price': 0}, {'purchase_year': '2018', 'purchase_month': 9, 'purchase_day': 3, 'price': 0}, {'purchase_year': '2018', 'purchase_month': 9, 'purchase_day': 4, 'price': 0}, {'purchase_year': '2018', 'purchase_month': 9, 'purchase_day': 5, 'price': 0}, {'purchase_year': '2018', 'purchase_month': 9, 'purchase_day': 6, 'price': 0}, {'purchase_year': '2018', 'purchase_month': 9, 'purchase_day': 7, 'price': 0}, {'purchase_year': '2018', 'purchase_month': 9, 'purchase_day': 8, 'price': 0}, {'purchase_year': '2018', 'purchase_month': 9, 'purchase_day': 9, 'price': 0}, {'purchase_year': '2018', 'purchase_month': 9, 'purchase_day': 10, 'price': 0}, {'purchase_year': '2018', 'purchase_month': 9, 'purchase_day': 11, 'price': 0}, {'purchase_year': '2018', 'purchase_month': 9, 'purchase_day': 12, 'price': 0}, {'purchase_year': '2018', 'purchase_month': 9, 'purchase_day': 13, 'price': 0}, {'purchase_year': '2018', 'purchase_month': 9, 'purchase_day': 14, 'price': 0}, {'purchase_year': '2018', 'purchase_month': 9, 'purchase_day': 15, 'price': 0}, {'purchase_year': '2018', 'purchase_month': 9, 'purchase_day': 16, 'price': 0}, {'purchase_year': '2018', 'purchase_month': 9, 'purchase_day': 17, 'price': 0}, {'purchase_year': '2018', 'purchase_month': 9, 'purchase_day': 18, 'price': 0}, {'purchase_year': '2018', 'purchase_month': 9, 'purchase_day': 19, 'price': 0}, {'purchase_year': '2018', 'purchase_month': 9, 'purchase_day': 20, 'price': 0}, {'purchase_year': '2018', 'purchase_month': 9, 'purchase_day': 21, 'price': 0}, {'purchase_year': '2018', 'purchase_month': 9, 'purchase_day': 22, 'price': 0}, {'purchase_year': '2018', 'purchase_month': 9, 'purchase_day': 23, 'price': 0}, {'purchase_year': '2018', 'purchase_month': 9, 'purchase_day': 24, 'price': 0}, {'purchase_year': '2018', 'purchase_month': 9, 'purchase_day': 25, 'price': 0}, {'purchase_year': '2018', 'purchase_month': 9, 'purchase_day': 26, 'price': 0}, {'purchase_year': '2018', 'purchase_month': 9, 'purchase_day': 27, 'price': 0}, {'purchase_year': '2018', 'purchase_month': 9, 'purchase_day': 28, 'price': 0}, {'purchase_year': '2018', 'purchase_month': 9, 'purchase_day': 29, 'price': 0}, {'purchase_year': '2018', 'purchase_month': 9, 'purchase_day': 30, 'price': 0}, {'purchase_year': '2018', 'purchase_month': 9, 'purchase_day': 31, 'price': 0}, {'purchase_year': '2018', 'purchase_month': 10, 'purchase_day': 1, 'price': 0}, {'purchase_year': '2018', 'purchase_month': 10, 'purchase_day': 2, 'price': 0}, {'purchase_year': '2018', 'purchase_month': 10, 'purchase_day': 3, 'price': 0}, {'purchase_year': '2018', 'purchase_month': 10, 'purchase_day': 4, 'price': 0}, {'purchase_year': '2018', 'purchase_month': 10, 'purchase_day': 5, 'price': 0}, {'purchase_year': '2018', 'purchase_month': 10, 'purchase_day': 6, 'price': 0}, {'purchase_year': '2018', 'purchase_month': 10, 'purchase_day': 7, 'price': 0}, {'purchase_year': '2018', 'purchase_month': 10, 'purchase_day': 8, 'price': 0}, {'purchase_year': '2018', 'purchase_month': 10, 'purchase_day': 9, 'price': 0}, {'purchase_year': '2018', 'purchase_month': 10, 'purchase_day': 10, 'price': 0}, {'purchase_year': '2018', 'purchase_month': 10, 'purchase_day': 11, 'price': 0}, {'purchase_year': '2018', 'purchase_month': 10, 'purchase_day': 12, 'price': 0}, {'purchase_year': '2018', 'purchase_month': 10, 'purchase_day': 13, 'price': 0}, {'purchase_year': '2018', 'purchase_month': 10, 'purchase_day': 14, 'price': 0}, {'purchase_year': '2018', 'purchase_month': 10, 'purchase_day': 15, 'price': 0}, {'purchase_year': '2018', 'purchase_month': 10, 'purchase_day': 16, 'price': 0}, {'purchase_year': '2018', 'purchase_month': 10, 'purchase_day': 17, 'price': 0}, {'purchase_year': '2018', 'purchase_month': 10, 'purchase_day': 18, 'price': 0}, {'purchase_year': '2018', 'purchase_month': 10, 'purchase_day': 19, 'price': 0}, {'purchase_year': '2018', 'purchase_month': 10, 'purchase_day': 20, 'price': 0}, {'purchase_year': '2018', 'purchase_month': 10, 'purchase_day': 21, 'price': 0}, {'purchase_year': '2018', 'purchase_month': 10, 'purchase_day': 22, 'price': 0}, {'purchase_year': '2018', 'purchase_month': 10, 'purchase_day': 23, 'price': 0}, {'purchase_year': '2018', 'purchase_month': 10, 'purchase_day': 24, 'price': 0}, {'purchase_year': '2018', 'purchase_month': 10, 'purchase_day': 25, 'price': 0}, {'purchase_year': '2018', 'purchase_month': 10, 'purchase_day': 26, 'price': 0}, {'purchase_year': '2018', 'purchase_month': 10, 'purchase_day': 27, 'price': 0}, {'purchase_year': '2018', 'purchase_month': 10, 'purchase_day': 28, 'price': 0}, {'purchase_year': '2018', 'purchase_month': 10, 'purchase_day': 29, 'price': 0}, {'purchase_year': '2018', 'purchase_month': 10, 'purchase_day': 30, 'price': 0}, {'purchase_year': '2018', 'purchase_month': 10, 'purchase_day': 31, 'price': 0}, {'purchase_year': '2018', 'purchase_month': 11, 'purchase_day': 1, 'price': 0}, {'purchase_year': '2018', 'purchase_month': 11, 'purchase_day': 2, 'price': 0}, {'purchase_year': '2018', 'purchase_month': 11, 'purchase_day': 3, 'price': 0}, {'purchase_year': '2018', 'purchase_month': 11, 'purchase_day': 4, 'price': 0}, {'purchase_year': '2018', 'purchase_month': 11, 'purchase_day': 5, 'price': 0}, {'purchase_year': '2018', 'purchase_month': 11, 'purchase_day': 6, 'price': 0}, {'purchase_year': '2018', 'purchase_month': 11, 'purchase_day': 7, 'price': 0}, {'purchase_year': '2018', 'purchase_month': 11, 'purchase_day': 8, 'price': 0}, {'purchase_year': '2018', 'purchase_month': 11, 'purchase_day': 9, 'price': 0}, {'purchase_year': '2018', 'purchase_month': 11, 'purchase_day': 10, 'price': 0}, {'purchase_year': '2018', 'purchase_month': 11, 'purchase_day': 11, 'price': 0}, {'purchase_year': '2018', 'purchase_month': 11, 'purchase_day': 12, 'price': 0}, {'purchase_year': '2018', 'purchase_month': 11, 'purchase_day': 13, 'price': 0}, {'purchase_year': '2018', 'purchase_month': 11, 'purchase_day': 14, 'price': 0}, {'purchase_year': '2018', 'purchase_month': 11, 'purchase_day': 15, 'price': 0}, {'purchase_year': '2018', 'purchase_month': 11, 'purchase_day': 16, 'price': 0}, {'purchase_year': '2018', 'purchase_month': 11, 'purchase_day': 17, 'price': 0}, {'purchase_year': '2018', 'purchase_month': 11, 'purchase_day': 18, 'price': 0}, {'purchase_year': '2018', 'purchase_month': 11, 'purchase_day': 19, 'price': 0}, {'purchase_year': '2018', 'purchase_month': 11, 'purchase_day': 20, 'price': 0}, {'purchase_year': '2018', 'purchase_month': 11, 'purchase_day': 21, 'price': 0}, {'purchase_year': '2018', 'purchase_month': 11, 'purchase_day': 22, 'price': 0}, {'purchase_year': '2018', 'purchase_month': 11, 'purchase_day': 23, 'price': 0}, {'purchase_year': '2018', 'purchase_month': 11, 'purchase_day': 24, 'price': 0}, {'purchase_year': '2018', 'purchase_month': 11, 'purchase_day': 25, 'price': 0}, {'purchase_year': '2018', 'purchase_month': 11, 'purchase_day': 26, 'price': 0}, {'purchase_year': '2018', 'purchase_month': 11, 'purchase_day': 27, 'price': 0}, {'purchase_year': '2018', 'purchase_month': 11, 'purchase_day': 28, 'price': 0}, {'purchase_year': '2018', 'purchase_month': 11, 'purchase_day': 29, 'price': 0}, {'purchase_year': '2018', 'purchase_month': 11, 'purchase_day': 30, 'price': 0}, {'purchase_year': '2018', 'purchase_month': 11, 'purchase_day': 31, 'price': 0}, {'purchase_year': '2018', 'purchase_month': 12, 'purchase_day': 1, 'price': 0}, {'purchase_year': '2018', 'purchase_month': 12, 'purchase_day': 2, 'price': 0}, {'purchase_year': '2018', 'purchase_month': 12, 'purchase_day': 3, 'price': 0}, {'purchase_year': '2018', 'purchase_month': 12, 'purchase_day': 4, 'price': 0}, {'purchase_year': '2018', 'purchase_month': 12, 'purchase_day': 5, 'price': 0}, {'purchase_year': '2018', 'purchase_month': 12, 'purchase_day': 6, 'price': 0}, {'purchase_year': '2018', 'purchase_month': 12, 'purchase_day': 7, 'price': 0}, {'purchase_year': '2018', 'purchase_month': 12, 'purchase_day': 8, 'price': 0}, {'purchase_year': '2018', 'purchase_month': 12, 'purchase_day': 9, 'price': 0}, {'purchase_year': '2018', 'purchase_month': 12, 'purchase_day': 10, 'price': 0}, {'purchase_year': '2018', 'purchase_month': 12, 'purchase_day': 11, 'price': 0}, {'purchase_year': '2018', 'purchase_month': 12, 'purchase_day': 12, 'price': 0}, {'purchase_year': '2018', 'purchase_month': 12, 'purchase_day': 13, 'price': 0}, {'purchase_year': '2018', 'purchase_month': 12, 'purchase_day': 14, 'price': 0}, {'purchase_year': '2018', 'purchase_month': 12, 'purchase_day': 15, 'price': 0}, {'purchase_year': '2018', 'purchase_month': 12, 'purchase_day': 16, 'price': 0}, {'purchase_year': '2018', 'purchase_month': 12, 'purchase_day': 17, 'price': 0}, {'purchase_year': '2018', 'purchase_month': 12, 'purchase_day': 18, 'price': 0}, {'purchase_year': '2018', 'purchase_month': 12, 'purchase_day': 19, 'price': 0}, {'purchase_year': '2018', 'purchase_month': 12, 'purchase_day': 20, 'price': 0}, {'purchase_year': '2018', 'purchase_month': 12, 'purchase_day': 21, 'price': 0}, {'purchase_year': '2018', 'purchase_month': 12, 'purchase_day': 22, 'price': 0}, {'purchase_year': '2018', 'purchase_month': 12, 'purchase_day': 23, 'price': 0}, {'purchase_year': '2018', 'purchase_month': 12, 'purchase_day': 24, 'price': 0}, {'purchase_year': '2018', 'purchase_month': 12, 'purchase_day': 25, 'price': 0}, {'purchase_year': '2018', 'purchase_month': 12, 'purchase_day': 26, 'price': 0}, {'purchase_year': '2018', 'purchase_month': 12, 'purchase_day': 27, 'price': 0}, {'purchase_year': '2018', 'purchase_month': 12, 'purchase_day': 28, 'price': 0}, {'purchase_year': '2018', 'purchase_month': 12, 'purchase_day': 29, 'price': 0}, {'purchase_year': '2018', 'purchase_month': 12, 'purchase_day': 30, 'price': 0}, {'purchase_year': '2018', 'purchase_month': 12, 'purchase_day': 31, 'price': 0}]\n"
          ]
        },
        {
          "data": {
            "text/html": [
              "<div>\n",
              "<style scoped>\n",
              "    .dataframe tbody tr th:only-of-type {\n",
              "        vertical-align: middle;\n",
              "    }\n",
              "\n",
              "    .dataframe tbody tr th {\n",
              "        vertical-align: top;\n",
              "    }\n",
              "\n",
              "    .dataframe thead th {\n",
              "        text-align: right;\n",
              "    }\n",
              "</style>\n",
              "<table border=\"1\" class=\"dataframe\">\n",
              "  <thead>\n",
              "    <tr style=\"text-align: right;\">\n",
              "      <th></th>\n",
              "      <th>purchase_year</th>\n",
              "      <th>purchase_month</th>\n",
              "      <th>purchase_day</th>\n",
              "      <th>price</th>\n",
              "    </tr>\n",
              "  </thead>\n",
              "  <tbody>\n",
              "    <tr>\n",
              "      <th>612</th>\n",
              "      <td>2016</td>\n",
              "      <td>1</td>\n",
              "      <td>1</td>\n",
              "      <td>0.0</td>\n",
              "    </tr>\n",
              "    <tr>\n",
              "      <th>613</th>\n",
              "      <td>2016</td>\n",
              "      <td>1</td>\n",
              "      <td>2</td>\n",
              "      <td>0.0</td>\n",
              "    </tr>\n",
              "    <tr>\n",
              "      <th>614</th>\n",
              "      <td>2016</td>\n",
              "      <td>1</td>\n",
              "      <td>3</td>\n",
              "      <td>0.0</td>\n",
              "    </tr>\n",
              "    <tr>\n",
              "      <th>615</th>\n",
              "      <td>2016</td>\n",
              "      <td>1</td>\n",
              "      <td>4</td>\n",
              "      <td>0.0</td>\n",
              "    </tr>\n",
              "    <tr>\n",
              "      <th>616</th>\n",
              "      <td>2016</td>\n",
              "      <td>1</td>\n",
              "      <td>5</td>\n",
              "      <td>0.0</td>\n",
              "    </tr>\n",
              "    <tr>\n",
              "      <th>...</th>\n",
              "      <td>...</td>\n",
              "      <td>...</td>\n",
              "      <td>...</td>\n",
              "      <td>...</td>\n",
              "    </tr>\n",
              "    <tr>\n",
              "      <th>1111</th>\n",
              "      <td>2018</td>\n",
              "      <td>12</td>\n",
              "      <td>27</td>\n",
              "      <td>0.0</td>\n",
              "    </tr>\n",
              "    <tr>\n",
              "      <th>1112</th>\n",
              "      <td>2018</td>\n",
              "      <td>12</td>\n",
              "      <td>28</td>\n",
              "      <td>0.0</td>\n",
              "    </tr>\n",
              "    <tr>\n",
              "      <th>1113</th>\n",
              "      <td>2018</td>\n",
              "      <td>12</td>\n",
              "      <td>29</td>\n",
              "      <td>0.0</td>\n",
              "    </tr>\n",
              "    <tr>\n",
              "      <th>1114</th>\n",
              "      <td>2018</td>\n",
              "      <td>12</td>\n",
              "      <td>30</td>\n",
              "      <td>0.0</td>\n",
              "    </tr>\n",
              "    <tr>\n",
              "      <th>1115</th>\n",
              "      <td>2018</td>\n",
              "      <td>12</td>\n",
              "      <td>31</td>\n",
              "      <td>0.0</td>\n",
              "    </tr>\n",
              "  </tbody>\n",
              "</table>\n",
              "<p>1116 rows × 4 columns</p>\n",
              "</div>"
            ],
            "text/plain": [
              "     purchase_year purchase_month  purchase_day  price\n",
              "612           2016              1             1    0.0\n",
              "613           2016              1             2    0.0\n",
              "614           2016              1             3    0.0\n",
              "615           2016              1             4    0.0\n",
              "616           2016              1             5    0.0\n",
              "...            ...            ...           ...    ...\n",
              "1111          2018             12            27    0.0\n",
              "1112          2018             12            28    0.0\n",
              "1113          2018             12            29    0.0\n",
              "1114          2018             12            30    0.0\n",
              "1115          2018             12            31    0.0\n",
              "\n",
              "[1116 rows x 4 columns]"
            ]
          },
          "execution_count": 260,
          "metadata": {},
          "output_type": "execute_result"
        }
      ],
      "source": [
        "revenue_dict = revenue.to_dict('records')\n",
        "revenue_dict\n",
        "\n",
        "months = [i for i in range(1, 13)]\n",
        "years = ['2016', '2017', '2018']\n",
        "days = [i for i in range(1, 32)]\n",
        "\n",
        "\n",
        "existing_records = {(item['purchase_year'], int(item['purchase_month']), int(item['purchase_day'])) for item in revenue_dict}\n",
        "\n",
        "missing_records = [\n",
        "    {'purchase_year': year, 'purchase_month': month, 'purchase_day': day, 'price': 0}\n",
        "    for year in years for month in months for day in days\n",
        "    if (year, month, day) not in existing_records\n",
        "]\n",
        "\n",
        "revenue_dict.extend(missing_records)\n",
        "\n",
        "print(revenue_dict)\n",
        "revenue_data = pd.DataFrame.from_dict(revenue_dict)\n",
        "revenue_data['purchase_month'] = revenue_data['purchase_month'].astype(int)\n",
        "revenue_data['purchase_day'] = revenue_data['purchase_day'].astype(int)\n",
        "revenue_data = revenue_data.sort_values(by=['purchase_year','purchase_month', 'purchase_day'], ascending=True)\n",
        "revenue_data['purchase_day'] = revenue_data['purchase_day'].astype(int)\n",
        "revenue_data['purchase_month'] = revenue_data['purchase_month'].astype('str')\n",
        "revenue_data"
      ]
    },
    {
      "cell_type": "code",
      "execution_count": 261,
      "metadata": {
        "colab": {
          "base_uri": "https://localhost:8080/",
          "height": 542
        },
        "id": "4mzsIXf_8voL",
        "outputId": "31411e60-f8e9-4241-aeb1-3d344b7706b6"
      },
      "outputs": [
        {
          "data": {
            "application/vnd.plotly.v1+json": {
              "config": {
                "plotlyServerURL": "https://plot.ly"
              },
              "data": [
                {
                  "hovertemplate": "Year=2016<br>Month=%{x}<br>Price (USD)=%{y}<extra></extra>",
                  "legendgroup": "2016",
                  "line": {
                    "color": "#636efa",
                    "dash": "solid"
                  },
                  "marker": {
                    "symbol": "circle"
                  },
                  "mode": "lines+markers",
                  "name": "2016",
                  "orientation": "v",
                  "showlegend": true,
                  "type": "scatter",
                  "x": [
                    "1",
                    "2",
                    "3",
                    "4",
                    "5",
                    "6",
                    "7",
                    "8",
                    "9",
                    "10",
                    "11",
                    "12"
                  ],
                  "xaxis": "x",
                  "y": {
                    "bdata": "AAAAAAAAAAAAAAAAAAAAAAAAAAAAAAAAAAAAAAAAAAAAAAAAAAAAAAAAAAAAAAAAAAAAAAAAAAAAAAAAAAAAANejcD0K32BAmpmZman940AAAAAAAAAAAM3MzMzMzCVA",
                    "dtype": "f8"
                  },
                  "yaxis": "y"
                },
                {
                  "hovertemplate": "Year=2017<br>Month=%{x}<br>Price (USD)=%{y}<extra></extra>",
                  "legendgroup": "2017",
                  "line": {
                    "color": "#EF553B",
                    "dash": "solid"
                  },
                  "marker": {
                    "symbol": "circle"
                  },
                  "mode": "lines+markers",
                  "name": "2017",
                  "orientation": "v",
                  "showlegend": true,
                  "type": "scatter",
                  "x": [
                    "1",
                    "2",
                    "3",
                    "4",
                    "5",
                    "6",
                    "7",
                    "8",
                    "9",
                    "10",
                    "11",
                    "12"
                  ],
                  "xaxis": "x",
                  "y": {
                    "bdata": "UrgehQdG+0AVrkfh9mUMQWZmZmZ77BVBhetRuPbKFEEAAAAAHdsdQa5H4XqNwBlBSOF6FBJlHUFmZmZml+0gQXE9ClfphyJBzczMTG/II0E+CtcjACQuQRSuR2EiKCZB",
                    "dtype": "f8"
                  },
                  "yaxis": "y"
                },
                {
                  "hovertemplate": "Year=2018<br>Month=%{x}<br>Price (USD)=%{y}<extra></extra>",
                  "legendgroup": "2018",
                  "line": {
                    "color": "#00cc96",
                    "dash": "solid"
                  },
                  "marker": {
                    "symbol": "circle"
                  },
                  "mode": "lines+markers",
                  "name": "2018",
                  "orientation": "v",
                  "showlegend": true,
                  "type": "scatter",
                  "x": [
                    "1",
                    "2",
                    "3",
                    "4",
                    "5",
                    "6",
                    "7",
                    "8",
                    "9",
                    "10",
                    "11",
                    "12"
                  ],
                  "xaxis": "x",
                  "y": {
                    "bdata": "AAAAAMo3LEHXo3A9xjgpQQAAAIAYGC1B4XoULry1LUEUrkdhEdUtQQrXo/BPHCpBCtej8Dx5KkF7FK5HYZcpQQAAAAAAAAAAAAAAAAAAAAAAAAAAAAAAAAAAAAAAAAAA",
                    "dtype": "f8"
                  },
                  "yaxis": "y"
                }
              ],
              "layout": {
                "legend": {
                  "title": {
                    "text": "Year"
                  },
                  "tracegroupgap": 0
                },
                "template": {
                  "data": {
                    "bar": [
                      {
                        "error_x": {
                          "color": "#2a3f5f"
                        },
                        "error_y": {
                          "color": "#2a3f5f"
                        },
                        "marker": {
                          "line": {
                            "color": "#E5ECF6",
                            "width": 0.5
                          },
                          "pattern": {
                            "fillmode": "overlay",
                            "size": 10,
                            "solidity": 0.2
                          }
                        },
                        "type": "bar"
                      }
                    ],
                    "barpolar": [
                      {
                        "marker": {
                          "line": {
                            "color": "#E5ECF6",
                            "width": 0.5
                          },
                          "pattern": {
                            "fillmode": "overlay",
                            "size": 10,
                            "solidity": 0.2
                          }
                        },
                        "type": "barpolar"
                      }
                    ],
                    "carpet": [
                      {
                        "aaxis": {
                          "endlinecolor": "#2a3f5f",
                          "gridcolor": "white",
                          "linecolor": "white",
                          "minorgridcolor": "white",
                          "startlinecolor": "#2a3f5f"
                        },
                        "baxis": {
                          "endlinecolor": "#2a3f5f",
                          "gridcolor": "white",
                          "linecolor": "white",
                          "minorgridcolor": "white",
                          "startlinecolor": "#2a3f5f"
                        },
                        "type": "carpet"
                      }
                    ],
                    "choropleth": [
                      {
                        "colorbar": {
                          "outlinewidth": 0,
                          "ticks": ""
                        },
                        "type": "choropleth"
                      }
                    ],
                    "contour": [
                      {
                        "colorbar": {
                          "outlinewidth": 0,
                          "ticks": ""
                        },
                        "colorscale": [
                          [
                            0,
                            "#0d0887"
                          ],
                          [
                            0.1111111111111111,
                            "#46039f"
                          ],
                          [
                            0.2222222222222222,
                            "#7201a8"
                          ],
                          [
                            0.3333333333333333,
                            "#9c179e"
                          ],
                          [
                            0.4444444444444444,
                            "#bd3786"
                          ],
                          [
                            0.5555555555555556,
                            "#d8576b"
                          ],
                          [
                            0.6666666666666666,
                            "#ed7953"
                          ],
                          [
                            0.7777777777777778,
                            "#fb9f3a"
                          ],
                          [
                            0.8888888888888888,
                            "#fdca26"
                          ],
                          [
                            1,
                            "#f0f921"
                          ]
                        ],
                        "type": "contour"
                      }
                    ],
                    "contourcarpet": [
                      {
                        "colorbar": {
                          "outlinewidth": 0,
                          "ticks": ""
                        },
                        "type": "contourcarpet"
                      }
                    ],
                    "heatmap": [
                      {
                        "colorbar": {
                          "outlinewidth": 0,
                          "ticks": ""
                        },
                        "colorscale": [
                          [
                            0,
                            "#0d0887"
                          ],
                          [
                            0.1111111111111111,
                            "#46039f"
                          ],
                          [
                            0.2222222222222222,
                            "#7201a8"
                          ],
                          [
                            0.3333333333333333,
                            "#9c179e"
                          ],
                          [
                            0.4444444444444444,
                            "#bd3786"
                          ],
                          [
                            0.5555555555555556,
                            "#d8576b"
                          ],
                          [
                            0.6666666666666666,
                            "#ed7953"
                          ],
                          [
                            0.7777777777777778,
                            "#fb9f3a"
                          ],
                          [
                            0.8888888888888888,
                            "#fdca26"
                          ],
                          [
                            1,
                            "#f0f921"
                          ]
                        ],
                        "type": "heatmap"
                      }
                    ],
                    "histogram": [
                      {
                        "marker": {
                          "pattern": {
                            "fillmode": "overlay",
                            "size": 10,
                            "solidity": 0.2
                          }
                        },
                        "type": "histogram"
                      }
                    ],
                    "histogram2d": [
                      {
                        "colorbar": {
                          "outlinewidth": 0,
                          "ticks": ""
                        },
                        "colorscale": [
                          [
                            0,
                            "#0d0887"
                          ],
                          [
                            0.1111111111111111,
                            "#46039f"
                          ],
                          [
                            0.2222222222222222,
                            "#7201a8"
                          ],
                          [
                            0.3333333333333333,
                            "#9c179e"
                          ],
                          [
                            0.4444444444444444,
                            "#bd3786"
                          ],
                          [
                            0.5555555555555556,
                            "#d8576b"
                          ],
                          [
                            0.6666666666666666,
                            "#ed7953"
                          ],
                          [
                            0.7777777777777778,
                            "#fb9f3a"
                          ],
                          [
                            0.8888888888888888,
                            "#fdca26"
                          ],
                          [
                            1,
                            "#f0f921"
                          ]
                        ],
                        "type": "histogram2d"
                      }
                    ],
                    "histogram2dcontour": [
                      {
                        "colorbar": {
                          "outlinewidth": 0,
                          "ticks": ""
                        },
                        "colorscale": [
                          [
                            0,
                            "#0d0887"
                          ],
                          [
                            0.1111111111111111,
                            "#46039f"
                          ],
                          [
                            0.2222222222222222,
                            "#7201a8"
                          ],
                          [
                            0.3333333333333333,
                            "#9c179e"
                          ],
                          [
                            0.4444444444444444,
                            "#bd3786"
                          ],
                          [
                            0.5555555555555556,
                            "#d8576b"
                          ],
                          [
                            0.6666666666666666,
                            "#ed7953"
                          ],
                          [
                            0.7777777777777778,
                            "#fb9f3a"
                          ],
                          [
                            0.8888888888888888,
                            "#fdca26"
                          ],
                          [
                            1,
                            "#f0f921"
                          ]
                        ],
                        "type": "histogram2dcontour"
                      }
                    ],
                    "mesh3d": [
                      {
                        "colorbar": {
                          "outlinewidth": 0,
                          "ticks": ""
                        },
                        "type": "mesh3d"
                      }
                    ],
                    "parcoords": [
                      {
                        "line": {
                          "colorbar": {
                            "outlinewidth": 0,
                            "ticks": ""
                          }
                        },
                        "type": "parcoords"
                      }
                    ],
                    "pie": [
                      {
                        "automargin": true,
                        "type": "pie"
                      }
                    ],
                    "scatter": [
                      {
                        "fillpattern": {
                          "fillmode": "overlay",
                          "size": 10,
                          "solidity": 0.2
                        },
                        "type": "scatter"
                      }
                    ],
                    "scatter3d": [
                      {
                        "line": {
                          "colorbar": {
                            "outlinewidth": 0,
                            "ticks": ""
                          }
                        },
                        "marker": {
                          "colorbar": {
                            "outlinewidth": 0,
                            "ticks": ""
                          }
                        },
                        "type": "scatter3d"
                      }
                    ],
                    "scattercarpet": [
                      {
                        "marker": {
                          "colorbar": {
                            "outlinewidth": 0,
                            "ticks": ""
                          }
                        },
                        "type": "scattercarpet"
                      }
                    ],
                    "scattergeo": [
                      {
                        "marker": {
                          "colorbar": {
                            "outlinewidth": 0,
                            "ticks": ""
                          }
                        },
                        "type": "scattergeo"
                      }
                    ],
                    "scattergl": [
                      {
                        "marker": {
                          "colorbar": {
                            "outlinewidth": 0,
                            "ticks": ""
                          }
                        },
                        "type": "scattergl"
                      }
                    ],
                    "scattermap": [
                      {
                        "marker": {
                          "colorbar": {
                            "outlinewidth": 0,
                            "ticks": ""
                          }
                        },
                        "type": "scattermap"
                      }
                    ],
                    "scattermapbox": [
                      {
                        "marker": {
                          "colorbar": {
                            "outlinewidth": 0,
                            "ticks": ""
                          }
                        },
                        "type": "scattermapbox"
                      }
                    ],
                    "scatterpolar": [
                      {
                        "marker": {
                          "colorbar": {
                            "outlinewidth": 0,
                            "ticks": ""
                          }
                        },
                        "type": "scatterpolar"
                      }
                    ],
                    "scatterpolargl": [
                      {
                        "marker": {
                          "colorbar": {
                            "outlinewidth": 0,
                            "ticks": ""
                          }
                        },
                        "type": "scatterpolargl"
                      }
                    ],
                    "scatterternary": [
                      {
                        "marker": {
                          "colorbar": {
                            "outlinewidth": 0,
                            "ticks": ""
                          }
                        },
                        "type": "scatterternary"
                      }
                    ],
                    "surface": [
                      {
                        "colorbar": {
                          "outlinewidth": 0,
                          "ticks": ""
                        },
                        "colorscale": [
                          [
                            0,
                            "#0d0887"
                          ],
                          [
                            0.1111111111111111,
                            "#46039f"
                          ],
                          [
                            0.2222222222222222,
                            "#7201a8"
                          ],
                          [
                            0.3333333333333333,
                            "#9c179e"
                          ],
                          [
                            0.4444444444444444,
                            "#bd3786"
                          ],
                          [
                            0.5555555555555556,
                            "#d8576b"
                          ],
                          [
                            0.6666666666666666,
                            "#ed7953"
                          ],
                          [
                            0.7777777777777778,
                            "#fb9f3a"
                          ],
                          [
                            0.8888888888888888,
                            "#fdca26"
                          ],
                          [
                            1,
                            "#f0f921"
                          ]
                        ],
                        "type": "surface"
                      }
                    ],
                    "table": [
                      {
                        "cells": {
                          "fill": {
                            "color": "#EBF0F8"
                          },
                          "line": {
                            "color": "white"
                          }
                        },
                        "header": {
                          "fill": {
                            "color": "#C8D4E3"
                          },
                          "line": {
                            "color": "white"
                          }
                        },
                        "type": "table"
                      }
                    ]
                  },
                  "layout": {
                    "annotationdefaults": {
                      "arrowcolor": "#2a3f5f",
                      "arrowhead": 0,
                      "arrowwidth": 1
                    },
                    "autotypenumbers": "strict",
                    "coloraxis": {
                      "colorbar": {
                        "outlinewidth": 0,
                        "ticks": ""
                      }
                    },
                    "colorscale": {
                      "diverging": [
                        [
                          0,
                          "#8e0152"
                        ],
                        [
                          0.1,
                          "#c51b7d"
                        ],
                        [
                          0.2,
                          "#de77ae"
                        ],
                        [
                          0.3,
                          "#f1b6da"
                        ],
                        [
                          0.4,
                          "#fde0ef"
                        ],
                        [
                          0.5,
                          "#f7f7f7"
                        ],
                        [
                          0.6,
                          "#e6f5d0"
                        ],
                        [
                          0.7,
                          "#b8e186"
                        ],
                        [
                          0.8,
                          "#7fbc41"
                        ],
                        [
                          0.9,
                          "#4d9221"
                        ],
                        [
                          1,
                          "#276419"
                        ]
                      ],
                      "sequential": [
                        [
                          0,
                          "#0d0887"
                        ],
                        [
                          0.1111111111111111,
                          "#46039f"
                        ],
                        [
                          0.2222222222222222,
                          "#7201a8"
                        ],
                        [
                          0.3333333333333333,
                          "#9c179e"
                        ],
                        [
                          0.4444444444444444,
                          "#bd3786"
                        ],
                        [
                          0.5555555555555556,
                          "#d8576b"
                        ],
                        [
                          0.6666666666666666,
                          "#ed7953"
                        ],
                        [
                          0.7777777777777778,
                          "#fb9f3a"
                        ],
                        [
                          0.8888888888888888,
                          "#fdca26"
                        ],
                        [
                          1,
                          "#f0f921"
                        ]
                      ],
                      "sequentialminus": [
                        [
                          0,
                          "#0d0887"
                        ],
                        [
                          0.1111111111111111,
                          "#46039f"
                        ],
                        [
                          0.2222222222222222,
                          "#7201a8"
                        ],
                        [
                          0.3333333333333333,
                          "#9c179e"
                        ],
                        [
                          0.4444444444444444,
                          "#bd3786"
                        ],
                        [
                          0.5555555555555556,
                          "#d8576b"
                        ],
                        [
                          0.6666666666666666,
                          "#ed7953"
                        ],
                        [
                          0.7777777777777778,
                          "#fb9f3a"
                        ],
                        [
                          0.8888888888888888,
                          "#fdca26"
                        ],
                        [
                          1,
                          "#f0f921"
                        ]
                      ]
                    },
                    "colorway": [
                      "#636efa",
                      "#EF553B",
                      "#00cc96",
                      "#ab63fa",
                      "#FFA15A",
                      "#19d3f3",
                      "#FF6692",
                      "#B6E880",
                      "#FF97FF",
                      "#FECB52"
                    ],
                    "font": {
                      "color": "#2a3f5f"
                    },
                    "geo": {
                      "bgcolor": "white",
                      "lakecolor": "white",
                      "landcolor": "#E5ECF6",
                      "showlakes": true,
                      "showland": true,
                      "subunitcolor": "white"
                    },
                    "hoverlabel": {
                      "align": "left"
                    },
                    "hovermode": "closest",
                    "mapbox": {
                      "style": "light"
                    },
                    "paper_bgcolor": "white",
                    "plot_bgcolor": "#E5ECF6",
                    "polar": {
                      "angularaxis": {
                        "gridcolor": "white",
                        "linecolor": "white",
                        "ticks": ""
                      },
                      "bgcolor": "#E5ECF6",
                      "radialaxis": {
                        "gridcolor": "white",
                        "linecolor": "white",
                        "ticks": ""
                      }
                    },
                    "scene": {
                      "xaxis": {
                        "backgroundcolor": "#E5ECF6",
                        "gridcolor": "white",
                        "gridwidth": 2,
                        "linecolor": "white",
                        "showbackground": true,
                        "ticks": "",
                        "zerolinecolor": "white"
                      },
                      "yaxis": {
                        "backgroundcolor": "#E5ECF6",
                        "gridcolor": "white",
                        "gridwidth": 2,
                        "linecolor": "white",
                        "showbackground": true,
                        "ticks": "",
                        "zerolinecolor": "white"
                      },
                      "zaxis": {
                        "backgroundcolor": "#E5ECF6",
                        "gridcolor": "white",
                        "gridwidth": 2,
                        "linecolor": "white",
                        "showbackground": true,
                        "ticks": "",
                        "zerolinecolor": "white"
                      }
                    },
                    "shapedefaults": {
                      "line": {
                        "color": "#2a3f5f"
                      }
                    },
                    "ternary": {
                      "aaxis": {
                        "gridcolor": "white",
                        "linecolor": "white",
                        "ticks": ""
                      },
                      "baxis": {
                        "gridcolor": "white",
                        "linecolor": "white",
                        "ticks": ""
                      },
                      "bgcolor": "#E5ECF6",
                      "caxis": {
                        "gridcolor": "white",
                        "linecolor": "white",
                        "ticks": ""
                      }
                    },
                    "title": {
                      "x": 0.05
                    },
                    "xaxis": {
                      "automargin": true,
                      "gridcolor": "white",
                      "linecolor": "white",
                      "ticks": "",
                      "title": {
                        "standoff": 15
                      },
                      "zerolinecolor": "white",
                      "zerolinewidth": 2
                    },
                    "yaxis": {
                      "automargin": true,
                      "gridcolor": "white",
                      "linecolor": "white",
                      "ticks": "",
                      "title": {
                        "standoff": 15
                      },
                      "zerolinecolor": "white",
                      "zerolinewidth": 2
                    }
                  }
                },
                "title": {
                  "text": "Revenue over years"
                },
                "xaxis": {
                  "anchor": "y",
                  "domain": [
                    0,
                    1
                  ],
                  "title": {
                    "text": "Month"
                  }
                },
                "yaxis": {
                  "anchor": "x",
                  "domain": [
                    0,
                    1
                  ],
                  "title": {
                    "text": "Price (USD)"
                  }
                }
              }
            }
          },
          "metadata": {},
          "output_type": "display_data"
        }
      ],
      "source": [
        "revenue_data_by_year_month = revenue_data.groupby(by=['purchase_year', 'purchase_month']).agg({\n",
        "  'price': 'sum'\n",
        "}).reset_index()\n",
        "\n",
        "revenue_data_by_year_month['purchase_month'] = revenue_data_by_year_month['purchase_month'].astype(int)\n",
        "revenue_data_by_year_month = revenue_data_by_year_month.sort_values(by=['purchase_year', 'purchase_month'])\n",
        "revenue_data_by_year_month['purchase_month'] = revenue_data_by_year_month['purchase_month'].astype('str')\n",
        "\n",
        "fig = px.line(\n",
        "    revenue_data_by_year_month,\n",
        "    x=\"purchase_month\",\n",
        "    y=\"price\",\n",
        "    title='Revenue over years',\n",
        "    color='purchase_year',\n",
        "    markers=True,\n",
        "    labels={\n",
        "        \"price\": \"Price (USD)\",\n",
        "        \"purchase_year\": \"Year\",\n",
        "        \"purchase_month\": \"Month\"\n",
        "    }\n",
        "    )\n",
        "fig.show()"
      ]
    },
    {
      "cell_type": "markdown",
      "metadata": {
        "id": "DgHI7CiU8DC2"
      },
      "source": [
        "### Pertanyaan 2: Bagaimana demografi customer yang dimiliki?"
      ]
    },
    {
      "cell_type": "code",
      "execution_count": 262,
      "metadata": {
        "colab": {
          "base_uri": "https://localhost:8080/",
          "height": 226
        },
        "id": "Go0lCsvO8DC2",
        "outputId": "1508e89c-8ae5-452e-d33e-c4e8af3079b4"
      },
      "outputs": [
        {
          "data": {
            "text/html": [
              "<div>\n",
              "<style scoped>\n",
              "    .dataframe tbody tr th:only-of-type {\n",
              "        vertical-align: middle;\n",
              "    }\n",
              "\n",
              "    .dataframe tbody tr th {\n",
              "        vertical-align: top;\n",
              "    }\n",
              "\n",
              "    .dataframe thead th {\n",
              "        text-align: right;\n",
              "    }\n",
              "</style>\n",
              "<table border=\"1\" class=\"dataframe\">\n",
              "  <thead>\n",
              "    <tr style=\"text-align: right;\">\n",
              "      <th></th>\n",
              "      <th>customer_id</th>\n",
              "      <th>customer_unique_id</th>\n",
              "      <th>customer_zip_code_prefix</th>\n",
              "      <th>customer_city</th>\n",
              "      <th>customer_state</th>\n",
              "      <th>geolocation_zip_code_prefix</th>\n",
              "      <th>geolocation_lat</th>\n",
              "      <th>geolocation_lng</th>\n",
              "      <th>geolocation_city</th>\n",
              "      <th>geolocation_state</th>\n",
              "    </tr>\n",
              "  </thead>\n",
              "  <tbody>\n",
              "    <tr>\n",
              "      <th>0</th>\n",
              "      <td>06b8999e2fba1a1fbc88172c00ba8bc7</td>\n",
              "      <td>861eff4711a542e4b93843c6dd7febb0</td>\n",
              "      <td>14409</td>\n",
              "      <td>franca</td>\n",
              "      <td>SP</td>\n",
              "      <td>14409</td>\n",
              "      <td>-20.509897</td>\n",
              "      <td>-47.397866</td>\n",
              "      <td>franca</td>\n",
              "      <td>SP</td>\n",
              "    </tr>\n",
              "    <tr>\n",
              "      <th>1</th>\n",
              "      <td>06b8999e2fba1a1fbc88172c00ba8bc7</td>\n",
              "      <td>861eff4711a542e4b93843c6dd7febb0</td>\n",
              "      <td>14409</td>\n",
              "      <td>franca</td>\n",
              "      <td>SP</td>\n",
              "      <td>14409</td>\n",
              "      <td>-20.497396</td>\n",
              "      <td>-47.399241</td>\n",
              "      <td>franca</td>\n",
              "      <td>SP</td>\n",
              "    </tr>\n",
              "    <tr>\n",
              "      <th>2</th>\n",
              "      <td>06b8999e2fba1a1fbc88172c00ba8bc7</td>\n",
              "      <td>861eff4711a542e4b93843c6dd7febb0</td>\n",
              "      <td>14409</td>\n",
              "      <td>franca</td>\n",
              "      <td>SP</td>\n",
              "      <td>14409</td>\n",
              "      <td>-20.510459</td>\n",
              "      <td>-47.399553</td>\n",
              "      <td>franca</td>\n",
              "      <td>SP</td>\n",
              "    </tr>\n",
              "    <tr>\n",
              "      <th>3</th>\n",
              "      <td>06b8999e2fba1a1fbc88172c00ba8bc7</td>\n",
              "      <td>861eff4711a542e4b93843c6dd7febb0</td>\n",
              "      <td>14409</td>\n",
              "      <td>franca</td>\n",
              "      <td>SP</td>\n",
              "      <td>14409</td>\n",
              "      <td>-20.480940</td>\n",
              "      <td>-47.394161</td>\n",
              "      <td>franca</td>\n",
              "      <td>SP</td>\n",
              "    </tr>\n",
              "    <tr>\n",
              "      <th>4</th>\n",
              "      <td>06b8999e2fba1a1fbc88172c00ba8bc7</td>\n",
              "      <td>861eff4711a542e4b93843c6dd7febb0</td>\n",
              "      <td>14409</td>\n",
              "      <td>franca</td>\n",
              "      <td>SP</td>\n",
              "      <td>14409</td>\n",
              "      <td>-20.515413</td>\n",
              "      <td>-47.398194</td>\n",
              "      <td>franca</td>\n",
              "      <td>SP</td>\n",
              "    </tr>\n",
              "  </tbody>\n",
              "</table>\n",
              "</div>"
            ],
            "text/plain": [
              "                        customer_id                customer_unique_id  \\\n",
              "0  06b8999e2fba1a1fbc88172c00ba8bc7  861eff4711a542e4b93843c6dd7febb0   \n",
              "1  06b8999e2fba1a1fbc88172c00ba8bc7  861eff4711a542e4b93843c6dd7febb0   \n",
              "2  06b8999e2fba1a1fbc88172c00ba8bc7  861eff4711a542e4b93843c6dd7febb0   \n",
              "3  06b8999e2fba1a1fbc88172c00ba8bc7  861eff4711a542e4b93843c6dd7febb0   \n",
              "4  06b8999e2fba1a1fbc88172c00ba8bc7  861eff4711a542e4b93843c6dd7febb0   \n",
              "\n",
              "   customer_zip_code_prefix customer_city customer_state  \\\n",
              "0                     14409        franca             SP   \n",
              "1                     14409        franca             SP   \n",
              "2                     14409        franca             SP   \n",
              "3                     14409        franca             SP   \n",
              "4                     14409        franca             SP   \n",
              "\n",
              "   geolocation_zip_code_prefix  geolocation_lat  geolocation_lng  \\\n",
              "0                        14409       -20.509897       -47.397866   \n",
              "1                        14409       -20.497396       -47.399241   \n",
              "2                        14409       -20.510459       -47.399553   \n",
              "3                        14409       -20.480940       -47.394161   \n",
              "4                        14409       -20.515413       -47.398194   \n",
              "\n",
              "  geolocation_city geolocation_state  \n",
              "0           franca                SP  \n",
              "1           franca                SP  \n",
              "2           franca                SP  \n",
              "3           franca                SP  \n",
              "4           franca                SP  "
            ]
          },
          "execution_count": 262,
          "metadata": {},
          "output_type": "execute_result"
        }
      ],
      "source": [
        "customers_geolocation_df = pd.merge(\n",
        "  left=customers_df,\n",
        "  right=geolocation_df,\n",
        "  left_on=\"customer_zip_code_prefix\",\n",
        "  right_on=\"geolocation_zip_code_prefix\"\n",
        ")\n",
        "\n",
        "customers_geolocation_df.head()"
      ]
    },
    {
      "cell_type": "code",
      "execution_count": 263,
      "metadata": {
        "colab": {
          "base_uri": "https://localhost:8080/",
          "height": 927
        },
        "id": "6EKuJ6hVODby",
        "outputId": "ad0b20cd-e565-4797-9f98-9e4eaa6fe8ab"
      },
      "outputs": [
        {
          "data": {
            "text/html": [
              "<div>\n",
              "<style scoped>\n",
              "    .dataframe tbody tr th:only-of-type {\n",
              "        vertical-align: middle;\n",
              "    }\n",
              "\n",
              "    .dataframe tbody tr th {\n",
              "        vertical-align: top;\n",
              "    }\n",
              "\n",
              "    .dataframe thead th {\n",
              "        text-align: right;\n",
              "    }\n",
              "</style>\n",
              "<table border=\"1\" class=\"dataframe\">\n",
              "  <thead>\n",
              "    <tr style=\"text-align: right;\">\n",
              "      <th></th>\n",
              "      <th>customer_id</th>\n",
              "    </tr>\n",
              "    <tr>\n",
              "      <th>customer_state</th>\n",
              "      <th></th>\n",
              "    </tr>\n",
              "  </thead>\n",
              "  <tbody>\n",
              "    <tr>\n",
              "      <th>AC</th>\n",
              "      <td>81</td>\n",
              "    </tr>\n",
              "    <tr>\n",
              "      <th>AL</th>\n",
              "      <td>413</td>\n",
              "    </tr>\n",
              "    <tr>\n",
              "      <th>AM</th>\n",
              "      <td>148</td>\n",
              "    </tr>\n",
              "    <tr>\n",
              "      <th>AP</th>\n",
              "      <td>68</td>\n",
              "    </tr>\n",
              "    <tr>\n",
              "      <th>BA</th>\n",
              "      <td>3380</td>\n",
              "    </tr>\n",
              "    <tr>\n",
              "      <th>CE</th>\n",
              "      <td>1336</td>\n",
              "    </tr>\n",
              "    <tr>\n",
              "      <th>DF</th>\n",
              "      <td>2140</td>\n",
              "    </tr>\n",
              "    <tr>\n",
              "      <th>ES</th>\n",
              "      <td>2033</td>\n",
              "    </tr>\n",
              "    <tr>\n",
              "      <th>GO</th>\n",
              "      <td>2020</td>\n",
              "    </tr>\n",
              "    <tr>\n",
              "      <th>MA</th>\n",
              "      <td>747</td>\n",
              "    </tr>\n",
              "    <tr>\n",
              "      <th>MG</th>\n",
              "      <td>11635</td>\n",
              "    </tr>\n",
              "    <tr>\n",
              "      <th>MS</th>\n",
              "      <td>715</td>\n",
              "    </tr>\n",
              "    <tr>\n",
              "      <th>MT</th>\n",
              "      <td>907</td>\n",
              "    </tr>\n",
              "    <tr>\n",
              "      <th>PA</th>\n",
              "      <td>975</td>\n",
              "    </tr>\n",
              "    <tr>\n",
              "      <th>PB</th>\n",
              "      <td>536</td>\n",
              "    </tr>\n",
              "    <tr>\n",
              "      <th>PE</th>\n",
              "      <td>1652</td>\n",
              "    </tr>\n",
              "    <tr>\n",
              "      <th>PI</th>\n",
              "      <td>495</td>\n",
              "    </tr>\n",
              "    <tr>\n",
              "      <th>PR</th>\n",
              "      <td>5045</td>\n",
              "    </tr>\n",
              "    <tr>\n",
              "      <th>RJ</th>\n",
              "      <td>12852</td>\n",
              "    </tr>\n",
              "    <tr>\n",
              "      <th>RN</th>\n",
              "      <td>485</td>\n",
              "    </tr>\n",
              "    <tr>\n",
              "      <th>RO</th>\n",
              "      <td>253</td>\n",
              "    </tr>\n",
              "    <tr>\n",
              "      <th>RR</th>\n",
              "      <td>46</td>\n",
              "    </tr>\n",
              "    <tr>\n",
              "      <th>RS</th>\n",
              "      <td>5466</td>\n",
              "    </tr>\n",
              "    <tr>\n",
              "      <th>SC</th>\n",
              "      <td>3637</td>\n",
              "    </tr>\n",
              "    <tr>\n",
              "      <th>SE</th>\n",
              "      <td>350</td>\n",
              "    </tr>\n",
              "    <tr>\n",
              "      <th>SP</th>\n",
              "      <td>41746</td>\n",
              "    </tr>\n",
              "    <tr>\n",
              "      <th>TO</th>\n",
              "      <td>280</td>\n",
              "    </tr>\n",
              "  </tbody>\n",
              "</table>\n",
              "</div>"
            ],
            "text/plain": [
              "                customer_id\n",
              "customer_state             \n",
              "AC                       81\n",
              "AL                      413\n",
              "AM                      148\n",
              "AP                       68\n",
              "BA                     3380\n",
              "CE                     1336\n",
              "DF                     2140\n",
              "ES                     2033\n",
              "GO                     2020\n",
              "MA                      747\n",
              "MG                    11635\n",
              "MS                      715\n",
              "MT                      907\n",
              "PA                      975\n",
              "PB                      536\n",
              "PE                     1652\n",
              "PI                      495\n",
              "PR                     5045\n",
              "RJ                    12852\n",
              "RN                      485\n",
              "RO                      253\n",
              "RR                       46\n",
              "RS                     5466\n",
              "SC                     3637\n",
              "SE                      350\n",
              "SP                    41746\n",
              "TO                      280"
            ]
          },
          "execution_count": 263,
          "metadata": {},
          "output_type": "execute_result"
        }
      ],
      "source": [
        "customers_df.groupby(by=\"customer_state\").agg({\n",
        "  \"customer_id\": \"nunique\"\n",
        "})"
      ]
    },
    {
      "cell_type": "markdown",
      "metadata": {
        "id": "oGxAAOSkODbz"
      },
      "source": [
        "### Pertanyaan 3 : Product apa yang memiliki skor review terbaik dan terburuk?"
      ]
    },
    {
      "cell_type": "code",
      "execution_count": 264,
      "metadata": {
        "colab": {
          "base_uri": "https://localhost:8080/",
          "height": 206
        },
        "id": "-TY3nsjZODbz",
        "outputId": "258276ee-2319-4a8e-9fe5-f10461015cc2"
      },
      "outputs": [
        {
          "data": {
            "text/html": [
              "<div>\n",
              "<style scoped>\n",
              "    .dataframe tbody tr th:only-of-type {\n",
              "        vertical-align: middle;\n",
              "    }\n",
              "\n",
              "    .dataframe tbody tr th {\n",
              "        vertical-align: top;\n",
              "    }\n",
              "\n",
              "    .dataframe thead th {\n",
              "        text-align: right;\n",
              "    }\n",
              "</style>\n",
              "<table border=\"1\" class=\"dataframe\">\n",
              "  <thead>\n",
              "    <tr style=\"text-align: right;\">\n",
              "      <th></th>\n",
              "      <th>product_category_name</th>\n",
              "      <th>review_score</th>\n",
              "    </tr>\n",
              "  </thead>\n",
              "  <tbody>\n",
              "    <tr>\n",
              "      <th>0</th>\n",
              "      <td>agro_industria_e_comercio</td>\n",
              "      <td>842.0</td>\n",
              "    </tr>\n",
              "    <tr>\n",
              "      <th>1</th>\n",
              "      <td>alimentos</td>\n",
              "      <td>2076.0</td>\n",
              "    </tr>\n",
              "    <tr>\n",
              "      <th>2</th>\n",
              "      <td>alimentos_bebidas</td>\n",
              "      <td>1184.0</td>\n",
              "    </tr>\n",
              "    <tr>\n",
              "      <th>3</th>\n",
              "      <td>artes</td>\n",
              "      <td>796.0</td>\n",
              "    </tr>\n",
              "    <tr>\n",
              "      <th>4</th>\n",
              "      <td>artes_e_artesanato</td>\n",
              "      <td>99.0</td>\n",
              "    </tr>\n",
              "  </tbody>\n",
              "</table>\n",
              "</div>"
            ],
            "text/plain": [
              "       product_category_name  review_score\n",
              "0  agro_industria_e_comercio         842.0\n",
              "1                  alimentos        2076.0\n",
              "2          alimentos_bebidas        1184.0\n",
              "3                      artes         796.0\n",
              "4         artes_e_artesanato          99.0"
            ]
          },
          "execution_count": 264,
          "metadata": {},
          "output_type": "execute_result"
        }
      ],
      "source": [
        "product_review_score = orders_products_review.groupby(by=\"product_category_name\").agg({\n",
        "  \"review_score\": \"sum\"\n",
        "}).reset_index()\n",
        "product_review_score.head()"
      ]
    },
    {
      "cell_type": "code",
      "execution_count": 265,
      "metadata": {},
      "outputs": [
        {
          "data": {
            "application/vnd.plotly.v1+json": {
              "config": {
                "plotlyServerURL": "https://plot.ly"
              },
              "data": [
                {
                  "marker": {
                    "color": "blue"
                  },
                  "orientation": "h",
                  "text": {
                    "bdata": "AAAAAICL0EAAAAAAQPPQQAAAAACAMNFAAAAAAEAn10AAAAAAwDPbQAAAAACA2t1AAAAAAAB130AAAAAA4CfhQAAAAACAWuNAAAAAAKAD5UA=",
                    "dtype": "f8"
                  },
                  "textposition": "auto",
                  "type": "bar",
                  "x": {
                    "bdata": "AAAAAICL0EAAAAAAQPPQQAAAAACAMNFAAAAAAEAn10AAAAAAwDPbQAAAAACA2t1AAAAAAAB130AAAAAA4CfhQAAAAACAWuNAAAAAAKAD5UA=",
                    "dtype": "f8"
                  },
                  "xaxis": "x",
                  "y": [
                    "automotivo",
                    "ferramentas_jardim",
                    "telefonia",
                    "relogios_presentes",
                    "utilidades_domesticas",
                    "informatica_acessorios",
                    "moveis_decoracao",
                    "esporte_lazer",
                    "beleza_saude",
                    "cama_mesa_banho"
                  ],
                  "yaxis": "y"
                },
                {
                  "marker": {
                    "color": "red"
                  },
                  "orientation": "h",
                  "text": {
                    "bdata": "AAAAAAAAFEAAAAAAAAA9QAAAAAAAgEFAAAAAAAAASEAAAAAAAABKQAAAAAAAQFBAAAAAAACAWEAAAAAAAMBYQAAAAAAAQF9AAAAAAABgYEA=",
                    "dtype": "f8"
                  },
                  "textposition": "auto",
                  "type": "bar",
                  "x": {
                    "bdata": "AAAAAAAAFEAAAAAAAAA9QAAAAAAAgEFAAAAAAAAASEAAAAAAAABKQAAAAAAAQFBAAAAAAACAWEAAAAAAAMBYQAAAAAAAQF9AAAAAAABgYEA=",
                    "dtype": "f8"
                  },
                  "xaxis": "x2",
                  "y": [
                    "seguros_e_servicos",
                    "pc_gamer",
                    "fashion_roupa_infanto_juvenil",
                    "portateis_cozinha_e_preparadores_de_alimentos",
                    "la_cuisine",
                    "cds_dvds_musicais",
                    "casa_conforto_2",
                    "artes_e_artesanato",
                    "fraldas_higiene",
                    "fashion_esporte"
                  ],
                  "yaxis": "y2"
                }
              ],
              "layout": {
                "annotations": [
                  {
                    "font": {
                      "size": 16
                    },
                    "showarrow": false,
                    "text": "10 Products with Highest Review Score",
                    "x": 0.225,
                    "xanchor": "center",
                    "xref": "paper",
                    "y": 1,
                    "yanchor": "bottom",
                    "yref": "paper"
                  },
                  {
                    "font": {
                      "size": 16
                    },
                    "showarrow": false,
                    "text": "10 Products with Lowest Review Score",
                    "x": 0.775,
                    "xanchor": "center",
                    "xref": "paper",
                    "y": 1,
                    "yanchor": "bottom",
                    "yref": "paper"
                  }
                ],
                "height": 600,
                "showlegend": false,
                "template": {
                  "data": {
                    "bar": [
                      {
                        "error_x": {
                          "color": "#2a3f5f"
                        },
                        "error_y": {
                          "color": "#2a3f5f"
                        },
                        "marker": {
                          "line": {
                            "color": "#E5ECF6",
                            "width": 0.5
                          },
                          "pattern": {
                            "fillmode": "overlay",
                            "size": 10,
                            "solidity": 0.2
                          }
                        },
                        "type": "bar"
                      }
                    ],
                    "barpolar": [
                      {
                        "marker": {
                          "line": {
                            "color": "#E5ECF6",
                            "width": 0.5
                          },
                          "pattern": {
                            "fillmode": "overlay",
                            "size": 10,
                            "solidity": 0.2
                          }
                        },
                        "type": "barpolar"
                      }
                    ],
                    "carpet": [
                      {
                        "aaxis": {
                          "endlinecolor": "#2a3f5f",
                          "gridcolor": "white",
                          "linecolor": "white",
                          "minorgridcolor": "white",
                          "startlinecolor": "#2a3f5f"
                        },
                        "baxis": {
                          "endlinecolor": "#2a3f5f",
                          "gridcolor": "white",
                          "linecolor": "white",
                          "minorgridcolor": "white",
                          "startlinecolor": "#2a3f5f"
                        },
                        "type": "carpet"
                      }
                    ],
                    "choropleth": [
                      {
                        "colorbar": {
                          "outlinewidth": 0,
                          "ticks": ""
                        },
                        "type": "choropleth"
                      }
                    ],
                    "contour": [
                      {
                        "colorbar": {
                          "outlinewidth": 0,
                          "ticks": ""
                        },
                        "colorscale": [
                          [
                            0,
                            "#0d0887"
                          ],
                          [
                            0.1111111111111111,
                            "#46039f"
                          ],
                          [
                            0.2222222222222222,
                            "#7201a8"
                          ],
                          [
                            0.3333333333333333,
                            "#9c179e"
                          ],
                          [
                            0.4444444444444444,
                            "#bd3786"
                          ],
                          [
                            0.5555555555555556,
                            "#d8576b"
                          ],
                          [
                            0.6666666666666666,
                            "#ed7953"
                          ],
                          [
                            0.7777777777777778,
                            "#fb9f3a"
                          ],
                          [
                            0.8888888888888888,
                            "#fdca26"
                          ],
                          [
                            1,
                            "#f0f921"
                          ]
                        ],
                        "type": "contour"
                      }
                    ],
                    "contourcarpet": [
                      {
                        "colorbar": {
                          "outlinewidth": 0,
                          "ticks": ""
                        },
                        "type": "contourcarpet"
                      }
                    ],
                    "heatmap": [
                      {
                        "colorbar": {
                          "outlinewidth": 0,
                          "ticks": ""
                        },
                        "colorscale": [
                          [
                            0,
                            "#0d0887"
                          ],
                          [
                            0.1111111111111111,
                            "#46039f"
                          ],
                          [
                            0.2222222222222222,
                            "#7201a8"
                          ],
                          [
                            0.3333333333333333,
                            "#9c179e"
                          ],
                          [
                            0.4444444444444444,
                            "#bd3786"
                          ],
                          [
                            0.5555555555555556,
                            "#d8576b"
                          ],
                          [
                            0.6666666666666666,
                            "#ed7953"
                          ],
                          [
                            0.7777777777777778,
                            "#fb9f3a"
                          ],
                          [
                            0.8888888888888888,
                            "#fdca26"
                          ],
                          [
                            1,
                            "#f0f921"
                          ]
                        ],
                        "type": "heatmap"
                      }
                    ],
                    "histogram": [
                      {
                        "marker": {
                          "pattern": {
                            "fillmode": "overlay",
                            "size": 10,
                            "solidity": 0.2
                          }
                        },
                        "type": "histogram"
                      }
                    ],
                    "histogram2d": [
                      {
                        "colorbar": {
                          "outlinewidth": 0,
                          "ticks": ""
                        },
                        "colorscale": [
                          [
                            0,
                            "#0d0887"
                          ],
                          [
                            0.1111111111111111,
                            "#46039f"
                          ],
                          [
                            0.2222222222222222,
                            "#7201a8"
                          ],
                          [
                            0.3333333333333333,
                            "#9c179e"
                          ],
                          [
                            0.4444444444444444,
                            "#bd3786"
                          ],
                          [
                            0.5555555555555556,
                            "#d8576b"
                          ],
                          [
                            0.6666666666666666,
                            "#ed7953"
                          ],
                          [
                            0.7777777777777778,
                            "#fb9f3a"
                          ],
                          [
                            0.8888888888888888,
                            "#fdca26"
                          ],
                          [
                            1,
                            "#f0f921"
                          ]
                        ],
                        "type": "histogram2d"
                      }
                    ],
                    "histogram2dcontour": [
                      {
                        "colorbar": {
                          "outlinewidth": 0,
                          "ticks": ""
                        },
                        "colorscale": [
                          [
                            0,
                            "#0d0887"
                          ],
                          [
                            0.1111111111111111,
                            "#46039f"
                          ],
                          [
                            0.2222222222222222,
                            "#7201a8"
                          ],
                          [
                            0.3333333333333333,
                            "#9c179e"
                          ],
                          [
                            0.4444444444444444,
                            "#bd3786"
                          ],
                          [
                            0.5555555555555556,
                            "#d8576b"
                          ],
                          [
                            0.6666666666666666,
                            "#ed7953"
                          ],
                          [
                            0.7777777777777778,
                            "#fb9f3a"
                          ],
                          [
                            0.8888888888888888,
                            "#fdca26"
                          ],
                          [
                            1,
                            "#f0f921"
                          ]
                        ],
                        "type": "histogram2dcontour"
                      }
                    ],
                    "mesh3d": [
                      {
                        "colorbar": {
                          "outlinewidth": 0,
                          "ticks": ""
                        },
                        "type": "mesh3d"
                      }
                    ],
                    "parcoords": [
                      {
                        "line": {
                          "colorbar": {
                            "outlinewidth": 0,
                            "ticks": ""
                          }
                        },
                        "type": "parcoords"
                      }
                    ],
                    "pie": [
                      {
                        "automargin": true,
                        "type": "pie"
                      }
                    ],
                    "scatter": [
                      {
                        "fillpattern": {
                          "fillmode": "overlay",
                          "size": 10,
                          "solidity": 0.2
                        },
                        "type": "scatter"
                      }
                    ],
                    "scatter3d": [
                      {
                        "line": {
                          "colorbar": {
                            "outlinewidth": 0,
                            "ticks": ""
                          }
                        },
                        "marker": {
                          "colorbar": {
                            "outlinewidth": 0,
                            "ticks": ""
                          }
                        },
                        "type": "scatter3d"
                      }
                    ],
                    "scattercarpet": [
                      {
                        "marker": {
                          "colorbar": {
                            "outlinewidth": 0,
                            "ticks": ""
                          }
                        },
                        "type": "scattercarpet"
                      }
                    ],
                    "scattergeo": [
                      {
                        "marker": {
                          "colorbar": {
                            "outlinewidth": 0,
                            "ticks": ""
                          }
                        },
                        "type": "scattergeo"
                      }
                    ],
                    "scattergl": [
                      {
                        "marker": {
                          "colorbar": {
                            "outlinewidth": 0,
                            "ticks": ""
                          }
                        },
                        "type": "scattergl"
                      }
                    ],
                    "scattermap": [
                      {
                        "marker": {
                          "colorbar": {
                            "outlinewidth": 0,
                            "ticks": ""
                          }
                        },
                        "type": "scattermap"
                      }
                    ],
                    "scattermapbox": [
                      {
                        "marker": {
                          "colorbar": {
                            "outlinewidth": 0,
                            "ticks": ""
                          }
                        },
                        "type": "scattermapbox"
                      }
                    ],
                    "scatterpolar": [
                      {
                        "marker": {
                          "colorbar": {
                            "outlinewidth": 0,
                            "ticks": ""
                          }
                        },
                        "type": "scatterpolar"
                      }
                    ],
                    "scatterpolargl": [
                      {
                        "marker": {
                          "colorbar": {
                            "outlinewidth": 0,
                            "ticks": ""
                          }
                        },
                        "type": "scatterpolargl"
                      }
                    ],
                    "scatterternary": [
                      {
                        "marker": {
                          "colorbar": {
                            "outlinewidth": 0,
                            "ticks": ""
                          }
                        },
                        "type": "scatterternary"
                      }
                    ],
                    "surface": [
                      {
                        "colorbar": {
                          "outlinewidth": 0,
                          "ticks": ""
                        },
                        "colorscale": [
                          [
                            0,
                            "#0d0887"
                          ],
                          [
                            0.1111111111111111,
                            "#46039f"
                          ],
                          [
                            0.2222222222222222,
                            "#7201a8"
                          ],
                          [
                            0.3333333333333333,
                            "#9c179e"
                          ],
                          [
                            0.4444444444444444,
                            "#bd3786"
                          ],
                          [
                            0.5555555555555556,
                            "#d8576b"
                          ],
                          [
                            0.6666666666666666,
                            "#ed7953"
                          ],
                          [
                            0.7777777777777778,
                            "#fb9f3a"
                          ],
                          [
                            0.8888888888888888,
                            "#fdca26"
                          ],
                          [
                            1,
                            "#f0f921"
                          ]
                        ],
                        "type": "surface"
                      }
                    ],
                    "table": [
                      {
                        "cells": {
                          "fill": {
                            "color": "#EBF0F8"
                          },
                          "line": {
                            "color": "white"
                          }
                        },
                        "header": {
                          "fill": {
                            "color": "#C8D4E3"
                          },
                          "line": {
                            "color": "white"
                          }
                        },
                        "type": "table"
                      }
                    ]
                  },
                  "layout": {
                    "annotationdefaults": {
                      "arrowcolor": "#2a3f5f",
                      "arrowhead": 0,
                      "arrowwidth": 1
                    },
                    "autotypenumbers": "strict",
                    "coloraxis": {
                      "colorbar": {
                        "outlinewidth": 0,
                        "ticks": ""
                      }
                    },
                    "colorscale": {
                      "diverging": [
                        [
                          0,
                          "#8e0152"
                        ],
                        [
                          0.1,
                          "#c51b7d"
                        ],
                        [
                          0.2,
                          "#de77ae"
                        ],
                        [
                          0.3,
                          "#f1b6da"
                        ],
                        [
                          0.4,
                          "#fde0ef"
                        ],
                        [
                          0.5,
                          "#f7f7f7"
                        ],
                        [
                          0.6,
                          "#e6f5d0"
                        ],
                        [
                          0.7,
                          "#b8e186"
                        ],
                        [
                          0.8,
                          "#7fbc41"
                        ],
                        [
                          0.9,
                          "#4d9221"
                        ],
                        [
                          1,
                          "#276419"
                        ]
                      ],
                      "sequential": [
                        [
                          0,
                          "#0d0887"
                        ],
                        [
                          0.1111111111111111,
                          "#46039f"
                        ],
                        [
                          0.2222222222222222,
                          "#7201a8"
                        ],
                        [
                          0.3333333333333333,
                          "#9c179e"
                        ],
                        [
                          0.4444444444444444,
                          "#bd3786"
                        ],
                        [
                          0.5555555555555556,
                          "#d8576b"
                        ],
                        [
                          0.6666666666666666,
                          "#ed7953"
                        ],
                        [
                          0.7777777777777778,
                          "#fb9f3a"
                        ],
                        [
                          0.8888888888888888,
                          "#fdca26"
                        ],
                        [
                          1,
                          "#f0f921"
                        ]
                      ],
                      "sequentialminus": [
                        [
                          0,
                          "#0d0887"
                        ],
                        [
                          0.1111111111111111,
                          "#46039f"
                        ],
                        [
                          0.2222222222222222,
                          "#7201a8"
                        ],
                        [
                          0.3333333333333333,
                          "#9c179e"
                        ],
                        [
                          0.4444444444444444,
                          "#bd3786"
                        ],
                        [
                          0.5555555555555556,
                          "#d8576b"
                        ],
                        [
                          0.6666666666666666,
                          "#ed7953"
                        ],
                        [
                          0.7777777777777778,
                          "#fb9f3a"
                        ],
                        [
                          0.8888888888888888,
                          "#fdca26"
                        ],
                        [
                          1,
                          "#f0f921"
                        ]
                      ]
                    },
                    "colorway": [
                      "#636efa",
                      "#EF553B",
                      "#00cc96",
                      "#ab63fa",
                      "#FFA15A",
                      "#19d3f3",
                      "#FF6692",
                      "#B6E880",
                      "#FF97FF",
                      "#FECB52"
                    ],
                    "font": {
                      "color": "#2a3f5f"
                    },
                    "geo": {
                      "bgcolor": "white",
                      "lakecolor": "white",
                      "landcolor": "#E5ECF6",
                      "showlakes": true,
                      "showland": true,
                      "subunitcolor": "white"
                    },
                    "hoverlabel": {
                      "align": "left"
                    },
                    "hovermode": "closest",
                    "mapbox": {
                      "style": "light"
                    },
                    "paper_bgcolor": "white",
                    "plot_bgcolor": "#E5ECF6",
                    "polar": {
                      "angularaxis": {
                        "gridcolor": "white",
                        "linecolor": "white",
                        "ticks": ""
                      },
                      "bgcolor": "#E5ECF6",
                      "radialaxis": {
                        "gridcolor": "white",
                        "linecolor": "white",
                        "ticks": ""
                      }
                    },
                    "scene": {
                      "xaxis": {
                        "backgroundcolor": "#E5ECF6",
                        "gridcolor": "white",
                        "gridwidth": 2,
                        "linecolor": "white",
                        "showbackground": true,
                        "ticks": "",
                        "zerolinecolor": "white"
                      },
                      "yaxis": {
                        "backgroundcolor": "#E5ECF6",
                        "gridcolor": "white",
                        "gridwidth": 2,
                        "linecolor": "white",
                        "showbackground": true,
                        "ticks": "",
                        "zerolinecolor": "white"
                      },
                      "zaxis": {
                        "backgroundcolor": "#E5ECF6",
                        "gridcolor": "white",
                        "gridwidth": 2,
                        "linecolor": "white",
                        "showbackground": true,
                        "ticks": "",
                        "zerolinecolor": "white"
                      }
                    },
                    "shapedefaults": {
                      "line": {
                        "color": "#2a3f5f"
                      }
                    },
                    "ternary": {
                      "aaxis": {
                        "gridcolor": "white",
                        "linecolor": "white",
                        "ticks": ""
                      },
                      "baxis": {
                        "gridcolor": "white",
                        "linecolor": "white",
                        "ticks": ""
                      },
                      "bgcolor": "#E5ECF6",
                      "caxis": {
                        "gridcolor": "white",
                        "linecolor": "white",
                        "ticks": ""
                      }
                    },
                    "title": {
                      "x": 0.05
                    },
                    "xaxis": {
                      "automargin": true,
                      "gridcolor": "white",
                      "linecolor": "white",
                      "ticks": "",
                      "title": {
                        "standoff": 15
                      },
                      "zerolinecolor": "white",
                      "zerolinewidth": 2
                    },
                    "yaxis": {
                      "automargin": true,
                      "gridcolor": "white",
                      "linecolor": "white",
                      "ticks": "",
                      "title": {
                        "standoff": 15
                      },
                      "zerolinecolor": "white",
                      "zerolinewidth": 2
                    }
                  }
                },
                "width": 1200,
                "xaxis": {
                  "anchor": "y",
                  "domain": [
                    0,
                    0.45
                  ],
                  "title": {
                    "text": "Review Score"
                  }
                },
                "xaxis2": {
                  "anchor": "y2",
                  "domain": [
                    0.55,
                    1
                  ],
                  "title": {
                    "text": "Review Score"
                  }
                },
                "yaxis": {
                  "anchor": "x",
                  "automargin": true,
                  "domain": [
                    0,
                    1
                  ],
                  "title": {
                    "text": "Product Category"
                  }
                },
                "yaxis2": {
                  "anchor": "x2",
                  "automargin": true,
                  "domain": [
                    0,
                    1
                  ],
                  "side": "right",
                  "title": {
                    "text": "Product Category"
                  }
                }
              }
            }
          },
          "metadata": {},
          "output_type": "display_data"
        }
      ],
      "source": [
        "highest_review_scores = product_review_score.sort_values(ascending=True, by=\"review_score\").tail(10)\n",
        "\n",
        "lowest_review_scores = product_review_score.sort_values(ascending=True, by=\"review_score\").head(10)\n",
        "\n",
        "fig = make_subplots(\n",
        "    rows=1, cols=2,\n",
        "    subplot_titles=[\"10 Products with Highest Review Score\", \"10 Products with Lowest Review Score\"],\n",
        "    shared_yaxes=False  # Allow independent y-axes\n",
        ")\n",
        "fig.add_trace(\n",
        "    go.Bar(\n",
        "        y=highest_review_scores[\"product_category_name\"],\n",
        "        x=highest_review_scores[\"review_score\"],\n",
        "        text=highest_review_scores[\"review_score\"],\n",
        "        textposition=\"auto\",\n",
        "        orientation=\"h\",\n",
        "        marker_color=\"blue\"\n",
        "    ),\n",
        "    row=1, col=1\n",
        ")\n",
        "\n",
        "fig.add_trace(\n",
        "    go.Bar(\n",
        "        y=lowest_review_scores[\"product_category_name\"],\n",
        "        x=lowest_review_scores[\"review_score\"],\n",
        "        text=lowest_review_scores[\"review_score\"],\n",
        "        textposition=\"auto\",\n",
        "        orientation=\"h\",\n",
        "        marker_color=\"red\"\n",
        "    ),\n",
        "    row=1, col=2\n",
        ")\n",
        "\n",
        "fig.update_layout(\n",
        "    height=600,\n",
        "    width=1200,\n",
        "    showlegend=False,\n",
        "    xaxis_title=\"Review Score\",\n",
        "    xaxis2_title=\"Review Score\",\n",
        "    yaxis=dict(title=\"Product Category\", automargin=True),\n",
        "    yaxis2=dict(title=\"Product Category\", automargin=True, side=\"right\") \n",
        ")\n",
        "\n",
        "fig.show()\n"
      ]
    },
    {
      "cell_type": "markdown",
      "metadata": {
        "id": "jdLtyvTMODbz"
      },
      "source": [
        "### Berapa persentase pesanan diantar tepat waktu dan terlambat?"
      ]
    },
    {
      "cell_type": "code",
      "execution_count": 266,
      "metadata": {
        "colab": {
          "base_uri": "https://localhost:8080/",
          "height": 617
        },
        "id": "b0CEhVqTODbz",
        "outputId": "96ba1008-d7c0-4cba-d6d5-da5a54875830"
      },
      "outputs": [
        {
          "data": {
            "application/vnd.plotly.v1+json": {
              "config": {
                "plotlyServerURL": "https://plot.ly"
              },
              "data": [
                {
                  "domain": {
                    "x": [
                      0,
                      1
                    ],
                    "y": [
                      0,
                      1
                    ]
                  },
                  "hole": 0.55,
                  "hovertemplate": "delivery_status=%{label}<br>order_id=%{value}<extra></extra>",
                  "labels": [
                    "other",
                    "on time",
                    "late"
                  ],
                  "legendgroup": "",
                  "name": "",
                  "showlegend": true,
                  "type": "pie",
                  "values": {
                    "bdata": "BgAAADZaAQCRHgAA",
                    "dtype": "i4"
                  }
                }
              ],
              "layout": {
                "height": 600,
                "legend": {
                  "tracegroupgap": 0
                },
                "template": {
                  "data": {
                    "bar": [
                      {
                        "error_x": {
                          "color": "#2a3f5f"
                        },
                        "error_y": {
                          "color": "#2a3f5f"
                        },
                        "marker": {
                          "line": {
                            "color": "#E5ECF6",
                            "width": 0.5
                          },
                          "pattern": {
                            "fillmode": "overlay",
                            "size": 10,
                            "solidity": 0.2
                          }
                        },
                        "type": "bar"
                      }
                    ],
                    "barpolar": [
                      {
                        "marker": {
                          "line": {
                            "color": "#E5ECF6",
                            "width": 0.5
                          },
                          "pattern": {
                            "fillmode": "overlay",
                            "size": 10,
                            "solidity": 0.2
                          }
                        },
                        "type": "barpolar"
                      }
                    ],
                    "carpet": [
                      {
                        "aaxis": {
                          "endlinecolor": "#2a3f5f",
                          "gridcolor": "white",
                          "linecolor": "white",
                          "minorgridcolor": "white",
                          "startlinecolor": "#2a3f5f"
                        },
                        "baxis": {
                          "endlinecolor": "#2a3f5f",
                          "gridcolor": "white",
                          "linecolor": "white",
                          "minorgridcolor": "white",
                          "startlinecolor": "#2a3f5f"
                        },
                        "type": "carpet"
                      }
                    ],
                    "choropleth": [
                      {
                        "colorbar": {
                          "outlinewidth": 0,
                          "ticks": ""
                        },
                        "type": "choropleth"
                      }
                    ],
                    "contour": [
                      {
                        "colorbar": {
                          "outlinewidth": 0,
                          "ticks": ""
                        },
                        "colorscale": [
                          [
                            0,
                            "#0d0887"
                          ],
                          [
                            0.1111111111111111,
                            "#46039f"
                          ],
                          [
                            0.2222222222222222,
                            "#7201a8"
                          ],
                          [
                            0.3333333333333333,
                            "#9c179e"
                          ],
                          [
                            0.4444444444444444,
                            "#bd3786"
                          ],
                          [
                            0.5555555555555556,
                            "#d8576b"
                          ],
                          [
                            0.6666666666666666,
                            "#ed7953"
                          ],
                          [
                            0.7777777777777778,
                            "#fb9f3a"
                          ],
                          [
                            0.8888888888888888,
                            "#fdca26"
                          ],
                          [
                            1,
                            "#f0f921"
                          ]
                        ],
                        "type": "contour"
                      }
                    ],
                    "contourcarpet": [
                      {
                        "colorbar": {
                          "outlinewidth": 0,
                          "ticks": ""
                        },
                        "type": "contourcarpet"
                      }
                    ],
                    "heatmap": [
                      {
                        "colorbar": {
                          "outlinewidth": 0,
                          "ticks": ""
                        },
                        "colorscale": [
                          [
                            0,
                            "#0d0887"
                          ],
                          [
                            0.1111111111111111,
                            "#46039f"
                          ],
                          [
                            0.2222222222222222,
                            "#7201a8"
                          ],
                          [
                            0.3333333333333333,
                            "#9c179e"
                          ],
                          [
                            0.4444444444444444,
                            "#bd3786"
                          ],
                          [
                            0.5555555555555556,
                            "#d8576b"
                          ],
                          [
                            0.6666666666666666,
                            "#ed7953"
                          ],
                          [
                            0.7777777777777778,
                            "#fb9f3a"
                          ],
                          [
                            0.8888888888888888,
                            "#fdca26"
                          ],
                          [
                            1,
                            "#f0f921"
                          ]
                        ],
                        "type": "heatmap"
                      }
                    ],
                    "histogram": [
                      {
                        "marker": {
                          "pattern": {
                            "fillmode": "overlay",
                            "size": 10,
                            "solidity": 0.2
                          }
                        },
                        "type": "histogram"
                      }
                    ],
                    "histogram2d": [
                      {
                        "colorbar": {
                          "outlinewidth": 0,
                          "ticks": ""
                        },
                        "colorscale": [
                          [
                            0,
                            "#0d0887"
                          ],
                          [
                            0.1111111111111111,
                            "#46039f"
                          ],
                          [
                            0.2222222222222222,
                            "#7201a8"
                          ],
                          [
                            0.3333333333333333,
                            "#9c179e"
                          ],
                          [
                            0.4444444444444444,
                            "#bd3786"
                          ],
                          [
                            0.5555555555555556,
                            "#d8576b"
                          ],
                          [
                            0.6666666666666666,
                            "#ed7953"
                          ],
                          [
                            0.7777777777777778,
                            "#fb9f3a"
                          ],
                          [
                            0.8888888888888888,
                            "#fdca26"
                          ],
                          [
                            1,
                            "#f0f921"
                          ]
                        ],
                        "type": "histogram2d"
                      }
                    ],
                    "histogram2dcontour": [
                      {
                        "colorbar": {
                          "outlinewidth": 0,
                          "ticks": ""
                        },
                        "colorscale": [
                          [
                            0,
                            "#0d0887"
                          ],
                          [
                            0.1111111111111111,
                            "#46039f"
                          ],
                          [
                            0.2222222222222222,
                            "#7201a8"
                          ],
                          [
                            0.3333333333333333,
                            "#9c179e"
                          ],
                          [
                            0.4444444444444444,
                            "#bd3786"
                          ],
                          [
                            0.5555555555555556,
                            "#d8576b"
                          ],
                          [
                            0.6666666666666666,
                            "#ed7953"
                          ],
                          [
                            0.7777777777777778,
                            "#fb9f3a"
                          ],
                          [
                            0.8888888888888888,
                            "#fdca26"
                          ],
                          [
                            1,
                            "#f0f921"
                          ]
                        ],
                        "type": "histogram2dcontour"
                      }
                    ],
                    "mesh3d": [
                      {
                        "colorbar": {
                          "outlinewidth": 0,
                          "ticks": ""
                        },
                        "type": "mesh3d"
                      }
                    ],
                    "parcoords": [
                      {
                        "line": {
                          "colorbar": {
                            "outlinewidth": 0,
                            "ticks": ""
                          }
                        },
                        "type": "parcoords"
                      }
                    ],
                    "pie": [
                      {
                        "automargin": true,
                        "type": "pie"
                      }
                    ],
                    "scatter": [
                      {
                        "fillpattern": {
                          "fillmode": "overlay",
                          "size": 10,
                          "solidity": 0.2
                        },
                        "type": "scatter"
                      }
                    ],
                    "scatter3d": [
                      {
                        "line": {
                          "colorbar": {
                            "outlinewidth": 0,
                            "ticks": ""
                          }
                        },
                        "marker": {
                          "colorbar": {
                            "outlinewidth": 0,
                            "ticks": ""
                          }
                        },
                        "type": "scatter3d"
                      }
                    ],
                    "scattercarpet": [
                      {
                        "marker": {
                          "colorbar": {
                            "outlinewidth": 0,
                            "ticks": ""
                          }
                        },
                        "type": "scattercarpet"
                      }
                    ],
                    "scattergeo": [
                      {
                        "marker": {
                          "colorbar": {
                            "outlinewidth": 0,
                            "ticks": ""
                          }
                        },
                        "type": "scattergeo"
                      }
                    ],
                    "scattergl": [
                      {
                        "marker": {
                          "colorbar": {
                            "outlinewidth": 0,
                            "ticks": ""
                          }
                        },
                        "type": "scattergl"
                      }
                    ],
                    "scattermap": [
                      {
                        "marker": {
                          "colorbar": {
                            "outlinewidth": 0,
                            "ticks": ""
                          }
                        },
                        "type": "scattermap"
                      }
                    ],
                    "scattermapbox": [
                      {
                        "marker": {
                          "colorbar": {
                            "outlinewidth": 0,
                            "ticks": ""
                          }
                        },
                        "type": "scattermapbox"
                      }
                    ],
                    "scatterpolar": [
                      {
                        "marker": {
                          "colorbar": {
                            "outlinewidth": 0,
                            "ticks": ""
                          }
                        },
                        "type": "scatterpolar"
                      }
                    ],
                    "scatterpolargl": [
                      {
                        "marker": {
                          "colorbar": {
                            "outlinewidth": 0,
                            "ticks": ""
                          }
                        },
                        "type": "scatterpolargl"
                      }
                    ],
                    "scatterternary": [
                      {
                        "marker": {
                          "colorbar": {
                            "outlinewidth": 0,
                            "ticks": ""
                          }
                        },
                        "type": "scatterternary"
                      }
                    ],
                    "surface": [
                      {
                        "colorbar": {
                          "outlinewidth": 0,
                          "ticks": ""
                        },
                        "colorscale": [
                          [
                            0,
                            "#0d0887"
                          ],
                          [
                            0.1111111111111111,
                            "#46039f"
                          ],
                          [
                            0.2222222222222222,
                            "#7201a8"
                          ],
                          [
                            0.3333333333333333,
                            "#9c179e"
                          ],
                          [
                            0.4444444444444444,
                            "#bd3786"
                          ],
                          [
                            0.5555555555555556,
                            "#d8576b"
                          ],
                          [
                            0.6666666666666666,
                            "#ed7953"
                          ],
                          [
                            0.7777777777777778,
                            "#fb9f3a"
                          ],
                          [
                            0.8888888888888888,
                            "#fdca26"
                          ],
                          [
                            1,
                            "#f0f921"
                          ]
                        ],
                        "type": "surface"
                      }
                    ],
                    "table": [
                      {
                        "cells": {
                          "fill": {
                            "color": "#EBF0F8"
                          },
                          "line": {
                            "color": "white"
                          }
                        },
                        "header": {
                          "fill": {
                            "color": "#C8D4E3"
                          },
                          "line": {
                            "color": "white"
                          }
                        },
                        "type": "table"
                      }
                    ]
                  },
                  "layout": {
                    "annotationdefaults": {
                      "arrowcolor": "#2a3f5f",
                      "arrowhead": 0,
                      "arrowwidth": 1
                    },
                    "autotypenumbers": "strict",
                    "coloraxis": {
                      "colorbar": {
                        "outlinewidth": 0,
                        "ticks": ""
                      }
                    },
                    "colorscale": {
                      "diverging": [
                        [
                          0,
                          "#8e0152"
                        ],
                        [
                          0.1,
                          "#c51b7d"
                        ],
                        [
                          0.2,
                          "#de77ae"
                        ],
                        [
                          0.3,
                          "#f1b6da"
                        ],
                        [
                          0.4,
                          "#fde0ef"
                        ],
                        [
                          0.5,
                          "#f7f7f7"
                        ],
                        [
                          0.6,
                          "#e6f5d0"
                        ],
                        [
                          0.7,
                          "#b8e186"
                        ],
                        [
                          0.8,
                          "#7fbc41"
                        ],
                        [
                          0.9,
                          "#4d9221"
                        ],
                        [
                          1,
                          "#276419"
                        ]
                      ],
                      "sequential": [
                        [
                          0,
                          "#0d0887"
                        ],
                        [
                          0.1111111111111111,
                          "#46039f"
                        ],
                        [
                          0.2222222222222222,
                          "#7201a8"
                        ],
                        [
                          0.3333333333333333,
                          "#9c179e"
                        ],
                        [
                          0.4444444444444444,
                          "#bd3786"
                        ],
                        [
                          0.5555555555555556,
                          "#d8576b"
                        ],
                        [
                          0.6666666666666666,
                          "#ed7953"
                        ],
                        [
                          0.7777777777777778,
                          "#fb9f3a"
                        ],
                        [
                          0.8888888888888888,
                          "#fdca26"
                        ],
                        [
                          1,
                          "#f0f921"
                        ]
                      ],
                      "sequentialminus": [
                        [
                          0,
                          "#0d0887"
                        ],
                        [
                          0.1111111111111111,
                          "#46039f"
                        ],
                        [
                          0.2222222222222222,
                          "#7201a8"
                        ],
                        [
                          0.3333333333333333,
                          "#9c179e"
                        ],
                        [
                          0.4444444444444444,
                          "#bd3786"
                        ],
                        [
                          0.5555555555555556,
                          "#d8576b"
                        ],
                        [
                          0.6666666666666666,
                          "#ed7953"
                        ],
                        [
                          0.7777777777777778,
                          "#fb9f3a"
                        ],
                        [
                          0.8888888888888888,
                          "#fdca26"
                        ],
                        [
                          1,
                          "#f0f921"
                        ]
                      ]
                    },
                    "colorway": [
                      "#636efa",
                      "#EF553B",
                      "#00cc96",
                      "#ab63fa",
                      "#FFA15A",
                      "#19d3f3",
                      "#FF6692",
                      "#B6E880",
                      "#FF97FF",
                      "#FECB52"
                    ],
                    "font": {
                      "color": "#2a3f5f"
                    },
                    "geo": {
                      "bgcolor": "white",
                      "lakecolor": "white",
                      "landcolor": "#E5ECF6",
                      "showlakes": true,
                      "showland": true,
                      "subunitcolor": "white"
                    },
                    "hoverlabel": {
                      "align": "left"
                    },
                    "hovermode": "closest",
                    "mapbox": {
                      "style": "light"
                    },
                    "paper_bgcolor": "white",
                    "plot_bgcolor": "#E5ECF6",
                    "polar": {
                      "angularaxis": {
                        "gridcolor": "white",
                        "linecolor": "white",
                        "ticks": ""
                      },
                      "bgcolor": "#E5ECF6",
                      "radialaxis": {
                        "gridcolor": "white",
                        "linecolor": "white",
                        "ticks": ""
                      }
                    },
                    "scene": {
                      "xaxis": {
                        "backgroundcolor": "#E5ECF6",
                        "gridcolor": "white",
                        "gridwidth": 2,
                        "linecolor": "white",
                        "showbackground": true,
                        "ticks": "",
                        "zerolinecolor": "white"
                      },
                      "yaxis": {
                        "backgroundcolor": "#E5ECF6",
                        "gridcolor": "white",
                        "gridwidth": 2,
                        "linecolor": "white",
                        "showbackground": true,
                        "ticks": "",
                        "zerolinecolor": "white"
                      },
                      "zaxis": {
                        "backgroundcolor": "#E5ECF6",
                        "gridcolor": "white",
                        "gridwidth": 2,
                        "linecolor": "white",
                        "showbackground": true,
                        "ticks": "",
                        "zerolinecolor": "white"
                      }
                    },
                    "shapedefaults": {
                      "line": {
                        "color": "#2a3f5f"
                      }
                    },
                    "ternary": {
                      "aaxis": {
                        "gridcolor": "white",
                        "linecolor": "white",
                        "ticks": ""
                      },
                      "baxis": {
                        "gridcolor": "white",
                        "linecolor": "white",
                        "ticks": ""
                      },
                      "bgcolor": "#E5ECF6",
                      "caxis": {
                        "gridcolor": "white",
                        "linecolor": "white",
                        "ticks": ""
                      }
                    },
                    "title": {
                      "x": 0.05
                    },
                    "xaxis": {
                      "automargin": true,
                      "gridcolor": "white",
                      "linecolor": "white",
                      "ticks": "",
                      "title": {
                        "standoff": 15
                      },
                      "zerolinecolor": "white",
                      "zerolinewidth": 2
                    },
                    "yaxis": {
                      "automargin": true,
                      "gridcolor": "white",
                      "linecolor": "white",
                      "ticks": "",
                      "title": {
                        "standoff": 15
                      },
                      "zerolinecolor": "white",
                      "zerolinewidth": 2
                    }
                  }
                },
                "title": {
                  "text": "Persentase pesanan terlambat dan tepat waktu"
                },
                "width": 600
              }
            }
          },
          "metadata": {},
          "output_type": "display_data"
        }
      ],
      "source": [
        "delivery_percentage = orders_df.groupby(by='delivery_status').agg({\n",
        "  \"order_id\": \"nunique\"\n",
        "}).sort_values(ascending=False, by=\"delivery_status\").reset_index()\n",
        "fig = px.pie(\n",
        "  delivery_percentage,\n",
        "  values=\"order_id\",\n",
        "  names=\"delivery_status\",\n",
        "  title=\"Persentase pesanan terlambat dan tepat waktu\",\n",
        "  width=600,\n",
        "  height=600\n",
        "  )\n",
        "fig.update_traces(hole=.55)\n",
        "fig.show()"
      ]
    },
    {
      "cell_type": "markdown",
      "metadata": {
        "id": "ciwNJHDfODbz"
      },
      "source": [
        "### Bagaimana persentase pelanggan yang melunasi pembayaran order terhadap total pelanggan?"
      ]
    },
    {
      "cell_type": "code",
      "execution_count": 267,
      "metadata": {
        "colab": {
          "base_uri": "https://localhost:8080/",
          "height": 206
        },
        "id": "uYDdrD5FSPAf",
        "outputId": "a3863142-9d1b-4f4e-d705-78ebf1f951ee"
      },
      "outputs": [
        {
          "data": {
            "text/html": [
              "<div>\n",
              "<style scoped>\n",
              "    .dataframe tbody tr th:only-of-type {\n",
              "        vertical-align: middle;\n",
              "    }\n",
              "\n",
              "    .dataframe tbody tr th {\n",
              "        vertical-align: top;\n",
              "    }\n",
              "\n",
              "    .dataframe thead th {\n",
              "        text-align: right;\n",
              "    }\n",
              "</style>\n",
              "<table border=\"1\" class=\"dataframe\">\n",
              "  <thead>\n",
              "    <tr style=\"text-align: right;\">\n",
              "      <th></th>\n",
              "      <th>order_id</th>\n",
              "      <th>customer_id</th>\n",
              "      <th>payment_value</th>\n",
              "      <th>price</th>\n",
              "      <th>freight_value</th>\n",
              "      <th>order_purchase_timestamp</th>\n",
              "      <th>outstanding_payment</th>\n",
              "    </tr>\n",
              "  </thead>\n",
              "  <tbody>\n",
              "    <tr>\n",
              "      <th>0</th>\n",
              "      <td>00010242fe8c5a6d1ba2dd792cb16214</td>\n",
              "      <td>1</td>\n",
              "      <td>72.19</td>\n",
              "      <td>58.90</td>\n",
              "      <td>13.29</td>\n",
              "      <td>2017-09-13 08:59:02</td>\n",
              "      <td>0.000000e+00</td>\n",
              "    </tr>\n",
              "    <tr>\n",
              "      <th>1</th>\n",
              "      <td>00018f77f2f0320c557190d7a144bdd3</td>\n",
              "      <td>1</td>\n",
              "      <td>259.83</td>\n",
              "      <td>239.90</td>\n",
              "      <td>19.93</td>\n",
              "      <td>2017-04-26 10:53:06</td>\n",
              "      <td>0.000000e+00</td>\n",
              "    </tr>\n",
              "    <tr>\n",
              "      <th>2</th>\n",
              "      <td>000229ec398224ef6ca0657da4fc703e</td>\n",
              "      <td>1</td>\n",
              "      <td>216.87</td>\n",
              "      <td>199.00</td>\n",
              "      <td>17.87</td>\n",
              "      <td>2018-01-14 14:33:31</td>\n",
              "      <td>0.000000e+00</td>\n",
              "    </tr>\n",
              "    <tr>\n",
              "      <th>3</th>\n",
              "      <td>00024acbcdf0a6daa1e931b038114c75</td>\n",
              "      <td>1</td>\n",
              "      <td>25.78</td>\n",
              "      <td>12.99</td>\n",
              "      <td>12.79</td>\n",
              "      <td>2018-08-08 10:00:35</td>\n",
              "      <td>0.000000e+00</td>\n",
              "    </tr>\n",
              "    <tr>\n",
              "      <th>4</th>\n",
              "      <td>00042b26cf59d7ce69dfabb4e55b4fd9</td>\n",
              "      <td>1</td>\n",
              "      <td>218.04</td>\n",
              "      <td>199.90</td>\n",
              "      <td>18.14</td>\n",
              "      <td>2017-02-04 13:57:51</td>\n",
              "      <td>2.842171e-14</td>\n",
              "    </tr>\n",
              "  </tbody>\n",
              "</table>\n",
              "</div>"
            ],
            "text/plain": [
              "                           order_id  customer_id  payment_value   price  \\\n",
              "0  00010242fe8c5a6d1ba2dd792cb16214            1          72.19   58.90   \n",
              "1  00018f77f2f0320c557190d7a144bdd3            1         259.83  239.90   \n",
              "2  000229ec398224ef6ca0657da4fc703e            1         216.87  199.00   \n",
              "3  00024acbcdf0a6daa1e931b038114c75            1          25.78   12.99   \n",
              "4  00042b26cf59d7ce69dfabb4e55b4fd9            1         218.04  199.90   \n",
              "\n",
              "   freight_value order_purchase_timestamp  outstanding_payment  \n",
              "0          13.29      2017-09-13 08:59:02         0.000000e+00  \n",
              "1          19.93      2017-04-26 10:53:06         0.000000e+00  \n",
              "2          17.87      2018-01-14 14:33:31         0.000000e+00  \n",
              "3          12.79      2018-08-08 10:00:35         0.000000e+00  \n",
              "4          18.14      2017-02-04 13:57:51         2.842171e-14  "
            ]
          },
          "execution_count": 267,
          "metadata": {},
          "output_type": "execute_result"
        }
      ],
      "source": [
        "payment_report.head()"
      ]
    },
    {
      "cell_type": "code",
      "execution_count": 268,
      "metadata": {
        "colab": {
          "base_uri": "https://localhost:8080/",
          "height": 458
        },
        "id": "BimBUBcNV9a4",
        "outputId": "ca6f9a93-d053-4b05-fb6c-78dd6b295013"
      },
      "outputs": [
        {
          "data": {
            "text/plain": [
              "0        2017\n",
              "1        2017\n",
              "2        2018\n",
              "3        2018\n",
              "4        2017\n",
              "         ... \n",
              "96453    2018\n",
              "96454    2018\n",
              "96455    2017\n",
              "96456    2017\n",
              "96457    2018\n",
              "Name: order_purchase_timestamp, Length: 96458, dtype: int32"
            ]
          },
          "execution_count": 268,
          "metadata": {},
          "output_type": "execute_result"
        }
      ],
      "source": [
        "pd.to_datetime(payment_report['order_purchase_timestamp']).dt.year"
      ]
    },
    {
      "cell_type": "code",
      "execution_count": 269,
      "metadata": {
        "colab": {
          "base_uri": "https://localhost:8080/",
          "height": 617
        },
        "id": "-KWsFDdeODbz",
        "outputId": "fc1ad768-f5fa-4d2e-be1d-3e4e0654b739"
      },
      "outputs": [
        {
          "data": {
            "application/vnd.plotly.v1+json": {
              "config": {
                "plotlyServerURL": "https://plot.ly"
              },
              "data": [
                {
                  "domain": {
                    "x": [
                      0,
                      1
                    ],
                    "y": [
                      0,
                      1
                    ]
                  },
                  "hole": 0.55,
                  "hovertemplate": "name=%{label}<br>count=%{value}<extra></extra>",
                  "labels": [
                    "belum lunas",
                    "lunas"
                  ],
                  "legendgroup": "",
                  "name": "",
                  "showlegend": true,
                  "textinfo": "percent+label",
                  "texttemplate": "%{percent:.1%}",
                  "type": "pie",
                  "values": {
                    "bdata": "ZgoAAGRuAQA=",
                    "dtype": "i4"
                  }
                }
              ],
              "layout": {
                "height": 600,
                "legend": {
                  "tracegroupgap": 0
                },
                "template": {
                  "data": {
                    "bar": [
                      {
                        "error_x": {
                          "color": "#2a3f5f"
                        },
                        "error_y": {
                          "color": "#2a3f5f"
                        },
                        "marker": {
                          "line": {
                            "color": "#E5ECF6",
                            "width": 0.5
                          },
                          "pattern": {
                            "fillmode": "overlay",
                            "size": 10,
                            "solidity": 0.2
                          }
                        },
                        "type": "bar"
                      }
                    ],
                    "barpolar": [
                      {
                        "marker": {
                          "line": {
                            "color": "#E5ECF6",
                            "width": 0.5
                          },
                          "pattern": {
                            "fillmode": "overlay",
                            "size": 10,
                            "solidity": 0.2
                          }
                        },
                        "type": "barpolar"
                      }
                    ],
                    "carpet": [
                      {
                        "aaxis": {
                          "endlinecolor": "#2a3f5f",
                          "gridcolor": "white",
                          "linecolor": "white",
                          "minorgridcolor": "white",
                          "startlinecolor": "#2a3f5f"
                        },
                        "baxis": {
                          "endlinecolor": "#2a3f5f",
                          "gridcolor": "white",
                          "linecolor": "white",
                          "minorgridcolor": "white",
                          "startlinecolor": "#2a3f5f"
                        },
                        "type": "carpet"
                      }
                    ],
                    "choropleth": [
                      {
                        "colorbar": {
                          "outlinewidth": 0,
                          "ticks": ""
                        },
                        "type": "choropleth"
                      }
                    ],
                    "contour": [
                      {
                        "colorbar": {
                          "outlinewidth": 0,
                          "ticks": ""
                        },
                        "colorscale": [
                          [
                            0,
                            "#0d0887"
                          ],
                          [
                            0.1111111111111111,
                            "#46039f"
                          ],
                          [
                            0.2222222222222222,
                            "#7201a8"
                          ],
                          [
                            0.3333333333333333,
                            "#9c179e"
                          ],
                          [
                            0.4444444444444444,
                            "#bd3786"
                          ],
                          [
                            0.5555555555555556,
                            "#d8576b"
                          ],
                          [
                            0.6666666666666666,
                            "#ed7953"
                          ],
                          [
                            0.7777777777777778,
                            "#fb9f3a"
                          ],
                          [
                            0.8888888888888888,
                            "#fdca26"
                          ],
                          [
                            1,
                            "#f0f921"
                          ]
                        ],
                        "type": "contour"
                      }
                    ],
                    "contourcarpet": [
                      {
                        "colorbar": {
                          "outlinewidth": 0,
                          "ticks": ""
                        },
                        "type": "contourcarpet"
                      }
                    ],
                    "heatmap": [
                      {
                        "colorbar": {
                          "outlinewidth": 0,
                          "ticks": ""
                        },
                        "colorscale": [
                          [
                            0,
                            "#0d0887"
                          ],
                          [
                            0.1111111111111111,
                            "#46039f"
                          ],
                          [
                            0.2222222222222222,
                            "#7201a8"
                          ],
                          [
                            0.3333333333333333,
                            "#9c179e"
                          ],
                          [
                            0.4444444444444444,
                            "#bd3786"
                          ],
                          [
                            0.5555555555555556,
                            "#d8576b"
                          ],
                          [
                            0.6666666666666666,
                            "#ed7953"
                          ],
                          [
                            0.7777777777777778,
                            "#fb9f3a"
                          ],
                          [
                            0.8888888888888888,
                            "#fdca26"
                          ],
                          [
                            1,
                            "#f0f921"
                          ]
                        ],
                        "type": "heatmap"
                      }
                    ],
                    "histogram": [
                      {
                        "marker": {
                          "pattern": {
                            "fillmode": "overlay",
                            "size": 10,
                            "solidity": 0.2
                          }
                        },
                        "type": "histogram"
                      }
                    ],
                    "histogram2d": [
                      {
                        "colorbar": {
                          "outlinewidth": 0,
                          "ticks": ""
                        },
                        "colorscale": [
                          [
                            0,
                            "#0d0887"
                          ],
                          [
                            0.1111111111111111,
                            "#46039f"
                          ],
                          [
                            0.2222222222222222,
                            "#7201a8"
                          ],
                          [
                            0.3333333333333333,
                            "#9c179e"
                          ],
                          [
                            0.4444444444444444,
                            "#bd3786"
                          ],
                          [
                            0.5555555555555556,
                            "#d8576b"
                          ],
                          [
                            0.6666666666666666,
                            "#ed7953"
                          ],
                          [
                            0.7777777777777778,
                            "#fb9f3a"
                          ],
                          [
                            0.8888888888888888,
                            "#fdca26"
                          ],
                          [
                            1,
                            "#f0f921"
                          ]
                        ],
                        "type": "histogram2d"
                      }
                    ],
                    "histogram2dcontour": [
                      {
                        "colorbar": {
                          "outlinewidth": 0,
                          "ticks": ""
                        },
                        "colorscale": [
                          [
                            0,
                            "#0d0887"
                          ],
                          [
                            0.1111111111111111,
                            "#46039f"
                          ],
                          [
                            0.2222222222222222,
                            "#7201a8"
                          ],
                          [
                            0.3333333333333333,
                            "#9c179e"
                          ],
                          [
                            0.4444444444444444,
                            "#bd3786"
                          ],
                          [
                            0.5555555555555556,
                            "#d8576b"
                          ],
                          [
                            0.6666666666666666,
                            "#ed7953"
                          ],
                          [
                            0.7777777777777778,
                            "#fb9f3a"
                          ],
                          [
                            0.8888888888888888,
                            "#fdca26"
                          ],
                          [
                            1,
                            "#f0f921"
                          ]
                        ],
                        "type": "histogram2dcontour"
                      }
                    ],
                    "mesh3d": [
                      {
                        "colorbar": {
                          "outlinewidth": 0,
                          "ticks": ""
                        },
                        "type": "mesh3d"
                      }
                    ],
                    "parcoords": [
                      {
                        "line": {
                          "colorbar": {
                            "outlinewidth": 0,
                            "ticks": ""
                          }
                        },
                        "type": "parcoords"
                      }
                    ],
                    "pie": [
                      {
                        "automargin": true,
                        "type": "pie"
                      }
                    ],
                    "scatter": [
                      {
                        "fillpattern": {
                          "fillmode": "overlay",
                          "size": 10,
                          "solidity": 0.2
                        },
                        "type": "scatter"
                      }
                    ],
                    "scatter3d": [
                      {
                        "line": {
                          "colorbar": {
                            "outlinewidth": 0,
                            "ticks": ""
                          }
                        },
                        "marker": {
                          "colorbar": {
                            "outlinewidth": 0,
                            "ticks": ""
                          }
                        },
                        "type": "scatter3d"
                      }
                    ],
                    "scattercarpet": [
                      {
                        "marker": {
                          "colorbar": {
                            "outlinewidth": 0,
                            "ticks": ""
                          }
                        },
                        "type": "scattercarpet"
                      }
                    ],
                    "scattergeo": [
                      {
                        "marker": {
                          "colorbar": {
                            "outlinewidth": 0,
                            "ticks": ""
                          }
                        },
                        "type": "scattergeo"
                      }
                    ],
                    "scattergl": [
                      {
                        "marker": {
                          "colorbar": {
                            "outlinewidth": 0,
                            "ticks": ""
                          }
                        },
                        "type": "scattergl"
                      }
                    ],
                    "scattermap": [
                      {
                        "marker": {
                          "colorbar": {
                            "outlinewidth": 0,
                            "ticks": ""
                          }
                        },
                        "type": "scattermap"
                      }
                    ],
                    "scattermapbox": [
                      {
                        "marker": {
                          "colorbar": {
                            "outlinewidth": 0,
                            "ticks": ""
                          }
                        },
                        "type": "scattermapbox"
                      }
                    ],
                    "scatterpolar": [
                      {
                        "marker": {
                          "colorbar": {
                            "outlinewidth": 0,
                            "ticks": ""
                          }
                        },
                        "type": "scatterpolar"
                      }
                    ],
                    "scatterpolargl": [
                      {
                        "marker": {
                          "colorbar": {
                            "outlinewidth": 0,
                            "ticks": ""
                          }
                        },
                        "type": "scatterpolargl"
                      }
                    ],
                    "scatterternary": [
                      {
                        "marker": {
                          "colorbar": {
                            "outlinewidth": 0,
                            "ticks": ""
                          }
                        },
                        "type": "scatterternary"
                      }
                    ],
                    "surface": [
                      {
                        "colorbar": {
                          "outlinewidth": 0,
                          "ticks": ""
                        },
                        "colorscale": [
                          [
                            0,
                            "#0d0887"
                          ],
                          [
                            0.1111111111111111,
                            "#46039f"
                          ],
                          [
                            0.2222222222222222,
                            "#7201a8"
                          ],
                          [
                            0.3333333333333333,
                            "#9c179e"
                          ],
                          [
                            0.4444444444444444,
                            "#bd3786"
                          ],
                          [
                            0.5555555555555556,
                            "#d8576b"
                          ],
                          [
                            0.6666666666666666,
                            "#ed7953"
                          ],
                          [
                            0.7777777777777778,
                            "#fb9f3a"
                          ],
                          [
                            0.8888888888888888,
                            "#fdca26"
                          ],
                          [
                            1,
                            "#f0f921"
                          ]
                        ],
                        "type": "surface"
                      }
                    ],
                    "table": [
                      {
                        "cells": {
                          "fill": {
                            "color": "#EBF0F8"
                          },
                          "line": {
                            "color": "white"
                          }
                        },
                        "header": {
                          "fill": {
                            "color": "#C8D4E3"
                          },
                          "line": {
                            "color": "white"
                          }
                        },
                        "type": "table"
                      }
                    ]
                  },
                  "layout": {
                    "annotationdefaults": {
                      "arrowcolor": "#2a3f5f",
                      "arrowhead": 0,
                      "arrowwidth": 1
                    },
                    "autotypenumbers": "strict",
                    "coloraxis": {
                      "colorbar": {
                        "outlinewidth": 0,
                        "ticks": ""
                      }
                    },
                    "colorscale": {
                      "diverging": [
                        [
                          0,
                          "#8e0152"
                        ],
                        [
                          0.1,
                          "#c51b7d"
                        ],
                        [
                          0.2,
                          "#de77ae"
                        ],
                        [
                          0.3,
                          "#f1b6da"
                        ],
                        [
                          0.4,
                          "#fde0ef"
                        ],
                        [
                          0.5,
                          "#f7f7f7"
                        ],
                        [
                          0.6,
                          "#e6f5d0"
                        ],
                        [
                          0.7,
                          "#b8e186"
                        ],
                        [
                          0.8,
                          "#7fbc41"
                        ],
                        [
                          0.9,
                          "#4d9221"
                        ],
                        [
                          1,
                          "#276419"
                        ]
                      ],
                      "sequential": [
                        [
                          0,
                          "#0d0887"
                        ],
                        [
                          0.1111111111111111,
                          "#46039f"
                        ],
                        [
                          0.2222222222222222,
                          "#7201a8"
                        ],
                        [
                          0.3333333333333333,
                          "#9c179e"
                        ],
                        [
                          0.4444444444444444,
                          "#bd3786"
                        ],
                        [
                          0.5555555555555556,
                          "#d8576b"
                        ],
                        [
                          0.6666666666666666,
                          "#ed7953"
                        ],
                        [
                          0.7777777777777778,
                          "#fb9f3a"
                        ],
                        [
                          0.8888888888888888,
                          "#fdca26"
                        ],
                        [
                          1,
                          "#f0f921"
                        ]
                      ],
                      "sequentialminus": [
                        [
                          0,
                          "#0d0887"
                        ],
                        [
                          0.1111111111111111,
                          "#46039f"
                        ],
                        [
                          0.2222222222222222,
                          "#7201a8"
                        ],
                        [
                          0.3333333333333333,
                          "#9c179e"
                        ],
                        [
                          0.4444444444444444,
                          "#bd3786"
                        ],
                        [
                          0.5555555555555556,
                          "#d8576b"
                        ],
                        [
                          0.6666666666666666,
                          "#ed7953"
                        ],
                        [
                          0.7777777777777778,
                          "#fb9f3a"
                        ],
                        [
                          0.8888888888888888,
                          "#fdca26"
                        ],
                        [
                          1,
                          "#f0f921"
                        ]
                      ]
                    },
                    "colorway": [
                      "#636efa",
                      "#EF553B",
                      "#00cc96",
                      "#ab63fa",
                      "#FFA15A",
                      "#19d3f3",
                      "#FF6692",
                      "#B6E880",
                      "#FF97FF",
                      "#FECB52"
                    ],
                    "font": {
                      "color": "#2a3f5f"
                    },
                    "geo": {
                      "bgcolor": "white",
                      "lakecolor": "white",
                      "landcolor": "#E5ECF6",
                      "showlakes": true,
                      "showland": true,
                      "subunitcolor": "white"
                    },
                    "hoverlabel": {
                      "align": "left"
                    },
                    "hovermode": "closest",
                    "mapbox": {
                      "style": "light"
                    },
                    "paper_bgcolor": "white",
                    "plot_bgcolor": "#E5ECF6",
                    "polar": {
                      "angularaxis": {
                        "gridcolor": "white",
                        "linecolor": "white",
                        "ticks": ""
                      },
                      "bgcolor": "#E5ECF6",
                      "radialaxis": {
                        "gridcolor": "white",
                        "linecolor": "white",
                        "ticks": ""
                      }
                    },
                    "scene": {
                      "xaxis": {
                        "backgroundcolor": "#E5ECF6",
                        "gridcolor": "white",
                        "gridwidth": 2,
                        "linecolor": "white",
                        "showbackground": true,
                        "ticks": "",
                        "zerolinecolor": "white"
                      },
                      "yaxis": {
                        "backgroundcolor": "#E5ECF6",
                        "gridcolor": "white",
                        "gridwidth": 2,
                        "linecolor": "white",
                        "showbackground": true,
                        "ticks": "",
                        "zerolinecolor": "white"
                      },
                      "zaxis": {
                        "backgroundcolor": "#E5ECF6",
                        "gridcolor": "white",
                        "gridwidth": 2,
                        "linecolor": "white",
                        "showbackground": true,
                        "ticks": "",
                        "zerolinecolor": "white"
                      }
                    },
                    "shapedefaults": {
                      "line": {
                        "color": "#2a3f5f"
                      }
                    },
                    "ternary": {
                      "aaxis": {
                        "gridcolor": "white",
                        "linecolor": "white",
                        "ticks": ""
                      },
                      "baxis": {
                        "gridcolor": "white",
                        "linecolor": "white",
                        "ticks": ""
                      },
                      "bgcolor": "#E5ECF6",
                      "caxis": {
                        "gridcolor": "white",
                        "linecolor": "white",
                        "ticks": ""
                      }
                    },
                    "title": {
                      "x": 0.05
                    },
                    "xaxis": {
                      "automargin": true,
                      "gridcolor": "white",
                      "linecolor": "white",
                      "ticks": "",
                      "title": {
                        "standoff": 15
                      },
                      "zerolinecolor": "white",
                      "zerolinewidth": 2
                    },
                    "yaxis": {
                      "automargin": true,
                      "gridcolor": "white",
                      "linecolor": "white",
                      "ticks": "",
                      "title": {
                        "standoff": 15
                      },
                      "zerolinecolor": "white",
                      "zerolinewidth": 2
                    }
                  }
                },
                "title": {
                  "text": "Persentase pelanggan melunasi terhadap total pelanggan"
                },
                "width": 600
              }
            }
          },
          "metadata": {},
          "output_type": "display_data"
        }
      ],
      "source": [
        "complete_count = payment_report[payment_report['outstanding_payment'] < 1].shape[0]\n",
        "total_count = payment_report.shape[0]\n",
        "incomplete_count = total_count - complete_count\n",
        "\n",
        "data = {\n",
        "  'name' : ['belum lunas', 'lunas'],\n",
        "  'count' : [incomplete_count, complete_count]\n",
        "}\n",
        "\n",
        "df = pd.DataFrame.from_dict(data)\n",
        "\n",
        "fig = px.pie(\n",
        "  df,\n",
        "  values=\"count\",\n",
        "  names=\"name\",\n",
        "  title=\"Persentase pelanggan melunasi terhadap total pelanggan\",\n",
        "  width=600,\n",
        "  height=600\n",
        "  )\n",
        "fig.update_traces(textinfo='percent+label', texttemplate='%{percent:.1%}', hole=.55)\n",
        "fig.show()\n"
      ]
    },
    {
      "cell_type": "markdown",
      "metadata": {
        "id": "bLM7TPkgODbz"
      },
      "source": [
        "### Bagaimana demografi seller yang dimiliki?"
      ]
    },
    {
      "cell_type": "code",
      "execution_count": 270,
      "metadata": {
        "colab": {
          "base_uri": "https://localhost:8080/",
          "height": 802
        },
        "id": "qLG3UXXJODbz",
        "outputId": "bad6c53d-b7a6-4b91-ddc6-93fb22a805ee"
      },
      "outputs": [
        {
          "data": {
            "text/html": [
              "<div>\n",
              "<style scoped>\n",
              "    .dataframe tbody tr th:only-of-type {\n",
              "        vertical-align: middle;\n",
              "    }\n",
              "\n",
              "    .dataframe tbody tr th {\n",
              "        vertical-align: top;\n",
              "    }\n",
              "\n",
              "    .dataframe thead th {\n",
              "        text-align: right;\n",
              "    }\n",
              "</style>\n",
              "<table border=\"1\" class=\"dataframe\">\n",
              "  <thead>\n",
              "    <tr style=\"text-align: right;\">\n",
              "      <th></th>\n",
              "      <th>seller_id</th>\n",
              "    </tr>\n",
              "    <tr>\n",
              "      <th>seller_state</th>\n",
              "      <th></th>\n",
              "    </tr>\n",
              "  </thead>\n",
              "  <tbody>\n",
              "    <tr>\n",
              "      <th>AC</th>\n",
              "      <td>1</td>\n",
              "    </tr>\n",
              "    <tr>\n",
              "      <th>AM</th>\n",
              "      <td>1</td>\n",
              "    </tr>\n",
              "    <tr>\n",
              "      <th>BA</th>\n",
              "      <td>19</td>\n",
              "    </tr>\n",
              "    <tr>\n",
              "      <th>CE</th>\n",
              "      <td>13</td>\n",
              "    </tr>\n",
              "    <tr>\n",
              "      <th>DF</th>\n",
              "      <td>30</td>\n",
              "    </tr>\n",
              "    <tr>\n",
              "      <th>ES</th>\n",
              "      <td>23</td>\n",
              "    </tr>\n",
              "    <tr>\n",
              "      <th>GO</th>\n",
              "      <td>40</td>\n",
              "    </tr>\n",
              "    <tr>\n",
              "      <th>MA</th>\n",
              "      <td>1</td>\n",
              "    </tr>\n",
              "    <tr>\n",
              "      <th>MG</th>\n",
              "      <td>244</td>\n",
              "    </tr>\n",
              "    <tr>\n",
              "      <th>MS</th>\n",
              "      <td>5</td>\n",
              "    </tr>\n",
              "    <tr>\n",
              "      <th>MT</th>\n",
              "      <td>4</td>\n",
              "    </tr>\n",
              "    <tr>\n",
              "      <th>PA</th>\n",
              "      <td>1</td>\n",
              "    </tr>\n",
              "    <tr>\n",
              "      <th>PB</th>\n",
              "      <td>6</td>\n",
              "    </tr>\n",
              "    <tr>\n",
              "      <th>PE</th>\n",
              "      <td>9</td>\n",
              "    </tr>\n",
              "    <tr>\n",
              "      <th>PI</th>\n",
              "      <td>1</td>\n",
              "    </tr>\n",
              "    <tr>\n",
              "      <th>PR</th>\n",
              "      <td>349</td>\n",
              "    </tr>\n",
              "    <tr>\n",
              "      <th>RJ</th>\n",
              "      <td>171</td>\n",
              "    </tr>\n",
              "    <tr>\n",
              "      <th>RN</th>\n",
              "      <td>5</td>\n",
              "    </tr>\n",
              "    <tr>\n",
              "      <th>RO</th>\n",
              "      <td>2</td>\n",
              "    </tr>\n",
              "    <tr>\n",
              "      <th>RS</th>\n",
              "      <td>129</td>\n",
              "    </tr>\n",
              "    <tr>\n",
              "      <th>SC</th>\n",
              "      <td>190</td>\n",
              "    </tr>\n",
              "    <tr>\n",
              "      <th>SE</th>\n",
              "      <td>2</td>\n",
              "    </tr>\n",
              "    <tr>\n",
              "      <th>SP</th>\n",
              "      <td>1849</td>\n",
              "    </tr>\n",
              "  </tbody>\n",
              "</table>\n",
              "</div>"
            ],
            "text/plain": [
              "              seller_id\n",
              "seller_state           \n",
              "AC                    1\n",
              "AM                    1\n",
              "BA                   19\n",
              "CE                   13\n",
              "DF                   30\n",
              "ES                   23\n",
              "GO                   40\n",
              "MA                    1\n",
              "MG                  244\n",
              "MS                    5\n",
              "MT                    4\n",
              "PA                    1\n",
              "PB                    6\n",
              "PE                    9\n",
              "PI                    1\n",
              "PR                  349\n",
              "RJ                  171\n",
              "RN                    5\n",
              "RO                    2\n",
              "RS                  129\n",
              "SC                  190\n",
              "SE                    2\n",
              "SP                 1849"
            ]
          },
          "execution_count": 270,
          "metadata": {},
          "output_type": "execute_result"
        }
      ],
      "source": [
        "sellers_df.groupby(by=\"seller_state\").agg({\n",
        "  \"seller_id\": \"nunique\"\n",
        "})"
      ]
    },
    {
      "cell_type": "markdown",
      "metadata": {
        "id": "_0-36BDLklRg"
      },
      "source": [
        "**Insight:**\n",
        "- Revenue penjualan relative menaik pada tahun 2017. Pada tahun 2016 revenue penjualan cenderung menurun, namun hal ini hanya dibuktikan oleh 3 bulan penjualan yaitu bulan 10, 11, dan 12. Pada awal tahun 2018, revenue berada jauh di atas 2 tahun sebelumnya, dengan rata - rata penjualan setiap bulannya secara berturut - turut lebih tinggi dari setiap bulan pada 2 tahun sebelumnya, namun demikian pada bulan 9 hingga bulan 12 tahun 2018, penjualan jatuh ke angka 0, hal ini berarti tidak ada penjualan sama sekali pada periode tersebut\n",
        "- Produk yang paling diminati oleh customer berdasarkan review skor adalah cama_mesa_banho, sementara itu produk yang paling sedikit diminati oleh customer adalah seguros_e_servicos\n",
        "- Terdapat lebih banyak pesanan yang diantar tepat waktu (on time)\n",
        " yaitu sekitar 91.9% dibandingkan pesanan yang terlambat diantar (late) 8.1%, diikuti dengan status pengiriman lain (other), yaitu sebesar 0.00622%, status ini merupakan pengiriman yang sedang berada di perjalanan. Hal ini membuktikan bahwa sirkulasi pembelian dan pengiriman mengalami sinkronasi yang baik\n",
        "- Terdapat lebih banyak karyawan yang melunasi orderan yaitu sebesar 97.2%, baik dengan menyicil atau dengan membayar lunas dibandingkan dengan yang belum melunasi, yaitu sebesar 2.8%. Hal ini berarti koitment beli customer cukup tinggi terhadap orderan"
      ]
    },
    {
      "cell_type": "markdown",
      "metadata": {
        "id": "9y4VUsmcYNZ5"
      },
      "source": [
        "## Analisis Lanjutan (Opsional)"
      ]
    },
    {
      "cell_type": "markdown",
      "metadata": {},
      "source": [
        "### RFM (Recency, Frequency, Monetary)  Analysis"
      ]
    },
    {
      "cell_type": "code",
      "execution_count": 271,
      "metadata": {
        "id": "iWhnzsJGYUCO"
      },
      "outputs": [
        {
          "data": {
            "text/html": [
              "<div>\n",
              "<style scoped>\n",
              "    .dataframe tbody tr th:only-of-type {\n",
              "        vertical-align: middle;\n",
              "    }\n",
              "\n",
              "    .dataframe tbody tr th {\n",
              "        vertical-align: top;\n",
              "    }\n",
              "\n",
              "    .dataframe thead th {\n",
              "        text-align: right;\n",
              "    }\n",
              "</style>\n",
              "<table border=\"1\" class=\"dataframe\">\n",
              "  <thead>\n",
              "    <tr style=\"text-align: right;\">\n",
              "      <th></th>\n",
              "      <th>order_id</th>\n",
              "      <th>customer_id</th>\n",
              "      <th>order_status</th>\n",
              "      <th>order_purchase_timestamp</th>\n",
              "      <th>order_approved_at</th>\n",
              "      <th>order_delivered_carrier_date</th>\n",
              "      <th>order_delivered_customer_date</th>\n",
              "      <th>order_estimated_delivery_date</th>\n",
              "      <th>delivery_status</th>\n",
              "      <th>customer_unique_id</th>\n",
              "      <th>customer_zip_code_prefix</th>\n",
              "      <th>customer_city</th>\n",
              "      <th>customer_state</th>\n",
              "      <th>payment_sequential</th>\n",
              "      <th>payment_type</th>\n",
              "      <th>payment_installments</th>\n",
              "      <th>payment_value</th>\n",
              "    </tr>\n",
              "  </thead>\n",
              "  <tbody>\n",
              "    <tr>\n",
              "      <th>0</th>\n",
              "      <td>e481f51cbdc54678b7cc49136f2d6af7</td>\n",
              "      <td>9ef432eb6251297304e76186b10a928d</td>\n",
              "      <td>delivered</td>\n",
              "      <td>2017-10-02 10:56:33</td>\n",
              "      <td>2017-10-02 11:07:15</td>\n",
              "      <td>2017-10-04 19:55:00</td>\n",
              "      <td>2017-10-10 21:25:13</td>\n",
              "      <td>2017-10-18 00:00:00</td>\n",
              "      <td>on time</td>\n",
              "      <td>7c396fd4830fd04220f754e42b4e5bff</td>\n",
              "      <td>3149</td>\n",
              "      <td>sao paulo</td>\n",
              "      <td>SP</td>\n",
              "      <td>1</td>\n",
              "      <td>credit_card</td>\n",
              "      <td>1</td>\n",
              "      <td>18.12</td>\n",
              "    </tr>\n",
              "    <tr>\n",
              "      <th>1</th>\n",
              "      <td>e481f51cbdc54678b7cc49136f2d6af7</td>\n",
              "      <td>9ef432eb6251297304e76186b10a928d</td>\n",
              "      <td>delivered</td>\n",
              "      <td>2017-10-02 10:56:33</td>\n",
              "      <td>2017-10-02 11:07:15</td>\n",
              "      <td>2017-10-04 19:55:00</td>\n",
              "      <td>2017-10-10 21:25:13</td>\n",
              "      <td>2017-10-18 00:00:00</td>\n",
              "      <td>on time</td>\n",
              "      <td>7c396fd4830fd04220f754e42b4e5bff</td>\n",
              "      <td>3149</td>\n",
              "      <td>sao paulo</td>\n",
              "      <td>SP</td>\n",
              "      <td>3</td>\n",
              "      <td>voucher</td>\n",
              "      <td>1</td>\n",
              "      <td>2.00</td>\n",
              "    </tr>\n",
              "    <tr>\n",
              "      <th>2</th>\n",
              "      <td>e481f51cbdc54678b7cc49136f2d6af7</td>\n",
              "      <td>9ef432eb6251297304e76186b10a928d</td>\n",
              "      <td>delivered</td>\n",
              "      <td>2017-10-02 10:56:33</td>\n",
              "      <td>2017-10-02 11:07:15</td>\n",
              "      <td>2017-10-04 19:55:00</td>\n",
              "      <td>2017-10-10 21:25:13</td>\n",
              "      <td>2017-10-18 00:00:00</td>\n",
              "      <td>on time</td>\n",
              "      <td>7c396fd4830fd04220f754e42b4e5bff</td>\n",
              "      <td>3149</td>\n",
              "      <td>sao paulo</td>\n",
              "      <td>SP</td>\n",
              "      <td>2</td>\n",
              "      <td>voucher</td>\n",
              "      <td>1</td>\n",
              "      <td>18.59</td>\n",
              "    </tr>\n",
              "    <tr>\n",
              "      <th>3</th>\n",
              "      <td>53cdb2fc8bc7dce0b6741e2150273451</td>\n",
              "      <td>b0830fb4747a6c6d20dea0b8c802d7ef</td>\n",
              "      <td>delivered</td>\n",
              "      <td>2018-07-24 20:41:37</td>\n",
              "      <td>2018-07-26 03:24:27</td>\n",
              "      <td>2018-07-26 14:31:00</td>\n",
              "      <td>2018-08-07 15:27:45</td>\n",
              "      <td>2018-08-13 00:00:00</td>\n",
              "      <td>on time</td>\n",
              "      <td>af07308b275d755c9edb36a90c618231</td>\n",
              "      <td>47813</td>\n",
              "      <td>barreiras</td>\n",
              "      <td>BA</td>\n",
              "      <td>1</td>\n",
              "      <td>boleto</td>\n",
              "      <td>1</td>\n",
              "      <td>141.46</td>\n",
              "    </tr>\n",
              "    <tr>\n",
              "      <th>4</th>\n",
              "      <td>47770eb9100c2d0c44946d9cf07ec65d</td>\n",
              "      <td>41ce2a54c0b03bf3443c3d931a367089</td>\n",
              "      <td>delivered</td>\n",
              "      <td>2018-08-08 08:38:49</td>\n",
              "      <td>2018-08-08 08:55:23</td>\n",
              "      <td>2018-08-08 13:50:00</td>\n",
              "      <td>2018-08-17 18:06:29</td>\n",
              "      <td>2018-09-04 00:00:00</td>\n",
              "      <td>on time</td>\n",
              "      <td>3a653a41f6f9fc3d2a113cf8398680e8</td>\n",
              "      <td>75265</td>\n",
              "      <td>vianopolis</td>\n",
              "      <td>GO</td>\n",
              "      <td>1</td>\n",
              "      <td>credit_card</td>\n",
              "      <td>3</td>\n",
              "      <td>179.12</td>\n",
              "    </tr>\n",
              "  </tbody>\n",
              "</table>\n",
              "</div>"
            ],
            "text/plain": [
              "                           order_id                       customer_id  \\\n",
              "0  e481f51cbdc54678b7cc49136f2d6af7  9ef432eb6251297304e76186b10a928d   \n",
              "1  e481f51cbdc54678b7cc49136f2d6af7  9ef432eb6251297304e76186b10a928d   \n",
              "2  e481f51cbdc54678b7cc49136f2d6af7  9ef432eb6251297304e76186b10a928d   \n",
              "3  53cdb2fc8bc7dce0b6741e2150273451  b0830fb4747a6c6d20dea0b8c802d7ef   \n",
              "4  47770eb9100c2d0c44946d9cf07ec65d  41ce2a54c0b03bf3443c3d931a367089   \n",
              "\n",
              "  order_status order_purchase_timestamp    order_approved_at  \\\n",
              "0    delivered      2017-10-02 10:56:33  2017-10-02 11:07:15   \n",
              "1    delivered      2017-10-02 10:56:33  2017-10-02 11:07:15   \n",
              "2    delivered      2017-10-02 10:56:33  2017-10-02 11:07:15   \n",
              "3    delivered      2018-07-24 20:41:37  2018-07-26 03:24:27   \n",
              "4    delivered      2018-08-08 08:38:49  2018-08-08 08:55:23   \n",
              "\n",
              "  order_delivered_carrier_date order_delivered_customer_date  \\\n",
              "0          2017-10-04 19:55:00           2017-10-10 21:25:13   \n",
              "1          2017-10-04 19:55:00           2017-10-10 21:25:13   \n",
              "2          2017-10-04 19:55:00           2017-10-10 21:25:13   \n",
              "3          2018-07-26 14:31:00           2018-08-07 15:27:45   \n",
              "4          2018-08-08 13:50:00           2018-08-17 18:06:29   \n",
              "\n",
              "  order_estimated_delivery_date delivery_status  \\\n",
              "0           2017-10-18 00:00:00         on time   \n",
              "1           2017-10-18 00:00:00         on time   \n",
              "2           2017-10-18 00:00:00         on time   \n",
              "3           2018-08-13 00:00:00         on time   \n",
              "4           2018-09-04 00:00:00         on time   \n",
              "\n",
              "                 customer_unique_id  customer_zip_code_prefix customer_city  \\\n",
              "0  7c396fd4830fd04220f754e42b4e5bff                      3149     sao paulo   \n",
              "1  7c396fd4830fd04220f754e42b4e5bff                      3149     sao paulo   \n",
              "2  7c396fd4830fd04220f754e42b4e5bff                      3149     sao paulo   \n",
              "3  af07308b275d755c9edb36a90c618231                     47813     barreiras   \n",
              "4  3a653a41f6f9fc3d2a113cf8398680e8                     75265    vianopolis   \n",
              "\n",
              "  customer_state  payment_sequential payment_type  payment_installments  \\\n",
              "0             SP                   1  credit_card                     1   \n",
              "1             SP                   3      voucher                     1   \n",
              "2             SP                   2      voucher                     1   \n",
              "3             BA                   1       boleto                     1   \n",
              "4             GO                   1  credit_card                     3   \n",
              "\n",
              "   payment_value  \n",
              "0          18.12  \n",
              "1           2.00  \n",
              "2          18.59  \n",
              "3         141.46  \n",
              "4         179.12  "
            ]
          },
          "execution_count": 271,
          "metadata": {},
          "output_type": "execute_result"
        }
      ],
      "source": [
        "order_customer_df = pd.merge(\n",
        "  left=orders_df,\n",
        "  right=customers_df,\n",
        "  left_on=\"customer_id\",\n",
        "  right_on=\"customer_id\"\n",
        ")\n",
        "\n",
        "order_customer_payment_df = pd.merge(\n",
        "  left=order_customer_df,\n",
        "  right=order_payments_df,\n",
        "  left_on=\"order_id\",\n",
        "  right_on=\"order_id\"\n",
        ")\n",
        "\n",
        "order_customer_payment_df.head()"
      ]
    },
    {
      "cell_type": "markdown",
      "metadata": {},
      "source": [
        "- Kapan terakhir kali pelanggan melakukan transaksi\n",
        "- Berapa jumlah transaksi pelanggan dalam periode tertentu?\n",
        "- Berapa total pengeluaran pelanggan pada periode tertentu?"
      ]
    },
    {
      "cell_type": "code",
      "execution_count": 272,
      "metadata": {},
      "outputs": [
        {
          "data": {
            "text/html": [
              "<div>\n",
              "<style scoped>\n",
              "    .dataframe tbody tr th:only-of-type {\n",
              "        vertical-align: middle;\n",
              "    }\n",
              "\n",
              "    .dataframe tbody tr th {\n",
              "        vertical-align: top;\n",
              "    }\n",
              "\n",
              "    .dataframe thead th {\n",
              "        text-align: right;\n",
              "    }\n",
              "</style>\n",
              "<table border=\"1\" class=\"dataframe\">\n",
              "  <thead>\n",
              "    <tr style=\"text-align: right;\">\n",
              "      <th></th>\n",
              "      <th>customer_id</th>\n",
              "      <th>frequency</th>\n",
              "      <th>monetary</th>\n",
              "      <th>recency</th>\n",
              "    </tr>\n",
              "  </thead>\n",
              "  <tbody>\n",
              "    <tr>\n",
              "      <th>0</th>\n",
              "      <td>00012a2ce6f8dcda20d059ce98491703</td>\n",
              "      <td>1</td>\n",
              "      <td>114.74</td>\n",
              "      <td>288</td>\n",
              "    </tr>\n",
              "    <tr>\n",
              "      <th>1</th>\n",
              "      <td>000161a058600d5901f007fab4c27140</td>\n",
              "      <td>1</td>\n",
              "      <td>67.41</td>\n",
              "      <td>409</td>\n",
              "    </tr>\n",
              "    <tr>\n",
              "      <th>2</th>\n",
              "      <td>0001fd6190edaaf884bcaf3d49edf079</td>\n",
              "      <td>1</td>\n",
              "      <td>195.42</td>\n",
              "      <td>547</td>\n",
              "    </tr>\n",
              "    <tr>\n",
              "      <th>3</th>\n",
              "      <td>0002414f95344307404f0ace7a26f1d5</td>\n",
              "      <td>1</td>\n",
              "      <td>179.35</td>\n",
              "      <td>378</td>\n",
              "    </tr>\n",
              "    <tr>\n",
              "      <th>4</th>\n",
              "      <td>000379cdec625522490c315e70c7a9fb</td>\n",
              "      <td>1</td>\n",
              "      <td>107.01</td>\n",
              "      <td>149</td>\n",
              "    </tr>\n",
              "  </tbody>\n",
              "</table>\n",
              "</div>"
            ],
            "text/plain": [
              "                        customer_id  frequency  monetary  recency\n",
              "0  00012a2ce6f8dcda20d059ce98491703          1    114.74      288\n",
              "1  000161a058600d5901f007fab4c27140          1     67.41      409\n",
              "2  0001fd6190edaaf884bcaf3d49edf079          1    195.42      547\n",
              "3  0002414f95344307404f0ace7a26f1d5          1    179.35      378\n",
              "4  000379cdec625522490c315e70c7a9fb          1    107.01      149"
            ]
          },
          "execution_count": 272,
          "metadata": {},
          "output_type": "execute_result"
        }
      ],
      "source": [
        "customer_rfm_df = order_customer_payment_df.groupby(by='customer_id').agg({\n",
        "  'order_purchase_timestamp': 'max',\n",
        "  'order_id': 'nunique',\n",
        "  'payment_value': 'sum'\n",
        "}).reset_index()\n",
        "\n",
        "customer_rfm_df['order_purchase_timestamp'] = pd.to_datetime(customer_rfm_df['order_purchase_timestamp']).dt.date\n",
        "last_date = pd.to_datetime(customer_rfm_df['order_purchase_timestamp']).dt.date.max()\n",
        "\n",
        "customer_rfm_df['recency'] = customer_rfm_df['order_purchase_timestamp'].apply(lambda x: (last_date - x).days)\n",
        "\n",
        "customer_rfm_df.drop('order_purchase_timestamp', axis=1, inplace=True)\n",
        "customer_rfm_df.columns = ['customer_id', 'frequency', 'monetary', 'recency']\n",
        "customer_rfm_df.head()"
      ]
    },
    {
      "cell_type": "code",
      "execution_count": 273,
      "metadata": {},
      "outputs": [
        {
          "data": {
            "text/html": [
              "<div>\n",
              "<style scoped>\n",
              "    .dataframe tbody tr th:only-of-type {\n",
              "        vertical-align: middle;\n",
              "    }\n",
              "\n",
              "    .dataframe tbody tr th {\n",
              "        vertical-align: top;\n",
              "    }\n",
              "\n",
              "    .dataframe thead th {\n",
              "        text-align: right;\n",
              "    }\n",
              "</style>\n",
              "<table border=\"1\" class=\"dataframe\">\n",
              "  <thead>\n",
              "    <tr style=\"text-align: right;\">\n",
              "      <th></th>\n",
              "      <th>customer_id</th>\n",
              "      <th>frequency</th>\n",
              "      <th>monetary</th>\n",
              "      <th>recency</th>\n",
              "    </tr>\n",
              "  </thead>\n",
              "  <tbody>\n",
              "    <tr>\n",
              "      <th>8291</th>\n",
              "      <td>1617b1357756262bfa56ab541c47bc16</td>\n",
              "      <td>1</td>\n",
              "      <td>13664.08</td>\n",
              "      <td>334</td>\n",
              "    </tr>\n",
              "    <tr>\n",
              "      <th>89257</th>\n",
              "      <td>ec5b2ba62e574342386871631fafd3fc</td>\n",
              "      <td>1</td>\n",
              "      <td>7274.88</td>\n",
              "      <td>45</td>\n",
              "    </tr>\n",
              "    <tr>\n",
              "      <th>75226</th>\n",
              "      <td>c6e2731c5b391845f6800c97401a43a9</td>\n",
              "      <td>1</td>\n",
              "      <td>6929.31</td>\n",
              "      <td>563</td>\n",
              "    </tr>\n",
              "    <tr>\n",
              "      <th>92292</th>\n",
              "      <td>f48d464a0baaea338cb25f816991ab1f</td>\n",
              "      <td>1</td>\n",
              "      <td>6922.21</td>\n",
              "      <td>35</td>\n",
              "    </tr>\n",
              "    <tr>\n",
              "      <th>24061</th>\n",
              "      <td>3fd6777bbce08a352fddd04e4a7cc8f6</td>\n",
              "      <td>1</td>\n",
              "      <td>6726.66</td>\n",
              "      <td>462</td>\n",
              "    </tr>\n",
              "    <tr>\n",
              "      <th>...</th>\n",
              "      <td>...</td>\n",
              "      <td>...</td>\n",
              "      <td>...</td>\n",
              "      <td>...</td>\n",
              "    </tr>\n",
              "    <tr>\n",
              "      <th>79690</th>\n",
              "      <td>d2c63ad286e3ca9dd69218008d61ff81</td>\n",
              "      <td>1</td>\n",
              "      <td>11.62</td>\n",
              "      <td>601</td>\n",
              "    </tr>\n",
              "    <tr>\n",
              "      <th>1690</th>\n",
              "      <td>046f890135acc703faff4c1fc0c2d73c</td>\n",
              "      <td>1</td>\n",
              "      <td>11.56</td>\n",
              "      <td>68</td>\n",
              "    </tr>\n",
              "    <tr>\n",
              "      <th>53523</th>\n",
              "      <td>8e4bd65db637116b6b68109e4df21b84</td>\n",
              "      <td>1</td>\n",
              "      <td>10.89</td>\n",
              "      <td>69</td>\n",
              "    </tr>\n",
              "    <tr>\n",
              "      <th>9176</th>\n",
              "      <td>184e8e8e48937145eb96c721ef1f0747</td>\n",
              "      <td>1</td>\n",
              "      <td>10.07</td>\n",
              "      <td>350</td>\n",
              "    </tr>\n",
              "    <tr>\n",
              "      <th>63163</th>\n",
              "      <td>a790343ca6f3fee08112d678b43aa7c5</td>\n",
              "      <td>1</td>\n",
              "      <td>9.59</td>\n",
              "      <td>4</td>\n",
              "    </tr>\n",
              "  </tbody>\n",
              "</table>\n",
              "<p>96458 rows × 4 columns</p>\n",
              "</div>"
            ],
            "text/plain": [
              "                            customer_id  frequency  monetary  recency\n",
              "8291   1617b1357756262bfa56ab541c47bc16          1  13664.08      334\n",
              "89257  ec5b2ba62e574342386871631fafd3fc          1   7274.88       45\n",
              "75226  c6e2731c5b391845f6800c97401a43a9          1   6929.31      563\n",
              "92292  f48d464a0baaea338cb25f816991ab1f          1   6922.21       35\n",
              "24061  3fd6777bbce08a352fddd04e4a7cc8f6          1   6726.66      462\n",
              "...                                 ...        ...       ...      ...\n",
              "79690  d2c63ad286e3ca9dd69218008d61ff81          1     11.62      601\n",
              "1690   046f890135acc703faff4c1fc0c2d73c          1     11.56       68\n",
              "53523  8e4bd65db637116b6b68109e4df21b84          1     10.89       69\n",
              "9176   184e8e8e48937145eb96c721ef1f0747          1     10.07      350\n",
              "63163  a790343ca6f3fee08112d678b43aa7c5          1      9.59        4\n",
              "\n",
              "[96458 rows x 4 columns]"
            ]
          },
          "execution_count": 273,
          "metadata": {},
          "output_type": "execute_result"
        }
      ],
      "source": [
        "customer_rfm_df.sort_values(by='monetary', ascending=False)"
      ]
    },
    {
      "cell_type": "code",
      "execution_count": 274,
      "metadata": {},
      "outputs": [
        {
          "data": {
            "text/html": [
              "<div>\n",
              "<style scoped>\n",
              "    .dataframe tbody tr th:only-of-type {\n",
              "        vertical-align: middle;\n",
              "    }\n",
              "\n",
              "    .dataframe tbody tr th {\n",
              "        vertical-align: top;\n",
              "    }\n",
              "\n",
              "    .dataframe thead th {\n",
              "        text-align: right;\n",
              "    }\n",
              "</style>\n",
              "<table border=\"1\" class=\"dataframe\">\n",
              "  <thead>\n",
              "    <tr style=\"text-align: right;\">\n",
              "      <th></th>\n",
              "      <th>customer_id</th>\n",
              "      <th>frequency</th>\n",
              "      <th>monetary</th>\n",
              "      <th>recency</th>\n",
              "    </tr>\n",
              "  </thead>\n",
              "  <tbody>\n",
              "    <tr>\n",
              "      <th>45176</th>\n",
              "      <td>7812fcebfc5e8065d31e1bb5f0017dae</td>\n",
              "      <td>1</td>\n",
              "      <td>40.95</td>\n",
              "      <td>695</td>\n",
              "    </tr>\n",
              "    <tr>\n",
              "      <th>47744</th>\n",
              "      <td>7ec40b22510fdbea1b08921dd39e63d8</td>\n",
              "      <td>1</td>\n",
              "      <td>39.09</td>\n",
              "      <td>695</td>\n",
              "    </tr>\n",
              "    <tr>\n",
              "      <th>87243</th>\n",
              "      <td>e6f959bf384d1d53b6d68826699bba12</td>\n",
              "      <td>1</td>\n",
              "      <td>154.57</td>\n",
              "      <td>695</td>\n",
              "    </tr>\n",
              "    <tr>\n",
              "      <th>20112</th>\n",
              "      <td>355077684019f7f60a031656bd7262b8</td>\n",
              "      <td>1</td>\n",
              "      <td>45.46</td>\n",
              "      <td>695</td>\n",
              "    </tr>\n",
              "    <tr>\n",
              "      <th>41914</th>\n",
              "      <td>6f989332712d3222b6571b1cf5b835ce</td>\n",
              "      <td>1</td>\n",
              "      <td>53.73</td>\n",
              "      <td>695</td>\n",
              "    </tr>\n",
              "    <tr>\n",
              "      <th>...</th>\n",
              "      <td>...</td>\n",
              "      <td>...</td>\n",
              "      <td>...</td>\n",
              "      <td>...</td>\n",
              "    </tr>\n",
              "    <tr>\n",
              "      <th>86189</th>\n",
              "      <td>e450a297a7bc6839ceb0cf1a2377fa02</td>\n",
              "      <td>1</td>\n",
              "      <td>73.10</td>\n",
              "      <td>0</td>\n",
              "    </tr>\n",
              "    <tr>\n",
              "      <th>31658</th>\n",
              "      <td>54365416b7ef5599f54a6c7821d5d290</td>\n",
              "      <td>1</td>\n",
              "      <td>106.95</td>\n",
              "      <td>0</td>\n",
              "    </tr>\n",
              "    <tr>\n",
              "      <th>86862</th>\n",
              "      <td>e60df9449653a95af4549bbfcb18a6eb</td>\n",
              "      <td>1</td>\n",
              "      <td>510.96</td>\n",
              "      <td>0</td>\n",
              "    </tr>\n",
              "    <tr>\n",
              "      <th>41373</th>\n",
              "      <td>6e353700bc7bcdf6ebc15d6de16d7002</td>\n",
              "      <td>1</td>\n",
              "      <td>61.29</td>\n",
              "      <td>0</td>\n",
              "    </tr>\n",
              "    <tr>\n",
              "      <th>51748</th>\n",
              "      <td>898b7fee99c4e42170ab69ba59be0a8b</td>\n",
              "      <td>1</td>\n",
              "      <td>93.75</td>\n",
              "      <td>0</td>\n",
              "    </tr>\n",
              "  </tbody>\n",
              "</table>\n",
              "<p>96458 rows × 4 columns</p>\n",
              "</div>"
            ],
            "text/plain": [
              "                            customer_id  frequency  monetary  recency\n",
              "45176  7812fcebfc5e8065d31e1bb5f0017dae          1     40.95      695\n",
              "47744  7ec40b22510fdbea1b08921dd39e63d8          1     39.09      695\n",
              "87243  e6f959bf384d1d53b6d68826699bba12          1    154.57      695\n",
              "20112  355077684019f7f60a031656bd7262b8          1     45.46      695\n",
              "41914  6f989332712d3222b6571b1cf5b835ce          1     53.73      695\n",
              "...                                 ...        ...       ...      ...\n",
              "86189  e450a297a7bc6839ceb0cf1a2377fa02          1     73.10        0\n",
              "31658  54365416b7ef5599f54a6c7821d5d290          1    106.95        0\n",
              "86862  e60df9449653a95af4549bbfcb18a6eb          1    510.96        0\n",
              "41373  6e353700bc7bcdf6ebc15d6de16d7002          1     61.29        0\n",
              "51748  898b7fee99c4e42170ab69ba59be0a8b          1     93.75        0\n",
              "\n",
              "[96458 rows x 4 columns]"
            ]
          },
          "execution_count": 274,
          "metadata": {},
          "output_type": "execute_result"
        }
      ],
      "source": [
        "customer_rfm_df.sort_values(by='recency', ascending=False)"
      ]
    },
    {
      "cell_type": "markdown",
      "metadata": {
        "id": "_WeHlCeX8DC2"
      },
      "source": [
        "## Conclusion"
      ]
    },
    {
      "cell_type": "markdown",
      "metadata": {
        "id": "ZTcyR48Y8DC2"
      },
      "source": [
        "- Customer dengan total pengeluaran terbanyak adalah customer dengan id : 1617b1357756262bfa56ab541c47bc16, yaitu sebesar $13,664.08. Customer ini mungkin cocok untuk diberi reward melalui hadiah berupa voucher belanja atau diskon agar tetap menjaga loyalitas\n",
        "- Customer dengan tanggal pembelian terlama adalah customer dengan id : 7812fcebfc5e8065d31e1bb5f0017dae, sementara itu terdapat beberapa customer yang berbelanja pada hari yang sama berdasarkan periode dataset (2016 - 2018).\n",
        "- Frequency customer masing - masing adalah sebesar 1, hal ini bisa menjadi indikasi bahwa customer tidak lagi membeli barang di tempat yang sama. Jika customer id adalah identifier unique untuk tiap customer yang membeli barang, maka sangat disayangkan jika customer tidak kembali lagi setelah membeli barang, mungkin dapat disusun strategi yang lebih baik untuk menarik minat sekaligus menjaga kepercayaan customer agar berbelanja kembali"
      ]
    },
    {
      "cell_type": "code",
      "execution_count": 275,
      "metadata": {},
      "outputs": [],
      "source": [
        "revenue_data.to_csv('./dashboard/revenue.csv', index=False)\n",
        "orders_products_review.to_csv('./dashboard/order_product_review.csv', index=False)\n",
        "payment_report.to_csv('./dashboard/payment_report.csv', index=False)\n",
        "customers_df.to_csv('./dashboard/customers.csv')"
      ]
    }
  ],
  "metadata": {
    "colab": {
      "provenance": []
    },
    "kernelspec": {
      "display_name": "Python 3",
      "language": "python",
      "name": "python3"
    },
    "language_info": {
      "codemirror_mode": {
        "name": "ipython",
        "version": 3
      },
      "file_extension": ".py",
      "mimetype": "text/x-python",
      "name": "python",
      "nbconvert_exporter": "python",
      "pygments_lexer": "ipython3",
      "version": "3.12.7"
    },
    "orig_nbformat": 4,
    "vscode": {
      "interpreter": {
        "hash": "972b3bf27e332e87b5379f2791f6ef9dfc79c71018c370b0d7423235e20fe4d7"
      }
    }
  },
  "nbformat": 4,
  "nbformat_minor": 0
}
